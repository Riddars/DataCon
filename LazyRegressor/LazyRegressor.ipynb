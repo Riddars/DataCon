{
  "nbformat": 4,
  "nbformat_minor": 0,
  "metadata": {
    "colab": {
      "provenance": [],
      "authorship_tag": "ABX9TyO1MLwxb75SayIjGtu3jvPe",
      "include_colab_link": true
    },
    "kernelspec": {
      "name": "python3",
      "display_name": "Python 3"
    },
    "language_info": {
      "name": "python"
    }
  },
  "cells": [
    {
      "cell_type": "markdown",
      "metadata": {
        "id": "view-in-github",
        "colab_type": "text"
      },
      "source": [
        "<a href=\"https://colab.research.google.com/github/Riddars/Dream_team/blob/main/LazyRegressor/LazyRegressor.ipynb\" target=\"_parent\"><img src=\"https://colab.research.google.com/assets/colab-badge.svg\" alt=\"Open In Colab\"/></a>"
      ]
    },
    {
      "cell_type": "markdown",
      "source": [
        "# Загружаю библиотеки"
      ],
      "metadata": {
        "id": "IB9E0aXFvWDJ"
      }
    },
    {
      "cell_type": "code",
      "source": [
        "! pip install lazypredict\n",
        "\n",
        "import pandas as pd\n",
        "import numpy as np\n",
        "import matplotlib.pyplot as plt\n",
        "\n",
        "\n",
        "from sklearn.ensemble import ExtraTreesRegressor\n",
        "from sklearn.pipeline import Pipeline\n",
        "from sklearn.preprocessing import StandardScaler, MinMaxScaler\n",
        "from sklearn.model_selection import GridSearchCV\n",
        "from sklearn.metrics import r2_score, mean_squared_error\n",
        "\n",
        "import lazypredict\n",
        "from lazypredict.Supervised import LazyRegressor #Regression\n",
        "\n",
        "from sklearn import datasets\n",
        "from sklearn.utils import shuffle\n",
        "from sklearn.model_selection import train_test_split # data split\n",
        "\n",
        "import pickle"
      ],
      "metadata": {
        "colab": {
          "base_uri": "https://localhost:8080/"
        },
        "id": "p4WykIi8j8W1",
        "outputId": "f6f4290f-78e9-4fea-faa1-875944bbf4de"
      },
      "execution_count": 1,
      "outputs": [
        {
          "output_type": "stream",
          "name": "stdout",
          "text": [
            "Collecting lazypredict\n",
            "  Downloading lazypredict-0.2.12-py2.py3-none-any.whl (12 kB)\n",
            "Requirement already satisfied: click in /usr/local/lib/python3.10/dist-packages (from lazypredict) (8.1.3)\n",
            "Requirement already satisfied: scikit-learn in /usr/local/lib/python3.10/dist-packages (from lazypredict) (1.2.2)\n",
            "Requirement already satisfied: pandas in /usr/local/lib/python3.10/dist-packages (from lazypredict) (1.5.3)\n",
            "Requirement already satisfied: tqdm in /usr/local/lib/python3.10/dist-packages (from lazypredict) (4.65.0)\n",
            "Requirement already satisfied: joblib in /usr/local/lib/python3.10/dist-packages (from lazypredict) (1.2.0)\n",
            "Requirement already satisfied: lightgbm in /usr/local/lib/python3.10/dist-packages (from lazypredict) (3.3.5)\n",
            "Requirement already satisfied: xgboost in /usr/local/lib/python3.10/dist-packages (from lazypredict) (1.7.6)\n",
            "Requirement already satisfied: wheel in /usr/local/lib/python3.10/dist-packages (from lightgbm->lazypredict) (0.40.0)\n",
            "Requirement already satisfied: numpy in /usr/local/lib/python3.10/dist-packages (from lightgbm->lazypredict) (1.22.4)\n",
            "Requirement already satisfied: scipy in /usr/local/lib/python3.10/dist-packages (from lightgbm->lazypredict) (1.10.1)\n",
            "Requirement already satisfied: threadpoolctl>=2.0.0 in /usr/local/lib/python3.10/dist-packages (from scikit-learn->lazypredict) (3.1.0)\n",
            "Requirement already satisfied: python-dateutil>=2.8.1 in /usr/local/lib/python3.10/dist-packages (from pandas->lazypredict) (2.8.2)\n",
            "Requirement already satisfied: pytz>=2020.1 in /usr/local/lib/python3.10/dist-packages (from pandas->lazypredict) (2022.7.1)\n",
            "Requirement already satisfied: six>=1.5 in /usr/local/lib/python3.10/dist-packages (from python-dateutil>=2.8.1->pandas->lazypredict) (1.16.0)\n",
            "Installing collected packages: lazypredict\n",
            "Successfully installed lazypredict-0.2.12\n"
          ]
        }
      ]
    },
    {
      "cell_type": "markdown",
      "source": [
        "# LazyPredict"
      ],
      "metadata": {
        "id": "OPaPwswCOmW8"
      }
    },
    {
      "cell_type": "markdown",
      "source": [
        "При помощи библиотеки LazyPredict подбираем модель регрессии"
      ],
      "metadata": {
        "id": "GVbkk4KtvoAr"
      }
    },
    {
      "cell_type": "code",
      "source": [
        "df = pd.read_csv('https://raw.githubusercontent.com/Riddars/Dream_team/main/Imputed_data.csv', index_col=0)\n",
        "\n",
        "x = df.columns\n",
        "target_name = 'ZOI_drug_NP'\n",
        "\n",
        "X, y = df[x.drop(target_name)], df[target_name]\n",
        "X_train, X_test, y_train, y_test = train_test_split(X, y, test_size=.2, random_state=42)"
      ],
      "metadata": {
        "id": "SN94LMHMOq80"
      },
      "execution_count": 4,
      "outputs": []
    },
    {
      "cell_type": "code",
      "source": [
        "reg = LazyRegressor(predictions=True)\n",
        "models, predictions = reg.fit(X_train, X_test, y_train, y_test)"
      ],
      "metadata": {
        "colab": {
          "base_uri": "https://localhost:8080/"
        },
        "id": "5vZtE3h6PaFE",
        "outputId": "5535775e-294a-484f-d312-19485d2554c7"
      },
      "execution_count": 5,
      "outputs": [
        {
          "output_type": "stream",
          "name": "stderr",
          "text": [
            "100%|██████████| 42/42 [00:10<00:00,  4.09it/s]\n"
          ]
        }
      ]
    },
    {
      "cell_type": "code",
      "source": [
        "models"
      ],
      "metadata": {
        "colab": {
          "base_uri": "https://localhost:8080/",
          "height": 1000
        },
        "id": "Vuff9-dYTnSl",
        "outputId": "6c83dae3-dfe6-4680-d389-9d9229468b7d"
      },
      "execution_count": 6,
      "outputs": [
        {
          "output_type": "execute_result",
          "data": {
            "text/plain": [
              "                               Adjusted R-Squared  R-Squared  RMSE  Time Taken\n",
              "Model                                                                         \n",
              "ExtraTreesRegressor                          0.74       0.80  3.97        0.21\n",
              "GradientBoostingRegressor                    0.73       0.78  4.10        0.14\n",
              "RandomForestRegressor                        0.72       0.78  4.12        0.57\n",
              "XGBRegressor                                 0.72       0.78  4.16        0.27\n",
              "BaggingRegressor                             0.72       0.78  4.18        0.07\n",
              "LGBMRegressor                                0.66       0.73  4.59        0.45\n",
              "HistGradientBoostingRegressor                0.65       0.72  4.65        0.42\n",
              "AdaBoostRegressor                            0.65       0.72  4.66        0.30\n",
              "LassoLarsIC                                  0.64       0.72  4.70        0.04\n",
              "TransformedTargetRegressor                   0.63       0.71  4.76        0.02\n",
              "LinearRegression                             0.63       0.71  4.76        0.02\n",
              "RidgeCV                                      0.63       0.71  4.76        0.02\n",
              "Ridge                                        0.63       0.71  4.78        0.02\n",
              "LassoCV                                      0.63       0.71  4.78        0.13\n",
              "SGDRegressor                                 0.63       0.71  4.79        0.04\n",
              "BayesianRidge                                0.63       0.70  4.80        0.07\n",
              "ElasticNetCV                                 0.62       0.70  4.83        0.09\n",
              "HuberRegressor                               0.62       0.70  4.84        0.06\n",
              "LassoLarsCV                                  0.60       0.69  4.95        0.05\n",
              "OrthogonalMatchingPursuitCV                  0.59       0.68  5.00        0.03\n",
              "LinearSVR                                    0.59       0.68  5.01        0.02\n",
              "DecisionTreeRegressor                        0.58       0.67  5.06        0.03\n",
              "ExtraTreeRegressor                           0.58       0.67  5.11        0.03\n",
              "KNeighborsRegressor                          0.56       0.65  5.20        0.10\n",
              "PoissonRegressor                             0.55       0.64  5.26        0.02\n",
              "MLPRegressor                                 0.53       0.63  5.39        1.18\n",
              "SVR                                          0.46       0.57  5.77        0.04\n",
              "NuSVR                                        0.44       0.56  5.89        0.07\n",
              "LarsCV                                       0.41       0.53  6.04        0.08\n",
              "PassiveAggressiveRegressor                   0.36       0.49  6.28        0.02\n",
              "TweedieRegressor                             0.35       0.49  6.31        0.02\n",
              "LassoLars                                    0.35       0.49  6.32        0.02\n",
              "Lasso                                        0.35       0.49  6.32        0.03\n",
              "ElasticNet                                   0.34       0.48  6.38        0.04\n",
              "GammaRegressor                               0.32       0.46  6.48        0.03\n",
              "RANSACRegressor                              0.29       0.44  6.59        0.22\n",
              "OrthogonalMatchingPursuit                    0.19       0.36  7.05        0.03\n",
              "QuantileRegressor                           -0.27      -0.00  8.84        5.01\n",
              "DummyRegressor                              -0.27      -0.01  8.86        0.03\n",
              "Lars                                        -0.61      -0.27  9.95        0.06\n",
              "KernelRidge                                 -5.40      -4.05 19.85        0.05\n",
              "GaussianProcessRegressor                    -5.99      -4.51 20.74        0.05"
            ],
            "text/html": [
              "\n",
              "  <div id=\"df-6f6d60b2-6f42-4950-89fe-bf7ed3014702\">\n",
              "    <div class=\"colab-df-container\">\n",
              "      <div>\n",
              "<style scoped>\n",
              "    .dataframe tbody tr th:only-of-type {\n",
              "        vertical-align: middle;\n",
              "    }\n",
              "\n",
              "    .dataframe tbody tr th {\n",
              "        vertical-align: top;\n",
              "    }\n",
              "\n",
              "    .dataframe thead th {\n",
              "        text-align: right;\n",
              "    }\n",
              "</style>\n",
              "<table border=\"1\" class=\"dataframe\">\n",
              "  <thead>\n",
              "    <tr style=\"text-align: right;\">\n",
              "      <th></th>\n",
              "      <th>Adjusted R-Squared</th>\n",
              "      <th>R-Squared</th>\n",
              "      <th>RMSE</th>\n",
              "      <th>Time Taken</th>\n",
              "    </tr>\n",
              "    <tr>\n",
              "      <th>Model</th>\n",
              "      <th></th>\n",
              "      <th></th>\n",
              "      <th></th>\n",
              "      <th></th>\n",
              "    </tr>\n",
              "  </thead>\n",
              "  <tbody>\n",
              "    <tr>\n",
              "      <th>ExtraTreesRegressor</th>\n",
              "      <td>0.74</td>\n",
              "      <td>0.80</td>\n",
              "      <td>3.97</td>\n",
              "      <td>0.21</td>\n",
              "    </tr>\n",
              "    <tr>\n",
              "      <th>GradientBoostingRegressor</th>\n",
              "      <td>0.73</td>\n",
              "      <td>0.78</td>\n",
              "      <td>4.10</td>\n",
              "      <td>0.14</td>\n",
              "    </tr>\n",
              "    <tr>\n",
              "      <th>RandomForestRegressor</th>\n",
              "      <td>0.72</td>\n",
              "      <td>0.78</td>\n",
              "      <td>4.12</td>\n",
              "      <td>0.57</td>\n",
              "    </tr>\n",
              "    <tr>\n",
              "      <th>XGBRegressor</th>\n",
              "      <td>0.72</td>\n",
              "      <td>0.78</td>\n",
              "      <td>4.16</td>\n",
              "      <td>0.27</td>\n",
              "    </tr>\n",
              "    <tr>\n",
              "      <th>BaggingRegressor</th>\n",
              "      <td>0.72</td>\n",
              "      <td>0.78</td>\n",
              "      <td>4.18</td>\n",
              "      <td>0.07</td>\n",
              "    </tr>\n",
              "    <tr>\n",
              "      <th>LGBMRegressor</th>\n",
              "      <td>0.66</td>\n",
              "      <td>0.73</td>\n",
              "      <td>4.59</td>\n",
              "      <td>0.45</td>\n",
              "    </tr>\n",
              "    <tr>\n",
              "      <th>HistGradientBoostingRegressor</th>\n",
              "      <td>0.65</td>\n",
              "      <td>0.72</td>\n",
              "      <td>4.65</td>\n",
              "      <td>0.42</td>\n",
              "    </tr>\n",
              "    <tr>\n",
              "      <th>AdaBoostRegressor</th>\n",
              "      <td>0.65</td>\n",
              "      <td>0.72</td>\n",
              "      <td>4.66</td>\n",
              "      <td>0.30</td>\n",
              "    </tr>\n",
              "    <tr>\n",
              "      <th>LassoLarsIC</th>\n",
              "      <td>0.64</td>\n",
              "      <td>0.72</td>\n",
              "      <td>4.70</td>\n",
              "      <td>0.04</td>\n",
              "    </tr>\n",
              "    <tr>\n",
              "      <th>TransformedTargetRegressor</th>\n",
              "      <td>0.63</td>\n",
              "      <td>0.71</td>\n",
              "      <td>4.76</td>\n",
              "      <td>0.02</td>\n",
              "    </tr>\n",
              "    <tr>\n",
              "      <th>LinearRegression</th>\n",
              "      <td>0.63</td>\n",
              "      <td>0.71</td>\n",
              "      <td>4.76</td>\n",
              "      <td>0.02</td>\n",
              "    </tr>\n",
              "    <tr>\n",
              "      <th>RidgeCV</th>\n",
              "      <td>0.63</td>\n",
              "      <td>0.71</td>\n",
              "      <td>4.76</td>\n",
              "      <td>0.02</td>\n",
              "    </tr>\n",
              "    <tr>\n",
              "      <th>Ridge</th>\n",
              "      <td>0.63</td>\n",
              "      <td>0.71</td>\n",
              "      <td>4.78</td>\n",
              "      <td>0.02</td>\n",
              "    </tr>\n",
              "    <tr>\n",
              "      <th>LassoCV</th>\n",
              "      <td>0.63</td>\n",
              "      <td>0.71</td>\n",
              "      <td>4.78</td>\n",
              "      <td>0.13</td>\n",
              "    </tr>\n",
              "    <tr>\n",
              "      <th>SGDRegressor</th>\n",
              "      <td>0.63</td>\n",
              "      <td>0.71</td>\n",
              "      <td>4.79</td>\n",
              "      <td>0.04</td>\n",
              "    </tr>\n",
              "    <tr>\n",
              "      <th>BayesianRidge</th>\n",
              "      <td>0.63</td>\n",
              "      <td>0.70</td>\n",
              "      <td>4.80</td>\n",
              "      <td>0.07</td>\n",
              "    </tr>\n",
              "    <tr>\n",
              "      <th>ElasticNetCV</th>\n",
              "      <td>0.62</td>\n",
              "      <td>0.70</td>\n",
              "      <td>4.83</td>\n",
              "      <td>0.09</td>\n",
              "    </tr>\n",
              "    <tr>\n",
              "      <th>HuberRegressor</th>\n",
              "      <td>0.62</td>\n",
              "      <td>0.70</td>\n",
              "      <td>4.84</td>\n",
              "      <td>0.06</td>\n",
              "    </tr>\n",
              "    <tr>\n",
              "      <th>LassoLarsCV</th>\n",
              "      <td>0.60</td>\n",
              "      <td>0.69</td>\n",
              "      <td>4.95</td>\n",
              "      <td>0.05</td>\n",
              "    </tr>\n",
              "    <tr>\n",
              "      <th>OrthogonalMatchingPursuitCV</th>\n",
              "      <td>0.59</td>\n",
              "      <td>0.68</td>\n",
              "      <td>5.00</td>\n",
              "      <td>0.03</td>\n",
              "    </tr>\n",
              "    <tr>\n",
              "      <th>LinearSVR</th>\n",
              "      <td>0.59</td>\n",
              "      <td>0.68</td>\n",
              "      <td>5.01</td>\n",
              "      <td>0.02</td>\n",
              "    </tr>\n",
              "    <tr>\n",
              "      <th>DecisionTreeRegressor</th>\n",
              "      <td>0.58</td>\n",
              "      <td>0.67</td>\n",
              "      <td>5.06</td>\n",
              "      <td>0.03</td>\n",
              "    </tr>\n",
              "    <tr>\n",
              "      <th>ExtraTreeRegressor</th>\n",
              "      <td>0.58</td>\n",
              "      <td>0.67</td>\n",
              "      <td>5.11</td>\n",
              "      <td>0.03</td>\n",
              "    </tr>\n",
              "    <tr>\n",
              "      <th>KNeighborsRegressor</th>\n",
              "      <td>0.56</td>\n",
              "      <td>0.65</td>\n",
              "      <td>5.20</td>\n",
              "      <td>0.10</td>\n",
              "    </tr>\n",
              "    <tr>\n",
              "      <th>PoissonRegressor</th>\n",
              "      <td>0.55</td>\n",
              "      <td>0.64</td>\n",
              "      <td>5.26</td>\n",
              "      <td>0.02</td>\n",
              "    </tr>\n",
              "    <tr>\n",
              "      <th>MLPRegressor</th>\n",
              "      <td>0.53</td>\n",
              "      <td>0.63</td>\n",
              "      <td>5.39</td>\n",
              "      <td>1.18</td>\n",
              "    </tr>\n",
              "    <tr>\n",
              "      <th>SVR</th>\n",
              "      <td>0.46</td>\n",
              "      <td>0.57</td>\n",
              "      <td>5.77</td>\n",
              "      <td>0.04</td>\n",
              "    </tr>\n",
              "    <tr>\n",
              "      <th>NuSVR</th>\n",
              "      <td>0.44</td>\n",
              "      <td>0.56</td>\n",
              "      <td>5.89</td>\n",
              "      <td>0.07</td>\n",
              "    </tr>\n",
              "    <tr>\n",
              "      <th>LarsCV</th>\n",
              "      <td>0.41</td>\n",
              "      <td>0.53</td>\n",
              "      <td>6.04</td>\n",
              "      <td>0.08</td>\n",
              "    </tr>\n",
              "    <tr>\n",
              "      <th>PassiveAggressiveRegressor</th>\n",
              "      <td>0.36</td>\n",
              "      <td>0.49</td>\n",
              "      <td>6.28</td>\n",
              "      <td>0.02</td>\n",
              "    </tr>\n",
              "    <tr>\n",
              "      <th>TweedieRegressor</th>\n",
              "      <td>0.35</td>\n",
              "      <td>0.49</td>\n",
              "      <td>6.31</td>\n",
              "      <td>0.02</td>\n",
              "    </tr>\n",
              "    <tr>\n",
              "      <th>LassoLars</th>\n",
              "      <td>0.35</td>\n",
              "      <td>0.49</td>\n",
              "      <td>6.32</td>\n",
              "      <td>0.02</td>\n",
              "    </tr>\n",
              "    <tr>\n",
              "      <th>Lasso</th>\n",
              "      <td>0.35</td>\n",
              "      <td>0.49</td>\n",
              "      <td>6.32</td>\n",
              "      <td>0.03</td>\n",
              "    </tr>\n",
              "    <tr>\n",
              "      <th>ElasticNet</th>\n",
              "      <td>0.34</td>\n",
              "      <td>0.48</td>\n",
              "      <td>6.38</td>\n",
              "      <td>0.04</td>\n",
              "    </tr>\n",
              "    <tr>\n",
              "      <th>GammaRegressor</th>\n",
              "      <td>0.32</td>\n",
              "      <td>0.46</td>\n",
              "      <td>6.48</td>\n",
              "      <td>0.03</td>\n",
              "    </tr>\n",
              "    <tr>\n",
              "      <th>RANSACRegressor</th>\n",
              "      <td>0.29</td>\n",
              "      <td>0.44</td>\n",
              "      <td>6.59</td>\n",
              "      <td>0.22</td>\n",
              "    </tr>\n",
              "    <tr>\n",
              "      <th>OrthogonalMatchingPursuit</th>\n",
              "      <td>0.19</td>\n",
              "      <td>0.36</td>\n",
              "      <td>7.05</td>\n",
              "      <td>0.03</td>\n",
              "    </tr>\n",
              "    <tr>\n",
              "      <th>QuantileRegressor</th>\n",
              "      <td>-0.27</td>\n",
              "      <td>-0.00</td>\n",
              "      <td>8.84</td>\n",
              "      <td>5.01</td>\n",
              "    </tr>\n",
              "    <tr>\n",
              "      <th>DummyRegressor</th>\n",
              "      <td>-0.27</td>\n",
              "      <td>-0.01</td>\n",
              "      <td>8.86</td>\n",
              "      <td>0.03</td>\n",
              "    </tr>\n",
              "    <tr>\n",
              "      <th>Lars</th>\n",
              "      <td>-0.61</td>\n",
              "      <td>-0.27</td>\n",
              "      <td>9.95</td>\n",
              "      <td>0.06</td>\n",
              "    </tr>\n",
              "    <tr>\n",
              "      <th>KernelRidge</th>\n",
              "      <td>-5.40</td>\n",
              "      <td>-4.05</td>\n",
              "      <td>19.85</td>\n",
              "      <td>0.05</td>\n",
              "    </tr>\n",
              "    <tr>\n",
              "      <th>GaussianProcessRegressor</th>\n",
              "      <td>-5.99</td>\n",
              "      <td>-4.51</td>\n",
              "      <td>20.74</td>\n",
              "      <td>0.05</td>\n",
              "    </tr>\n",
              "  </tbody>\n",
              "</table>\n",
              "</div>\n",
              "      <button class=\"colab-df-convert\" onclick=\"convertToInteractive('df-6f6d60b2-6f42-4950-89fe-bf7ed3014702')\"\n",
              "              title=\"Convert this dataframe to an interactive table.\"\n",
              "              style=\"display:none;\">\n",
              "        \n",
              "  <svg xmlns=\"http://www.w3.org/2000/svg\" height=\"24px\"viewBox=\"0 0 24 24\"\n",
              "       width=\"24px\">\n",
              "    <path d=\"M0 0h24v24H0V0z\" fill=\"none\"/>\n",
              "    <path d=\"M18.56 5.44l.94 2.06.94-2.06 2.06-.94-2.06-.94-.94-2.06-.94 2.06-2.06.94zm-11 1L8.5 8.5l.94-2.06 2.06-.94-2.06-.94L8.5 2.5l-.94 2.06-2.06.94zm10 10l.94 2.06.94-2.06 2.06-.94-2.06-.94-.94-2.06-.94 2.06-2.06.94z\"/><path d=\"M17.41 7.96l-1.37-1.37c-.4-.4-.92-.59-1.43-.59-.52 0-1.04.2-1.43.59L10.3 9.45l-7.72 7.72c-.78.78-.78 2.05 0 2.83L4 21.41c.39.39.9.59 1.41.59.51 0 1.02-.2 1.41-.59l7.78-7.78 2.81-2.81c.8-.78.8-2.07 0-2.86zM5.41 20L4 18.59l7.72-7.72 1.47 1.35L5.41 20z\"/>\n",
              "  </svg>\n",
              "      </button>\n",
              "      \n",
              "  <style>\n",
              "    .colab-df-container {\n",
              "      display:flex;\n",
              "      flex-wrap:wrap;\n",
              "      gap: 12px;\n",
              "    }\n",
              "\n",
              "    .colab-df-convert {\n",
              "      background-color: #E8F0FE;\n",
              "      border: none;\n",
              "      border-radius: 50%;\n",
              "      cursor: pointer;\n",
              "      display: none;\n",
              "      fill: #1967D2;\n",
              "      height: 32px;\n",
              "      padding: 0 0 0 0;\n",
              "      width: 32px;\n",
              "    }\n",
              "\n",
              "    .colab-df-convert:hover {\n",
              "      background-color: #E2EBFA;\n",
              "      box-shadow: 0px 1px 2px rgba(60, 64, 67, 0.3), 0px 1px 3px 1px rgba(60, 64, 67, 0.15);\n",
              "      fill: #174EA6;\n",
              "    }\n",
              "\n",
              "    [theme=dark] .colab-df-convert {\n",
              "      background-color: #3B4455;\n",
              "      fill: #D2E3FC;\n",
              "    }\n",
              "\n",
              "    [theme=dark] .colab-df-convert:hover {\n",
              "      background-color: #434B5C;\n",
              "      box-shadow: 0px 1px 3px 1px rgba(0, 0, 0, 0.15);\n",
              "      filter: drop-shadow(0px 1px 2px rgba(0, 0, 0, 0.3));\n",
              "      fill: #FFFFFF;\n",
              "    }\n",
              "  </style>\n",
              "\n",
              "      <script>\n",
              "        const buttonEl =\n",
              "          document.querySelector('#df-6f6d60b2-6f42-4950-89fe-bf7ed3014702 button.colab-df-convert');\n",
              "        buttonEl.style.display =\n",
              "          google.colab.kernel.accessAllowed ? 'block' : 'none';\n",
              "\n",
              "        async function convertToInteractive(key) {\n",
              "          const element = document.querySelector('#df-6f6d60b2-6f42-4950-89fe-bf7ed3014702');\n",
              "          const dataTable =\n",
              "            await google.colab.kernel.invokeFunction('convertToInteractive',\n",
              "                                                     [key], {});\n",
              "          if (!dataTable) return;\n",
              "\n",
              "          const docLinkHtml = 'Like what you see? Visit the ' +\n",
              "            '<a target=\"_blank\" href=https://colab.research.google.com/notebooks/data_table.ipynb>data table notebook</a>'\n",
              "            + ' to learn more about interactive tables.';\n",
              "          element.innerHTML = '';\n",
              "          dataTable['output_type'] = 'display_data';\n",
              "          await google.colab.output.renderOutput(dataTable, element);\n",
              "          const docLink = document.createElement('div');\n",
              "          docLink.innerHTML = docLinkHtml;\n",
              "          element.appendChild(docLink);\n",
              "        }\n",
              "      </script>\n",
              "    </div>\n",
              "  </div>\n",
              "  "
            ]
          },
          "metadata": {},
          "execution_count": 6
        }
      ]
    },
    {
      "cell_type": "markdown",
      "source": [
        "Для модели с лучшими результатами R**2 и RMSE подбираем оптимальные параметры при помощи gridsearchCV"
      ],
      "metadata": {
        "id": "JofIe8xNvzQ4"
      }
    },
    {
      "cell_type": "code",
      "source": [
        "def make_gridsearchCV(models_params: list, df: pd.DataFrame, test_size=0.25, cv=4, random_state=123, target_name='ZOI_drug_NP'):\n",
        "\n",
        "    X, y = df[x.drop(target_name)], df[target_name]\n",
        "    X_train, X_test, y_train, y_test = train_test_split(X, y, test_size=test_size, random_state=random_state)\n",
        "\n",
        "    models = []\n",
        "\n",
        "    for model in models_params:\n",
        "\n",
        "        pipe = Pipeline([('scaler', MinMaxScaler()), ('model', model[0])])\n",
        "        grid = GridSearchCV(pipe, model[1], scoring='r2', n_jobs=-1, cv=cv)\n",
        "        grid.fit(X_train, y_train)\n",
        "\n",
        "        print(f'--- Model: {pipe[\"model\"].__class__.__name__} ---\\n')\n",
        "        print(f'Best params: {grid.best_params_}')\n",
        "        print(f'Best CV R2 score: {grid.best_score_}')\n",
        "        print(f'R2 score on unseen data: {r2_score(y_test, grid.best_estimator_.predict(X_test))}')\n",
        "\n",
        "        models.append(grid.best_estimator_['model'])\n",
        "\n",
        "    return models"
      ],
      "metadata": {
        "id": "UEl_7c4koibO"
      },
      "execution_count": 7,
      "outputs": []
    },
    {
      "cell_type": "code",
      "source": [
        "ex_tree = ExtraTreesRegressor(random_state=123, n_jobs=-1)\n",
        "tree_params = {\n",
        "    'model__max_depth': [10, 50, 100],\n",
        "    'model__n_estimators': [50, 75, 100, 150],\n",
        "    # 'model__criterion': ['squared_error', 'absolute_error', 'friedman_mse'],\n",
        "    'model__criterion': ['squared_error', 'mean_squared_error'],\n",
        "    'model__min_samples_split': [2, 3, 4],\n",
        "    }\n",
        "models_params = [[ex_tree, tree_params]]\n",
        "models = make_gridsearchCV(models_params, df, cv=4)"
      ],
      "metadata": {
        "colab": {
          "base_uri": "https://localhost:8080/"
        },
        "id": "rEVN-ViWaGCt",
        "outputId": "ea5f0301-03a5-4274-830d-f8bd927b4ebf"
      },
      "execution_count": 8,
      "outputs": [
        {
          "output_type": "stream",
          "name": "stdout",
          "text": [
            "--- Model: ExtraTreesRegressor ---\n",
            "\n",
            "Best params: {'model__criterion': 'squared_error', 'model__max_depth': 10, 'model__min_samples_split': 4, 'model__n_estimators': 50}\n",
            "Best CV R2 score: 0.7868083208778351\n",
            "R2 score on unseen data: 0.8124122189632959\n"
          ]
        }
      ]
    },
    {
      "cell_type": "code",
      "source": [
        "ex_tree = ExtraTreesRegressor(max_depth=10, min_samples_split=4, n_estimators=50, n_jobs=-1, random_state=123).fit(X_train, y_train)\n",
        "print(f'R2 score on unseen data: {r2_score(y_test, ex_tree.predict(X_test))}')\n",
        "print(f'RMSE score on unseen data: {(mean_squared_error(y_test, ex_tree.predict(X_test)))**0.5}')"
      ],
      "metadata": {
        "colab": {
          "base_uri": "https://localhost:8080/"
        },
        "id": "WrIsVVrcebx9",
        "outputId": "f0f93b45-a115-424b-9d4d-a23161878df8"
      },
      "execution_count": 9,
      "outputs": [
        {
          "output_type": "stream",
          "name": "stdout",
          "text": [
            "R2 score on unseen data: 0.8263651055013683\n",
            "RMSE score on unseen data: 3.6806335383167674\n"
          ]
        }
      ]
    },
    {
      "cell_type": "code",
      "source": [
        "importances = ex_tree.feature_importances_\n",
        "\n",
        "ex_tree_importances = pd.Series(importances, index=x.drop(target_name))\n",
        "std = np.std([ex_tree.feature_importances_ for tree in ex_tree.estimators_], axis=0)\n",
        "\n",
        "fig, ax = plt.subplots()\n",
        "ex_tree_importances.plot.bar(yerr=std, ax=ax)\n",
        "ax.set_title(\"Feature importances using MDI\")\n",
        "ax.set_ylabel(\"Mean decrease in impurity\")\n",
        "fig.tight_layout()"
      ],
      "metadata": {
        "colab": {
          "base_uri": "https://localhost:8080/",
          "height": 487
        },
        "id": "Vve0b-pDsyCh",
        "outputId": "c0b70aea-7e4b-44d5-fe58-0207ee16db98"
      },
      "execution_count": 10,
      "outputs": [
        {
          "output_type": "display_data",
          "data": {
            "text/plain": [
              "<Figure size 640x480 with 1 Axes>"
            ],
            "image/png": "[encoded data removed]"
          },
          "metadata": {}
        }
      ]
    },
    {
      "cell_type": "markdown",
      "source": [
        "Обучаю модельку на полном датасете"
      ],
      "metadata": {
        "id": "mXlwiHhXvAxY"
      }
    },
    {
      "cell_type": "code",
      "source": [
        "ex_tree = ExtraTreesRegressor(max_depth=10, min_samples_split=4, n_estimators=50, n_jobs=-1, random_state=123).fit(X, y)\n",
        "print(f'R2 score on unseen data: {r2_score(y, ex_tree.predict(X))}')\n",
        "print(f'RMSE score on unseen data: {(mean_squared_error(y, ex_tree.predict(X)))**0.5}')"
      ],
      "metadata": {
        "colab": {
          "base_uri": "https://localhost:8080/"
        },
        "id": "8-YicCWtwwfX",
        "outputId": "98ba5448-6e48-4164-cc47-417efc1f2b46"
      },
      "execution_count": 11,
      "outputs": [
        {
          "output_type": "stream",
          "name": "stdout",
          "text": [
            "R2 score on unseen data: 0.9604002919920812\n",
            "RMSE score on unseen data: 1.6126788464050525\n"
          ]
        }
      ]
    },
    {
      "cell_type": "markdown",
      "source": [
        "Сохроняю модельку"
      ],
      "metadata": {
        "id": "YCucnBVzvLdb"
      }
    },
    {
      "cell_type": "code",
      "source": [
        "# import pickle\n",
        "filename = 'ExtraTreesRegressor.sav'\n",
        "pickle.dump(ex_tree, open(filename, 'wb'))"
      ],
      "metadata": {
        "id": "maydC1iIfVW-"
      },
      "execution_count": 14,
      "outputs": []
    },
    {
      "cell_type": "code",
      "source": [],
      "metadata": {
        "id": "DWU1Smr2yd_E"
      },
      "execution_count": null,
      "outputs": []
    }
  ]
}