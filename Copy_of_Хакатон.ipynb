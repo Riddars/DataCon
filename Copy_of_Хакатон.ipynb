{
  "nbformat": 4,
  "nbformat_minor": 0,
  "metadata": {
    "colab": {
      "provenance": [],
      "collapsed_sections": [
        "cLNnYbIHJSOR",
        "drKzMxnHLOhs",
        "nCRegrF3O0PH",
        "tg9p7wHDfGcZ",
        "RqJig1ECIok4"
      ],
      "toc_visible": true,
      "include_colab_link": true
    },
    "kernelspec": {
      "name": "python3",
      "display_name": "Python 3"
    },
    "language_info": {
      "name": "python"
    }
  },
  "cells": [
    {
      "cell_type": "markdown",
      "metadata": {
        "id": "view-in-github",
        "colab_type": "text"
      },
      "source": [
        "<a href=\"https://colab.research.google.com/github/Riddars/Dream_team/blob/main/Copy_of_%D0%A5%D0%B0%D0%BA%D0%B0%D1%82%D0%BE%D0%BD.ipynb\" target=\"_parent\"><img src=\"https://colab.research.google.com/assets/colab-badge.svg\" alt=\"Open In Colab\"/></a>"
      ]
    },
    {
      "cell_type": "code",
      "source": [
        "!pip install shap\n",
        "!pip install rdkit"
      ],
      "metadata": {
        "colab": {
          "base_uri": "https://localhost:8080/"
        },
        "id": "KKM5ee8xhiIS",
        "outputId": "7ad315b1-39b6-4572-a9a4-295384918224"
      },
      "execution_count": null,
      "outputs": [
        {
          "output_type": "stream",
          "name": "stdout",
          "text": [
            "Requirement already satisfied: shap in /usr/local/lib/python3.10/dist-packages (0.42.0)\n",
            "Requirement already satisfied: numpy in /usr/local/lib/python3.10/dist-packages (from shap) (1.22.4)\n",
            "Requirement already satisfied: scipy in /usr/local/lib/python3.10/dist-packages (from shap) (1.10.1)\n",
            "Requirement already satisfied: scikit-learn in /usr/local/lib/python3.10/dist-packages (from shap) (1.2.2)\n",
            "Requirement already satisfied: pandas in /usr/local/lib/python3.10/dist-packages (from shap) (1.5.3)\n",
            "Requirement already satisfied: tqdm>=4.27.0 in /usr/local/lib/python3.10/dist-packages (from shap) (4.65.0)\n",
            "Requirement already satisfied: packaging>20.9 in /usr/local/lib/python3.10/dist-packages (from shap) (23.1)\n",
            "Requirement already satisfied: slicer==0.0.7 in /usr/local/lib/python3.10/dist-packages (from shap) (0.0.7)\n",
            "Requirement already satisfied: numba in /usr/local/lib/python3.10/dist-packages (from shap) (0.56.4)\n",
            "Requirement already satisfied: cloudpickle in /usr/local/lib/python3.10/dist-packages (from shap) (2.2.1)\n",
            "Requirement already satisfied: llvmlite<0.40,>=0.39.0dev0 in /usr/local/lib/python3.10/dist-packages (from numba->shap) (0.39.1)\n",
            "Requirement already satisfied: setuptools in /usr/local/lib/python3.10/dist-packages (from numba->shap) (68.0.0)\n",
            "Requirement already satisfied: python-dateutil>=2.8.1 in /usr/local/lib/python3.10/dist-packages (from pandas->shap) (2.8.2)\n",
            "Requirement already satisfied: pytz>=2020.1 in /usr/local/lib/python3.10/dist-packages (from pandas->shap) (2022.7.1)\n",
            "Requirement already satisfied: joblib>=1.1.1 in /usr/local/lib/python3.10/dist-packages (from scikit-learn->shap) (1.2.0)\n",
            "Requirement already satisfied: threadpoolctl>=2.0.0 in /usr/local/lib/python3.10/dist-packages (from scikit-learn->shap) (3.1.0)\n",
            "Requirement already satisfied: six>=1.5 in /usr/local/lib/python3.10/dist-packages (from python-dateutil>=2.8.1->pandas->shap) (1.16.0)\n",
            "Collecting rdkit\n",
            "  Downloading rdkit-2023.3.2-cp310-cp310-manylinux_2_17_x86_64.manylinux2014_x86_64.whl (29.7 MB)\n",
            "\u001b[2K     \u001b[90m━━━━━━━━━━━━━━━━━━━━━━━━━━━━━━━━━━━━━━━━\u001b[0m \u001b[32m29.7/29.7 MB\u001b[0m \u001b[31m32.2 MB/s\u001b[0m eta \u001b[36m0:00:00\u001b[0m\n",
            "\u001b[?25hRequirement already satisfied: numpy in /usr/local/lib/python3.10/dist-packages (from rdkit) (1.22.4)\n",
            "Requirement already satisfied: Pillow in /usr/local/lib/python3.10/dist-packages (from rdkit) (8.4.0)\n",
            "Installing collected packages: rdkit\n",
            "Successfully installed rdkit-2023.3.2\n"
          ]
        }
      ]
    },
    {
      "cell_type": "code",
      "execution_count": null,
      "metadata": {
        "id": "Lt5f_RDDVH-W"
      },
      "outputs": [],
      "source": [
        "import pandas as pd\n",
        "import seaborn as sns\n",
        "import numpy as np\n",
        "\n",
        "\n",
        "from sklearn.ensemble import RandomForestRegressor\n",
        "import shap\n",
        "from sklearn.metrics import r2_score\n",
        "from sklearn.model_selection import train_test_split\n",
        "\n",
        "from rdkit import Chem\n",
        "from rdkit.Chem import Descriptors"
      ]
    },
    {
      "cell_type": "code",
      "source": [
        "# Загрузка данных из CSV файлов\n",
        "data_df = pd.read_csv('https://raw.githubusercontent.com/Riddars/Hakaton/main/data.csv', index_col=0)\n",
        "bacterial_descriptors_df = pd.read_csv('https://raw.githubusercontent.com/Riddars/Hakaton/main/bacterial_descriptors.csv')\n",
        "drug_descriptors_df = pd.read_csv('https://raw.githubusercontent.com/Riddars/Hakaton/main/drug_descriptors.csv', index_col=0)"
      ],
      "metadata": {
        "id": "H5CWbhX2XIPs"
      },
      "execution_count": null,
      "outputs": []
    },
    {
      "cell_type": "markdown",
      "source": [
        "Смотрим шапки датасетов"
      ],
      "metadata": {
        "id": "KvRjLxMpt5Nd"
      }
    },
    {
      "cell_type": "markdown",
      "source": [
        "# Основной датасет"
      ],
      "metadata": {
        "id": "cLNnYbIHJSOR"
      }
    },
    {
      "cell_type": "markdown",
      "source": [
        "## data_df download"
      ],
      "metadata": {
        "id": "7lt9ZAzYe6op"
      }
    },
    {
      "cell_type": "code",
      "source": [
        "print(data_df.info())\n",
        "data_df.head(2)\n"
      ],
      "metadata": {
        "id": "S36fumqGaQuf",
        "colab": {
          "base_uri": "https://localhost:8080/"
        },
        "outputId": "d921a5e6-3251-4869-fb13-181f1b3a3930"
      },
      "execution_count": null,
      "outputs": [
        {
          "output_type": "stream",
          "name": "stdout",
          "text": [
            "<class 'pandas.core.frame.DataFrame'>\n",
            "Int64Index: 883 entries, 0 to 882\n",
            "Data columns (total 17 columns):\n",
            " #   Column                                       Non-Null Count  Dtype  \n",
            "---  ------                                       --------------  -----  \n",
            " 0   Unnamed: 0                                   883 non-null    int64  \n",
            " 1   Bacteria                                     883 non-null    object \n",
            " 2   NP_Synthesis                                 883 non-null    object \n",
            " 3   Drug                                         642 non-null    object \n",
            " 4   Drug_class_drug_bank                         642 non-null    object \n",
            " 5   Drug_dose                                    577 non-null    float64\n",
            " 6   NP_concentration                             633 non-null    object \n",
            " 7   NP size_min                                  883 non-null    float64\n",
            " 8   NP size_max                                  883 non-null    float64\n",
            " 9   NP size_avg                                  883 non-null    float64\n",
            " 10  shape                                        883 non-null    object \n",
            " 11  method                                       883 non-null    object \n",
            " 12  ZOI_drug                                     627 non-null    object \n",
            " 13  ZOI_NP                                       441 non-null    object \n",
            " 14  ZOI_drug_NP                                  584 non-null    object \n",
            " 15  fold_increase_in_antibacterial_activity (%)  421 non-null    float64\n",
            " 16  MDR_check                                    883 non-null    int64  \n",
            "dtypes: float64(5), int64(2), object(10)\n",
            "memory usage: 124.2+ KB\n",
            "None\n"
          ]
        },
        {
          "output_type": "execute_result",
          "data": {
            "text/plain": [
              "   Unnamed: 0          Bacteria                           NP_Synthesis  \\\n",
              "0          86  Escherichia coli  chem_synthesis_reduction_by_D_maltose   \n",
              "1          87  Escherichia coli  chem_synthesis_reduction_by_D_maltose   \n",
              "\n",
              "          Drug              Drug_class_drug_bank  Drug_dose NP_concentration  \\\n",
              "0  Amoxicillin                           Lactams        NaN              NaN   \n",
              "1   Penicillin  Carboxylic acids and derivatives        NaN              NaN   \n",
              "\n",
              "   NP size_min  NP size_max  NP size_avg      shape method ZOI_drug ZOI_NP  \\\n",
              "0          4.0         10.0          8.0  spherical    MIC      32+    6.3   \n",
              "1          4.0         10.0          8.0  spherical    MIC      32+    6.3   \n",
              "\n",
              "  ZOI_drug_NP  fold_increase_in_antibacterial_activity (%)  MDR_check  \n",
              "0         32+                                          NaN          1  \n",
              "1         32+                                          NaN          1  "
            ],
            "text/html": [
              "\n",
              "  <div id=\"df-56353ece-1f2e-443c-b708-560ebc4a85a0\">\n",
              "    <div class=\"colab-df-container\">\n",
              "      <div>\n",
              "<style scoped>\n",
              "    .dataframe tbody tr th:only-of-type {\n",
              "        vertical-align: middle;\n",
              "    }\n",
              "\n",
              "    .dataframe tbody tr th {\n",
              "        vertical-align: top;\n",
              "    }\n",
              "\n",
              "    .dataframe thead th {\n",
              "        text-align: right;\n",
              "    }\n",
              "</style>\n",
              "<table border=\"1\" class=\"dataframe\">\n",
              "  <thead>\n",
              "    <tr style=\"text-align: right;\">\n",
              "      <th></th>\n",
              "      <th>Unnamed: 0</th>\n",
              "      <th>Bacteria</th>\n",
              "      <th>NP_Synthesis</th>\n",
              "      <th>Drug</th>\n",
              "      <th>Drug_class_drug_bank</th>\n",
              "      <th>Drug_dose</th>\n",
              "      <th>NP_concentration</th>\n",
              "      <th>NP size_min</th>\n",
              "      <th>NP size_max</th>\n",
              "      <th>NP size_avg</th>\n",
              "      <th>shape</th>\n",
              "      <th>method</th>\n",
              "      <th>ZOI_drug</th>\n",
              "      <th>ZOI_NP</th>\n",
              "      <th>ZOI_drug_NP</th>\n",
              "      <th>fold_increase_in_antibacterial_activity (%)</th>\n",
              "      <th>MDR_check</th>\n",
              "    </tr>\n",
              "  </thead>\n",
              "  <tbody>\n",
              "    <tr>\n",
              "      <th>0</th>\n",
              "      <td>86</td>\n",
              "      <td>Escherichia coli</td>\n",
              "      <td>chem_synthesis_reduction_by_D_maltose</td>\n",
              "      <td>Amoxicillin</td>\n",
              "      <td>Lactams</td>\n",
              "      <td>NaN</td>\n",
              "      <td>NaN</td>\n",
              "      <td>4.0</td>\n",
              "      <td>10.0</td>\n",
              "      <td>8.0</td>\n",
              "      <td>spherical</td>\n",
              "      <td>MIC</td>\n",
              "      <td>32+</td>\n",
              "      <td>6.3</td>\n",
              "      <td>32+</td>\n",
              "      <td>NaN</td>\n",
              "      <td>1</td>\n",
              "    </tr>\n",
              "    <tr>\n",
              "      <th>1</th>\n",
              "      <td>87</td>\n",
              "      <td>Escherichia coli</td>\n",
              "      <td>chem_synthesis_reduction_by_D_maltose</td>\n",
              "      <td>Penicillin</td>\n",
              "      <td>Carboxylic acids and derivatives</td>\n",
              "      <td>NaN</td>\n",
              "      <td>NaN</td>\n",
              "      <td>4.0</td>\n",
              "      <td>10.0</td>\n",
              "      <td>8.0</td>\n",
              "      <td>spherical</td>\n",
              "      <td>MIC</td>\n",
              "      <td>32+</td>\n",
              "      <td>6.3</td>\n",
              "      <td>32+</td>\n",
              "      <td>NaN</td>\n",
              "      <td>1</td>\n",
              "    </tr>\n",
              "  </tbody>\n",
              "</table>\n",
              "</div>\n",
              "      <button class=\"colab-df-convert\" onclick=\"convertToInteractive('df-56353ece-1f2e-443c-b708-560ebc4a85a0')\"\n",
              "              title=\"Convert this dataframe to an interactive table.\"\n",
              "              style=\"display:none;\">\n",
              "        \n",
              "  <svg xmlns=\"http://www.w3.org/2000/svg\" height=\"24px\"viewBox=\"0 0 24 24\"\n",
              "       width=\"24px\">\n",
              "    <path d=\"M0 0h24v24H0V0z\" fill=\"none\"/>\n",
              "    <path d=\"M18.56 5.44l.94 2.06.94-2.06 2.06-.94-2.06-.94-.94-2.06-.94 2.06-2.06.94zm-11 1L8.5 8.5l.94-2.06 2.06-.94-2.06-.94L8.5 2.5l-.94 2.06-2.06.94zm10 10l.94 2.06.94-2.06 2.06-.94-2.06-.94-.94-2.06-.94 2.06-2.06.94z\"/><path d=\"M17.41 7.96l-1.37-1.37c-.4-.4-.92-.59-1.43-.59-.52 0-1.04.2-1.43.59L10.3 9.45l-7.72 7.72c-.78.78-.78 2.05 0 2.83L4 21.41c.39.39.9.59 1.41.59.51 0 1.02-.2 1.41-.59l7.78-7.78 2.81-2.81c.8-.78.8-2.07 0-2.86zM5.41 20L4 18.59l7.72-7.72 1.47 1.35L5.41 20z\"/>\n",
              "  </svg>\n",
              "      </button>\n",
              "      \n",
              "  <style>\n",
              "    .colab-df-container {\n",
              "      display:flex;\n",
              "      flex-wrap:wrap;\n",
              "      gap: 12px;\n",
              "    }\n",
              "\n",
              "    .colab-df-convert {\n",
              "      background-color: #E8F0FE;\n",
              "      border: none;\n",
              "      border-radius: 50%;\n",
              "      cursor: pointer;\n",
              "      display: none;\n",
              "      fill: #1967D2;\n",
              "      height: 32px;\n",
              "      padding: 0 0 0 0;\n",
              "      width: 32px;\n",
              "    }\n",
              "\n",
              "    .colab-df-convert:hover {\n",
              "      background-color: #E2EBFA;\n",
              "      box-shadow: 0px 1px 2px rgba(60, 64, 67, 0.3), 0px 1px 3px 1px rgba(60, 64, 67, 0.15);\n",
              "      fill: #174EA6;\n",
              "    }\n",
              "\n",
              "    [theme=dark] .colab-df-convert {\n",
              "      background-color: #3B4455;\n",
              "      fill: #D2E3FC;\n",
              "    }\n",
              "\n",
              "    [theme=dark] .colab-df-convert:hover {\n",
              "      background-color: #434B5C;\n",
              "      box-shadow: 0px 1px 3px 1px rgba(0, 0, 0, 0.15);\n",
              "      filter: drop-shadow(0px 1px 2px rgba(0, 0, 0, 0.3));\n",
              "      fill: #FFFFFF;\n",
              "    }\n",
              "  </style>\n",
              "\n",
              "      <script>\n",
              "        const buttonEl =\n",
              "          document.querySelector('#df-56353ece-1f2e-443c-b708-560ebc4a85a0 button.colab-df-convert');\n",
              "        buttonEl.style.display =\n",
              "          google.colab.kernel.accessAllowed ? 'block' : 'none';\n",
              "\n",
              "        async function convertToInteractive(key) {\n",
              "          const element = document.querySelector('#df-56353ece-1f2e-443c-b708-560ebc4a85a0');\n",
              "          const dataTable =\n",
              "            await google.colab.kernel.invokeFunction('convertToInteractive',\n",
              "                                                     [key], {});\n",
              "          if (!dataTable) return;\n",
              "\n",
              "          const docLinkHtml = 'Like what you see? Visit the ' +\n",
              "            '<a target=\"_blank\" href=https://colab.research.google.com/notebooks/data_table.ipynb>data table notebook</a>'\n",
              "            + ' to learn more about interactive tables.';\n",
              "          element.innerHTML = '';\n",
              "          dataTable['output_type'] = 'display_data';\n",
              "          await google.colab.output.renderOutput(dataTable, element);\n",
              "          const docLink = document.createElement('div');\n",
              "          docLink.innerHTML = docLinkHtml;\n",
              "          element.appendChild(docLink);\n",
              "        }\n",
              "      </script>\n",
              "    </div>\n",
              "  </div>\n",
              "  "
            ]
          },
          "metadata": {},
          "execution_count": 43
        }
      ]
    },
    {
      "cell_type": "code",
      "source": [
        "## for preprocessing results\n",
        "\n",
        "def data_df_fix_column_types(df):\n",
        "    start_len = len(data_df)\n",
        "    data_df[\"shape\"] = data_df[\"shape\"].astype(\"category\")\n",
        "    data_df[\"method\"] = data_df[\"method\"].astype(\"category\")\n",
        "\n",
        "    # 32+ насколько оно больше непонятно, при этом из всего 10 - можно пожертвовать\n",
        "    # Escherichia coli\t, Actinobacillus pleuropneumoniae\n",
        "    # chem_synthesis_reduction_by_D_maltose\n",
        "    data_df.drop(\n",
        "        data_df[data_df.ZOI_drug_NP == '32+'].index, inplace=True)\n",
        "    data_df.drop(\n",
        "        data_df[data_df.ZOI_drug == '32+'].index, inplace=True)\n",
        "    data_df['ZOI_drug'] = data_df.ZOI_drug.astype(float)\n",
        "\n",
        "    # 50+ замечено 7 штук\n",
        "    data_df.drop(\n",
        "        data_df[data_df.ZOI_NP == '50+'].index,inplace=True)\n",
        "    # # 4000 <- перед ними последнее значение это 220. Из всего 3\n",
        "    # data_df.drop(\n",
        "    #     data_df[data_df.ZOI_NP == '4000'].index,inplace=True)\n",
        "    data_df[\"ZOI_NP\"] = data_df.ZOI_NP.astype(float)\n",
        "\n",
        "\n",
        "    # 17+2 <- это вероятно 17 +/- 2\n",
        "    # data_df.drop(\n",
        "    #     data_df[data_df.ZOI_drug_NP == '17+2'].index, inplace=True)\n",
        "    data_df[\"ZOI_drug_NP\"] = data_df[\"ZOI_drug_NP\"].replace('17+2', 17)\n",
        "    data_df[\"ZOI_drug_NP\"] = data_df.ZOI_drug_NP.astype(float)\n",
        "\n",
        "    # NP_concentration 170/85/*\n",
        "    '''\n",
        "    если посмотреть на:\n",
        "    mask_ = (data_df.NP_concentration.str.contains(\"170/85/\")) | (data_df.NP_concentration == '42.5')\n",
        "    data_df[mask_].sort_values(\"Bacteria\").set_index(\"Bacteria\")\n",
        "    такое преобразование выглядит разымным\n",
        "    '''\n",
        "    data_df[\"NP_concentration\"] = (data_df[\"NP_concentration\"]\n",
        "                                        .apply(lambda x : float(str(x).split('/')[-1]))\n",
        "                                )\n",
        "    finish_len = len(data_df)\n",
        "    print(\"Было удалено :\", start_len - finish_len, \"строк\")\n"
      ],
      "metadata": {
        "id": "sa-_YK82SCZW"
      },
      "execution_count": null,
      "outputs": []
    },
    {
      "cell_type": "code",
      "source": [
        "# def change_nan_to_No_when_possible(data_df):\n",
        "#     # эксперименты только с наночастицами\n",
        "#     mask1_ = (data_df.ZOI_drug.isna()) & (data_df.ZOI_drug_NP.isna()) & (~data_df.ZOI_NP.isna()) & (~data_df.NP_concentration.isna())\n",
        "#     data_df.loc[mask1_, 'Drug_dose'] = 0\n",
        "#     data_df.loc[mask1_, ['Drug', 'Drug_class_drug_bank']] = ['No', 'No']\n",
        "#     data_df.loc[mask1_, \"ZOI_drug\"] = 0\n",
        "#     data_df.loc[mask1_, \"ZOI_drug_NP\"] = data_df.loc[mask1_, \"ZOI_NP\"]\n",
        "\n",
        "#     # weaker condition\n",
        "#     mask2_ = (data_df.ZOI_drug.isna()) & (data_df.ZOI_drug_NP.isna()) & (~data_df.ZOI_NP.isna())\n",
        "#     data_df.loc[mask2_, ['Drug', 'Drug_class_drug_bank']] = ['No', 'No']\n",
        "#     data_df.loc[mask2_, \"ZOI_drug\"] = 0\n",
        "\n",
        "#     # смешанные эксперименты\n",
        "#     mask3_ = (data_df.ZOI_drug.isna()) & (~data_df.ZOI_drug_NP.isna()) & (data_df.ZOI_NP.isna())\n",
        "#     # data_df.loc[mask3_, ['ZOI_drug', \"ZOI_NP\"]] = ['No', 'No'] # ???\n",
        "\n",
        "#     # эксперименты только с лекарствами\n",
        "#     mask2_ = (data_df.ZOI_NP.isna()) & (data_df.ZOI_drug_NP.isna()) & (~data_df.ZOI_drug.isna()) & (~data_df.Drug_dose.isna())\n",
        "#     data_df.loc[mask2_] # а тут ноль экземпляров"
      ],
      "metadata": {
        "id": "hk-jmhi5edK0"
      },
      "execution_count": null,
      "outputs": []
    },
    {
      "cell_type": "code",
      "source": [
        "def replace_bacteria_in_data_df(data_df):\n",
        "    data_df.replace('Bacillus spp.        ', 'Bacillus sp.', inplace=True)\n",
        "    data_df.replace('Acinetobacter baumanii', 'Acinetobacter baumannii', inplace=True)\n",
        "    data_df.replace('Actinobacillus pleuropneumoniae ', 'Actinobacillus pleuropneumoniae', inplace=True)\n",
        "    # data_df.replace('Candida glochares', 'Candida glochares', inplace=True) # ??? заменить само на себя?\n",
        "\n",
        "    data_df.replace('Enterobacter cloacae ', 'Enterobacter cloacae', inplace=True)\n",
        "    data_df.replace('Salmonella  typhi', 'Salmonella typhi', inplace=True)\n",
        "    data_df.replace('Salmonella Paratyphi', 'Salmonella enterica', inplace=True) # https://www.ncbi.nlm.nih.gov/datasets/taxonomy/54388/\n",
        "    # data_df.replace('Serratia marcescens', 'Serratia marcescens', inplace=True)  # ??? заменить само на себя?\n",
        "\n",
        "\n",
        "    # unrecoverable\n",
        "    data_df.drop(\n",
        "        data_df[\n",
        "            (data_df.Bacteria == 'Serratia marcescens') | ((data_df.Bacteria == 'Candida glochares'))\n",
        "        ].index,\n",
        "        inplace=True\n",
        "    )\n"
      ],
      "metadata": {
        "id": "YgUdVZL1J9C_"
      },
      "execution_count": null,
      "outputs": []
    },
    {
      "cell_type": "code",
      "source": [
        "def drop_fold_increase_in_antibacterial_activity(df):\n",
        "    df.drop(columns='fold_increase_in_antibacterial_activity (%)', inplace=True)\n",
        "\n",
        "# drop_fold_increase_in_antibacterial_activity(data_df)"
      ],
      "metadata": {
        "id": "2L54-y5wIs26"
      },
      "execution_count": null,
      "outputs": []
    },
    {
      "cell_type": "code",
      "source": [
        "data_df.isna().sum()"
      ],
      "metadata": {
        "id": "B6xnU6e9XFsE",
        "colab": {
          "base_uri": "https://localhost:8080/"
        },
        "outputId": "5482dfc9-d2ce-4e62-8100-51021540bdb7"
      },
      "execution_count": null,
      "outputs": [
        {
          "output_type": "execute_result",
          "data": {
            "text/plain": [
              "Unnamed: 0                                       0\n",
              "Bacteria                                         0\n",
              "NP_Synthesis                                     0\n",
              "Drug                                           241\n",
              "Drug_class_drug_bank                           241\n",
              "Drug_dose                                      306\n",
              "NP_concentration                               250\n",
              "NP size_min                                      0\n",
              "NP size_max                                      0\n",
              "NP size_avg                                      0\n",
              "shape                                            0\n",
              "method                                           0\n",
              "ZOI_drug                                       256\n",
              "ZOI_NP                                         442\n",
              "ZOI_drug_NP                                    299\n",
              "fold_increase_in_antibacterial_activity (%)    462\n",
              "MDR_check                                        0\n",
              "dtype: int64"
            ]
          },
          "metadata": {},
          "execution_count": 48
        }
      ]
    },
    {
      "cell_type": "code",
      "source": [
        "def prepare_data_df(data_df):\n",
        "    data_df.set_index('Unnamed: 0', inplace=True) # чтобы можно было дентифизировать элементы\n",
        "    data_df_fix_column_types(data_df)\n",
        "    replace_bacteria_in_data_df(data_df)\n",
        "    # drop_fold_increase_in_antibacterial_activity(df)\n",
        "\n",
        "prepare_data_df(data_df)"
      ],
      "metadata": {
        "colab": {
          "base_uri": "https://localhost:8080/"
        },
        "id": "FB3fboDmJhNk",
        "outputId": "4877c978-fa02-4d6d-88fe-9a4ab56018a0"
      },
      "execution_count": null,
      "outputs": [
        {
          "output_type": "stream",
          "name": "stdout",
          "text": [
            "Было удалено : 17 строк\n"
          ]
        }
      ]
    },
    {
      "cell_type": "markdown",
      "source": [
        "## изучаем датасет бактерий"
      ],
      "metadata": {
        "id": "ZHd2EohzKR8P"
      }
    },
    {
      "cell_type": "markdown",
      "source": [
        "\n",
        "Вспомогательный датасет 2 (бактерии)"
      ],
      "metadata": {
        "id": "mNLRM4XvuHq1"
      }
    },
    {
      "cell_type": "code",
      "source": [
        "bacterial_descriptors_df.head(2)"
      ],
      "metadata": {
        "id": "4XrQJ9uJaW9i",
        "colab": {
          "base_uri": "https://localhost:8080/"
        },
        "outputId": "06e100f6-fb02-4ffa-d642-bfed5f1f4f4f"
      },
      "execution_count": null,
      "outputs": [
        {
          "output_type": "execute_result",
          "data": {
            "text/plain": [
              "    Tax_id                         Bacteria   kingdom subkingdom clade  \\\n",
              "0  ['470']          Acinetobacter baumannii  Bacteria        NaN   NaN   \n",
              "1  ['715']  Actinobacillus pleuropneumoniae  Bacteria        NaN   NaN   \n",
              "\n",
              "           phylum                class           order           family  \\\n",
              "0  Pseudomonadota  Gammaproteobacteria    Moraxellales    Moraxellaceae   \n",
              "1  Pseudomonadota  Gammaproteobacteria  Pasteurellales  Pasteurellaceae   \n",
              "\n",
              "            genus                                        species gram  \\\n",
              "0   Acinetobacter  Acinetobacter calcoaceticus/baumannii complex    n   \n",
              "1  Actinobacillus                Actinobacillus pleuropneumoniae    n   \n",
              "\n",
              "   min_Incub_period, h  avg_Incub_period, h  max_Incub_period, h  \\\n",
              "0                 24.0                 36.0                 48.0   \n",
              "1                 24.0                 36.0                 48.0   \n",
              "\n",
              "   growth_temp, C  biosafety_level isolated_from  \n",
              "0              37                2         urine  \n",
              "1              37                2         lungs  "
            ],
            "text/html": [
              "\n",
              "  <div id=\"df-e4d2a087-61bd-479a-bf51-04861ad554c2\">\n",
              "    <div class=\"colab-df-container\">\n",
              "      <div>\n",
              "<style scoped>\n",
              "    .dataframe tbody tr th:only-of-type {\n",
              "        vertical-align: middle;\n",
              "    }\n",
              "\n",
              "    .dataframe tbody tr th {\n",
              "        vertical-align: top;\n",
              "    }\n",
              "\n",
              "    .dataframe thead th {\n",
              "        text-align: right;\n",
              "    }\n",
              "</style>\n",
              "<table border=\"1\" class=\"dataframe\">\n",
              "  <thead>\n",
              "    <tr style=\"text-align: right;\">\n",
              "      <th></th>\n",
              "      <th>Tax_id</th>\n",
              "      <th>Bacteria</th>\n",
              "      <th>kingdom</th>\n",
              "      <th>subkingdom</th>\n",
              "      <th>clade</th>\n",
              "      <th>phylum</th>\n",
              "      <th>class</th>\n",
              "      <th>order</th>\n",
              "      <th>family</th>\n",
              "      <th>genus</th>\n",
              "      <th>species</th>\n",
              "      <th>gram</th>\n",
              "      <th>min_Incub_period, h</th>\n",
              "      <th>avg_Incub_period, h</th>\n",
              "      <th>max_Incub_period, h</th>\n",
              "      <th>growth_temp, C</th>\n",
              "      <th>biosafety_level</th>\n",
              "      <th>isolated_from</th>\n",
              "    </tr>\n",
              "  </thead>\n",
              "  <tbody>\n",
              "    <tr>\n",
              "      <th>0</th>\n",
              "      <td>['470']</td>\n",
              "      <td>Acinetobacter baumannii</td>\n",
              "      <td>Bacteria</td>\n",
              "      <td>NaN</td>\n",
              "      <td>NaN</td>\n",
              "      <td>Pseudomonadota</td>\n",
              "      <td>Gammaproteobacteria</td>\n",
              "      <td>Moraxellales</td>\n",
              "      <td>Moraxellaceae</td>\n",
              "      <td>Acinetobacter</td>\n",
              "      <td>Acinetobacter calcoaceticus/baumannii complex</td>\n",
              "      <td>n</td>\n",
              "      <td>24.0</td>\n",
              "      <td>36.0</td>\n",
              "      <td>48.0</td>\n",
              "      <td>37</td>\n",
              "      <td>2</td>\n",
              "      <td>urine</td>\n",
              "    </tr>\n",
              "    <tr>\n",
              "      <th>1</th>\n",
              "      <td>['715']</td>\n",
              "      <td>Actinobacillus pleuropneumoniae</td>\n",
              "      <td>Bacteria</td>\n",
              "      <td>NaN</td>\n",
              "      <td>NaN</td>\n",
              "      <td>Pseudomonadota</td>\n",
              "      <td>Gammaproteobacteria</td>\n",
              "      <td>Pasteurellales</td>\n",
              "      <td>Pasteurellaceae</td>\n",
              "      <td>Actinobacillus</td>\n",
              "      <td>Actinobacillus pleuropneumoniae</td>\n",
              "      <td>n</td>\n",
              "      <td>24.0</td>\n",
              "      <td>36.0</td>\n",
              "      <td>48.0</td>\n",
              "      <td>37</td>\n",
              "      <td>2</td>\n",
              "      <td>lungs</td>\n",
              "    </tr>\n",
              "  </tbody>\n",
              "</table>\n",
              "</div>\n",
              "      <button class=\"colab-df-convert\" onclick=\"convertToInteractive('df-e4d2a087-61bd-479a-bf51-04861ad554c2')\"\n",
              "              title=\"Convert this dataframe to an interactive table.\"\n",
              "              style=\"display:none;\">\n",
              "        \n",
              "  <svg xmlns=\"http://www.w3.org/2000/svg\" height=\"24px\"viewBox=\"0 0 24 24\"\n",
              "       width=\"24px\">\n",
              "    <path d=\"M0 0h24v24H0V0z\" fill=\"none\"/>\n",
              "    <path d=\"M18.56 5.44l.94 2.06.94-2.06 2.06-.94-2.06-.94-.94-2.06-.94 2.06-2.06.94zm-11 1L8.5 8.5l.94-2.06 2.06-.94-2.06-.94L8.5 2.5l-.94 2.06-2.06.94zm10 10l.94 2.06.94-2.06 2.06-.94-2.06-.94-.94-2.06-.94 2.06-2.06.94z\"/><path d=\"M17.41 7.96l-1.37-1.37c-.4-.4-.92-.59-1.43-.59-.52 0-1.04.2-1.43.59L10.3 9.45l-7.72 7.72c-.78.78-.78 2.05 0 2.83L4 21.41c.39.39.9.59 1.41.59.51 0 1.02-.2 1.41-.59l7.78-7.78 2.81-2.81c.8-.78.8-2.07 0-2.86zM5.41 20L4 18.59l7.72-7.72 1.47 1.35L5.41 20z\"/>\n",
              "  </svg>\n",
              "      </button>\n",
              "      \n",
              "  <style>\n",
              "    .colab-df-container {\n",
              "      display:flex;\n",
              "      flex-wrap:wrap;\n",
              "      gap: 12px;\n",
              "    }\n",
              "\n",
              "    .colab-df-convert {\n",
              "      background-color: #E8F0FE;\n",
              "      border: none;\n",
              "      border-radius: 50%;\n",
              "      cursor: pointer;\n",
              "      display: none;\n",
              "      fill: #1967D2;\n",
              "      height: 32px;\n",
              "      padding: 0 0 0 0;\n",
              "      width: 32px;\n",
              "    }\n",
              "\n",
              "    .colab-df-convert:hover {\n",
              "      background-color: #E2EBFA;\n",
              "      box-shadow: 0px 1px 2px rgba(60, 64, 67, 0.3), 0px 1px 3px 1px rgba(60, 64, 67, 0.15);\n",
              "      fill: #174EA6;\n",
              "    }\n",
              "\n",
              "    [theme=dark] .colab-df-convert {\n",
              "      background-color: #3B4455;\n",
              "      fill: #D2E3FC;\n",
              "    }\n",
              "\n",
              "    [theme=dark] .colab-df-convert:hover {\n",
              "      background-color: #434B5C;\n",
              "      box-shadow: 0px 1px 3px 1px rgba(0, 0, 0, 0.15);\n",
              "      filter: drop-shadow(0px 1px 2px rgba(0, 0, 0, 0.3));\n",
              "      fill: #FFFFFF;\n",
              "    }\n",
              "  </style>\n",
              "\n",
              "      <script>\n",
              "        const buttonEl =\n",
              "          document.querySelector('#df-e4d2a087-61bd-479a-bf51-04861ad554c2 button.colab-df-convert');\n",
              "        buttonEl.style.display =\n",
              "          google.colab.kernel.accessAllowed ? 'block' : 'none';\n",
              "\n",
              "        async function convertToInteractive(key) {\n",
              "          const element = document.querySelector('#df-e4d2a087-61bd-479a-bf51-04861ad554c2');\n",
              "          const dataTable =\n",
              "            await google.colab.kernel.invokeFunction('convertToInteractive',\n",
              "                                                     [key], {});\n",
              "          if (!dataTable) return;\n",
              "\n",
              "          const docLinkHtml = 'Like what you see? Visit the ' +\n",
              "            '<a target=\"_blank\" href=https://colab.research.google.com/notebooks/data_table.ipynb>data table notebook</a>'\n",
              "            + ' to learn more about interactive tables.';\n",
              "          element.innerHTML = '';\n",
              "          dataTable['output_type'] = 'display_data';\n",
              "          await google.colab.output.renderOutput(dataTable, element);\n",
              "          const docLink = document.createElement('div');\n",
              "          docLink.innerHTML = docLinkHtml;\n",
              "          element.appendChild(docLink);\n",
              "        }\n",
              "      </script>\n",
              "    </div>\n",
              "  </div>\n",
              "  "
            ]
          },
          "metadata": {},
          "execution_count": 50
        }
      ]
    },
    {
      "cell_type": "code",
      "source": [
        "# смотрим каких названий из data_df нет в bacterial_descriptors\n",
        "set(data_df['Bacteria'].unique()) - set(bacterial_descriptors_df['Bacteria'].unique())\n",
        "\n",
        "# а вот избыточных много\n",
        "# set(bacterial_descriptors_df['Bacteria'].unique()) - set(data_df['Bacteria'].unique())"
      ],
      "metadata": {
        "id": "PN3RJcx_Q0M7",
        "colab": {
          "base_uri": "https://localhost:8080/"
        },
        "outputId": "96b3b9a7-e829-4ca2-bafd-2ce1649c32a2"
      },
      "execution_count": null,
      "outputs": [
        {
          "output_type": "execute_result",
          "data": {
            "text/plain": [
              "set()"
            ]
          },
          "metadata": {},
          "execution_count": 51
        }
      ]
    },
    {
      "cell_type": "code",
      "source": [
        "# fix some grams\n",
        "def popluate_missing_gram_in_bacteria_descriplots(bacterial_descriptors_df):\n",
        "    bacterial_descriptors_df[bacterial_descriptors_df.gram.isna()].Bacteria.value_counts()\n",
        "\n",
        "    bacterial_descriptors_df.loc[\n",
        "        bacterial_descriptors_df.Bacteria.isin(\n",
        "            ['Candida albicans',\n",
        "            'Candida glabrata',\n",
        "            'Candida saitoana',\n",
        "            'Micrococcus luteus',\n",
        "            'Staphylococcus aureus'\n",
        "            'Staphylococcus epidermidis',\n",
        "            'Bacillus subtilis',\n",
        "            'Bacillus sp.',\n",
        "            ])\n",
        "    , 'gram'\n",
        "    ] = 'p'\n",
        "\n",
        "    bacterial_descriptors_df.loc[\n",
        "        bacterial_descriptors_df.Bacteria.isin(\n",
        "    [\n",
        "                'Neisseria mucosa',\n",
        "                'Escherichia coli',\n",
        "                'Salmonella enterica',\n",
        "                'Salmonella typhi',\n",
        "                'Klebsiella pneumonia',\n",
        "                'Pseudomonas aeruginosa',\n",
        "                'Vibrio parahaemolyticus',\n",
        "                'Serratia odorifera',\n",
        "                'Pseudomonas koreensis',\n",
        "                'Haemophilus influenzae',\n",
        "            ])\n",
        "    , 'gram'\n",
        "    ] = 'n'\n"
      ],
      "metadata": {
        "id": "iJZDb9_xUkz8"
      },
      "execution_count": null,
      "outputs": []
    },
    {
      "cell_type": "code",
      "source": [
        "def convert_gram_to_valeus(df):\n",
        "    df['gram'] = df.gram.map({'p': 1, 'n': -1})\n",
        "    # .astype(int)"
      ],
      "metadata": {
        "id": "NpXYDTW9Mmjj"
      },
      "execution_count": null,
      "outputs": []
    },
    {
      "cell_type": "code",
      "source": [
        "# prepare_bacteria_dataset\n",
        "def prepare_bacteria_descriptors_df(bacteria_descriptors):\n",
        "\n",
        "    popluate_missing_gram_in_bacteria_descriplots(bacteria_descriptors)\n",
        "    # https://link.springer.com/article/10.1007/s00253-010-2810-1\n",
        "    # меньше инкубационного периода не нашлось\n",
        "    bacterial_descriptors_df.loc[bacterial_descriptors_df.Bacteria == 'Serratia odorifera', 'min_Incub_period, h'] = 12\n",
        "    convert_gram_to_valeus(bacteria_descriptors)\n",
        "\n",
        "prepare_bacteria_descriptors_df(bacterial_descriptors_df)"
      ],
      "metadata": {
        "id": "rWQIEo07KIPL"
      },
      "execution_count": null,
      "outputs": []
    },
    {
      "cell_type": "markdown",
      "source": [
        "## Вспомогательный датасет 3 (антибиотики)"
      ],
      "metadata": {
        "id": "jbh7ewaMuLcM"
      }
    },
    {
      "cell_type": "code",
      "source": [
        "drug_descriptors_df.head(2)"
      ],
      "metadata": {
        "id": "2lnSjLSEaZdn",
        "colab": {
          "base_uri": "https://localhost:8080/"
        },
        "outputId": "d8dfa902-7c33-498f-c520-ef9d297eda5d"
      },
      "execution_count": null,
      "outputs": [
        {
          "output_type": "execute_result",
          "data": {
            "text/plain": [
              "          drug      chemID           prefered_name  \\\n",
              "0  Amoxicillin  CHEMBL1082             AMOXICILLIN   \n",
              "1   Penicillin  CHEMBL1223  PENICILLIN G POTASSIUM   \n",
              "\n",
              "                                              smiles  \n",
              "0  CC1(C)S[C@@H]2[C@H](NC(=O)[C@H](N)c3ccc(O)cc3)...  \n",
              "1  CC1(C)S[C@@H]2[C@H](NC(=O)Cc3ccccc3)C(=O)N2[C@...  "
            ],
            "text/html": [
              "\n",
              "  <div id=\"df-c8a3adfd-ed8c-4410-9448-b94c7464a0e9\">\n",
              "    <div class=\"colab-df-container\">\n",
              "      <div>\n",
              "<style scoped>\n",
              "    .dataframe tbody tr th:only-of-type {\n",
              "        vertical-align: middle;\n",
              "    }\n",
              "\n",
              "    .dataframe tbody tr th {\n",
              "        vertical-align: top;\n",
              "    }\n",
              "\n",
              "    .dataframe thead th {\n",
              "        text-align: right;\n",
              "    }\n",
              "</style>\n",
              "<table border=\"1\" class=\"dataframe\">\n",
              "  <thead>\n",
              "    <tr style=\"text-align: right;\">\n",
              "      <th></th>\n",
              "      <th>drug</th>\n",
              "      <th>chemID</th>\n",
              "      <th>prefered_name</th>\n",
              "      <th>smiles</th>\n",
              "    </tr>\n",
              "  </thead>\n",
              "  <tbody>\n",
              "    <tr>\n",
              "      <th>0</th>\n",
              "      <td>Amoxicillin</td>\n",
              "      <td>CHEMBL1082</td>\n",
              "      <td>AMOXICILLIN</td>\n",
              "      <td>CC1(C)S[C@@H]2[C@H](NC(=O)[C@H](N)c3ccc(O)cc3)...</td>\n",
              "    </tr>\n",
              "    <tr>\n",
              "      <th>1</th>\n",
              "      <td>Penicillin</td>\n",
              "      <td>CHEMBL1223</td>\n",
              "      <td>PENICILLIN G POTASSIUM</td>\n",
              "      <td>CC1(C)S[C@@H]2[C@H](NC(=O)Cc3ccccc3)C(=O)N2[C@...</td>\n",
              "    </tr>\n",
              "  </tbody>\n",
              "</table>\n",
              "</div>\n",
              "      <button class=\"colab-df-convert\" onclick=\"convertToInteractive('df-c8a3adfd-ed8c-4410-9448-b94c7464a0e9')\"\n",
              "              title=\"Convert this dataframe to an interactive table.\"\n",
              "              style=\"display:none;\">\n",
              "        \n",
              "  <svg xmlns=\"http://www.w3.org/2000/svg\" height=\"24px\"viewBox=\"0 0 24 24\"\n",
              "       width=\"24px\">\n",
              "    <path d=\"M0 0h24v24H0V0z\" fill=\"none\"/>\n",
              "    <path d=\"M18.56 5.44l.94 2.06.94-2.06 2.06-.94-2.06-.94-.94-2.06-.94 2.06-2.06.94zm-11 1L8.5 8.5l.94-2.06 2.06-.94-2.06-.94L8.5 2.5l-.94 2.06-2.06.94zm10 10l.94 2.06.94-2.06 2.06-.94-2.06-.94-.94-2.06-.94 2.06-2.06.94z\"/><path d=\"M17.41 7.96l-1.37-1.37c-.4-.4-.92-.59-1.43-.59-.52 0-1.04.2-1.43.59L10.3 9.45l-7.72 7.72c-.78.78-.78 2.05 0 2.83L4 21.41c.39.39.9.59 1.41.59.51 0 1.02-.2 1.41-.59l7.78-7.78 2.81-2.81c.8-.78.8-2.07 0-2.86zM5.41 20L4 18.59l7.72-7.72 1.47 1.35L5.41 20z\"/>\n",
              "  </svg>\n",
              "      </button>\n",
              "      \n",
              "  <style>\n",
              "    .colab-df-container {\n",
              "      display:flex;\n",
              "      flex-wrap:wrap;\n",
              "      gap: 12px;\n",
              "    }\n",
              "\n",
              "    .colab-df-convert {\n",
              "      background-color: #E8F0FE;\n",
              "      border: none;\n",
              "      border-radius: 50%;\n",
              "      cursor: pointer;\n",
              "      display: none;\n",
              "      fill: #1967D2;\n",
              "      height: 32px;\n",
              "      padding: 0 0 0 0;\n",
              "      width: 32px;\n",
              "    }\n",
              "\n",
              "    .colab-df-convert:hover {\n",
              "      background-color: #E2EBFA;\n",
              "      box-shadow: 0px 1px 2px rgba(60, 64, 67, 0.3), 0px 1px 3px 1px rgba(60, 64, 67, 0.15);\n",
              "      fill: #174EA6;\n",
              "    }\n",
              "\n",
              "    [theme=dark] .colab-df-convert {\n",
              "      background-color: #3B4455;\n",
              "      fill: #D2E3FC;\n",
              "    }\n",
              "\n",
              "    [theme=dark] .colab-df-convert:hover {\n",
              "      background-color: #434B5C;\n",
              "      box-shadow: 0px 1px 3px 1px rgba(0, 0, 0, 0.15);\n",
              "      filter: drop-shadow(0px 1px 2px rgba(0, 0, 0, 0.3));\n",
              "      fill: #FFFFFF;\n",
              "    }\n",
              "  </style>\n",
              "\n",
              "      <script>\n",
              "        const buttonEl =\n",
              "          document.querySelector('#df-c8a3adfd-ed8c-4410-9448-b94c7464a0e9 button.colab-df-convert');\n",
              "        buttonEl.style.display =\n",
              "          google.colab.kernel.accessAllowed ? 'block' : 'none';\n",
              "\n",
              "        async function convertToInteractive(key) {\n",
              "          const element = document.querySelector('#df-c8a3adfd-ed8c-4410-9448-b94c7464a0e9');\n",
              "          const dataTable =\n",
              "            await google.colab.kernel.invokeFunction('convertToInteractive',\n",
              "                                                     [key], {});\n",
              "          if (!dataTable) return;\n",
              "\n",
              "          const docLinkHtml = 'Like what you see? Visit the ' +\n",
              "            '<a target=\"_blank\" href=https://colab.research.google.com/notebooks/data_table.ipynb>data table notebook</a>'\n",
              "            + ' to learn more about interactive tables.';\n",
              "          element.innerHTML = '';\n",
              "          dataTable['output_type'] = 'display_data';\n",
              "          await google.colab.output.renderOutput(dataTable, element);\n",
              "          const docLink = document.createElement('div');\n",
              "          docLink.innerHTML = docLinkHtml;\n",
              "          element.appendChild(docLink);\n",
              "        }\n",
              "      </script>\n",
              "    </div>\n",
              "  </div>\n",
              "  "
            ]
          },
          "metadata": {},
          "execution_count": 55
        }
      ]
    },
    {
      "cell_type": "code",
      "source": [
        "# Функция для добавления столбца с дескрипторами к датасету\n",
        "def calculate_descriptors(df, smiles_column, descriptor_list):\n",
        "    for descriptor_name in descriptor_list:\n",
        "        descriptor_values = [getattr(Descriptors, descriptor_name)(Chem.MolFromSmiles(smiles)) for smiles in df[smiles_column]]\n",
        "        df[descriptor_name] = pd.Series(np.array(descriptor_values), index=df.index)\n",
        "\n",
        "    return df"
      ],
      "metadata": {
        "id": "tnuTlfD9Q1jd"
      },
      "execution_count": null,
      "outputs": []
    },
    {
      "cell_type": "markdown",
      "source": [
        "Очевидно важными параметрами являются 'MolWt', 'MolLogP', Бета-лактамы - 'fr_lactam' Макролиды содержат макроциклическое лактонное кольцо - 'fr_lactone' тетрациклины - 'NumAliphaticRings', 'NumAromaticCarbocycles', 'NumAromaticHeterocycles' Аминогликозиды - 'NHOHCount' Гликопептиды - пока непонятно, надо считать количество пептидных связей Остальные - позже"
      ],
      "metadata": {
        "id": "k8KnWUVbQ5J1"
      }
    },
    {
      "cell_type": "code",
      "source": [
        "def get_additional_descriptors(drug_descriptors_df):\n",
        "    descriptor_list = ['MolWt', 'MolLogP','fr_lactam','fr_lactone','NumAliphaticRings', 'NumAromaticCarbocycles', 'NumAromaticHeterocycles','NHOHCount']\n",
        "    rv = calculate_descriptors(drug_descriptors_df, 'smiles', descriptor_list)\n",
        "    drug_descriptors_df.drop(columns=[\"chemID\", \"prefered_name\", \"smiles\"], inplace=True)\n",
        "    return rv\n",
        "\n",
        "\n",
        "def prepare_drug_df(drug_descriptors_df):\n",
        "    get_additional_descriptors(drug_descriptors_df)\n",
        "    drug_descriptors_df.rename({\"drug\":\"Drug\"}, axis=1, inplace=True)\n",
        "\n",
        "prepare_drug_df(drug_descriptors_df)\n",
        "# descriptor_list = ['MolWt', 'MolLogP','fr_lactam','fr_lactone','NumAliphaticRings', 'NumAromaticCarbocycles', 'NumAromaticHeterocycles','NHOHCount']\n",
        "# drug_descriptors_list = descriptor_list\n",
        "# drug_descriptors_df1 = calculate_descriptors(drug_descriptors_df, 'smiles', descriptor_list)"
      ],
      "metadata": {
        "id": "vgIaqfBRQ5ry"
      },
      "execution_count": null,
      "outputs": []
    },
    {
      "cell_type": "code",
      "source": [
        "# drug_descriptors_df1.head()"
      ],
      "metadata": {
        "id": "AMmKViJIQ_m4"
      },
      "execution_count": null,
      "outputs": []
    },
    {
      "cell_type": "markdown",
      "source": [
        "Смотрим описание основного датасета"
      ],
      "metadata": {
        "id": "79pEMeQWuB5F"
      }
    },
    {
      "cell_type": "code",
      "source": [
        "data_df.info()"
      ],
      "metadata": {
        "id": "kH5Ec17r-wNK",
        "colab": {
          "base_uri": "https://localhost:8080/"
        },
        "outputId": "6a7d632b-037d-46fb-990c-8949b3aab284"
      },
      "execution_count": null,
      "outputs": [
        {
          "output_type": "stream",
          "name": "stdout",
          "text": [
            "<class 'pandas.core.frame.DataFrame'>\n",
            "Int64Index: 863 entries, 638 to 882\n",
            "Data columns (total 16 columns):\n",
            " #   Column                                       Non-Null Count  Dtype   \n",
            "---  ------                                       --------------  -----   \n",
            " 0   Bacteria                                     863 non-null    object  \n",
            " 1   NP_Synthesis                                 863 non-null    object  \n",
            " 2   Drug                                         624 non-null    object  \n",
            " 3   Drug_class_drug_bank                         624 non-null    object  \n",
            " 4   Drug_dose                                    576 non-null    float64 \n",
            " 5   NP_concentration                             630 non-null    float64 \n",
            " 6   NP size_min                                  863 non-null    float64 \n",
            " 7   NP size_max                                  863 non-null    float64 \n",
            " 8   NP size_avg                                  863 non-null    float64 \n",
            " 9   shape                                        863 non-null    category\n",
            " 10  method                                       863 non-null    category\n",
            " 11  ZOI_drug                                     610 non-null    float64 \n",
            " 12  ZOI_NP                                       422 non-null    float64 \n",
            " 13  ZOI_drug_NP                                  566 non-null    float64 \n",
            " 14  fold_increase_in_antibacterial_activity (%)  421 non-null    float64 \n",
            " 15  MDR_check                                    863 non-null    int64   \n",
            "dtypes: category(2), float64(9), int64(1), object(4)\n",
            "memory usage: 103.1+ KB\n"
          ]
        }
      ]
    },
    {
      "cell_type": "markdown",
      "source": [
        "Merge all"
      ],
      "metadata": {
        "id": "VrLVDHP9u0Ho"
      }
    },
    {
      "cell_type": "code",
      "source": [
        "df = data_df.reset_index().merge(bacterial_descriptors_df, how='left', on='Bacteria').set_index('Unnamed: 0')"
      ],
      "metadata": {
        "id": "82h9AXeg-UF6"
      },
      "execution_count": null,
      "outputs": []
    },
    {
      "cell_type": "code",
      "source": [
        "df = df.reset_index().merge(drug_descriptors_df, how='left', on='Drug').set_index('Unnamed: 0')\n",
        "# где нет лекарства\n",
        "# df.loc[df.smiles.isna(), drug_descriptors_list] = ['No'] * len(drug_descriptors_list)\n",
        "\n",
        "\n",
        "# set(df['Drug'].unique()) - set(df['Drug'].unique()), df[\"Drug\"].value_counts()[\"Neomycin\"]\n",
        "\n",
        "df.drop(\n",
        "    df[df.Drug == 'Neomycin'].index, inplace= True\n",
        ")"
      ],
      "metadata": {
        "id": "ryyMWNH8JDZa"
      },
      "execution_count": null,
      "outputs": []
    },
    {
      "cell_type": "code",
      "source": [],
      "metadata": {
        "id": "8pb0Ws3bS4rF"
      },
      "execution_count": null,
      "outputs": []
    },
    {
      "cell_type": "markdown",
      "source": [
        "# Feature инжиринг"
      ],
      "metadata": {
        "id": "drKzMxnHLOhs"
      }
    },
    {
      "cell_type": "code",
      "source": [
        "# add graph distances to dataset\n",
        "\n",
        "import networkx as nx\n",
        "\n",
        "bacteria_taxonomy_descriptors = [\n",
        "    'kingdom', 'subkingdom', 'clade',\n",
        "    'phylum', 'class', 'order', 'family', 'genus', 'Bacteria']\n",
        "# добавить расстояния на графе таксономии\n",
        "def make_graph_better(bacterial_descriptors_df):\n",
        "    '''\n",
        "    Строит филогенетический граф\n",
        "    '''\n",
        "    tax_df = bacterial_descriptors_df.loc[:,bacteria_taxonomy_descriptors] # копирует\n",
        "    gg_ = nx.Graph()\n",
        "    for top_node in tax_df['kingdom']: # чтобы был связным\n",
        "        gg_.add_edge('root', top_node)\n",
        "\n",
        "    for parents, childs in zip(bacteria_taxonomy_descriptors, bacteria_taxonomy_descriptors[1:]):\n",
        "        tax_df[childs] = tax_df.loc[:, [childs]].fillna(childs) # уникальный NaN для кадждого столбца\n",
        "        edge_lst = tax_df[[parents, childs]].values\n",
        "        gg_.add_edges_from(edge_lst)\n",
        "\n",
        "    # gg_.remove_node(np.nan)\n",
        "    # nx.draw_spring(gg_)\n",
        "    return gg_\n",
        "\n",
        "\n",
        "def get_distances(bacterial_descriptors_df, df):\n",
        "    '''Берёт из графа расстояния и отфильтровывает только нужные\n",
        "    '''\n",
        "    g_= make_graph_better(bacterial_descriptors_df)\n",
        "    lengths = dict(nx.all_pairs_shortest_path_length(g_))\n",
        "    rv = {key: lengths[key] for key in df.Bacteria.unique()}\n",
        "    return rv\n",
        "\n",
        "\n",
        "def populate_distances_to_df(bacterial_descriptors_df,\n",
        "                             df):\n",
        "    df = df.copy()\n",
        "    distances = get_distances(bacterial_descriptors_df, df)\n",
        "    for bacteria in distances.keys():\n",
        "        df['d_to_' + bacteria] = df.Bacteria.map(distances[bacteria])\n",
        "    # return df.loc[:, df.columns.str.startswith('d_to_')] # посмотреть на расстояния\n",
        "    return df\n",
        "\n",
        "def remove_bacteria_taxonomy_descriptors_from_df(df):\n",
        "    df.drop(columns=bacteria_taxonomy_descriptors[:-2], inplace=True)\n",
        "\n"
      ],
      "metadata": {
        "id": "z9yQoXoWLTFK"
      },
      "execution_count": null,
      "outputs": []
    },
    {
      "cell_type": "code",
      "source": [
        "def add_distances_on_graph_to_df(bacterial_descriptors_df, df):\n",
        "    df = populate_distances_to_df(bacterial_descriptors_df, df)\n",
        "    remove_bacteria_taxonomy_descriptors_from_df(df)\n",
        "\n",
        "add_distances_on_graph_to_df(bacterial_descriptors_df, df)"
      ],
      "metadata": {
        "id": "3sCa3xi8LafD"
      },
      "execution_count": null,
      "outputs": []
    },
    {
      "cell_type": "markdown",
      "source": [
        "# Feature selection"
      ],
      "metadata": {
        "id": "nCRegrF3O0PH"
      }
    },
    {
      "cell_type": "code",
      "source": [
        "# # оставить только некоторые расстояния между бактериями - те, что меньшще всего коррелируют\n",
        "def correlation(data, threshold=None):\n",
        "    # https://github.com/anujdutt9/Feature-Selection-for-Machine-Learning/blob/master/Filter%20Methods/Correlation.ipynb\n",
        "    # Set of all names of correlated columns\n",
        "    col_corr = set()\n",
        "    corr_mat = data.corr()\n",
        "    for i in range(len(corr_mat.columns)):\n",
        "        for j in range(i):\n",
        "            if (abs(corr_mat.iloc[i,j]) > threshold):\n",
        "                colname = corr_mat.columns[i]\n",
        "                col_corr.add(colname)\n",
        "    return col_corr\n",
        "\n",
        "def remove_highly_correlated_features_from_df(df):\n",
        "    # изначально только чтобы остачить только несколько расстояний между бактериями\n",
        "    correlated_features = correlation(data=df, threshold=0.80)\n",
        "    len(set(correlated_features))\n",
        "    df = df[df.columns.drop(correlated_features)]\n",
        "    return df\n",
        "\n",
        "df = remove_highly_correlated_features_from_df(df)\n",
        "print(df.shape)\n",
        "sns.heatmap(df.corr(), cmap='viridis', yticklabels=True)\n"
      ],
      "metadata": {
        "id": "jeFEQEeWpZBw",
        "colab": {
          "base_uri": "https://localhost:8080/"
        },
        "outputId": "2816cb23-ac6c-4729-bba0-f90b37faf6d7"
      },
      "execution_count": null,
      "outputs": [
        {
          "output_type": "stream",
          "name": "stderr",
          "text": [
            "The default value of numeric_only in DataFrame.corr is deprecated. In a future version, it will default to False. Select only valid columns or specify the value of numeric_only to silence this warning.\n",
            "The default value of numeric_only in DataFrame.corr is deprecated. In a future version, it will default to False. Select only valid columns or specify the value of numeric_only to silence this warning.\n"
          ]
        },
        {
          "output_type": "stream",
          "name": "stdout",
          "text": [
            "(854, 37)\n"
          ]
        },
        {
          "output_type": "execute_result",
          "data": {
            "text/plain": [
              "<Axes: >"
            ]
          },
          "metadata": {},
          "execution_count": 64
        },
        {
          "output_type": "display_data",
          "data": {
            "text/plain": [
              "<Figure size 640x480 with 2 Axes>"
            ],
            "image/png": "[encoded data removed]"
          },
          "metadata": {}
        }
      ]
    },
    {
      "cell_type": "code",
      "source": [
        "# это всё-таки приходится делать\n",
        "def filter_features(df):\n",
        "    remove_bacteria_taxonomy_descriptors_from_df(df)\n",
        "    drop_fold_increase_in_antibacterial_activity(df)\n",
        "\n",
        "filter_features(df)\n"
      ],
      "metadata": {
        "id": "dgnWc9dJPkkD"
      },
      "execution_count": null,
      "outputs": []
    },
    {
      "cell_type": "markdown",
      "source": [
        "### попытка нарисовать филогенетический граф с количеством семплов на каждый вид"
      ],
      "metadata": {
        "id": "sXdWPWfNPFNL"
      }
    },
    {
      "cell_type": "code",
      "source": [
        "# # добавить ещё и квадраты числовых величин\n",
        "# # не выжили при проверке на корреляции 0.80\n",
        "\n",
        "# def add_squared_faetures(df=df):\n",
        "#     df.loc[\"NP size_min_2\"] = np.square(df[\"NP size_min\"])\n",
        "#     df.loc[\"NP size_max_2\"] = np.square(df[\"NP size_max\"])\n",
        "#     df.loc[\"ZOI_drug_2\"] = np.square(df[\"ZOI_drug\"])\n",
        "#     df.loc[\"ZOI_drug_2\"] = np.square(df[\"ZOI_drug\"])\n",
        "#     df.loc[\"ZOI_NP\"] = np.square(df[\"ZOI_NP\"])\n",
        "#     df.loc[\"fold_increase_in_antibacterial_activity (%)_2\"] = np.square(df[\"fold_increase_in_antibacterial_activity (%)\"])\n",
        "#     df.loc[\"min_Incub_period, h_2\"] = np.square(df[\"min_Incub_period, h\"])\n",
        "#     df.loc[\"growth_temp_2\"] = np.square(df[\"growth_temp, C\"])\n",
        "\n",
        "#     df.loc[\"d_to_Micrococcus luteus_2\"] = np.square(df[\"d_to_Micrococcus luteus\"])\n",
        "#     df.loc[\"d_to_Neisseria mucosa_2\"] = np.square(df[\"d_to_Neisseria mucosa\"])\n",
        "#     df.loc[\"d_to_Candida albicans\"] = np.square(df[\"d_to_Candida albicans\"])\n",
        "\n",
        "# # не выжили после проверки на корреляцию 0.80\n",
        "# print(df.shape)\n",
        "# add_squared_faetures()\n",
        "# df = drop_correlations(df)\n",
        "# print(df.shape)\n",
        "\n",
        "# sns.heatmap(df.corr(), cmap='viridis', yticklabels=True)"
      ],
      "metadata": {
        "id": "vYxLKr7Lhewq"
      },
      "execution_count": null,
      "outputs": []
    },
    {
      "cell_type": "code",
      "source": [
        "# # как нарисовать дерево https://stackoverflow.com/questions/57512155/how-to-draw-a-tree-more-beautifully-in-networkx\n",
        "# # вариант 2: https://plotly.com/python/tree-plots/\n",
        "# tree_ = make_graph_better()\n",
        "# leafes = [x for x in tree_.nodes() if tree_.degree(x) == 1]\n",
        "# weights = df.Bacteria.value_counts()\n",
        "# for l in leafes:\n",
        "#     tree_.nodes[l]['weight'] = weights[l\n",
        "\n",
        "# # nx.draw_circular(tree_)"
      ],
      "metadata": {
        "id": "ylvsGpmwMxog"
      },
      "execution_count": null,
      "outputs": []
    },
    {
      "cell_type": "markdown",
      "source": [
        "# Imputation"
      ],
      "metadata": {
        "id": "Vaiy4GqvOKNC"
      }
    },
    {
      "cell_type": "code",
      "source": [
        "assert len(df.loc[(df == 'No').any(axis=1)]) == 0"
      ],
      "metadata": {
        "id": "oIqaOglrShCT"
      },
      "execution_count": null,
      "outputs": []
    },
    {
      "cell_type": "code",
      "source": [
        "only_one_Nan_per_row = df.loc[\n",
        "    (df.isna().sum(axis=1) == 1)\n",
        "    ]\n",
        "only_one_Nan_per_row.isna().sum()"
      ],
      "metadata": {
        "colab": {
          "base_uri": "https://localhost:8080/"
        },
        "id": "Q9KWdQc6OO00",
        "outputId": "30352116-2de0-45c6-c236-d50024e0fdb4"
      },
      "execution_count": null,
      "outputs": [
        {
          "output_type": "execute_result",
          "data": {
            "text/plain": [
              "Bacteria                     0\n",
              "NP_Synthesis                 0\n",
              "Drug                         0\n",
              "Drug_class_drug_bank         0\n",
              "Drug_dose                    8\n",
              "NP_concentration             0\n",
              "NP size_min                  0\n",
              "NP size_max                  0\n",
              "shape                        0\n",
              "method                       0\n",
              "ZOI_drug                     0\n",
              "ZOI_NP                     379\n",
              "ZOI_drug_NP                  0\n",
              "MDR_check                    0\n",
              "Tax_id                       0\n",
              "genus                        0\n",
              "species                      0\n",
              "gram                         0\n",
              "min_Incub_period, h          0\n",
              "growth_temp, C               0\n",
              "biosafety_level              0\n",
              "isolated_from                0\n",
              "MolWt                        0\n",
              "MolLogP                      0\n",
              "fr_lactam                    0\n",
              "fr_lactone                   0\n",
              "NumAliphaticRings            0\n",
              "NumAromaticCarbocycles       0\n",
              "NumAromaticHeterocycles      0\n",
              "dtype: int64"
            ]
          },
          "metadata": {},
          "execution_count": 71
        }
      ]
    },
    {
      "cell_type": "code",
      "source": [
        "import plotly.express as px\n",
        "fig = px.histogram(df, x=\"Drug_dose\", marginal=\"rug\", color=df.ZOI_NP.isna())\n",
        "fig.show()\n"
      ],
      "metadata": {
        "colab": {
          "base_uri": "https://localhost:8080/",
          "height": 542
        },
        "id": "K2gHdmNoTMkH",
        "outputId": "ea94c3fe-9272-4104-a5ba-bfb49055524a"
      },
      "execution_count": null,
      "outputs": [
        {
          "output_type": "display_data",
          "data": {
            "text/html": [
              "<html>\n",
              "<head><meta charset=\"utf-8\" /></head>\n",
              "<body>\n",
              "    <div>            <script src=\"https://cdnjs.cloudflare.com/ajax/libs/mathjax/2.7.5/MathJax.js?config=TeX-AMS-MML_SVG\"></script><script type=\"text/javascript\">if (window.MathJax && window.MathJax.Hub && window.MathJax.Hub.Config) {window.MathJax.Hub.Config({SVG: {font: \"STIX-Web\"}});}</script>                <script type=\"text/javascript\">window.PlotlyConfig = {MathJaxConfig: 'local'};</script>\n",
              "        <script src=\"https://cdn.plot.ly/plotly-2.18.2.min.js\"></script>                <div id=\"7dd13aa4-b1ec-4565-94a8-f4c067a83d0f\" class=\"plotly-graph-div\" style=\"height:525px; width:100%;\"></div>            <script type=\"text/javascript\">                                    window.PLOTLYENV=window.PLOTLYENV || {};                                    if (document.getElementById(\"7dd13aa4-b1ec-4565-94a8-f4c067a83d0f\")) {                    Plotly.newPlot(                        \"7dd13aa4-b1ec-4565-94a8-f4c067a83d0f\",                        [{\"alignmentgroup\":\"True\",\"bingroup\":\"x\",\"hovertemplate\":\"color=False<br>Drug_dose=%{x}<br>count=%{y}<extra></extra>\",\"legendgroup\":\"False\",\"marker\":{\"color\":\"#636efa\",\"pattern\":{\"shape\":\"\"}},\"name\":\"False\",\"offsetgroup\":\"False\",\"orientation\":\"v\",\"showlegend\":true,\"x\":[30.0,10.0,10.0,10.0,null,null,null,null,null,null,null,null,null,10.0,null,null,null,null,5.0,null,10.0,null,30.0,null,10.0,null,30.0,null,null,10.0,20.0,10.0,null,10.0,10.0,20.0,null,50.0,5.0,null,null,20.0,30.0,10.0,10.0,30.0,30.0,30.0,2.5,10.0,30.0,null,null,null,null,null,null,null,10.0,2.5,10.0,15.0,10.0,null,10.0,10.0,30.0,10.0,2.5,30.0,2.5,2.5,30.0,2.5,2.5,30.0,30.0,2.5,25.0,10.0,15.0,10.0,null,null,null,null,null,null,null,null,20.0,null,null,null,null,null,null,null,null,null,null,null,null,null,null,null,null,null,null,null,null,null,null,null,null,null,null,null,null,null,null,null,null,null,null,null,null,null,null,null,null,null,null,null,null,null,null,null,null,null,null,null,null,null,null,null,null,null,null,null,null,null,null,null,null,null,null,null,null,null,null,null,null,null,null,null,null,null,null,null,null,null,null,null,null,null,null,null,null,null,null,null,null,null,null,null,null,null,null,null,null,null,null,null,null,null,null,null,null,null,null,null,null,null,null,null,null,null,null,null,null,null,null,null,null,null,null,null,null,null,null,null,null,null,null,null,null,null,null,null,null,null,null,null,null,null,null,null,null,null,null,null,null,null,null,null,null,null,null,null,null,null,0.0,0.0,0.0,0.0,0.0,0.0,0.0,0.0,0.0,0.0,0.0,0.0,0.0,0.0,0.0,0.0,0.0,0.0,0.0,0.0,0.0,0.0,0.0,0.0,0.0,0.0,0.0,0.0,0.0,0.0,0.0,0.0,0.0,0.0,0.0,0.0,0.0,0.0,0.0,0.0,0.0,0.0,0.0,0.0,0.0,0.0,0.0,0.0,0.0,0.0,0.0,0.0,0.0,0.0,0.0,0.0,0.0,0.0,0.0,0.0,0.0,0.0,0.0,0.0,0.0,0.0,0.0,0.0,0.0,0.0,0.0,0.0,0.0,0.0,0.0,0.0,0.0,0.0,0.0,0.0,0.0,0.0,0.0,0.0,0.0,0.0,0.0,0.0,0.0,0.0,0.0,0.0,0.0,0.0,0.0,0.0,0.0,0.0,0.0,0.0,0.0,0.0,0.0,0.0,0.0,0.0,0.0,0.0,0.0,0.0,0.0,0.0,null,null,null,null,null,null,null,null,null,null,null,null,null,null,null,null,null,null,null,null,null,null,null,null,null,null,null,null,null,null,null,null,null,null,null,null,null,null,null,null,null,null,null,null,null,null,null,null,null,null,null,null],\"xaxis\":\"x\",\"yaxis\":\"y\",\"type\":\"histogram\"},{\"alignmentgroup\":\"True\",\"boxpoints\":\"all\",\"fillcolor\":\"rgba(255,255,255,0)\",\"hoveron\":\"points\",\"hovertemplate\":\"color=False<br>Drug_dose=%{x}<extra></extra>\",\"jitter\":0,\"legendgroup\":\"False\",\"line\":{\"color\":\"rgba(255,255,255,0)\"},\"marker\":{\"color\":\"#636efa\",\"symbol\":\"line-ns-open\"},\"name\":\"False\",\"offsetgroup\":\"False\",\"showlegend\":false,\"x\":[30.0,10.0,10.0,10.0,null,null,null,null,null,null,null,null,null,10.0,null,null,null,null,5.0,null,10.0,null,30.0,null,10.0,null,30.0,null,null,10.0,20.0,10.0,null,10.0,10.0,20.0,null,50.0,5.0,null,null,20.0,30.0,10.0,10.0,30.0,30.0,30.0,2.5,10.0,30.0,null,null,null,null,null,null,null,10.0,2.5,10.0,15.0,10.0,null,10.0,10.0,30.0,10.0,2.5,30.0,2.5,2.5,30.0,2.5,2.5,30.0,30.0,2.5,25.0,10.0,15.0,10.0,null,null,null,null,null,null,null,null,20.0,null,null,null,null,null,null,null,null,null,null,null,null,null,null,null,null,null,null,null,null,null,null,null,null,null,null,null,null,null,null,null,null,null,null,null,null,null,null,null,null,null,null,null,null,null,null,null,null,null,null,null,null,null,null,null,null,null,null,null,null,null,null,null,null,null,null,null,null,null,null,null,null,null,null,null,null,null,null,null,null,null,null,null,null,null,null,null,null,null,null,null,null,null,null,null,null,null,null,null,null,null,null,null,null,null,null,null,null,null,null,null,null,null,null,null,null,null,null,null,null,null,null,null,null,null,null,null,null,null,null,null,null,null,null,null,null,null,null,null,null,null,null,null,null,null,null,null,null,null,null,null,null,null,null,null,null,null,null,null,null,null,0.0,0.0,0.0,0.0,0.0,0.0,0.0,0.0,0.0,0.0,0.0,0.0,0.0,0.0,0.0,0.0,0.0,0.0,0.0,0.0,0.0,0.0,0.0,0.0,0.0,0.0,0.0,0.0,0.0,0.0,0.0,0.0,0.0,0.0,0.0,0.0,0.0,0.0,0.0,0.0,0.0,0.0,0.0,0.0,0.0,0.0,0.0,0.0,0.0,0.0,0.0,0.0,0.0,0.0,0.0,0.0,0.0,0.0,0.0,0.0,0.0,0.0,0.0,0.0,0.0,0.0,0.0,0.0,0.0,0.0,0.0,0.0,0.0,0.0,0.0,0.0,0.0,0.0,0.0,0.0,0.0,0.0,0.0,0.0,0.0,0.0,0.0,0.0,0.0,0.0,0.0,0.0,0.0,0.0,0.0,0.0,0.0,0.0,0.0,0.0,0.0,0.0,0.0,0.0,0.0,0.0,0.0,0.0,0.0,0.0,0.0,0.0,null,null,null,null,null,null,null,null,null,null,null,null,null,null,null,null,null,null,null,null,null,null,null,null,null,null,null,null,null,null,null,null,null,null,null,null,null,null,null,null,null,null,null,null,null,null,null,null,null,null,null,null],\"xaxis\":\"x2\",\"yaxis\":\"y2\",\"type\":\"box\"},{\"alignmentgroup\":\"True\",\"bingroup\":\"x\",\"hovertemplate\":\"color=True<br>Drug_dose=%{x}<br>count=%{y}<extra></extra>\",\"legendgroup\":\"True\",\"marker\":{\"color\":\"#EF553B\",\"pattern\":{\"shape\":\"\"}},\"name\":\"True\",\"offsetgroup\":\"True\",\"orientation\":\"v\",\"showlegend\":true,\"x\":[500.0,null,500.0,500.0,500.0,500.0,500.0,500.0,15.0,30.0,15.0,30.0,500.0,500.0,500.0,20.0,500.0,30.0,500.0,2.0,1.0,30.0,10.0,10.0,2.0,30.0,40.0,50.0,500.0,30.0,500.0,500.0,50.0,15.0,500.0,500.0,20.0,500.0,500.0,null,null,null,null,null,null,500.0,10.0,10.0,500.0,500.0,500.0,500.0,500.0,5.0,10.0,40.0,10.0,10.0,10.0,500.0,500.0,100.0,5.0,10.0,500.0,500.0,500.0,500.0,500.0,30.0,500.0,500.0,500.0,500.0,500.0,500.0,500.0,100.0,30.0,500.0,500.0,500.0,500.0,500.0,500.0,500.0,500.0,500.0,500.0,500.0,300.0,30.0,30.0,25.0,25.0,10.0,40.0,500.0,20.0,500.0,500.0,500.0,500.0,500.0,500.0,500.0,10.0,500.0,500.0,500.0,500.0,500.0,500.0,500.0,500.0,500.0,500.0,500.0,500.0,300.0,30.0,1.0,30.0,500.0,500.0,500.0,500.0,500.0,30.0,500.0,500.0,500.0,500.0,10.0,10.0,500.0,500.0,500.0,500.0,500.0,500.0,500.0,500.0,10.0,10.0,500.0,500.0,500.0,500.0,1.0,500.0,500.0,500.0,500.0,500.0,500.0,500.0,500.0,500.0,500.0,500.0,500.0,500.0,500.0,500.0,500.0,500.0,500.0,500.0,500.0,10.0,10.0,500.0,10.0,10.0,500.0,500.0,500.0,500.0,500.0,50.0,500.0,500.0,500.0,500.0,500.0,500.0,500.0,500.0,500.0,500.0,500.0,500.0,500.0,500.0,500.0,500.0,500.0,500.0,500.0,500.0,500.0,500.0,500.0,500.0,10.0,10.0,500.0,500.0,500.0,500.0,500.0,500.0,500.0,500.0,500.0,500.0,500.0,500.0,500.0,500.0,500.0,500.0,500.0,500.0,500.0,500.0,500.0,500.0,500.0,10.0,10.0,10.0,10.0,500.0,500.0,500.0,500.0,500.0,500.0,500.0,500.0,500.0,500.0,500.0,500.0,30.0,500.0,500.0,500.0,500.0,500.0,500.0,500.0,500.0,500.0,500.0,500.0,500.0,500.0,500.0,500.0,500.0,500.0,500.0,500.0,500.0,500.0,30.0,5.0,500.0,500.0,10.0,500.0,500.0,5.0,500.0,500.0,500.0,500.0,500.0,500.0,500.0,500.0,500.0,500.0,30.0,500.0,500.0,500.0,500.0,500.0,500.0,500.0,500.0,500.0,500.0,500.0,500.0,500.0,500.0,500.0,500.0,500.0,500.0,500.0,500.0,5.0,5.0,5.0,5.0,5.0,10.0,500.0,500.0,500.0,500.0,500.0,500.0,10.0,5.0,500.0,500.0,10.0,500.0,500.0,500.0,500.0,500.0,500.0,500.0,5.0,5.0,5.0,5.0,500.0,500.0,500.0,500.0,500.0,500.0,500.0,500.0,500.0,10.0,10.0,10.0,10.0,10.0,10.0,500.0,500.0,500.0,5.0,5.0,5.0,30.0,500.0,500.0,500.0,500.0,500.0,500.0,500.0,500.0,500.0,500.0,10.0,10.0,10.0,10.0,500.0,500.0,500.0,500.0,500.0,500.0,500.0,5.0,300.0,300.0,500.0,500.0,500.0,500.0,500.0,500.0,10.0,10.0,500.0,500.0,500.0,500.0,500.0,500.0,500.0,500.0,500.0,500.0,500.0,500.0,500.0,500.0,500.0,500.0,500.0,null,500.0,500.0,500.0,500.0,500.0,500.0,500.0,500.0,500.0,500.0,null,null,null,null,null,null,null,null,null,null,null,null,null,null,null,null,null,null,null,null,null],\"xaxis\":\"x\",\"yaxis\":\"y\",\"type\":\"histogram\"},{\"alignmentgroup\":\"True\",\"boxpoints\":\"all\",\"fillcolor\":\"rgba(255,255,255,0)\",\"hoveron\":\"points\",\"hovertemplate\":\"color=True<br>Drug_dose=%{x}<extra></extra>\",\"jitter\":0,\"legendgroup\":\"True\",\"line\":{\"color\":\"rgba(255,255,255,0)\"},\"marker\":{\"color\":\"#EF553B\",\"symbol\":\"line-ns-open\"},\"name\":\"True\",\"offsetgroup\":\"True\",\"showlegend\":false,\"x\":[500.0,null,500.0,500.0,500.0,500.0,500.0,500.0,15.0,30.0,15.0,30.0,500.0,500.0,500.0,20.0,500.0,30.0,500.0,2.0,1.0,30.0,10.0,10.0,2.0,30.0,40.0,50.0,500.0,30.0,500.0,500.0,50.0,15.0,500.0,500.0,20.0,500.0,500.0,null,null,null,null,null,null,500.0,10.0,10.0,500.0,500.0,500.0,500.0,500.0,5.0,10.0,40.0,10.0,10.0,10.0,500.0,500.0,100.0,5.0,10.0,500.0,500.0,500.0,500.0,500.0,30.0,500.0,500.0,500.0,500.0,500.0,500.0,500.0,100.0,30.0,500.0,500.0,500.0,500.0,500.0,500.0,500.0,500.0,500.0,500.0,500.0,300.0,30.0,30.0,25.0,25.0,10.0,40.0,500.0,20.0,500.0,500.0,500.0,500.0,500.0,500.0,500.0,10.0,500.0,500.0,500.0,500.0,500.0,500.0,500.0,500.0,500.0,500.0,500.0,500.0,300.0,30.0,1.0,30.0,500.0,500.0,500.0,500.0,500.0,30.0,500.0,500.0,500.0,500.0,10.0,10.0,500.0,500.0,500.0,500.0,500.0,500.0,500.0,500.0,10.0,10.0,500.0,500.0,500.0,500.0,1.0,500.0,500.0,500.0,500.0,500.0,500.0,500.0,500.0,500.0,500.0,500.0,500.0,500.0,500.0,500.0,500.0,500.0,500.0,500.0,500.0,10.0,10.0,500.0,10.0,10.0,500.0,500.0,500.0,500.0,500.0,50.0,500.0,500.0,500.0,500.0,500.0,500.0,500.0,500.0,500.0,500.0,500.0,500.0,500.0,500.0,500.0,500.0,500.0,500.0,500.0,500.0,500.0,500.0,500.0,500.0,10.0,10.0,500.0,500.0,500.0,500.0,500.0,500.0,500.0,500.0,500.0,500.0,500.0,500.0,500.0,500.0,500.0,500.0,500.0,500.0,500.0,500.0,500.0,500.0,500.0,10.0,10.0,10.0,10.0,500.0,500.0,500.0,500.0,500.0,500.0,500.0,500.0,500.0,500.0,500.0,500.0,30.0,500.0,500.0,500.0,500.0,500.0,500.0,500.0,500.0,500.0,500.0,500.0,500.0,500.0,500.0,500.0,500.0,500.0,500.0,500.0,500.0,500.0,30.0,5.0,500.0,500.0,10.0,500.0,500.0,5.0,500.0,500.0,500.0,500.0,500.0,500.0,500.0,500.0,500.0,500.0,30.0,500.0,500.0,500.0,500.0,500.0,500.0,500.0,500.0,500.0,500.0,500.0,500.0,500.0,500.0,500.0,500.0,500.0,500.0,500.0,500.0,5.0,5.0,5.0,5.0,5.0,10.0,500.0,500.0,500.0,500.0,500.0,500.0,10.0,5.0,500.0,500.0,10.0,500.0,500.0,500.0,500.0,500.0,500.0,500.0,5.0,5.0,5.0,5.0,500.0,500.0,500.0,500.0,500.0,500.0,500.0,500.0,500.0,10.0,10.0,10.0,10.0,10.0,10.0,500.0,500.0,500.0,5.0,5.0,5.0,30.0,500.0,500.0,500.0,500.0,500.0,500.0,500.0,500.0,500.0,500.0,10.0,10.0,10.0,10.0,500.0,500.0,500.0,500.0,500.0,500.0,500.0,5.0,300.0,300.0,500.0,500.0,500.0,500.0,500.0,500.0,10.0,10.0,500.0,500.0,500.0,500.0,500.0,500.0,500.0,500.0,500.0,500.0,500.0,500.0,500.0,500.0,500.0,500.0,500.0,null,500.0,500.0,500.0,500.0,500.0,500.0,500.0,500.0,500.0,500.0,null,null,null,null,null,null,null,null,null,null,null,null,null,null,null,null,null,null,null,null,null],\"xaxis\":\"x2\",\"yaxis\":\"y2\",\"type\":\"box\"}],                        {\"template\":{\"data\":{\"histogram2dcontour\":[{\"type\":\"histogram2dcontour\",\"colorbar\":{\"outlinewidth\":0,\"ticks\":\"\"},\"colorscale\":[[0.0,\"#0d0887\"],[0.1111111111111111,\"#46039f\"],[0.2222222222222222,\"#7201a8\"],[0.3333333333333333,\"#9c179e\"],[0.4444444444444444,\"#bd3786\"],[0.5555555555555556,\"#d8576b\"],[0.6666666666666666,\"#ed7953\"],[0.7777777777777778,\"#fb9f3a\"],[0.8888888888888888,\"#fdca26\"],[1.0,\"#f0f921\"]]}],\"choropleth\":[{\"type\":\"choropleth\",\"colorbar\":{\"outlinewidth\":0,\"ticks\":\"\"}}],\"histogram2d\":[{\"type\":\"histogram2d\",\"colorbar\":{\"outlinewidth\":0,\"ticks\":\"\"},\"colorscale\":[[0.0,\"#0d0887\"],[0.1111111111111111,\"#46039f\"],[0.2222222222222222,\"#7201a8\"],[0.3333333333333333,\"#9c179e\"],[0.4444444444444444,\"#bd3786\"],[0.5555555555555556,\"#d8576b\"],[0.6666666666666666,\"#ed7953\"],[0.7777777777777778,\"#fb9f3a\"],[0.8888888888888888,\"#fdca26\"],[1.0,\"#f0f921\"]]}],\"heatmap\":[{\"type\":\"heatmap\",\"colorbar\":{\"outlinewidth\":0,\"ticks\":\"\"},\"colorscale\":[[0.0,\"#0d0887\"],[0.1111111111111111,\"#46039f\"],[0.2222222222222222,\"#7201a8\"],[0.3333333333333333,\"#9c179e\"],[0.4444444444444444,\"#bd3786\"],[0.5555555555555556,\"#d8576b\"],[0.6666666666666666,\"#ed7953\"],[0.7777777777777778,\"#fb9f3a\"],[0.8888888888888888,\"#fdca26\"],[1.0,\"#f0f921\"]]}],\"heatmapgl\":[{\"type\":\"heatmapgl\",\"colorbar\":{\"outlinewidth\":0,\"ticks\":\"\"},\"colorscale\":[[0.0,\"#0d0887\"],[0.1111111111111111,\"#46039f\"],[0.2222222222222222,\"#7201a8\"],[0.3333333333333333,\"#9c179e\"],[0.4444444444444444,\"#bd3786\"],[0.5555555555555556,\"#d8576b\"],[0.6666666666666666,\"#ed7953\"],[0.7777777777777778,\"#fb9f3a\"],[0.8888888888888888,\"#fdca26\"],[1.0,\"#f0f921\"]]}],\"contourcarpet\":[{\"type\":\"contourcarpet\",\"colorbar\":{\"outlinewidth\":0,\"ticks\":\"\"}}],\"contour\":[{\"type\":\"contour\",\"colorbar\":{\"outlinewidth\":0,\"ticks\":\"\"},\"colorscale\":[[0.0,\"#0d0887\"],[0.1111111111111111,\"#46039f\"],[0.2222222222222222,\"#7201a8\"],[0.3333333333333333,\"#9c179e\"],[0.4444444444444444,\"#bd3786\"],[0.5555555555555556,\"#d8576b\"],[0.6666666666666666,\"#ed7953\"],[0.7777777777777778,\"#fb9f3a\"],[0.8888888888888888,\"#fdca26\"],[1.0,\"#f0f921\"]]}],\"surface\":[{\"type\":\"surface\",\"colorbar\":{\"outlinewidth\":0,\"ticks\":\"\"},\"colorscale\":[[0.0,\"#0d0887\"],[0.1111111111111111,\"#46039f\"],[0.2222222222222222,\"#7201a8\"],[0.3333333333333333,\"#9c179e\"],[0.4444444444444444,\"#bd3786\"],[0.5555555555555556,\"#d8576b\"],[0.6666666666666666,\"#ed7953\"],[0.7777777777777778,\"#fb9f3a\"],[0.8888888888888888,\"#fdca26\"],[1.0,\"#f0f921\"]]}],\"mesh3d\":[{\"type\":\"mesh3d\",\"colorbar\":{\"outlinewidth\":0,\"ticks\":\"\"}}],\"scatter\":[{\"fillpattern\":{\"fillmode\":\"overlay\",\"size\":10,\"solidity\":0.2},\"type\":\"scatter\"}],\"parcoords\":[{\"type\":\"parcoords\",\"line\":{\"colorbar\":{\"outlinewidth\":0,\"ticks\":\"\"}}}],\"scatterpolargl\":[{\"type\":\"scatterpolargl\",\"marker\":{\"colorbar\":{\"outlinewidth\":0,\"ticks\":\"\"}}}],\"bar\":[{\"error_x\":{\"color\":\"#2a3f5f\"},\"error_y\":{\"color\":\"#2a3f5f\"},\"marker\":{\"line\":{\"color\":\"#E5ECF6\",\"width\":0.5},\"pattern\":{\"fillmode\":\"overlay\",\"size\":10,\"solidity\":0.2}},\"type\":\"bar\"}],\"scattergeo\":[{\"type\":\"scattergeo\",\"marker\":{\"colorbar\":{\"outlinewidth\":0,\"ticks\":\"\"}}}],\"scatterpolar\":[{\"type\":\"scatterpolar\",\"marker\":{\"colorbar\":{\"outlinewidth\":0,\"ticks\":\"\"}}}],\"histogram\":[{\"marker\":{\"pattern\":{\"fillmode\":\"overlay\",\"size\":10,\"solidity\":0.2}},\"type\":\"histogram\"}],\"scattergl\":[{\"type\":\"scattergl\",\"marker\":{\"colorbar\":{\"outlinewidth\":0,\"ticks\":\"\"}}}],\"scatter3d\":[{\"type\":\"scatter3d\",\"line\":{\"colorbar\":{\"outlinewidth\":0,\"ticks\":\"\"}},\"marker\":{\"colorbar\":{\"outlinewidth\":0,\"ticks\":\"\"}}}],\"scattermapbox\":[{\"type\":\"scattermapbox\",\"marker\":{\"colorbar\":{\"outlinewidth\":0,\"ticks\":\"\"}}}],\"scatterternary\":[{\"type\":\"scatterternary\",\"marker\":{\"colorbar\":{\"outlinewidth\":0,\"ticks\":\"\"}}}],\"scattercarpet\":[{\"type\":\"scattercarpet\",\"marker\":{\"colorbar\":{\"outlinewidth\":0,\"ticks\":\"\"}}}],\"carpet\":[{\"aaxis\":{\"endlinecolor\":\"#2a3f5f\",\"gridcolor\":\"white\",\"linecolor\":\"white\",\"minorgridcolor\":\"white\",\"startlinecolor\":\"#2a3f5f\"},\"baxis\":{\"endlinecolor\":\"#2a3f5f\",\"gridcolor\":\"white\",\"linecolor\":\"white\",\"minorgridcolor\":\"white\",\"startlinecolor\":\"#2a3f5f\"},\"type\":\"carpet\"}],\"table\":[{\"cells\":{\"fill\":{\"color\":\"#EBF0F8\"},\"line\":{\"color\":\"white\"}},\"header\":{\"fill\":{\"color\":\"#C8D4E3\"},\"line\":{\"color\":\"white\"}},\"type\":\"table\"}],\"barpolar\":[{\"marker\":{\"line\":{\"color\":\"#E5ECF6\",\"width\":0.5},\"pattern\":{\"fillmode\":\"overlay\",\"size\":10,\"solidity\":0.2}},\"type\":\"barpolar\"}],\"pie\":[{\"automargin\":true,\"type\":\"pie\"}]},\"layout\":{\"autotypenumbers\":\"strict\",\"colorway\":[\"#636efa\",\"#EF553B\",\"#00cc96\",\"#ab63fa\",\"#FFA15A\",\"#19d3f3\",\"#FF6692\",\"#B6E880\",\"#FF97FF\",\"#FECB52\"],\"font\":{\"color\":\"#2a3f5f\"},\"hovermode\":\"closest\",\"hoverlabel\":{\"align\":\"left\"},\"paper_bgcolor\":\"white\",\"plot_bgcolor\":\"#E5ECF6\",\"polar\":{\"bgcolor\":\"#E5ECF6\",\"angularaxis\":{\"gridcolor\":\"white\",\"linecolor\":\"white\",\"ticks\":\"\"},\"radialaxis\":{\"gridcolor\":\"white\",\"linecolor\":\"white\",\"ticks\":\"\"}},\"ternary\":{\"bgcolor\":\"#E5ECF6\",\"aaxis\":{\"gridcolor\":\"white\",\"linecolor\":\"white\",\"ticks\":\"\"},\"baxis\":{\"gridcolor\":\"white\",\"linecolor\":\"white\",\"ticks\":\"\"},\"caxis\":{\"gridcolor\":\"white\",\"linecolor\":\"white\",\"ticks\":\"\"}},\"coloraxis\":{\"colorbar\":{\"outlinewidth\":0,\"ticks\":\"\"}},\"colorscale\":{\"sequential\":[[0.0,\"#0d0887\"],[0.1111111111111111,\"#46039f\"],[0.2222222222222222,\"#7201a8\"],[0.3333333333333333,\"#9c179e\"],[0.4444444444444444,\"#bd3786\"],[0.5555555555555556,\"#d8576b\"],[0.6666666666666666,\"#ed7953\"],[0.7777777777777778,\"#fb9f3a\"],[0.8888888888888888,\"#fdca26\"],[1.0,\"#f0f921\"]],\"sequentialminus\":[[0.0,\"#0d0887\"],[0.1111111111111111,\"#46039f\"],[0.2222222222222222,\"#7201a8\"],[0.3333333333333333,\"#9c179e\"],[0.4444444444444444,\"#bd3786\"],[0.5555555555555556,\"#d8576b\"],[0.6666666666666666,\"#ed7953\"],[0.7777777777777778,\"#fb9f3a\"],[0.8888888888888888,\"#fdca26\"],[1.0,\"#f0f921\"]],\"diverging\":[[0,\"#8e0152\"],[0.1,\"#c51b7d\"],[0.2,\"#de77ae\"],[0.3,\"#f1b6da\"],[0.4,\"#fde0ef\"],[0.5,\"#f7f7f7\"],[0.6,\"#e6f5d0\"],[0.7,\"#b8e186\"],[0.8,\"#7fbc41\"],[0.9,\"#4d9221\"],[1,\"#276419\"]]},\"xaxis\":{\"gridcolor\":\"white\",\"linecolor\":\"white\",\"ticks\":\"\",\"title\":{\"standoff\":15},\"zerolinecolor\":\"white\",\"automargin\":true,\"zerolinewidth\":2},\"yaxis\":{\"gridcolor\":\"white\",\"linecolor\":\"white\",\"ticks\":\"\",\"title\":{\"standoff\":15},\"zerolinecolor\":\"white\",\"automargin\":true,\"zerolinewidth\":2},\"scene\":{\"xaxis\":{\"backgroundcolor\":\"#E5ECF6\",\"gridcolor\":\"white\",\"linecolor\":\"white\",\"showbackground\":true,\"ticks\":\"\",\"zerolinecolor\":\"white\",\"gridwidth\":2},\"yaxis\":{\"backgroundcolor\":\"#E5ECF6\",\"gridcolor\":\"white\",\"linecolor\":\"white\",\"showbackground\":true,\"ticks\":\"\",\"zerolinecolor\":\"white\",\"gridwidth\":2},\"zaxis\":{\"backgroundcolor\":\"#E5ECF6\",\"gridcolor\":\"white\",\"linecolor\":\"white\",\"showbackground\":true,\"ticks\":\"\",\"zerolinecolor\":\"white\",\"gridwidth\":2}},\"shapedefaults\":{\"line\":{\"color\":\"#2a3f5f\"}},\"annotationdefaults\":{\"arrowcolor\":\"#2a3f5f\",\"arrowhead\":0,\"arrowwidth\":1},\"geo\":{\"bgcolor\":\"white\",\"landcolor\":\"#E5ECF6\",\"subunitcolor\":\"white\",\"showland\":true,\"showlakes\":true,\"lakecolor\":\"white\"},\"title\":{\"x\":0.05},\"mapbox\":{\"style\":\"light\"}}},\"xaxis\":{\"anchor\":\"y\",\"domain\":[0.0,1.0],\"title\":{\"text\":\"Drug_dose\"}},\"yaxis\":{\"anchor\":\"x\",\"domain\":[0.0,0.7326],\"title\":{\"text\":\"count\"}},\"xaxis2\":{\"anchor\":\"y2\",\"domain\":[0.0,1.0],\"matches\":\"x\",\"showticklabels\":false,\"showgrid\":true},\"yaxis2\":{\"anchor\":\"x2\",\"domain\":[0.7426,1.0],\"matches\":\"y2\",\"showticklabels\":false,\"showline\":false,\"ticks\":\"\",\"showgrid\":false},\"legend\":{\"title\":{\"text\":\"color\"},\"tracegroupgap\":0},\"margin\":{\"t\":60},\"barmode\":\"relative\"},                        {\"responsive\": true}                    ).then(function(){\n",
              "                            \n",
              "var gd = document.getElementById('7dd13aa4-b1ec-4565-94a8-f4c067a83d0f');\n",
              "var x = new MutationObserver(function (mutations, observer) {{\n",
              "        var display = window.getComputedStyle(gd).display;\n",
              "        if (!display || display === 'none') {{\n",
              "            console.log([gd, 'removed!']);\n",
              "            Plotly.purge(gd);\n",
              "            observer.disconnect();\n",
              "        }}\n",
              "}});\n",
              "\n",
              "// Listen for the removal of the full notebook cells\n",
              "var notebookContainer = gd.closest('#notebook-container');\n",
              "if (notebookContainer) {{\n",
              "    x.observe(notebookContainer, {childList: true});\n",
              "}}\n",
              "\n",
              "// Listen for the clearing of the current output cell\n",
              "var outputEl = gd.closest('.output');\n",
              "if (outputEl) {{\n",
              "    x.observe(outputEl, {childList: true});\n",
              "}}\n",
              "\n",
              "                        })                };                            </script>        </div>\n",
              "</body>\n",
              "</html>"
            ]
          },
          "metadata": {}
        }
      ]
    },
    {
      "cell_type": "code",
      "source": [
        "fig = px.density_contour(df, x=\"Drug\", y=\"ZOI_drug\", marginal_x=\"histogram\", marginal_y=\"histogram\", color=(df.isna().sum(axis=1) == 1) & (df.Drug_dose.isna()))\n",
        "fig.show()\n",
        "\n"
      ],
      "metadata": {
        "colab": {
          "base_uri": "https://localhost:8080/",
          "height": 542
        },
        "id": "aIJ3n0WHUA1W",
        "outputId": "0bbd9f26-a147-4538-8196-e6510c379833"
      },
      "execution_count": null,
      "outputs": [
        {
          "output_type": "display_data",
          "data": {
            "text/html": [
              "<html>\n",
              "<head><meta charset=\"utf-8\" /></head>\n",
              "<body>\n",
              "    <div>            <script src=\"https://cdnjs.cloudflare.com/ajax/libs/mathjax/2.7.5/MathJax.js?config=TeX-AMS-MML_SVG\"></script><script type=\"text/javascript\">if (window.MathJax && window.MathJax.Hub && window.MathJax.Hub.Config) {window.MathJax.Hub.Config({SVG: {font: \"STIX-Web\"}});}</script>                <script type=\"text/javascript\">window.PlotlyConfig = {MathJaxConfig: 'local'};</script>\n",
              "        <script src=\"https://cdn.plot.ly/plotly-2.18.2.min.js\"></script>                <div id=\"5c2b9ade-276d-437f-badc-401cd548ff26\" class=\"plotly-graph-div\" style=\"height:525px; width:100%;\"></div>            <script type=\"text/javascript\">                                    window.PLOTLYENV=window.PLOTLYENV || {};                                    if (document.getElementById(\"5c2b9ade-276d-437f-badc-401cd548ff26\")) {                    Plotly.newPlot(                        \"5c2b9ade-276d-437f-badc-401cd548ff26\",                        [{\"contours\":{\"coloring\":\"none\"},\"hovertemplate\":\"color=False<br>Drug=%{x}<br>ZOI_drug=%{y}<br>count=%{z}<extra></extra>\",\"legendgroup\":\"False\",\"line\":{\"color\":\"#636efa\"},\"name\":\"False\",\"showlegend\":true,\"x\":[\"Vancomycin\",\"Gentamicin\",\"Ceftazidime\",\"Gentamicin\",\"Ampicillin\",\"Penicillin\",\"Faropenem\",\"Ceftriaxone\",\"Rifampicin\",\"Gentamicin\",\"Azithromycin\",\"Chloramphenicol\",\"Azithromycin\",\"Oxytetracycline\",\"Amoxicillin\",\"Piperacillin\",\"Tetracycline\",\"ciprofloxacin\",\"Ampicillin\",\"Tetracycline\",\"Cefuroxime\",\"Streptomycin\",\"Co-trimoxazole\",\"Oxacillin\",\"Chloramphenicol\",\"Chloramphenicol\",\"Chloramphenicol\",\"Co-trimoxazole\",\"Oxytetracycline\",\"ciprofloxacin\",\"Cefotaxime\",\"Fosfomycin\",\"Ampicillin\",\"mupirocin\",\"Chloramphenicol\",\"Doxycycline\",\"Faropenem\",\"Fosfomycin\",\"Azithromycin\",\"Gentamicin\",\"Chloramphenicol\",\"Streptomycin\",\"Ampicillin\",\"mupirocin\",\"Ceftazidime\",\"Chloramphenicol\",\"Ceftazidime\",\"Gentamicin\",\"Gentamicin\",\"Gentamicin\",\"Gentamicin\",\"Gentamicin\",\"Gentamicin\",\"Nitrofurantoin\",\"Gentamicin\",\"Vancomycin\",\"Erythromycin\",\"Erythromycin\",\"cefazolin\",\"Vancomycin\",\"Cefotaxime\",\"Faropenem\",\"Gentamicin\",\"Streptomycin\",\"cefazolin\",\"ciprofloxacin\",\"Ampicillin\",\"Cefixime \",\"Gentamicin\",\"Tetracycline\",\"Cefotaxime\",\"Chloramphenicol\",\"Chloramphenicol\",\"cefazolin\",\"Gentamicin\",\"Doxycycline\",\"Streptomycin\",\"Carbenicillin \",\"Cefixime \",\"Gentamicin\",\"Ampicillin\",\"Tetracycline\",\"Erythromycin\",\"Ampicillin\",\"Gentamicin\",\"Tetracycline\",\"Amikacin\",\"Amikacin\",\"Gentamicin\",\"Trimethoprim\",\"Chloramphenicol\",\"Gentamicin\",\"Kanamycin\",\"Kanamycin\",\"Piperacillin\",\"Carbenicillin \",\"Cefuroxime\",\"Streptomycin\",\"Levofloxacin\",\"Gentamicin\",\"Chloramphenicol\",\"Ceftazidime\",\"Vancomycin\",\"Vancomycin\",\"Cefotaxime\",\"Faropenem\",\"Faropenem\",\"Tetracycline\",\"Tetracycline\",\"Tetracycline\",\"Nitrofurantoin\",\"Nalidixic acid\",\"Nalidixic acid\",\"Tetracycline\",\"Tetracycline\",\"Gentamicin\",\"Fusidic acid \",\"Cefotaxime\",\"mupirocin\",\"Penicillin\",\"Gentamicin\",\"Ampicillin\",\"Chloramphenicol\",\"Tetracycline\",\"Amikacin\",\"Ceftriaxone\",\"Doxycycline\",\"Piperacillin\",\"Streptomycin\",\"Gentamicin\",\"Faropenem\",\"Kanamycin\",\"Ciprofloxacin\",\"Amikacin\",\"Amikacin\",\"Cefotaxime\",\"Gentamicin\",\"Kanamycin\",\"Streptomycin\",\"Streptomycin\",\"Streptomycin\",\"Vancomycin\",\"Vancomycin\",\"Nitrofurantoin\",\"Amikacin\",\"Oxacillin\",\"Cefuroxime\",\"Amikacin\",\"Vancomycin\",\"Gentamicin\",\"Kanamycin\",\"Tetracycline\",\"Gentamicin\",\"Tetracycline\",\"Oxytetracycline\",\"Chloramphenicol\",\"Chloramphenicol\",\"Kanamycin\",\"Streptomycin\",\"Gentamicin\",\"Ampicillin\",\"Ampicillin\",\"Gentamicin\",\"Vancomycin\",\"ciprofloxacin\",\"Chloramphenicol\",\"Ceftazidime\",\"Chloramphenicol\",\"Doxycycline\",\"Doxycycline\",\"Rifampicin\",\"Tetracycline\",\"Gentamicin\",\"Trimethoprim\",\"Nitrofurantoin\",\"Ampicillin\",\"Ampicillin\",\"Chloramphenicol\",\"Amikacin\",\"Levofloxacin\",\"Erythromycin\",\"Tetracycline\",\"Cefotaxime\",\"Oxacillin\",\"Amikacin\",\"Doxycycline\",\"Tetracycline\",\"Amikacin\",\"Amikacin\",\"Amoxicillin\",\"Cefotaxime\",\"Ceftazidime\",\"Ceftazidime\",\"Ceftazidime\",\"Ceftazidime\",\"Ceftriaxone\",\"Doxycycline\",\"Erythromycin\",\"Gentamicin\",\"Gentamicin\",\"Penicillin\",\"Piperacillin\",\"Rifampicin\",\"Streptomycin\",\"Gentamicin\",\"Ampicillin\",\"Ampicillin\",\"Nitrofurantoin\",\"Kanamycin\",\"Kanamycin\",\"Vancomycin\",\"Ampicillin\",\"Vancomycin\",\"Doxycycline\",\"Erythromycin\",\"Ceftriaxone\",\"Fosfomycin\",\"ciprofloxacin\",\"Ceftazidime\",\"Amikacin\",\"Gentamicin\",\"Ceftriaxone\",\"Ceftriaxone\",\"Piperacillin\",\"Cefotaxime\",\"Polymyxin\",\"Streptomycin\",\"Vancomycin\",\"Cefotaxime\",\"Ceftriaxone\",\"Doxycycline\",\"Erythromycin\",\"Faropenem\",\"Faropenem\",\"Gentamicin\",\"Kanamycin\",\"Piperacillin\",\"Piperacillin\",\"Piperacillin\",\"Rifampicin\",\"Tetracycline\",\"Tetracycline\",\"Vancomycin\",\"Ciprofloxacin\",\"Vancomycin\",\"Chloramphenicol\",\"Ampicillin\",\"Ampicillin\",\"Cefotaxime\",\"Ceftazidime\",\"Kanamycin\",\"Trimethoprim\",\"Amikacin\",\"Amikacin\",\"Ceftazidime\",\"Ceftriaxone\",\"Chloramphenicol\",\"Faropenem\",\"Gentamicin\",\"Gentamicin\",\"Gentamicin\",\"Kanamycin\",\"Piperacillin\",\"Rifampicin\",\"Tetracycline\",\"Trimethoprim\",\"Gentamicin\",\"Kanamycin\",\"Nitrofurantoin\",\"Penicillin\",\"Trimethoprim\",\"Vancomycin\",\"Ampicillin\",\"Kanamycin\",\"Kanamycin\",\"Erythromycin\",\"Erythromycin\",\"Kanamycin\",\"Cefotaxime\",\"Nalidixic acid\",\"Amoxicillin\",\"Cefotaxime\",\"Ceftazidime\",\"Ceftriaxone\",\"Chloramphenicol\",\"Polymyxin\",\"Rifampicin\",\"Rifampicin\",\"Streptomycin\",\"Trimethoprim\",\"Cephalexin \",\"Levofloxacin\",\"Cefepime\",\"Ceftazidime\",\"Ceftriaxone\",\"Cefepime\",\"Ceftriaxone\",\"Ceftriaxone\",\"Rifampicin\",\"ciprofloxacin\",\"Trimethoprim\",\"Ampicillin\",\"Faropenem\",\"Piperacillin\",\"Piperacillin\",\"Trimethoprim\",\"Gentamicin\",\"Erythromycin\",\"Amikacin\",\"Ceftriaxone\",\"Gentamicin\",\"Cefotaxime\",\"Cefotaxime\",\"Ceftriaxone\",\"Faropenem\",\"Penicillin\",\"Penicillin\",\"Piperacillin\",\"Piperacillin\",\"Polymyxin\",\"Rifampicin\",\"Rifampicin\",\"Rifampicin\",\"Vancomycin\",\"Cephalexin \",\"Rifampicin\",\"ciprofloxacin\",\"ciprofloxacin\",\"Vancomycin\",\"Penicillin\",\"Erythromycin\",\"Nalidixic acid\",\"Amoxicillin\",\"Nalidixic acid\",\"Piperacillin\",\"Erythromycin\",\"Polymyxin\",\"Gentamicin\",\"Ampicillin\",\"Ampicillin\",\"Ceftriaxone\",\"Faropenem\",\"Nalidixic acid\",\"Penicillin\",\"Polymyxin\",\"Polymyxin\",\"Trimethoprim\",\"Vancomycin\",\"Trimethoprim\",\"Trimethoprim\",\"Vancomycin\",\"Trimethoprim\",\"Trimethoprim\",\"Vancomycin\",\"Vancomycin\",\"Erythromycin\",\"Erythromycin\",\"Nalidixic acid\",\"Nalidixic acid\",\"Nitrofurantoin\",\"Penicillin\",\"Penicillin\",\"Trimethoprim\",\"Trimethoprim\",\"Trimethoprim\",\"Vancomycin\",\"Cefotaxime\",\"Fusidic acid \",\"Ampicillin\",\"Faropenem\",\"Doxycycline\",\"Faropenem\",\"Penicillin\",\"Polymyxin\",\"Rifampicin\",\"Rifampicin\",\"Amphotericin B\",\"Kanamycin\",\"Rifampicin\",\"Kanamycin\",\"Kanamycin\",\"Trimethoprim\",\"Penicillin\",\"Ampicillin\",\"Amoxicillin\",\"Amoxicillin\",\"Ampicillin\",\"Chloramphenicol\",\"Penicillin\",\"Vancomycin\",\"Penicillin\",\"Erythromycin\",\"Nalidixic acid\",\"Gentamicin\",\"Nitrofurantoin\",\"Amoxicillin\",\"Doxycycline\",\"Nalidixic acid\",\"Nalidixic acid\",\"Polymyxin\",\"Amoxicillin\",\"Doxycycline\",\"Vancomycin\",\"Kanamycin\",\"Rifampicin\",\"Rifampicin\",\"Rifampicin\",\"Erythromycin\",\"Erythromycin\",\"Nalidixic acid\",\"Nitrofurantoin\",\"Nitrofurantoin\",\"Penicillin\",\"Penicillin\",\"Trimethoprim\",\"Trimethoprim\",\"Kanamycin\",\"Kanamycin\",\"Chloramphenicol\",\"Kanamycin\",\"Chloramphenicol\",\"Kanamycin\",\"Amoxicillin\",\"Ceftriaxone\",\"Doxycycline\",\"Amphotericin B\",\"Kanamycin\",\"Amphotericin B\",\"Vancomycin\",\"Erythromycin\",\"Amoxicillin\",\"Amoxicillin\",\"Amoxicillin\",\"Chloramphenicol\",\"Kanamycin\",\"Kanamycin\",\"Nalidixic acid\",\"Streptomycin\",\"Trimethoprim\",\"Gentamicin\",\"Nalidixic acid\",\"Chloramphenicol\",\"Erythromycin\",\"Chloramphenicol\",\"Erythromycin\",\"Amoxicillin\",\"Amoxicillin\",\"Ampicillin\",\"Chloramphenicol\",\"Doxycycline\",\"Penicillin\",\"Polymyxin\",\"Amphotericin B\",\"Clindamycin \",\"Clindamycin \",\"Amoxicillin\",\"Gentamicin\",\"Kanamycin\",\"Nalidixic acid\",\"Nitrofurantoin\",\"Polymyxin\",\"Erythromycin\",\"Erythromycin\",\"Ceftazidime\",\"Nitrofurantoin\",\"Nitrofurantoin\",\"Amikacin\",\"Amoxicillin\",\"Erythromycin\",\"Erythromycin\",\"Erythromycin\",\"Erythromycin\",\"Nitrofurantoin\",\"Polymyxin\",\"Polymyxin\",\"Polymyxin\",\"Vancomycin\",\"colistin \",\"Gentamicin\",\"Ceftazidime\",\"Nalidixic acid\",\"Nitrofurantoin\",\"Levofloxacin\",\"Ceftazidime\",\"Cefepime\",\"Cefepime\",\"Ceftazidime\",\"Ceftriaxone\",\"Gentamicin\",\"Ampicillin\",\"Cefotaxime\",\"Ceftriaxone\",\"Nalidixic acid\",\"Nitrofurantoin\",\"Polymyxin\",\"Rifampicin\",\"Trimethoprim\",\"Trimethoprim\",\"Vancomycin\",\"Gentamicin\",\"Imipenem\",\"Imipenem\",\"Imipenem\",\"Imipenem\",\"Ceftriaxone\",\"colistin \",\"colistin \",\"Imipenem\",\"colistin \",\"Gentamicin\",\"colistin \",\"colistin \",\"Cefepime\",\"Ceftazidime\",\"mupirocin\",\"Amoxicillin\",\"Amoxicillin\",\"Penicillin\",\"Penicillin\",\"colistin \",\"Gentamicin\",\"Tetracycline\",\"Vancomycin\",\"cefazolin\",\"Gentamicin\",\"Tetracycline\",\"cefazolin\",\"Amoxicillin\",\"Levofloxacin\",\"Gentamicin\",\"Gentamicin\",\"Gentamicin\",\"Vancomycin\",\"cefazolin\",\"Tetracycline\",\"mupirocin\",\"Vancomycin\",\"Amoxicillin\",\"Amoxicillin\",\"Gentamicin\",\"Gentamicin\",\"Levofloxacin\",\"Levofloxacin\",\"Gentamicin\",\"Levofloxacin\",\"Amoxicillin\",\"Penicillin\",\"mupirocin\",\"Penicillin\",\"Biapenem\",\"Aztreonam\",\"Biapenem\",\"Biapenem\",\"Aztreonam\",\"Biapenem\",\"Kanamycin\",\"Ampicillin\",\"Chloramphenicol\",\"Kanamycin\",\"Kanamycin\",\"Ampicillin\",\"Ampicillin\",\"Chloramphenicol\",\"Chloramphenicol\",\"Aztreonam\",\"Chloramphenicol\",\"Ampicillin\",\"Kanamycin\",\"Ampicillin\",\"Chloramphenicol\",\"Chloramphenicol\",\"Kanamycin\",\"Ampicillin\",\"Ampicillin\",\"Chloramphenicol\",\"Ampicillin\",\"Ampicillin\",\"Kanamycin\",\"Kanamycin\",\"Chloramphenicol\",\"Chloramphenicol\",\"Kanamycin\",\"Kanamycin\",\"Ampicillin\",\"Imipenem\",\"Imipenem\",\"Imipenem\",\"Chloramphenicol\",\"Imipenem\",\"Imipenem\",\"Aztreonam\",\"Kanamycin\",\"Cefepime\",\"Cefepime\",\"Ceftazidime\",\"Cefepime\",\"Cefepime\",\"Ceftazidime\",\"Ceftazidime\",\"Ceftazidime\",\"Cefepime\",\"Ceftazidime\",\"Ceftriaxone\",\"Ceftriaxone\",\"Ceftriaxone\",\"Ceftriaxone\",\"Ceftriaxone\",null,null,null,null,null,null,null,null,null,null,null,null,null,null,null,null,null,null,null,null,null,null,null,null,null,null,null,null,null,null,null,null,null,null,null,null,null,null,null,null,null,null,null,null,null,null,null,null,null,null,null,null,null,null,null,null,null,null,null,null,null,null,null,null,null,null,null,null,null,null,null,null,null,null,null,null,null,null,null,null,null,null,null,null,null,null,null,null,null,null,null,null,null,null,null,null,null,null,null,null,null,null,null,null,null,null,null,null,null,null,null,null,null,null,null,null,null,null,null,null,null,null,null,null,null,null,null,null,null,null,null,null,null,null,null,null,null,null,null,null,null,null,null,null,null,null,null,null,null,null,null,null,null,null,null,null,null,null,null,null,null,null,null,null,null,null,null,null,null,null,null,null,null,null,null,null,null,null,null,null,null,null,null,null,null,null,null,null,null,null,null,null,null,null,null,null,null,null,null,null,null,null,null,null,null,null,null,null,null,null,null,null,null,null,null,null,null,null,null,null,null,null,null,null,null,null,null,null,null,null,null,null,null,null,null,null,null,null,null],\"xaxis\":\"x\",\"xbingroup\":\"x\",\"y\":[0.0,0.0,12.0,500.0,22.0,46.0,48.0,47.0,44.0,30.0,28.0,27.0,27.0,32.0,40.0,40.0,30.0,23.0,25.0,34.0,0.0,26.0,37.0,0.0,27.0,29.0,29.0,36.0,20.0,22.0,0.0,0.0,20.0,22.0,29.0,34.0,34.0,0.0,20.0,21.0,24.0,24.0,30.0,31.0,32.0,32.0,1000.0,250.0,500.0,500.0,500.0,500.0,500.0,8.0,21.0,21.0,24.0,24.0,23.0,24.0,30.0,30.0,30.0,30.0,25.0,28.0,29.0,29.0,17.0,18.0,21.0,22.0,22.0,22.0,27.0,28.0,28.0,28.0,28.0,31.0,20.0,20.0,25.0,27.0,27.0,27.0,27.0,20.0,23.0,25.0,26.0,26.0,26.0,26.0,26.0,26.0,0.0,7.0,20.0,22.0,23.0,24.0,24.0,24.0,25.0,25.0,25.0,25.0,25.0,25.0,25.0,25.0,25.0,25.0,25.0,25.0,25.0,0.0,0.0,18.0,21.0,22.0,22.0,22.0,24.0,24.0,24.0,24.0,24.0,24.0,22.0,22.0,22.0,23.0,23.0,23.0,23.0,23.0,23.0,23.0,23.0,23.0,23.0,23.0,23.0,33.0,0.0,14.0,18.0,20.0,20.0,20.0,20.0,21.0,22.0,22.0,22.0,22.0,22.0,20.7,12.0,12.0,15.0,18.0,19.0,19.0,21.0,21.0,21.0,21.0,21.0,21.0,2.8,7.0,11.0,11.0,11.0,13.0,15.0,15.0,16.0,17.0,18.0,19.0,19.0,19.0,19.0,20.0,20.0,20.0,20.0,20.0,20.0,20.0,20.0,20.0,20.0,20.0,20.0,20.0,20.0,20.0,20.0,20.0,17.3,11.0,11.0,13.0,13.0,13.0,16.0,18.0,18.0,19.0,19.0,18.5,0.0,8.0,9.0,10.0,14.0,15.0,15.0,15.0,16.0,16.0,16.0,16.0,18.0,18.0,18.0,18.0,18.0,18.0,18.0,18.0,18.0,18.0,18.0,18.0,18.0,18.0,18.0,18.0,0.0,7.0,10.0,10.0,14.0,16.0,16.0,16.0,17.0,17.0,17.0,17.0,17.0,17.0,17.0,17.0,17.0,17.0,17.0,17.0,17.0,0.0,0.0,7.0,7.0,7.0,7.0,7.0,8.0,12.0,12.0,13.0,13.0,14.0,15.0,15.0,16.0,16.0,16.0,16.0,16.0,16.0,16.0,16.0,16.0,16.0,16.0,32.0,64.0,64.0,1000.0,1000.0,1000.0,1000.0,10.0,0.0,0.0,7.0,7.0,7.0,7.0,7.0,8.0,10.0,11.0,13.0,14.0,15.0,15.0,15.0,15.0,15.0,15.0,15.0,15.0,15.0,15.0,15.0,15.0,15.0,15.0,null,0.0,0.0,0.0,0.0,7.0,7.0,7.5,9.0,10.0,10.0,11.0,12.0,13.0,14.0,14.0,14.0,14.0,14.0,14.0,14.0,0.0,0.0,0.0,0.0,0.0,0.0,0.0,0.0,0.0,7.0,7.0,7.0,7.0,7.0,7.0,7.0,7.0,7.0,7.0,7.0,10.0,10.0,11.0,12.0,13.0,13.0,13.0,13.0,13.0,13.0,null,null,null,null,null,0.0,0.0,0.0,7.0,7.0,7.0,7.0,7.0,7.0,8.0,8.0,9.0,9.0,10.0,10.0,11.0,11.0,11.0,11.0,12.0,12.0,12.0,null,null,null,null,7.0,7.0,7.0,7.0,7.0,7.0,7.0,7.0,7.0,9.0,9.0,10.0,10.0,10.0,10.0,11.0,11.0,11.0,null,null,null,0.0,0.0,7.0,7.0,7.0,7.0,7.0,7.0,7.0,7.0,7.0,7.0,8.0,9.0,9.0,9.0,9.0,10.0,10.0,10.0,10.0,10.0,10.0,10.0,null,0.0,0.0,7.0,7.0,7.0,7.0,7.0,7.0,8.0,8.0,9.0,9.0,9.0,7.0,7.0,7.0,7.0,7.0,7.0,7.0,7.0,7.0,7.0,7.0,8.0,8.0,8.0,8.0,8.0,8.0,32.0,32.0,64.0,64.0,1000.0,500.0,7.0,7.0,7.0,7.0,7.0,7.0,7.0,7.0,7.0,7.0,0.46,8.0,8.0,16.0,16.0,1000.0,4.0,4.0,8.0,8.0,8.0,8.0,8.0,32.0,64.0,0.0,1.0,1.0,2.0,2.0,8.0,125.0,1.25,0.625,0.625,1.25,1.25,0.3125,2.0,2.0,4.0,0.625,0.3125,0.3125,0.625,0.625,0.625,0.625,0.25,0.25,1.0,1.0,1.0,1.0,8.0,8.0,0.25,1.0,0.3125,0.03,0.01,0.05,0.05,0.05,0.05,0.05,0.1,0.1,0.1,0.25,0.25,0.5,0.5,0.75,1.0,1.0,1.0,2.0,2.0,2.0,2.0,2.0,2.0,2.0,2.0,4.0,4.0,4.0,4.0,4.0,4.0,4.0,4.0,4.0,8.0,16.0,16.0,16.0,16.0,32.0,32.0,32.0,32.0,64.0,64.0,64.0,128.0,128.0,128.0,128.0,128.0,1000.0,1000.0,1000.0,1000.0,1000.0,1000.0,1000.0,null,null,null,null,null,null,null,null,null,null,null,null,null,null,null,null,null,null,null,null,null,null,null,null,null,null,null,null,null,null,null,null,null,null,null,null,null,null,null,null,null,null,null,null,null,null,null,null,null,null,null,null,null,null,null,null,null,null,null,null,null,null,null,null,null,null,null,null,null,null,null,null,null,null,null,null,null,null,null,null,null,null,null,null,null,null,null,null,null,null,null,null,null,null,null,null,null,null,null,null,null,null,null,null,null,null,null,null,null,null,null,null,null,null,null,null,null,null,null,null,null,null,null,null,null,null,null,null,null,null,null,null,null,null,null,null,null,null,null,null,null,null,null,null,null,null,null,null,null,null,null,null,null,null,null,null,null,null,null,null,null,null,null,null,null,null,null,null,null,null,null,null,null,null,null,null,null,null,null,null,null,null,null,null,null,null,null,null,null,null,null,null,null,null,null,null,null,null,null,null,null,null,null,null,null,null,null,null,null,null,null,null,null,null,null,null,null,null,null,null,null,null,null,null,null,null,null,null,null,null,null,null,null,null,null,null,null,null,null],\"yaxis\":\"y\",\"ybingroup\":\"y\",\"type\":\"histogram2dcontour\"},{\"alignmentgroup\":\"True\",\"bingroup\":\"x\",\"hovertemplate\":\"color=False<br>Drug=%{x}<br>count=%{y}<extra></extra>\",\"legendgroup\":\"False\",\"marker\":{\"color\":\"#636efa\"},\"name\":\"False\",\"offsetgroup\":\"False\",\"opacity\":0.5,\"showlegend\":false,\"x\":[\"Vancomycin\",\"Gentamicin\",\"Ceftazidime\",\"Gentamicin\",\"Ampicillin\",\"Penicillin\",\"Faropenem\",\"Ceftriaxone\",\"Rifampicin\",\"Gentamicin\",\"Azithromycin\",\"Chloramphenicol\",\"Azithromycin\",\"Oxytetracycline\",\"Amoxicillin\",\"Piperacillin\",\"Tetracycline\",\"ciprofloxacin\",\"Ampicillin\",\"Tetracycline\",\"Cefuroxime\",\"Streptomycin\",\"Co-trimoxazole\",\"Oxacillin\",\"Chloramphenicol\",\"Chloramphenicol\",\"Chloramphenicol\",\"Co-trimoxazole\",\"Oxytetracycline\",\"ciprofloxacin\",\"Cefotaxime\",\"Fosfomycin\",\"Ampicillin\",\"mupirocin\",\"Chloramphenicol\",\"Doxycycline\",\"Faropenem\",\"Fosfomycin\",\"Azithromycin\",\"Gentamicin\",\"Chloramphenicol\",\"Streptomycin\",\"Ampicillin\",\"mupirocin\",\"Ceftazidime\",\"Chloramphenicol\",\"Ceftazidime\",\"Gentamicin\",\"Gentamicin\",\"Gentamicin\",\"Gentamicin\",\"Gentamicin\",\"Gentamicin\",\"Nitrofurantoin\",\"Gentamicin\",\"Vancomycin\",\"Erythromycin\",\"Erythromycin\",\"cefazolin\",\"Vancomycin\",\"Cefotaxime\",\"Faropenem\",\"Gentamicin\",\"Streptomycin\",\"cefazolin\",\"ciprofloxacin\",\"Ampicillin\",\"Cefixime \",\"Gentamicin\",\"Tetracycline\",\"Cefotaxime\",\"Chloramphenicol\",\"Chloramphenicol\",\"cefazolin\",\"Gentamicin\",\"Doxycycline\",\"Streptomycin\",\"Carbenicillin \",\"Cefixime \",\"Gentamicin\",\"Ampicillin\",\"Tetracycline\",\"Erythromycin\",\"Ampicillin\",\"Gentamicin\",\"Tetracycline\",\"Amikacin\",\"Amikacin\",\"Gentamicin\",\"Trimethoprim\",\"Chloramphenicol\",\"Gentamicin\",\"Kanamycin\",\"Kanamycin\",\"Piperacillin\",\"Carbenicillin \",\"Cefuroxime\",\"Streptomycin\",\"Levofloxacin\",\"Gentamicin\",\"Chloramphenicol\",\"Ceftazidime\",\"Vancomycin\",\"Vancomycin\",\"Cefotaxime\",\"Faropenem\",\"Faropenem\",\"Tetracycline\",\"Tetracycline\",\"Tetracycline\",\"Nitrofurantoin\",\"Nalidixic acid\",\"Nalidixic acid\",\"Tetracycline\",\"Tetracycline\",\"Gentamicin\",\"Fusidic acid \",\"Cefotaxime\",\"mupirocin\",\"Penicillin\",\"Gentamicin\",\"Ampicillin\",\"Chloramphenicol\",\"Tetracycline\",\"Amikacin\",\"Ceftriaxone\",\"Doxycycline\",\"Piperacillin\",\"Streptomycin\",\"Gentamicin\",\"Faropenem\",\"Kanamycin\",\"Ciprofloxacin\",\"Amikacin\",\"Amikacin\",\"Cefotaxime\",\"Gentamicin\",\"Kanamycin\",\"Streptomycin\",\"Streptomycin\",\"Streptomycin\",\"Vancomycin\",\"Vancomycin\",\"Nitrofurantoin\",\"Amikacin\",\"Oxacillin\",\"Cefuroxime\",\"Amikacin\",\"Vancomycin\",\"Gentamicin\",\"Kanamycin\",\"Tetracycline\",\"Gentamicin\",\"Tetracycline\",\"Oxytetracycline\",\"Chloramphenicol\",\"Chloramphenicol\",\"Kanamycin\",\"Streptomycin\",\"Gentamicin\",\"Ampicillin\",\"Ampicillin\",\"Gentamicin\",\"Vancomycin\",\"ciprofloxacin\",\"Chloramphenicol\",\"Ceftazidime\",\"Chloramphenicol\",\"Doxycycline\",\"Doxycycline\",\"Rifampicin\",\"Tetracycline\",\"Gentamicin\",\"Trimethoprim\",\"Nitrofurantoin\",\"Ampicillin\",\"Ampicillin\",\"Chloramphenicol\",\"Amikacin\",\"Levofloxacin\",\"Erythromycin\",\"Tetracycline\",\"Cefotaxime\",\"Oxacillin\",\"Amikacin\",\"Doxycycline\",\"Tetracycline\",\"Amikacin\",\"Amikacin\",\"Amoxicillin\",\"Cefotaxime\",\"Ceftazidime\",\"Ceftazidime\",\"Ceftazidime\",\"Ceftazidime\",\"Ceftriaxone\",\"Doxycycline\",\"Erythromycin\",\"Gentamicin\",\"Gentamicin\",\"Penicillin\",\"Piperacillin\",\"Rifampicin\",\"Streptomycin\",\"Gentamicin\",\"Ampicillin\",\"Ampicillin\",\"Nitrofurantoin\",\"Kanamycin\",\"Kanamycin\",\"Vancomycin\",\"Ampicillin\",\"Vancomycin\",\"Doxycycline\",\"Erythromycin\",\"Ceftriaxone\",\"Fosfomycin\",\"ciprofloxacin\",\"Ceftazidime\",\"Amikacin\",\"Gentamicin\",\"Ceftriaxone\",\"Ceftriaxone\",\"Piperacillin\",\"Cefotaxime\",\"Polymyxin\",\"Streptomycin\",\"Vancomycin\",\"Cefotaxime\",\"Ceftriaxone\",\"Doxycycline\",\"Erythromycin\",\"Faropenem\",\"Faropenem\",\"Gentamicin\",\"Kanamycin\",\"Piperacillin\",\"Piperacillin\",\"Piperacillin\",\"Rifampicin\",\"Tetracycline\",\"Tetracycline\",\"Vancomycin\",\"Ciprofloxacin\",\"Vancomycin\",\"Chloramphenicol\",\"Ampicillin\",\"Ampicillin\",\"Cefotaxime\",\"Ceftazidime\",\"Kanamycin\",\"Trimethoprim\",\"Amikacin\",\"Amikacin\",\"Ceftazidime\",\"Ceftriaxone\",\"Chloramphenicol\",\"Faropenem\",\"Gentamicin\",\"Gentamicin\",\"Gentamicin\",\"Kanamycin\",\"Piperacillin\",\"Rifampicin\",\"Tetracycline\",\"Trimethoprim\",\"Gentamicin\",\"Kanamycin\",\"Nitrofurantoin\",\"Penicillin\",\"Trimethoprim\",\"Vancomycin\",\"Ampicillin\",\"Kanamycin\",\"Kanamycin\",\"Erythromycin\",\"Erythromycin\",\"Kanamycin\",\"Cefotaxime\",\"Nalidixic acid\",\"Amoxicillin\",\"Cefotaxime\",\"Ceftazidime\",\"Ceftriaxone\",\"Chloramphenicol\",\"Polymyxin\",\"Rifampicin\",\"Rifampicin\",\"Streptomycin\",\"Trimethoprim\",\"Cephalexin \",\"Levofloxacin\",\"Cefepime\",\"Ceftazidime\",\"Ceftriaxone\",\"Cefepime\",\"Ceftriaxone\",\"Ceftriaxone\",\"Rifampicin\",\"ciprofloxacin\",\"Trimethoprim\",\"Ampicillin\",\"Faropenem\",\"Piperacillin\",\"Piperacillin\",\"Trimethoprim\",\"Gentamicin\",\"Erythromycin\",\"Amikacin\",\"Ceftriaxone\",\"Gentamicin\",\"Cefotaxime\",\"Cefotaxime\",\"Ceftriaxone\",\"Faropenem\",\"Penicillin\",\"Penicillin\",\"Piperacillin\",\"Piperacillin\",\"Polymyxin\",\"Rifampicin\",\"Rifampicin\",\"Rifampicin\",\"Vancomycin\",\"Cephalexin \",\"Rifampicin\",\"ciprofloxacin\",\"ciprofloxacin\",\"Vancomycin\",\"Penicillin\",\"Erythromycin\",\"Nalidixic acid\",\"Amoxicillin\",\"Nalidixic acid\",\"Piperacillin\",\"Erythromycin\",\"Polymyxin\",\"Gentamicin\",\"Ampicillin\",\"Ampicillin\",\"Ceftriaxone\",\"Faropenem\",\"Nalidixic acid\",\"Penicillin\",\"Polymyxin\",\"Polymyxin\",\"Trimethoprim\",\"Vancomycin\",\"Trimethoprim\",\"Trimethoprim\",\"Vancomycin\",\"Trimethoprim\",\"Trimethoprim\",\"Vancomycin\",\"Vancomycin\",\"Erythromycin\",\"Erythromycin\",\"Nalidixic acid\",\"Nalidixic acid\",\"Nitrofurantoin\",\"Penicillin\",\"Penicillin\",\"Trimethoprim\",\"Trimethoprim\",\"Trimethoprim\",\"Vancomycin\",\"Cefotaxime\",\"Fusidic acid \",\"Ampicillin\",\"Faropenem\",\"Doxycycline\",\"Faropenem\",\"Penicillin\",\"Polymyxin\",\"Rifampicin\",\"Rifampicin\",\"Amphotericin B\",\"Kanamycin\",\"Rifampicin\",\"Kanamycin\",\"Kanamycin\",\"Trimethoprim\",\"Penicillin\",\"Ampicillin\",\"Amoxicillin\",\"Amoxicillin\",\"Ampicillin\",\"Chloramphenicol\",\"Penicillin\",\"Vancomycin\",\"Penicillin\",\"Erythromycin\",\"Nalidixic acid\",\"Gentamicin\",\"Nitrofurantoin\",\"Amoxicillin\",\"Doxycycline\",\"Nalidixic acid\",\"Nalidixic acid\",\"Polymyxin\",\"Amoxicillin\",\"Doxycycline\",\"Vancomycin\",\"Kanamycin\",\"Rifampicin\",\"Rifampicin\",\"Rifampicin\",\"Erythromycin\",\"Erythromycin\",\"Nalidixic acid\",\"Nitrofurantoin\",\"Nitrofurantoin\",\"Penicillin\",\"Penicillin\",\"Trimethoprim\",\"Trimethoprim\",\"Kanamycin\",\"Kanamycin\",\"Chloramphenicol\",\"Kanamycin\",\"Chloramphenicol\",\"Kanamycin\",\"Amoxicillin\",\"Ceftriaxone\",\"Doxycycline\",\"Amphotericin B\",\"Kanamycin\",\"Amphotericin B\",\"Vancomycin\",\"Erythromycin\",\"Amoxicillin\",\"Amoxicillin\",\"Amoxicillin\",\"Chloramphenicol\",\"Kanamycin\",\"Kanamycin\",\"Nalidixic acid\",\"Streptomycin\",\"Trimethoprim\",\"Gentamicin\",\"Nalidixic acid\",\"Chloramphenicol\",\"Erythromycin\",\"Chloramphenicol\",\"Erythromycin\",\"Amoxicillin\",\"Amoxicillin\",\"Ampicillin\",\"Chloramphenicol\",\"Doxycycline\",\"Penicillin\",\"Polymyxin\",\"Amphotericin B\",\"Clindamycin \",\"Clindamycin \",\"Amoxicillin\",\"Gentamicin\",\"Kanamycin\",\"Nalidixic acid\",\"Nitrofurantoin\",\"Polymyxin\",\"Erythromycin\",\"Erythromycin\",\"Ceftazidime\",\"Nitrofurantoin\",\"Nitrofurantoin\",\"Amikacin\",\"Amoxicillin\",\"Erythromycin\",\"Erythromycin\",\"Erythromycin\",\"Erythromycin\",\"Nitrofurantoin\",\"Polymyxin\",\"Polymyxin\",\"Polymyxin\",\"Vancomycin\",\"colistin \",\"Gentamicin\",\"Ceftazidime\",\"Nalidixic acid\",\"Nitrofurantoin\",\"Levofloxacin\",\"Ceftazidime\",\"Cefepime\",\"Cefepime\",\"Ceftazidime\",\"Ceftriaxone\",\"Gentamicin\",\"Ampicillin\",\"Cefotaxime\",\"Ceftriaxone\",\"Nalidixic acid\",\"Nitrofurantoin\",\"Polymyxin\",\"Rifampicin\",\"Trimethoprim\",\"Trimethoprim\",\"Vancomycin\",\"Gentamicin\",\"Imipenem\",\"Imipenem\",\"Imipenem\",\"Imipenem\",\"Ceftriaxone\",\"colistin \",\"colistin \",\"Imipenem\",\"colistin \",\"Gentamicin\",\"colistin \",\"colistin \",\"Cefepime\",\"Ceftazidime\",\"mupirocin\",\"Amoxicillin\",\"Amoxicillin\",\"Penicillin\",\"Penicillin\",\"colistin \",\"Gentamicin\",\"Tetracycline\",\"Vancomycin\",\"cefazolin\",\"Gentamicin\",\"Tetracycline\",\"cefazolin\",\"Amoxicillin\",\"Levofloxacin\",\"Gentamicin\",\"Gentamicin\",\"Gentamicin\",\"Vancomycin\",\"cefazolin\",\"Tetracycline\",\"mupirocin\",\"Vancomycin\",\"Amoxicillin\",\"Amoxicillin\",\"Gentamicin\",\"Gentamicin\",\"Levofloxacin\",\"Levofloxacin\",\"Gentamicin\",\"Levofloxacin\",\"Amoxicillin\",\"Penicillin\",\"mupirocin\",\"Penicillin\",\"Biapenem\",\"Aztreonam\",\"Biapenem\",\"Biapenem\",\"Aztreonam\",\"Biapenem\",\"Kanamycin\",\"Ampicillin\",\"Chloramphenicol\",\"Kanamycin\",\"Kanamycin\",\"Ampicillin\",\"Ampicillin\",\"Chloramphenicol\",\"Chloramphenicol\",\"Aztreonam\",\"Chloramphenicol\",\"Ampicillin\",\"Kanamycin\",\"Ampicillin\",\"Chloramphenicol\",\"Chloramphenicol\",\"Kanamycin\",\"Ampicillin\",\"Ampicillin\",\"Chloramphenicol\",\"Ampicillin\",\"Ampicillin\",\"Kanamycin\",\"Kanamycin\",\"Chloramphenicol\",\"Chloramphenicol\",\"Kanamycin\",\"Kanamycin\",\"Ampicillin\",\"Imipenem\",\"Imipenem\",\"Imipenem\",\"Chloramphenicol\",\"Imipenem\",\"Imipenem\",\"Aztreonam\",\"Kanamycin\",\"Cefepime\",\"Cefepime\",\"Ceftazidime\",\"Cefepime\",\"Cefepime\",\"Ceftazidime\",\"Ceftazidime\",\"Ceftazidime\",\"Cefepime\",\"Ceftazidime\",\"Ceftriaxone\",\"Ceftriaxone\",\"Ceftriaxone\",\"Ceftriaxone\",\"Ceftriaxone\",null,null,null,null,null,null,null,null,null,null,null,null,null,null,null,null,null,null,null,null,null,null,null,null,null,null,null,null,null,null,null,null,null,null,null,null,null,null,null,null,null,null,null,null,null,null,null,null,null,null,null,null,null,null,null,null,null,null,null,null,null,null,null,null,null,null,null,null,null,null,null,null,null,null,null,null,null,null,null,null,null,null,null,null,null,null,null,null,null,null,null,null,null,null,null,null,null,null,null,null,null,null,null,null,null,null,null,null,null,null,null,null,null,null,null,null,null,null,null,null,null,null,null,null,null,null,null,null,null,null,null,null,null,null,null,null,null,null,null,null,null,null,null,null,null,null,null,null,null,null,null,null,null,null,null,null,null,null,null,null,null,null,null,null,null,null,null,null,null,null,null,null,null,null,null,null,null,null,null,null,null,null,null,null,null,null,null,null,null,null,null,null,null,null,null,null,null,null,null,null,null,null,null,null,null,null,null,null,null,null,null,null,null,null,null,null,null,null,null,null,null,null,null,null,null,null,null,null,null,null,null,null,null,null,null,null,null,null,null],\"xaxis\":\"x3\",\"yaxis\":\"y3\",\"type\":\"histogram\"},{\"alignmentgroup\":\"True\",\"bingroup\":\"y\",\"hovertemplate\":\"color=False<br>ZOI_drug=%{y}<br>count=%{x}<extra></extra>\",\"legendgroup\":\"False\",\"marker\":{\"color\":\"#636efa\"},\"name\":\"False\",\"offsetgroup\":\"False\",\"opacity\":0.5,\"showlegend\":false,\"xaxis\":\"x2\",\"y\":[0.0,0.0,12.0,500.0,22.0,46.0,48.0,47.0,44.0,30.0,28.0,27.0,27.0,32.0,40.0,40.0,30.0,23.0,25.0,34.0,0.0,26.0,37.0,0.0,27.0,29.0,29.0,36.0,20.0,22.0,0.0,0.0,20.0,22.0,29.0,34.0,34.0,0.0,20.0,21.0,24.0,24.0,30.0,31.0,32.0,32.0,1000.0,250.0,500.0,500.0,500.0,500.0,500.0,8.0,21.0,21.0,24.0,24.0,23.0,24.0,30.0,30.0,30.0,30.0,25.0,28.0,29.0,29.0,17.0,18.0,21.0,22.0,22.0,22.0,27.0,28.0,28.0,28.0,28.0,31.0,20.0,20.0,25.0,27.0,27.0,27.0,27.0,20.0,23.0,25.0,26.0,26.0,26.0,26.0,26.0,26.0,0.0,7.0,20.0,22.0,23.0,24.0,24.0,24.0,25.0,25.0,25.0,25.0,25.0,25.0,25.0,25.0,25.0,25.0,25.0,25.0,25.0,0.0,0.0,18.0,21.0,22.0,22.0,22.0,24.0,24.0,24.0,24.0,24.0,24.0,22.0,22.0,22.0,23.0,23.0,23.0,23.0,23.0,23.0,23.0,23.0,23.0,23.0,23.0,23.0,33.0,0.0,14.0,18.0,20.0,20.0,20.0,20.0,21.0,22.0,22.0,22.0,22.0,22.0,20.7,12.0,12.0,15.0,18.0,19.0,19.0,21.0,21.0,21.0,21.0,21.0,21.0,2.8,7.0,11.0,11.0,11.0,13.0,15.0,15.0,16.0,17.0,18.0,19.0,19.0,19.0,19.0,20.0,20.0,20.0,20.0,20.0,20.0,20.0,20.0,20.0,20.0,20.0,20.0,20.0,20.0,20.0,20.0,20.0,17.3,11.0,11.0,13.0,13.0,13.0,16.0,18.0,18.0,19.0,19.0,18.5,0.0,8.0,9.0,10.0,14.0,15.0,15.0,15.0,16.0,16.0,16.0,16.0,18.0,18.0,18.0,18.0,18.0,18.0,18.0,18.0,18.0,18.0,18.0,18.0,18.0,18.0,18.0,18.0,0.0,7.0,10.0,10.0,14.0,16.0,16.0,16.0,17.0,17.0,17.0,17.0,17.0,17.0,17.0,17.0,17.0,17.0,17.0,17.0,17.0,0.0,0.0,7.0,7.0,7.0,7.0,7.0,8.0,12.0,12.0,13.0,13.0,14.0,15.0,15.0,16.0,16.0,16.0,16.0,16.0,16.0,16.0,16.0,16.0,16.0,16.0,32.0,64.0,64.0,1000.0,1000.0,1000.0,1000.0,10.0,0.0,0.0,7.0,7.0,7.0,7.0,7.0,8.0,10.0,11.0,13.0,14.0,15.0,15.0,15.0,15.0,15.0,15.0,15.0,15.0,15.0,15.0,15.0,15.0,15.0,15.0,null,0.0,0.0,0.0,0.0,7.0,7.0,7.5,9.0,10.0,10.0,11.0,12.0,13.0,14.0,14.0,14.0,14.0,14.0,14.0,14.0,0.0,0.0,0.0,0.0,0.0,0.0,0.0,0.0,0.0,7.0,7.0,7.0,7.0,7.0,7.0,7.0,7.0,7.0,7.0,7.0,10.0,10.0,11.0,12.0,13.0,13.0,13.0,13.0,13.0,13.0,null,null,null,null,null,0.0,0.0,0.0,7.0,7.0,7.0,7.0,7.0,7.0,8.0,8.0,9.0,9.0,10.0,10.0,11.0,11.0,11.0,11.0,12.0,12.0,12.0,null,null,null,null,7.0,7.0,7.0,7.0,7.0,7.0,7.0,7.0,7.0,9.0,9.0,10.0,10.0,10.0,10.0,11.0,11.0,11.0,null,null,null,0.0,0.0,7.0,7.0,7.0,7.0,7.0,7.0,7.0,7.0,7.0,7.0,8.0,9.0,9.0,9.0,9.0,10.0,10.0,10.0,10.0,10.0,10.0,10.0,null,0.0,0.0,7.0,7.0,7.0,7.0,7.0,7.0,8.0,8.0,9.0,9.0,9.0,7.0,7.0,7.0,7.0,7.0,7.0,7.0,7.0,7.0,7.0,7.0,8.0,8.0,8.0,8.0,8.0,8.0,32.0,32.0,64.0,64.0,1000.0,500.0,7.0,7.0,7.0,7.0,7.0,7.0,7.0,7.0,7.0,7.0,0.46,8.0,8.0,16.0,16.0,1000.0,4.0,4.0,8.0,8.0,8.0,8.0,8.0,32.0,64.0,0.0,1.0,1.0,2.0,2.0,8.0,125.0,1.25,0.625,0.625,1.25,1.25,0.3125,2.0,2.0,4.0,0.625,0.3125,0.3125,0.625,0.625,0.625,0.625,0.25,0.25,1.0,1.0,1.0,1.0,8.0,8.0,0.25,1.0,0.3125,0.03,0.01,0.05,0.05,0.05,0.05,0.05,0.1,0.1,0.1,0.25,0.25,0.5,0.5,0.75,1.0,1.0,1.0,2.0,2.0,2.0,2.0,2.0,2.0,2.0,2.0,4.0,4.0,4.0,4.0,4.0,4.0,4.0,4.0,4.0,8.0,16.0,16.0,16.0,16.0,32.0,32.0,32.0,32.0,64.0,64.0,64.0,128.0,128.0,128.0,128.0,128.0,1000.0,1000.0,1000.0,1000.0,1000.0,1000.0,1000.0,null,null,null,null,null,null,null,null,null,null,null,null,null,null,null,null,null,null,null,null,null,null,null,null,null,null,null,null,null,null,null,null,null,null,null,null,null,null,null,null,null,null,null,null,null,null,null,null,null,null,null,null,null,null,null,null,null,null,null,null,null,null,null,null,null,null,null,null,null,null,null,null,null,null,null,null,null,null,null,null,null,null,null,null,null,null,null,null,null,null,null,null,null,null,null,null,null,null,null,null,null,null,null,null,null,null,null,null,null,null,null,null,null,null,null,null,null,null,null,null,null,null,null,null,null,null,null,null,null,null,null,null,null,null,null,null,null,null,null,null,null,null,null,null,null,null,null,null,null,null,null,null,null,null,null,null,null,null,null,null,null,null,null,null,null,null,null,null,null,null,null,null,null,null,null,null,null,null,null,null,null,null,null,null,null,null,null,null,null,null,null,null,null,null,null,null,null,null,null,null,null,null,null,null,null,null,null,null,null,null,null,null,null,null,null,null,null,null,null,null,null,null,null,null,null,null,null,null,null,null,null,null,null,null,null,null,null,null,null],\"yaxis\":\"y2\",\"type\":\"histogram\"},{\"contours\":{\"coloring\":\"none\"},\"hovertemplate\":\"color=True<br>Drug=%{x}<br>ZOI_drug=%{y}<br>count=%{z}<extra></extra>\",\"legendgroup\":\"True\",\"line\":{\"color\":\"#EF553B\"},\"name\":\"True\",\"showlegend\":true,\"x\":[\"Imipenem\",\"Imipenem\",\"Imipenem\",\"Imipenem\",\"Imipenem\",\"Imipenem\",\"Imipenem\",\"Imipenem\"],\"xaxis\":\"x\",\"xbingroup\":\"x\",\"y\":[21.0,23.0,21.0,20.0,12.0,16.0,18.0,0.0],\"yaxis\":\"y\",\"ybingroup\":\"y\",\"type\":\"histogram2dcontour\"},{\"alignmentgroup\":\"True\",\"bingroup\":\"x\",\"hovertemplate\":\"color=True<br>Drug=%{x}<br>count=%{y}<extra></extra>\",\"legendgroup\":\"True\",\"marker\":{\"color\":\"#EF553B\"},\"name\":\"True\",\"offsetgroup\":\"True\",\"opacity\":0.5,\"showlegend\":false,\"x\":[\"Imipenem\",\"Imipenem\",\"Imipenem\",\"Imipenem\",\"Imipenem\",\"Imipenem\",\"Imipenem\",\"Imipenem\"],\"xaxis\":\"x3\",\"yaxis\":\"y3\",\"type\":\"histogram\"},{\"alignmentgroup\":\"True\",\"bingroup\":\"y\",\"hovertemplate\":\"color=True<br>ZOI_drug=%{y}<br>count=%{x}<extra></extra>\",\"legendgroup\":\"True\",\"marker\":{\"color\":\"#EF553B\"},\"name\":\"True\",\"offsetgroup\":\"True\",\"opacity\":0.5,\"showlegend\":false,\"xaxis\":\"x2\",\"y\":[21.0,23.0,21.0,20.0,12.0,16.0,18.0,0.0],\"yaxis\":\"y2\",\"type\":\"histogram\"}],                        {\"template\":{\"data\":{\"histogram2dcontour\":[{\"type\":\"histogram2dcontour\",\"colorbar\":{\"outlinewidth\":0,\"ticks\":\"\"},\"colorscale\":[[0.0,\"#0d0887\"],[0.1111111111111111,\"#46039f\"],[0.2222222222222222,\"#7201a8\"],[0.3333333333333333,\"#9c179e\"],[0.4444444444444444,\"#bd3786\"],[0.5555555555555556,\"#d8576b\"],[0.6666666666666666,\"#ed7953\"],[0.7777777777777778,\"#fb9f3a\"],[0.8888888888888888,\"#fdca26\"],[1.0,\"#f0f921\"]]}],\"choropleth\":[{\"type\":\"choropleth\",\"colorbar\":{\"outlinewidth\":0,\"ticks\":\"\"}}],\"histogram2d\":[{\"type\":\"histogram2d\",\"colorbar\":{\"outlinewidth\":0,\"ticks\":\"\"},\"colorscale\":[[0.0,\"#0d0887\"],[0.1111111111111111,\"#46039f\"],[0.2222222222222222,\"#7201a8\"],[0.3333333333333333,\"#9c179e\"],[0.4444444444444444,\"#bd3786\"],[0.5555555555555556,\"#d8576b\"],[0.6666666666666666,\"#ed7953\"],[0.7777777777777778,\"#fb9f3a\"],[0.8888888888888888,\"#fdca26\"],[1.0,\"#f0f921\"]]}],\"heatmap\":[{\"type\":\"heatmap\",\"colorbar\":{\"outlinewidth\":0,\"ticks\":\"\"},\"colorscale\":[[0.0,\"#0d0887\"],[0.1111111111111111,\"#46039f\"],[0.2222222222222222,\"#7201a8\"],[0.3333333333333333,\"#9c179e\"],[0.4444444444444444,\"#bd3786\"],[0.5555555555555556,\"#d8576b\"],[0.6666666666666666,\"#ed7953\"],[0.7777777777777778,\"#fb9f3a\"],[0.8888888888888888,\"#fdca26\"],[1.0,\"#f0f921\"]]}],\"heatmapgl\":[{\"type\":\"heatmapgl\",\"colorbar\":{\"outlinewidth\":0,\"ticks\":\"\"},\"colorscale\":[[0.0,\"#0d0887\"],[0.1111111111111111,\"#46039f\"],[0.2222222222222222,\"#7201a8\"],[0.3333333333333333,\"#9c179e\"],[0.4444444444444444,\"#bd3786\"],[0.5555555555555556,\"#d8576b\"],[0.6666666666666666,\"#ed7953\"],[0.7777777777777778,\"#fb9f3a\"],[0.8888888888888888,\"#fdca26\"],[1.0,\"#f0f921\"]]}],\"contourcarpet\":[{\"type\":\"contourcarpet\",\"colorbar\":{\"outlinewidth\":0,\"ticks\":\"\"}}],\"contour\":[{\"type\":\"contour\",\"colorbar\":{\"outlinewidth\":0,\"ticks\":\"\"},\"colorscale\":[[0.0,\"#0d0887\"],[0.1111111111111111,\"#46039f\"],[0.2222222222222222,\"#7201a8\"],[0.3333333333333333,\"#9c179e\"],[0.4444444444444444,\"#bd3786\"],[0.5555555555555556,\"#d8576b\"],[0.6666666666666666,\"#ed7953\"],[0.7777777777777778,\"#fb9f3a\"],[0.8888888888888888,\"#fdca26\"],[1.0,\"#f0f921\"]]}],\"surface\":[{\"type\":\"surface\",\"colorbar\":{\"outlinewidth\":0,\"ticks\":\"\"},\"colorscale\":[[0.0,\"#0d0887\"],[0.1111111111111111,\"#46039f\"],[0.2222222222222222,\"#7201a8\"],[0.3333333333333333,\"#9c179e\"],[0.4444444444444444,\"#bd3786\"],[0.5555555555555556,\"#d8576b\"],[0.6666666666666666,\"#ed7953\"],[0.7777777777777778,\"#fb9f3a\"],[0.8888888888888888,\"#fdca26\"],[1.0,\"#f0f921\"]]}],\"mesh3d\":[{\"type\":\"mesh3d\",\"colorbar\":{\"outlinewidth\":0,\"ticks\":\"\"}}],\"scatter\":[{\"fillpattern\":{\"fillmode\":\"overlay\",\"size\":10,\"solidity\":0.2},\"type\":\"scatter\"}],\"parcoords\":[{\"type\":\"parcoords\",\"line\":{\"colorbar\":{\"outlinewidth\":0,\"ticks\":\"\"}}}],\"scatterpolargl\":[{\"type\":\"scatterpolargl\",\"marker\":{\"colorbar\":{\"outlinewidth\":0,\"ticks\":\"\"}}}],\"bar\":[{\"error_x\":{\"color\":\"#2a3f5f\"},\"error_y\":{\"color\":\"#2a3f5f\"},\"marker\":{\"line\":{\"color\":\"#E5ECF6\",\"width\":0.5},\"pattern\":{\"fillmode\":\"overlay\",\"size\":10,\"solidity\":0.2}},\"type\":\"bar\"}],\"scattergeo\":[{\"type\":\"scattergeo\",\"marker\":{\"colorbar\":{\"outlinewidth\":0,\"ticks\":\"\"}}}],\"scatterpolar\":[{\"type\":\"scatterpolar\",\"marker\":{\"colorbar\":{\"outlinewidth\":0,\"ticks\":\"\"}}}],\"histogram\":[{\"marker\":{\"pattern\":{\"fillmode\":\"overlay\",\"size\":10,\"solidity\":0.2}},\"type\":\"histogram\"}],\"scattergl\":[{\"type\":\"scattergl\",\"marker\":{\"colorbar\":{\"outlinewidth\":0,\"ticks\":\"\"}}}],\"scatter3d\":[{\"type\":\"scatter3d\",\"line\":{\"colorbar\":{\"outlinewidth\":0,\"ticks\":\"\"}},\"marker\":{\"colorbar\":{\"outlinewidth\":0,\"ticks\":\"\"}}}],\"scattermapbox\":[{\"type\":\"scattermapbox\",\"marker\":{\"colorbar\":{\"outlinewidth\":0,\"ticks\":\"\"}}}],\"scatterternary\":[{\"type\":\"scatterternary\",\"marker\":{\"colorbar\":{\"outlinewidth\":0,\"ticks\":\"\"}}}],\"scattercarpet\":[{\"type\":\"scattercarpet\",\"marker\":{\"colorbar\":{\"outlinewidth\":0,\"ticks\":\"\"}}}],\"carpet\":[{\"aaxis\":{\"endlinecolor\":\"#2a3f5f\",\"gridcolor\":\"white\",\"linecolor\":\"white\",\"minorgridcolor\":\"white\",\"startlinecolor\":\"#2a3f5f\"},\"baxis\":{\"endlinecolor\":\"#2a3f5f\",\"gridcolor\":\"white\",\"linecolor\":\"white\",\"minorgridcolor\":\"white\",\"startlinecolor\":\"#2a3f5f\"},\"type\":\"carpet\"}],\"table\":[{\"cells\":{\"fill\":{\"color\":\"#EBF0F8\"},\"line\":{\"color\":\"white\"}},\"header\":{\"fill\":{\"color\":\"#C8D4E3\"},\"line\":{\"color\":\"white\"}},\"type\":\"table\"}],\"barpolar\":[{\"marker\":{\"line\":{\"color\":\"#E5ECF6\",\"width\":0.5},\"pattern\":{\"fillmode\":\"overlay\",\"size\":10,\"solidity\":0.2}},\"type\":\"barpolar\"}],\"pie\":[{\"automargin\":true,\"type\":\"pie\"}]},\"layout\":{\"autotypenumbers\":\"strict\",\"colorway\":[\"#636efa\",\"#EF553B\",\"#00cc96\",\"#ab63fa\",\"#FFA15A\",\"#19d3f3\",\"#FF6692\",\"#B6E880\",\"#FF97FF\",\"#FECB52\"],\"font\":{\"color\":\"#2a3f5f\"},\"hovermode\":\"closest\",\"hoverlabel\":{\"align\":\"left\"},\"paper_bgcolor\":\"white\",\"plot_bgcolor\":\"#E5ECF6\",\"polar\":{\"bgcolor\":\"#E5ECF6\",\"angularaxis\":{\"gridcolor\":\"white\",\"linecolor\":\"white\",\"ticks\":\"\"},\"radialaxis\":{\"gridcolor\":\"white\",\"linecolor\":\"white\",\"ticks\":\"\"}},\"ternary\":{\"bgcolor\":\"#E5ECF6\",\"aaxis\":{\"gridcolor\":\"white\",\"linecolor\":\"white\",\"ticks\":\"\"},\"baxis\":{\"gridcolor\":\"white\",\"linecolor\":\"white\",\"ticks\":\"\"},\"caxis\":{\"gridcolor\":\"white\",\"linecolor\":\"white\",\"ticks\":\"\"}},\"coloraxis\":{\"colorbar\":{\"outlinewidth\":0,\"ticks\":\"\"}},\"colorscale\":{\"sequential\":[[0.0,\"#0d0887\"],[0.1111111111111111,\"#46039f\"],[0.2222222222222222,\"#7201a8\"],[0.3333333333333333,\"#9c179e\"],[0.4444444444444444,\"#bd3786\"],[0.5555555555555556,\"#d8576b\"],[0.6666666666666666,\"#ed7953\"],[0.7777777777777778,\"#fb9f3a\"],[0.8888888888888888,\"#fdca26\"],[1.0,\"#f0f921\"]],\"sequentialminus\":[[0.0,\"#0d0887\"],[0.1111111111111111,\"#46039f\"],[0.2222222222222222,\"#7201a8\"],[0.3333333333333333,\"#9c179e\"],[0.4444444444444444,\"#bd3786\"],[0.5555555555555556,\"#d8576b\"],[0.6666666666666666,\"#ed7953\"],[0.7777777777777778,\"#fb9f3a\"],[0.8888888888888888,\"#fdca26\"],[1.0,\"#f0f921\"]],\"diverging\":[[0,\"#8e0152\"],[0.1,\"#c51b7d\"],[0.2,\"#de77ae\"],[0.3,\"#f1b6da\"],[0.4,\"#fde0ef\"],[0.5,\"#f7f7f7\"],[0.6,\"#e6f5d0\"],[0.7,\"#b8e186\"],[0.8,\"#7fbc41\"],[0.9,\"#4d9221\"],[1,\"#276419\"]]},\"xaxis\":{\"gridcolor\":\"white\",\"linecolor\":\"white\",\"ticks\":\"\",\"title\":{\"standoff\":15},\"zerolinecolor\":\"white\",\"automargin\":true,\"zerolinewidth\":2},\"yaxis\":{\"gridcolor\":\"white\",\"linecolor\":\"white\",\"ticks\":\"\",\"title\":{\"standoff\":15},\"zerolinecolor\":\"white\",\"automargin\":true,\"zerolinewidth\":2},\"scene\":{\"xaxis\":{\"backgroundcolor\":\"#E5ECF6\",\"gridcolor\":\"white\",\"linecolor\":\"white\",\"showbackground\":true,\"ticks\":\"\",\"zerolinecolor\":\"white\",\"gridwidth\":2},\"yaxis\":{\"backgroundcolor\":\"#E5ECF6\",\"gridcolor\":\"white\",\"linecolor\":\"white\",\"showbackground\":true,\"ticks\":\"\",\"zerolinecolor\":\"white\",\"gridwidth\":2},\"zaxis\":{\"backgroundcolor\":\"#E5ECF6\",\"gridcolor\":\"white\",\"linecolor\":\"white\",\"showbackground\":true,\"ticks\":\"\",\"zerolinecolor\":\"white\",\"gridwidth\":2}},\"shapedefaults\":{\"line\":{\"color\":\"#2a3f5f\"}},\"annotationdefaults\":{\"arrowcolor\":\"#2a3f5f\",\"arrowhead\":0,\"arrowwidth\":1},\"geo\":{\"bgcolor\":\"white\",\"landcolor\":\"#E5ECF6\",\"subunitcolor\":\"white\",\"showland\":true,\"showlakes\":true,\"lakecolor\":\"white\"},\"title\":{\"x\":0.05},\"mapbox\":{\"style\":\"light\"}}},\"xaxis\":{\"anchor\":\"y\",\"domain\":[0.0,0.7363],\"title\":{\"text\":\"Drug\"}},\"yaxis\":{\"anchor\":\"x\",\"domain\":[0.0,0.7326],\"title\":{\"text\":\"ZOI_drug\"}},\"xaxis2\":{\"anchor\":\"y2\",\"domain\":[0.7413,1.0],\"matches\":\"x2\",\"showticklabels\":false,\"showline\":false,\"ticks\":\"\",\"showgrid\":true},\"yaxis2\":{\"anchor\":\"x2\",\"domain\":[0.0,0.7326],\"matches\":\"y\",\"showticklabels\":false,\"showgrid\":true},\"xaxis3\":{\"anchor\":\"y3\",\"domain\":[0.0,0.7363],\"matches\":\"x\",\"showticklabels\":false,\"showgrid\":true},\"yaxis3\":{\"anchor\":\"x3\",\"domain\":[0.7426,1.0],\"matches\":\"y3\",\"showticklabels\":false,\"showline\":false,\"ticks\":\"\",\"showgrid\":true},\"xaxis4\":{\"anchor\":\"y4\",\"domain\":[0.7413,1.0],\"matches\":\"x2\",\"showticklabels\":false,\"showgrid\":true,\"showline\":false,\"ticks\":\"\"},\"yaxis4\":{\"anchor\":\"x4\",\"domain\":[0.7426,1.0],\"matches\":\"y3\",\"showticklabels\":false,\"showline\":false,\"ticks\":\"\",\"showgrid\":true},\"legend\":{\"title\":{\"text\":\"color\"},\"tracegroupgap\":0},\"margin\":{\"t\":60},\"barmode\":\"overlay\"},                        {\"responsive\": true}                    ).then(function(){\n",
              "                            \n",
              "var gd = document.getElementById('5c2b9ade-276d-437f-badc-401cd548ff26');\n",
              "var x = new MutationObserver(function (mutations, observer) {{\n",
              "        var display = window.getComputedStyle(gd).display;\n",
              "        if (!display || display === 'none') {{\n",
              "            console.log([gd, 'removed!']);\n",
              "            Plotly.purge(gd);\n",
              "            observer.disconnect();\n",
              "        }}\n",
              "}});\n",
              "\n",
              "// Listen for the removal of the full notebook cells\n",
              "var notebookContainer = gd.closest('#notebook-container');\n",
              "if (notebookContainer) {{\n",
              "    x.observe(notebookContainer, {childList: true});\n",
              "}}\n",
              "\n",
              "// Listen for the clearing of the current output cell\n",
              "var outputEl = gd.closest('.output');\n",
              "if (outputEl) {{\n",
              "    x.observe(outputEl, {childList: true});\n",
              "}}\n",
              "\n",
              "                        })                };                            </script>        </div>\n",
              "</body>\n",
              "</html>"
            ]
          },
          "metadata": {}
        }
      ]
    },
    {
      "cell_type": "code",
      "source": [
        "df_ = df.copy()\n",
        "df_['mark'] = df.Drug_dose.isna()\n",
        "corr = df_.corr()\n",
        "# corr = corr[np.abs(corr) > 0.5]\n",
        "sns.heatmap(corr, cmap='viridis', yticklabels=True, mask = np.abs(corr) < 0.4)\n",
        "# сильно коррелирует отсутствие значения только с Drug_dose\n",
        "\n",
        "part_df = df[[\n",
        "    'NP_concentration',\n",
        "    'NP size_min',\n",
        "    'NP size_max',\n",
        "    \"MDR_check\",\n",
        "    \"gram\",\n",
        "    \"min_Incub_period, h\",\n",
        "    \"growth_temp, C\",\n",
        "]]\n",
        "\n"
      ],
      "metadata": {
        "colab": {
          "base_uri": "https://localhost:8080/",
          "height": 699
        },
        "id": "nHwx76nfVYm_",
        "outputId": "cdaa64a3-c203-44eb-9bed-55ddcaa7d018"
      },
      "execution_count": null,
      "outputs": [
        {
          "output_type": "stream",
          "name": "stderr",
          "text": [
            "<ipython-input-82-b80a9ec3414c>:3: FutureWarning:\n",
            "\n",
            "The default value of numeric_only in DataFrame.corr is deprecated. In a future version, it will default to False. Select only valid columns or specify the value of numeric_only to silence this warning.\n",
            "\n"
          ]
        },
        {
          "output_type": "display_data",
          "data": {
            "text/plain": [
              "<Figure size 640x480 with 2 Axes>"
            ],
            "image/png": "[encoded data removed]"
          },
          "metadata": {}
        }
      ]
    },
    {
      "cell_type": "code",
      "source": [
        "fig = px.histogram(df, x=\"\", marginal=\"rug\", color=((df.isna().sum(axis=1) == 1)) & (df.ZOI_NP.isna()))\n",
        "fig.show()\n"
      ],
      "metadata": {
        "colab": {
          "base_uri": "https://localhost:8080/",
          "height": 505
        },
        "id": "fugViDOlX7F6",
        "outputId": "d9cffb90-e17e-4f09-d829-844960338f29"
      },
      "execution_count": null,
      "outputs": [
        {
          "output_type": "error",
          "ename": "ValueError",
          "evalue": "ignored",
          "traceback": [
            "\u001b[0;31m---------------------------------------------------------------------------\u001b[0m",
            "\u001b[0;31mValueError\u001b[0m                                Traceback (most recent call last)",
            "\u001b[0;32m<ipython-input-77-242b44154b30>\u001b[0m in \u001b[0;36m<cell line: 1>\u001b[0;34m()\u001b[0m\n\u001b[0;32m----> 1\u001b[0;31m \u001b[0mfig\u001b[0m \u001b[0;34m=\u001b[0m \u001b[0mpx\u001b[0m\u001b[0;34m.\u001b[0m\u001b[0mhistogram\u001b[0m\u001b[0;34m(\u001b[0m\u001b[0mdf\u001b[0m\u001b[0;34m,\u001b[0m \u001b[0mx\u001b[0m\u001b[0;34m=\u001b[0m\u001b[0;34m\"\"\u001b[0m\u001b[0;34m,\u001b[0m \u001b[0mmarginal\u001b[0m\u001b[0;34m=\u001b[0m\u001b[0;34m\"rug\"\u001b[0m\u001b[0;34m,\u001b[0m \u001b[0mcolor\u001b[0m\u001b[0;34m=\u001b[0m\u001b[0;34m(\u001b[0m\u001b[0;34m(\u001b[0m\u001b[0mdf\u001b[0m\u001b[0;34m.\u001b[0m\u001b[0misna\u001b[0m\u001b[0;34m(\u001b[0m\u001b[0;34m)\u001b[0m\u001b[0;34m.\u001b[0m\u001b[0msum\u001b[0m\u001b[0;34m(\u001b[0m\u001b[0maxis\u001b[0m\u001b[0;34m=\u001b[0m\u001b[0;36m1\u001b[0m\u001b[0;34m)\u001b[0m \u001b[0;34m==\u001b[0m \u001b[0;36m1\u001b[0m\u001b[0;34m)\u001b[0m\u001b[0;34m)\u001b[0m \u001b[0;34m&\u001b[0m \u001b[0;34m(\u001b[0m\u001b[0mdf\u001b[0m\u001b[0;34m.\u001b[0m\u001b[0mZOI_NP\u001b[0m\u001b[0;34m.\u001b[0m\u001b[0misna\u001b[0m\u001b[0;34m(\u001b[0m\u001b[0;34m)\u001b[0m\u001b[0;34m)\u001b[0m\u001b[0;34m)\u001b[0m\u001b[0;34m\u001b[0m\u001b[0;34m\u001b[0m\u001b[0m\n\u001b[0m\u001b[1;32m      2\u001b[0m \u001b[0mfig\u001b[0m\u001b[0;34m.\u001b[0m\u001b[0mshow\u001b[0m\u001b[0;34m(\u001b[0m\u001b[0;34m)\u001b[0m\u001b[0;34m\u001b[0m\u001b[0;34m\u001b[0m\u001b[0m\n",
            "\u001b[0;32m/usr/local/lib/python3.10/dist-packages/plotly/express/_chart_types.py\u001b[0m in \u001b[0;36mhistogram\u001b[0;34m(data_frame, x, y, color, pattern_shape, facet_row, facet_col, facet_col_wrap, facet_row_spacing, facet_col_spacing, hover_name, hover_data, animation_frame, animation_group, category_orders, labels, color_discrete_sequence, color_discrete_map, pattern_shape_sequence, pattern_shape_map, marginal, opacity, orientation, barmode, barnorm, histnorm, log_x, log_y, range_x, range_y, histfunc, cumulative, nbins, text_auto, title, template, width, height)\u001b[0m\n\u001b[1;32m    478\u001b[0m     `orientation` is `'h'`).\n\u001b[1;32m    479\u001b[0m     \"\"\"\n\u001b[0;32m--> 480\u001b[0;31m     return make_figure(\n\u001b[0m\u001b[1;32m    481\u001b[0m         \u001b[0margs\u001b[0m\u001b[0;34m=\u001b[0m\u001b[0mlocals\u001b[0m\u001b[0;34m(\u001b[0m\u001b[0;34m)\u001b[0m\u001b[0;34m,\u001b[0m\u001b[0;34m\u001b[0m\u001b[0;34m\u001b[0m\u001b[0m\n\u001b[1;32m    482\u001b[0m         \u001b[0mconstructor\u001b[0m\u001b[0;34m=\u001b[0m\u001b[0mgo\u001b[0m\u001b[0;34m.\u001b[0m\u001b[0mHistogram\u001b[0m\u001b[0;34m,\u001b[0m\u001b[0;34m\u001b[0m\u001b[0;34m\u001b[0m\u001b[0m\n",
            "\u001b[0;32m/usr/local/lib/python3.10/dist-packages/plotly/express/_core.py\u001b[0m in \u001b[0;36mmake_figure\u001b[0;34m(args, constructor, trace_patch, layout_patch)\u001b[0m\n\u001b[1;32m   1989\u001b[0m     \u001b[0mapply_default_cascade\u001b[0m\u001b[0;34m(\u001b[0m\u001b[0margs\u001b[0m\u001b[0;34m)\u001b[0m\u001b[0;34m\u001b[0m\u001b[0;34m\u001b[0m\u001b[0m\n\u001b[1;32m   1990\u001b[0m \u001b[0;34m\u001b[0m\u001b[0m\n\u001b[0;32m-> 1991\u001b[0;31m     \u001b[0margs\u001b[0m \u001b[0;34m=\u001b[0m \u001b[0mbuild_dataframe\u001b[0m\u001b[0;34m(\u001b[0m\u001b[0margs\u001b[0m\u001b[0;34m,\u001b[0m \u001b[0mconstructor\u001b[0m\u001b[0;34m)\u001b[0m\u001b[0;34m\u001b[0m\u001b[0;34m\u001b[0m\u001b[0m\n\u001b[0m\u001b[1;32m   1992\u001b[0m     \u001b[0;32mif\u001b[0m \u001b[0mconstructor\u001b[0m \u001b[0;32min\u001b[0m \u001b[0;34m[\u001b[0m\u001b[0mgo\u001b[0m\u001b[0;34m.\u001b[0m\u001b[0mTreemap\u001b[0m\u001b[0;34m,\u001b[0m \u001b[0mgo\u001b[0m\u001b[0;34m.\u001b[0m\u001b[0mSunburst\u001b[0m\u001b[0;34m,\u001b[0m \u001b[0mgo\u001b[0m\u001b[0;34m.\u001b[0m\u001b[0mIcicle\u001b[0m\u001b[0;34m]\u001b[0m \u001b[0;32mand\u001b[0m \u001b[0margs\u001b[0m\u001b[0;34m[\u001b[0m\u001b[0;34m\"path\"\u001b[0m\u001b[0;34m]\u001b[0m \u001b[0;32mis\u001b[0m \u001b[0;32mnot\u001b[0m \u001b[0;32mNone\u001b[0m\u001b[0;34m:\u001b[0m\u001b[0;34m\u001b[0m\u001b[0;34m\u001b[0m\u001b[0m\n\u001b[1;32m   1993\u001b[0m         \u001b[0margs\u001b[0m \u001b[0;34m=\u001b[0m \u001b[0mprocess_dataframe_hierarchy\u001b[0m\u001b[0;34m(\u001b[0m\u001b[0margs\u001b[0m\u001b[0;34m)\u001b[0m\u001b[0;34m\u001b[0m\u001b[0;34m\u001b[0m\u001b[0m\n",
            "\u001b[0;32m/usr/local/lib/python3.10/dist-packages/plotly/express/_core.py\u001b[0m in \u001b[0;36mbuild_dataframe\u001b[0;34m(args, constructor)\u001b[0m\n\u001b[1;32m   1404\u001b[0m     \u001b[0;31m# now that things have been prepped, we do the systematic rewriting of `args`\u001b[0m\u001b[0;34m\u001b[0m\u001b[0;34m\u001b[0m\u001b[0m\n\u001b[1;32m   1405\u001b[0m \u001b[0;34m\u001b[0m\u001b[0m\n\u001b[0;32m-> 1406\u001b[0;31m     df_output, wide_id_vars = process_args_into_dataframe(\n\u001b[0m\u001b[1;32m   1407\u001b[0m         \u001b[0margs\u001b[0m\u001b[0;34m,\u001b[0m \u001b[0mwide_mode\u001b[0m\u001b[0;34m,\u001b[0m \u001b[0mvar_name\u001b[0m\u001b[0;34m,\u001b[0m \u001b[0mvalue_name\u001b[0m\u001b[0;34m\u001b[0m\u001b[0;34m\u001b[0m\u001b[0m\n\u001b[1;32m   1408\u001b[0m     )\n",
            "\u001b[0;32m/usr/local/lib/python3.10/dist-packages/plotly/express/_core.py\u001b[0m in \u001b[0;36mprocess_args_into_dataframe\u001b[0;34m(args, wide_mode, var_name, value_name)\u001b[0m\n\u001b[1;32m   1206\u001b[0m                         \u001b[0;32mif\u001b[0m \u001b[0margument\u001b[0m \u001b[0;34m==\u001b[0m \u001b[0;34m\"index\"\u001b[0m\u001b[0;34m:\u001b[0m\u001b[0;34m\u001b[0m\u001b[0;34m\u001b[0m\u001b[0m\n\u001b[1;32m   1207\u001b[0m                             \u001b[0merr_msg\u001b[0m \u001b[0;34m+=\u001b[0m \u001b[0;34m\"\\n To use the index, pass it in directly as `df.index`.\"\u001b[0m\u001b[0;34m\u001b[0m\u001b[0;34m\u001b[0m\u001b[0m\n\u001b[0;32m-> 1208\u001b[0;31m                         \u001b[0;32mraise\u001b[0m \u001b[0mValueError\u001b[0m\u001b[0;34m(\u001b[0m\u001b[0merr_msg\u001b[0m\u001b[0;34m)\u001b[0m\u001b[0;34m\u001b[0m\u001b[0;34m\u001b[0m\u001b[0m\n\u001b[0m\u001b[1;32m   1209\u001b[0m                 \u001b[0;32melif\u001b[0m \u001b[0mlength\u001b[0m \u001b[0;32mand\u001b[0m \u001b[0mlen\u001b[0m\u001b[0;34m(\u001b[0m\u001b[0mdf_input\u001b[0m\u001b[0;34m[\u001b[0m\u001b[0margument\u001b[0m\u001b[0;34m]\u001b[0m\u001b[0;34m)\u001b[0m \u001b[0;34m!=\u001b[0m \u001b[0mlength\u001b[0m\u001b[0;34m:\u001b[0m\u001b[0;34m\u001b[0m\u001b[0;34m\u001b[0m\u001b[0m\n\u001b[1;32m   1210\u001b[0m                     raise ValueError(\n",
            "\u001b[0;31mValueError\u001b[0m: Value of 'x' is not the name of a column in 'data_frame'. Expected one of ['Bacteria', 'NP_Synthesis', 'Drug', 'Drug_class_drug_bank', 'Drug_dose', 'NP_concentration', 'NP size_min', 'NP size_max', 'shape', 'method', 'ZOI_drug', 'ZOI_NP', 'ZOI_drug_NP', 'MDR_check', 'Tax_id', 'genus', 'species', 'gram', 'min_Incub_period, h', 'growth_temp, C', 'biosafety_level', 'isolated_from', 'MolWt', 'MolLogP', 'fr_lactam', 'fr_lactone', 'NumAliphaticRings', 'NumAromaticCarbocycles', 'NumAromaticHeterocycles'] but received: "
          ]
        }
      ]
    },
    {
      "cell_type": "code",
      "source": [
        "from sklearn.preprocessing import MinMaxScaler\n",
        "from sklearn.impute import KNNImputer\n",
        "\n",
        "def impute_data(data_df_drug_extended):\n",
        "    index = data_df_drug_extended.index.copy()\n",
        "    drug_data = data_df_drug_extended.select_dtypes(np.number)  # для удобства\n",
        "\n",
        "    drug_scaler = MinMaxScaler()\n",
        "    drug_scaler.fit(drug_data.dropna())\n",
        "    drug_data_transformed = drug_scaler.transform(drug_data)\n",
        "\n",
        "    drug_imputer = KNNImputer(n_neighbors=5, weights='distance')\n",
        "    drug_imputer.fit(\n",
        "        drug_scaler.transform(drug_data.dropna())\n",
        "    )\n",
        "    imputed = drug_imputer.transform(drug_data_transformed)\n",
        "\n",
        "    imputed_drug_part = pd.DataFrame(\n",
        "        drug_scaler.inverse_transform(imputed), columns=drug_scaler.get_feature_names_out()\n",
        "    )\n",
        "\n",
        "    imputed_drug_part['index'] = index\n",
        "    imputed_drug_part.set_index('index', inplace=True)\n",
        "    categorical_columns = data_df_drug_extended.columns.drop(drug_data.columns)\n",
        "    imputed_drug_part[categorical_columns] = data_df_drug_extended[categorical_columns]\n",
        "    assert (data_df_drug_extended.index == imputed_drug_part.index).all()\n",
        "\n",
        "    return imputed_drug_part\n"
      ],
      "metadata": {
        "id": "yV1bHjjJazug"
      },
      "execution_count": null,
      "outputs": []
    },
    {
      "cell_type": "code",
      "source": [
        "# impute Drug_dose\n",
        "def impure_one_missing_param(df, param):\n",
        "    missing_cond = ((df[param].isna()) & (df.isna().sum(axis=1) == 1))\n",
        "    reference_cond = (df.isna().sum(axis=1) == 0)\n",
        "    df_ = df[\n",
        "        missing_cond | reference_cond\n",
        "    ]\n",
        "    print(df_.shape)\n",
        "    drug_data_imputed = impute_data(df_)\n",
        "    df.loc[missing_cond, param] = drug_data_imputed[[param]]\n",
        "\n",
        "impure_one_missing_param(df, 'Drug_dose')\n",
        "impure_one_missing_param(df, 'ZOI_NP')\n",
        "\n"
      ],
      "metadata": {
        "colab": {
          "base_uri": "https://localhost:8080/"
        },
        "id": "30yrrwDTb3EX",
        "outputId": "b0ac07b9-7e7a-482d-a7ba-c2e905d24296"
      },
      "execution_count": null,
      "outputs": [
        {
          "output_type": "stream",
          "name": "stdout",
          "text": [
            "(60, 29)\n",
            "(439, 29)\n"
          ]
        }
      ]
    },
    {
      "cell_type": "code",
      "source": [
        "# df.isna().sum(axis=1).unique() # 2 3 4 11 12 13\n",
        "df[\n",
        "    (df.isna().sum(axis=1) == 2)\n",
        "     & (~df.Drug_dose.isna())\n",
        "    # & (df.NP_concentration.isna())\n",
        "    & (df.ZOI_drug.isna())\n",
        "].isna().sum()\n",
        "# impure_one_missing_param()\n",
        "\n"
      ],
      "metadata": {
        "colab": {
          "base_uri": "https://localhost:8080/"
        },
        "id": "a95l7PbFgbb6",
        "outputId": "b49cb2cc-8056-4585-d661-b0ca95cc48e2"
      },
      "execution_count": null,
      "outputs": [
        {
          "output_type": "execute_result",
          "data": {
            "text/plain": [
              "Bacteria                    0\n",
              "NP_Synthesis                0\n",
              "Drug                        0\n",
              "Drug_class_drug_bank        0\n",
              "Drug_dose                   0\n",
              "NP_concentration            0\n",
              "NP size_min                 0\n",
              "NP size_max                 0\n",
              "shape                       0\n",
              "method                      0\n",
              "ZOI_drug                   14\n",
              "ZOI_NP                     14\n",
              "ZOI_drug_NP                 0\n",
              "MDR_check                   0\n",
              "Tax_id                      0\n",
              "genus                       0\n",
              "species                     0\n",
              "gram                        0\n",
              "min_Incub_period, h         0\n",
              "growth_temp, C              0\n",
              "biosafety_level             0\n",
              "isolated_from               0\n",
              "MolWt                       0\n",
              "MolLogP                     0\n",
              "fr_lactam                   0\n",
              "fr_lactone                  0\n",
              "NumAliphaticRings           0\n",
              "NumAromaticCarbocycles      0\n",
              "NumAromaticHeterocycles     0\n",
              "dtype: int64"
            ]
          },
          "metadata": {},
          "execution_count": 98
        }
      ]
    },
    {
      "cell_type": "code",
      "source": [
        "missing_cond = ((df['ZOI_drug'].isna()) & (df.isna().sum(axis=1) == 2) & (~df['ZOI_NP'].isna()))\n",
        "reference_cond = (df.isna().sum(axis=1) == 0)\n",
        "df_ = df[\n",
        "    missing_cond | reference_cond\n",
        "]\n",
        "print(df_.shape)\n",
        "drug_data_imputed = impute_data(df_)\n",
        "df.loc[missing_cond, 'ZOI_drug'] = drug_data_imputed[['ZOI_drug']]"
      ],
      "metadata": {
        "colab": {
          "base_uri": "https://localhost:8080/",
          "height": 432
        },
        "id": "QDjNkgEtehco",
        "outputId": "1f6b7cb5-b914-4f10-94de-7bc1aac2be47"
      },
      "execution_count": null,
      "outputs": [
        {
          "output_type": "stream",
          "name": "stdout",
          "text": [
            "(439, 29)\n"
          ]
        },
        {
          "output_type": "error",
          "ename": "ValueError",
          "evalue": "ignored",
          "traceback": [
            "\u001b[0;31m---------------------------------------------------------------------------\u001b[0m",
            "\u001b[0;31mValueError\u001b[0m                                Traceback (most recent call last)",
            "\u001b[0;32m<ipython-input-102-b085adecd60a>\u001b[0m in \u001b[0;36m<cell line: 8>\u001b[0;34m()\u001b[0m\n\u001b[1;32m      6\u001b[0m \u001b[0mprint\u001b[0m\u001b[0;34m(\u001b[0m\u001b[0mdf_\u001b[0m\u001b[0;34m.\u001b[0m\u001b[0mshape\u001b[0m\u001b[0;34m)\u001b[0m\u001b[0;34m\u001b[0m\u001b[0;34m\u001b[0m\u001b[0m\n\u001b[1;32m      7\u001b[0m \u001b[0mdrug_data_imputed\u001b[0m \u001b[0;34m=\u001b[0m \u001b[0mimpute_data\u001b[0m\u001b[0;34m(\u001b[0m\u001b[0mdf_\u001b[0m\u001b[0;34m)\u001b[0m\u001b[0;34m\u001b[0m\u001b[0;34m\u001b[0m\u001b[0m\n\u001b[0;32m----> 8\u001b[0;31m \u001b[0mdf\u001b[0m\u001b[0;34m.\u001b[0m\u001b[0mloc\u001b[0m\u001b[0;34m[\u001b[0m\u001b[0mmissing_cond\u001b[0m\u001b[0;34m,\u001b[0m \u001b[0;34m'ZOI_drug'\u001b[0m\u001b[0;34m]\u001b[0m \u001b[0;34m=\u001b[0m \u001b[0mdrug_data_imputed\u001b[0m\u001b[0;34m[\u001b[0m\u001b[0;34m[\u001b[0m\u001b[0;34m'ZOI_drug'\u001b[0m\u001b[0;34m]\u001b[0m\u001b[0;34m]\u001b[0m\u001b[0;34m\u001b[0m\u001b[0;34m\u001b[0m\u001b[0m\n\u001b[0m",
            "\u001b[0;32m/usr/local/lib/python3.10/dist-packages/pandas/core/indexing.py\u001b[0m in \u001b[0;36m__setitem__\u001b[0;34m(self, key, value)\u001b[0m\n\u001b[1;32m    816\u001b[0m \u001b[0;34m\u001b[0m\u001b[0m\n\u001b[1;32m    817\u001b[0m         \u001b[0miloc\u001b[0m \u001b[0;34m=\u001b[0m \u001b[0mself\u001b[0m \u001b[0;32mif\u001b[0m \u001b[0mself\u001b[0m\u001b[0;34m.\u001b[0m\u001b[0mname\u001b[0m \u001b[0;34m==\u001b[0m \u001b[0;34m\"iloc\"\u001b[0m \u001b[0;32melse\u001b[0m \u001b[0mself\u001b[0m\u001b[0;34m.\u001b[0m\u001b[0mobj\u001b[0m\u001b[0;34m.\u001b[0m\u001b[0miloc\u001b[0m\u001b[0;34m\u001b[0m\u001b[0;34m\u001b[0m\u001b[0m\n\u001b[0;32m--> 818\u001b[0;31m         \u001b[0miloc\u001b[0m\u001b[0;34m.\u001b[0m\u001b[0m_setitem_with_indexer\u001b[0m\u001b[0;34m(\u001b[0m\u001b[0mindexer\u001b[0m\u001b[0;34m,\u001b[0m \u001b[0mvalue\u001b[0m\u001b[0;34m,\u001b[0m \u001b[0mself\u001b[0m\u001b[0;34m.\u001b[0m\u001b[0mname\u001b[0m\u001b[0;34m)\u001b[0m\u001b[0;34m\u001b[0m\u001b[0;34m\u001b[0m\u001b[0m\n\u001b[0m\u001b[1;32m    819\u001b[0m \u001b[0;34m\u001b[0m\u001b[0m\n\u001b[1;32m    820\u001b[0m     \u001b[0;32mdef\u001b[0m \u001b[0m_validate_key\u001b[0m\u001b[0;34m(\u001b[0m\u001b[0mself\u001b[0m\u001b[0;34m,\u001b[0m \u001b[0mkey\u001b[0m\u001b[0;34m,\u001b[0m \u001b[0maxis\u001b[0m\u001b[0;34m:\u001b[0m \u001b[0mint\u001b[0m\u001b[0;34m)\u001b[0m\u001b[0;34m:\u001b[0m\u001b[0;34m\u001b[0m\u001b[0;34m\u001b[0m\u001b[0m\n",
            "\u001b[0;32m/usr/local/lib/python3.10/dist-packages/pandas/core/indexing.py\u001b[0m in \u001b[0;36m_setitem_with_indexer\u001b[0;34m(self, indexer, value, name)\u001b[0m\n\u001b[1;32m   1793\u001b[0m         \u001b[0;32mif\u001b[0m \u001b[0mtake_split_path\u001b[0m\u001b[0;34m:\u001b[0m\u001b[0;34m\u001b[0m\u001b[0;34m\u001b[0m\u001b[0m\n\u001b[1;32m   1794\u001b[0m             \u001b[0;31m# We have to operate column-wise\u001b[0m\u001b[0;34m\u001b[0m\u001b[0;34m\u001b[0m\u001b[0m\n\u001b[0;32m-> 1795\u001b[0;31m             \u001b[0mself\u001b[0m\u001b[0;34m.\u001b[0m\u001b[0m_setitem_with_indexer_split_path\u001b[0m\u001b[0;34m(\u001b[0m\u001b[0mindexer\u001b[0m\u001b[0;34m,\u001b[0m \u001b[0mvalue\u001b[0m\u001b[0;34m,\u001b[0m \u001b[0mname\u001b[0m\u001b[0;34m)\u001b[0m\u001b[0;34m\u001b[0m\u001b[0;34m\u001b[0m\u001b[0m\n\u001b[0m\u001b[1;32m   1796\u001b[0m         \u001b[0;32melse\u001b[0m\u001b[0;34m:\u001b[0m\u001b[0;34m\u001b[0m\u001b[0;34m\u001b[0m\u001b[0m\n\u001b[1;32m   1797\u001b[0m             \u001b[0mself\u001b[0m\u001b[0;34m.\u001b[0m\u001b[0m_setitem_single_block\u001b[0m\u001b[0;34m(\u001b[0m\u001b[0mindexer\u001b[0m\u001b[0;34m,\u001b[0m \u001b[0mvalue\u001b[0m\u001b[0;34m,\u001b[0m \u001b[0mname\u001b[0m\u001b[0;34m)\u001b[0m\u001b[0;34m\u001b[0m\u001b[0;34m\u001b[0m\u001b[0m\n",
            "\u001b[0;32m/usr/local/lib/python3.10/dist-packages/pandas/core/indexing.py\u001b[0m in \u001b[0;36m_setitem_with_indexer_split_path\u001b[0;34m(self, indexer, value, name)\u001b[0m\n\u001b[1;32m   1829\u001b[0m \u001b[0;34m\u001b[0m\u001b[0m\n\u001b[1;32m   1830\u001b[0m             \u001b[0;32mif\u001b[0m \u001b[0misinstance\u001b[0m\u001b[0;34m(\u001b[0m\u001b[0mvalue\u001b[0m\u001b[0;34m,\u001b[0m \u001b[0mABCDataFrame\u001b[0m\u001b[0;34m)\u001b[0m\u001b[0;34m:\u001b[0m\u001b[0;34m\u001b[0m\u001b[0;34m\u001b[0m\u001b[0m\n\u001b[0;32m-> 1831\u001b[0;31m                 \u001b[0mself\u001b[0m\u001b[0;34m.\u001b[0m\u001b[0m_setitem_with_indexer_frame_value\u001b[0m\u001b[0;34m(\u001b[0m\u001b[0mindexer\u001b[0m\u001b[0;34m,\u001b[0m \u001b[0mvalue\u001b[0m\u001b[0;34m,\u001b[0m \u001b[0mname\u001b[0m\u001b[0;34m)\u001b[0m\u001b[0;34m\u001b[0m\u001b[0;34m\u001b[0m\u001b[0m\n\u001b[0m\u001b[1;32m   1832\u001b[0m \u001b[0;34m\u001b[0m\u001b[0m\n\u001b[1;32m   1833\u001b[0m             \u001b[0;32melif\u001b[0m \u001b[0mnp\u001b[0m\u001b[0;34m.\u001b[0m\u001b[0mndim\u001b[0m\u001b[0;34m(\u001b[0m\u001b[0mvalue\u001b[0m\u001b[0;34m)\u001b[0m \u001b[0;34m==\u001b[0m \u001b[0;36m2\u001b[0m\u001b[0;34m:\u001b[0m\u001b[0;34m\u001b[0m\u001b[0;34m\u001b[0m\u001b[0m\n",
            "\u001b[0;32m/usr/local/lib/python3.10/dist-packages/pandas/core/indexing.py\u001b[0m in \u001b[0;36m_setitem_with_indexer_frame_value\u001b[0;34m(self, indexer, value, name)\u001b[0m\n\u001b[1;32m   1953\u001b[0m                     \u001b[0mval\u001b[0m \u001b[0;34m=\u001b[0m \u001b[0mnp\u001b[0m\u001b[0;34m.\u001b[0m\u001b[0mnan\u001b[0m\u001b[0;34m\u001b[0m\u001b[0;34m\u001b[0m\u001b[0m\n\u001b[1;32m   1954\u001b[0m \u001b[0;34m\u001b[0m\u001b[0m\n\u001b[0;32m-> 1955\u001b[0;31m                 \u001b[0mself\u001b[0m\u001b[0;34m.\u001b[0m\u001b[0m_setitem_single_column\u001b[0m\u001b[0;34m(\u001b[0m\u001b[0mloc\u001b[0m\u001b[0;34m,\u001b[0m \u001b[0mval\u001b[0m\u001b[0;34m,\u001b[0m \u001b[0mpi\u001b[0m\u001b[0;34m)\u001b[0m\u001b[0;34m\u001b[0m\u001b[0;34m\u001b[0m\u001b[0m\n\u001b[0m\u001b[1;32m   1956\u001b[0m \u001b[0;34m\u001b[0m\u001b[0m\n\u001b[1;32m   1957\u001b[0m     \u001b[0;32mdef\u001b[0m \u001b[0m_setitem_single_column\u001b[0m\u001b[0;34m(\u001b[0m\u001b[0mself\u001b[0m\u001b[0;34m,\u001b[0m \u001b[0mloc\u001b[0m\u001b[0;34m:\u001b[0m \u001b[0mint\u001b[0m\u001b[0;34m,\u001b[0m \u001b[0mvalue\u001b[0m\u001b[0;34m,\u001b[0m \u001b[0mplane_indexer\u001b[0m\u001b[0;34m)\u001b[0m\u001b[0;34m:\u001b[0m\u001b[0;34m\u001b[0m\u001b[0;34m\u001b[0m\u001b[0m\n",
            "\u001b[0;32m/usr/local/lib/python3.10/dist-packages/pandas/core/indexing.py\u001b[0m in \u001b[0;36m_setitem_single_column\u001b[0;34m(self, loc, value, plane_indexer)\u001b[0m\n\u001b[1;32m   1990\u001b[0m             \u001b[0;31m# set value into the column (first attempting to operate inplace, then\u001b[0m\u001b[0;34m\u001b[0m\u001b[0;34m\u001b[0m\u001b[0m\n\u001b[1;32m   1991\u001b[0m             \u001b[0;31m#  falling back to casting if necessary)\u001b[0m\u001b[0;34m\u001b[0m\u001b[0;34m\u001b[0m\u001b[0m\n\u001b[0;32m-> 1992\u001b[0;31m             \u001b[0mself\u001b[0m\u001b[0;34m.\u001b[0m\u001b[0mobj\u001b[0m\u001b[0;34m.\u001b[0m\u001b[0m_mgr\u001b[0m\u001b[0;34m.\u001b[0m\u001b[0mcolumn_setitem\u001b[0m\u001b[0;34m(\u001b[0m\u001b[0mloc\u001b[0m\u001b[0;34m,\u001b[0m \u001b[0mplane_indexer\u001b[0m\u001b[0;34m,\u001b[0m \u001b[0mvalue\u001b[0m\u001b[0;34m)\u001b[0m\u001b[0;34m\u001b[0m\u001b[0;34m\u001b[0m\u001b[0m\n\u001b[0m\u001b[1;32m   1993\u001b[0m             \u001b[0mself\u001b[0m\u001b[0;34m.\u001b[0m\u001b[0mobj\u001b[0m\u001b[0;34m.\u001b[0m\u001b[0m_clear_item_cache\u001b[0m\u001b[0;34m(\u001b[0m\u001b[0;34m)\u001b[0m\u001b[0;34m\u001b[0m\u001b[0;34m\u001b[0m\u001b[0m\n\u001b[1;32m   1994\u001b[0m             \u001b[0;32mreturn\u001b[0m\u001b[0;34m\u001b[0m\u001b[0;34m\u001b[0m\u001b[0m\n",
            "\u001b[0;32m/usr/local/lib/python3.10/dist-packages/pandas/core/internals/managers.py\u001b[0m in \u001b[0;36mcolumn_setitem\u001b[0;34m(self, loc, idx, value, inplace)\u001b[0m\n\u001b[1;32m   1389\u001b[0m             \u001b[0mcol_mgr\u001b[0m\u001b[0;34m.\u001b[0m\u001b[0msetitem_inplace\u001b[0m\u001b[0;34m(\u001b[0m\u001b[0midx\u001b[0m\u001b[0;34m,\u001b[0m \u001b[0mvalue\u001b[0m\u001b[0;34m)\u001b[0m\u001b[0;34m\u001b[0m\u001b[0;34m\u001b[0m\u001b[0m\n\u001b[1;32m   1390\u001b[0m         \u001b[0;32melse\u001b[0m\u001b[0;34m:\u001b[0m\u001b[0;34m\u001b[0m\u001b[0;34m\u001b[0m\u001b[0m\n\u001b[0;32m-> 1391\u001b[0;31m             \u001b[0mnew_mgr\u001b[0m \u001b[0;34m=\u001b[0m \u001b[0mcol_mgr\u001b[0m\u001b[0;34m.\u001b[0m\u001b[0msetitem\u001b[0m\u001b[0;34m(\u001b[0m\u001b[0;34m(\u001b[0m\u001b[0midx\u001b[0m\u001b[0;34m,\u001b[0m\u001b[0;34m)\u001b[0m\u001b[0;34m,\u001b[0m \u001b[0mvalue\u001b[0m\u001b[0;34m)\u001b[0m\u001b[0;34m\u001b[0m\u001b[0;34m\u001b[0m\u001b[0m\n\u001b[0m\u001b[1;32m   1392\u001b[0m             \u001b[0mself\u001b[0m\u001b[0;34m.\u001b[0m\u001b[0miset\u001b[0m\u001b[0;34m(\u001b[0m\u001b[0mloc\u001b[0m\u001b[0;34m,\u001b[0m \u001b[0mnew_mgr\u001b[0m\u001b[0;34m.\u001b[0m\u001b[0m_block\u001b[0m\u001b[0;34m.\u001b[0m\u001b[0mvalues\u001b[0m\u001b[0;34m,\u001b[0m \u001b[0minplace\u001b[0m\u001b[0;34m=\u001b[0m\u001b[0;32mTrue\u001b[0m\u001b[0;34m)\u001b[0m\u001b[0;34m\u001b[0m\u001b[0;34m\u001b[0m\u001b[0m\n\u001b[1;32m   1393\u001b[0m \u001b[0;34m\u001b[0m\u001b[0m\n",
            "\u001b[0;32m/usr/local/lib/python3.10/dist-packages/pandas/core/internals/managers.py\u001b[0m in \u001b[0;36msetitem\u001b[0;34m(self, indexer, value)\u001b[0m\n\u001b[1;32m    391\u001b[0m             \u001b[0mself\u001b[0m \u001b[0;34m=\u001b[0m \u001b[0mself\u001b[0m\u001b[0;34m.\u001b[0m\u001b[0mcopy\u001b[0m\u001b[0;34m(\u001b[0m\u001b[0;34m)\u001b[0m\u001b[0;34m\u001b[0m\u001b[0;34m\u001b[0m\u001b[0m\n\u001b[1;32m    392\u001b[0m \u001b[0;34m\u001b[0m\u001b[0m\n\u001b[0;32m--> 393\u001b[0;31m         \u001b[0;32mreturn\u001b[0m \u001b[0mself\u001b[0m\u001b[0;34m.\u001b[0m\u001b[0mapply\u001b[0m\u001b[0;34m(\u001b[0m\u001b[0;34m\"setitem\"\u001b[0m\u001b[0;34m,\u001b[0m \u001b[0mindexer\u001b[0m\u001b[0;34m=\u001b[0m\u001b[0mindexer\u001b[0m\u001b[0;34m,\u001b[0m \u001b[0mvalue\u001b[0m\u001b[0;34m=\u001b[0m\u001b[0mvalue\u001b[0m\u001b[0;34m)\u001b[0m\u001b[0;34m\u001b[0m\u001b[0;34m\u001b[0m\u001b[0m\n\u001b[0m\u001b[1;32m    394\u001b[0m \u001b[0;34m\u001b[0m\u001b[0m\n\u001b[1;32m    395\u001b[0m     \u001b[0;32mdef\u001b[0m \u001b[0mputmask\u001b[0m\u001b[0;34m(\u001b[0m\u001b[0mself\u001b[0m\u001b[0;34m,\u001b[0m \u001b[0mmask\u001b[0m\u001b[0;34m,\u001b[0m \u001b[0mnew\u001b[0m\u001b[0;34m,\u001b[0m \u001b[0malign\u001b[0m\u001b[0;34m:\u001b[0m \u001b[0mbool\u001b[0m \u001b[0;34m=\u001b[0m \u001b[0;32mTrue\u001b[0m\u001b[0;34m)\u001b[0m\u001b[0;34m:\u001b[0m\u001b[0;34m\u001b[0m\u001b[0;34m\u001b[0m\u001b[0m\n",
            "\u001b[0;32m/usr/local/lib/python3.10/dist-packages/pandas/core/internals/managers.py\u001b[0m in \u001b[0;36mapply\u001b[0;34m(self, f, align_keys, ignore_failures, **kwargs)\u001b[0m\n\u001b[1;32m    350\u001b[0m                     \u001b[0mapplied\u001b[0m \u001b[0;34m=\u001b[0m \u001b[0mb\u001b[0m\u001b[0;34m.\u001b[0m\u001b[0mapply\u001b[0m\u001b[0;34m(\u001b[0m\u001b[0mf\u001b[0m\u001b[0;34m,\u001b[0m \u001b[0;34m**\u001b[0m\u001b[0mkwargs\u001b[0m\u001b[0;34m)\u001b[0m\u001b[0;34m\u001b[0m\u001b[0;34m\u001b[0m\u001b[0m\n\u001b[1;32m    351\u001b[0m                 \u001b[0;32melse\u001b[0m\u001b[0;34m:\u001b[0m\u001b[0;34m\u001b[0m\u001b[0;34m\u001b[0m\u001b[0m\n\u001b[0;32m--> 352\u001b[0;31m                     \u001b[0mapplied\u001b[0m \u001b[0;34m=\u001b[0m \u001b[0mgetattr\u001b[0m\u001b[0;34m(\u001b[0m\u001b[0mb\u001b[0m\u001b[0;34m,\u001b[0m \u001b[0mf\u001b[0m\u001b[0;34m)\u001b[0m\u001b[0;34m(\u001b[0m\u001b[0;34m**\u001b[0m\u001b[0mkwargs\u001b[0m\u001b[0;34m)\u001b[0m\u001b[0;34m\u001b[0m\u001b[0;34m\u001b[0m\u001b[0m\n\u001b[0m\u001b[1;32m    353\u001b[0m             \u001b[0;32mexcept\u001b[0m \u001b[0;34m(\u001b[0m\u001b[0mTypeError\u001b[0m\u001b[0;34m,\u001b[0m \u001b[0mNotImplementedError\u001b[0m\u001b[0;34m)\u001b[0m\u001b[0;34m:\u001b[0m\u001b[0;34m\u001b[0m\u001b[0;34m\u001b[0m\u001b[0m\n\u001b[1;32m    354\u001b[0m                 \u001b[0;32mif\u001b[0m \u001b[0;32mnot\u001b[0m \u001b[0mignore_failures\u001b[0m\u001b[0;34m:\u001b[0m\u001b[0;34m\u001b[0m\u001b[0;34m\u001b[0m\u001b[0m\n",
            "\u001b[0;32m/usr/local/lib/python3.10/dist-packages/pandas/core/internals/blocks.py\u001b[0m in \u001b[0;36msetitem\u001b[0;34m(self, indexer, value)\u001b[0m\n\u001b[1;32m    984\u001b[0m                     \u001b[0;31m#  test_iloc_setitem_custom_object\u001b[0m\u001b[0;34m\u001b[0m\u001b[0;34m\u001b[0m\u001b[0m\n\u001b[1;32m    985\u001b[0m                     \u001b[0mcasted\u001b[0m \u001b[0;34m=\u001b[0m \u001b[0msetitem_datetimelike_compat\u001b[0m\u001b[0;34m(\u001b[0m\u001b[0mvalues\u001b[0m\u001b[0;34m,\u001b[0m \u001b[0mlen\u001b[0m\u001b[0;34m(\u001b[0m\u001b[0mvi\u001b[0m\u001b[0;34m)\u001b[0m\u001b[0;34m,\u001b[0m \u001b[0mcasted\u001b[0m\u001b[0;34m)\u001b[0m\u001b[0;34m\u001b[0m\u001b[0;34m\u001b[0m\u001b[0m\n\u001b[0;32m--> 986\u001b[0;31m             \u001b[0mvalues\u001b[0m\u001b[0;34m[\u001b[0m\u001b[0mindexer\u001b[0m\u001b[0;34m]\u001b[0m \u001b[0;34m=\u001b[0m \u001b[0mcasted\u001b[0m\u001b[0;34m\u001b[0m\u001b[0;34m\u001b[0m\u001b[0m\n\u001b[0m\u001b[1;32m    987\u001b[0m         \u001b[0;32mreturn\u001b[0m \u001b[0mself\u001b[0m\u001b[0;34m\u001b[0m\u001b[0;34m\u001b[0m\u001b[0m\n\u001b[1;32m    988\u001b[0m \u001b[0;34m\u001b[0m\u001b[0m\n",
            "\u001b[0;31mValueError\u001b[0m: NumPy boolean array indexing assignment cannot assign 439 input values to the 0 output values where the mask is true"
          ]
        }
      ]
    },
    {
      "cell_type": "code",
      "source": [],
      "metadata": {
        "id": "KjQFR2s7WzD1"
      },
      "execution_count": null,
      "outputs": []
    },
    {
      "cell_type": "markdown",
      "source": [],
      "metadata": {
        "id": "FXP6n7akWp80"
      }
    },
    {
      "cell_type": "markdown",
      "source": [
        "# Функция split - разделение на тест и трейн"
      ],
      "metadata": {
        "id": "lp8AfcnhfGcY"
      }
    },
    {
      "cell_type": "code",
      "source": [
        "#пока сделаем OneHot\n",
        "df = df.drop(columns = ['ZOI_NP','drug'])\n",
        "condition = ((df['method'] == 'disc_diffusion') | (df['method'] == 'well_diffusion'))\n",
        "df1 = df[condition]\n",
        "df2 = df[~condition]\n",
        "df1=df1.dropna()\n",
        "df5=pd.get_dummies(df1)\n",
        "df5.info()"
      ],
      "metadata": {
        "id": "1Q6qJkD9eQ7-"
      },
      "execution_count": null,
      "outputs": []
    },
    {
      "cell_type": "code",
      "source": [
        "target = \"ZOI_drug_NP\"\n",
        "def split(df, target):\n",
        "  X_train, X_test, y_train, y_test = train_test_split(df.drop(columns = target,axis=1), df[target], test_size=0.3, random_state=42)\n",
        "  cols = df.columns.tolist()\n",
        "  columns_to_remove = [target]\n",
        "  cols = list(filter(lambda x: x not in columns_to_remove, cols))\n",
        "  from sklearn.preprocessing import MinMaxScaler\n",
        "  scaler = MinMaxScaler()\n",
        "  sclr = scaler.fit(X_train)\n",
        "  X_train = pd.DataFrame(scaler.transform(X_train), columns=cols)\n",
        "  X_test = pd.DataFrame(scaler.transform(X_test), columns=cols)\n",
        "  return (X_train, X_test, y_train, y_test)\n",
        "X_train, X_test, y_train, y_test = split(df5,target)"
      ],
      "metadata": {
        "id": "nHsQX4rEfGcZ"
      },
      "execution_count": null,
      "outputs": []
    },
    {
      "cell_type": "markdown",
      "source": [
        "# Функция Random Forest"
      ],
      "metadata": {
        "id": "tg9p7wHDfGcZ"
      }
    },
    {
      "cell_type": "code",
      "source": [
        "from sklearn.metrics import  mean_squared_error\n",
        "def RF(X_train, y_train, X_test, y_test):\n",
        "  regr = RandomForestRegressor(random_state=0, n_estimators=174, max_depth=15, oob_score = True)\n",
        "  regr.fit(X_train, y_train)\n",
        "  explainer = shap.TreeExplainer(regr)\n",
        "  shap_values = explainer(X_train)\n",
        "  predicted = regr.predict(X_test)\n",
        "\n",
        "  fig, ax = plt.subplots()\n",
        "  ax.scatter(y_test, predicted, edgecolors=(0, 0, 0))\n",
        "  ax.plot([y_test.min(), y_test.max()], [y_test.min(), y_test.max()], 'k--', lw=4)\n",
        "  ax.set_xlabel('Measured')\n",
        "  ax.set_ylabel('Predicted')\n",
        "  plt.show()\n",
        "\n",
        "  mse = mean_squared_error(y_test, predicted)\n",
        "  rmse = np.sqrt(mse)\n",
        "\n",
        "   # Рассчет RMSE в процентах\n",
        "  rmse_percentage = (rmse / np.mean(y_test)) * 100\n",
        "\n",
        "  # Вывод результатов\n",
        "  print(\"RMSE:\", rmse)\n",
        "  print(\"RMSE в процентах:\", rmse_percentage)\n",
        "  print(r2_score(y_test, predicted))\n",
        "  shap.summary_plot(shap_values, X_train, plot_type='bar')\n",
        "  return(regr)"
      ],
      "metadata": {
        "id": "KrWSILc6fGcZ"
      },
      "execution_count": null,
      "outputs": []
    },
    {
      "cell_type": "code",
      "source": [
        "r = RF(X_train, y_train, X_test, y_test)"
      ],
      "metadata": {
        "id": "7gDUAIl8kDS2"
      },
      "execution_count": null,
      "outputs": []
    },
    {
      "cell_type": "code",
      "source": [
        "df5.info()"
      ],
      "metadata": {
        "id": "Je7z3IBXmhSw"
      },
      "execution_count": null,
      "outputs": []
    },
    {
      "cell_type": "markdown",
      "source": [
        "# Что пытался делать **Арсен**"
      ],
      "metadata": {
        "id": "RqJig1ECIok4"
      }
    },
    {
      "cell_type": "code",
      "source": [
        "# df = pd.read_csv('https://raw.githubusercontent.com/Riddars/Hakaton/main/Final(no).csv', index_col=0)"
      ],
      "metadata": {
        "id": "boWwSbfHGsJX"
      },
      "execution_count": null,
      "outputs": []
    },
    {
      "cell_type": "code",
      "source": [
        "# import pandas as pd\n",
        "# from sklearn.preprocessing import StandardScaler\n",
        "# from sklearn.impute import SimpleImputer\n",
        "# from sklearn.model_selection import train_test_split\n",
        "# # Удаление строк с пропущенными значениями\n",
        "# df.dropna(inplace=True)\n",
        "# # Разделение данных на признаки (X) и целевую переменную (y)\n",
        "# X = df[['NP_concentration', 'NP size_min', 'NP size_max', 'ZOI_drug', 'MDR_check']]\n",
        "# y = df['ZOI_drug_NP']\n",
        "# # Шкалирование признаков с использованием стандартного масштабирования\n",
        "# scaler = StandardScaler()\n",
        "# X_scaled = scaler.fit_transform(X)\n",
        "# # Импьютация пропущенных значений с использованием средних значений\n",
        "# imputer = SimpleImputer(strategy='mean')\n",
        "# X_imputed = imputer.fit_transform(X_scaled)\n",
        "\n",
        "# # Разделение данных на обучающий и тестовый наборы\n",
        "# X_train, X_test, y_train, y_test = train_test_split(X_imputed, y, test_size=0.2, random_state=42)"
      ],
      "metadata": {
        "id": "m3CfZRYIGqGz"
      },
      "execution_count": null,
      "outputs": []
    },
    {
      "cell_type": "code",
      "source": [
        "# # Импорт необходимых библиотек\n",
        "# from sklearn.linear_model import LinearRegression\n",
        "# from sklearn.model_selection import train_test_split\n",
        "# from sklearn.metrics import mean_squared_error\n",
        "# from sklearn.metrics import r2_score\n",
        "# import matplotlib.pyplot as plt\n",
        "# import numpy as np\n",
        "\n",
        "# # Разделение данных на признаки (X) и целевую переменную (y)\n",
        "# X = df[['NP_concentration', 'NP size_min', 'NP size_max', 'ZOI_drug', 'MDR_check']]\n",
        "# y = df['ZOI_drug_NP']\n",
        "\n",
        "# # Разделение данных на обучающий и тестовый наборы\n",
        "# X_train, X_test, y_train, y_test = train_test_split(X, y, test_size=0.2, random_state=42)\n",
        "\n",
        "# # Создание и обучение модели линейной регрессии\n",
        "# model = LinearRegression()\n",
        "# model.fit(X_train, y_train)\n",
        "\n",
        "# # Предсказание на тестовом наборе\n",
        "# y_pred = model.predict(X_test)\n",
        "\n",
        "# # Вычисление среднеквадратичной ошибки (MSE)\n",
        "# mse = mean_squared_error(y_test, y_pred)\n",
        "# print('Среднеквадратичная ошибка:', mse)\n",
        "\n",
        "# # Рассчитываем коэффициент детерминации\n",
        "# r2 = r2_score(y_test, y_pred)\n",
        "# print('Коэффициент детерминации (R^2):', r2)\n",
        "\n",
        "# # Визуализация рассеяния фактических значений и предсказанных значений\n",
        "# plt.scatter(y_test, y_pred)\n",
        "# plt.xlabel('Фактические значения')\n",
        "# plt.ylabel('Предсказанные значения')\n",
        "# plt.title('Рассеяние: Фактические значения vs Предсказанные значения')\n",
        "# plt.show()\n",
        "\n",
        "# # Визуализация линии регрессии\n",
        "# plt.plot(y_test, y_test, color='red', label='Идеальное соответствие')\n",
        "# plt.plot(y_test, y_pred, 'o', color='blue', label='Линия регрессии')\n",
        "# plt.xlabel('Фактические значения')\n",
        "# plt.ylabel('Предсказанные значения')\n",
        "# plt.title('Линия регрессии: Фактические значения vs Предсказанные значения')\n",
        "# plt.legend()\n",
        "# plt.show()"
      ],
      "metadata": {
        "id": "rKrPMQKZGjgD"
      },
      "execution_count": null,
      "outputs": []
    },
    {
      "cell_type": "code",
      "source": [
        "# import tensorflow as tf\n",
        "# from tensorflow import keras\n",
        "# from sklearn.model_selection import train_test_split\n",
        "# from sklearn.preprocessing import StandardScaler\n",
        "# import matplotlib.pyplot as plt\n",
        "\n",
        "# # Загрузка данных из CSV файла\n",
        "# data = df\n",
        "\n",
        "# # Разделение на признаки и целевую переменную\n",
        "# X = data.drop('ZOI_drug_NP', axis=1)\n",
        "# y = data['ZOI_drug_NP']\n",
        "\n",
        "# # Масштабирование признаков\n",
        "# scaler = StandardScaler()\n",
        "# X_scaled = scaler.fit_transform(df.drop(columns=[\"species\", \"genus\", \"family\", \"order\", \"class\", \"kingdom\", \"phylum\", \"ZOI_drug_NP\"]))\n",
        "\n",
        "# # Разделение на обучающую и тестовую выборки\n",
        "# X_train, X_test, y_train, y_test = train_test_split(X_scaled, y, test_size=0.2, random_state=42)\n",
        "\n",
        "# # Создание модели нейронной сети\n",
        "# model = keras.Sequential([\n",
        "#     keras.layers.Dense(64, activation='relu', input_shape=(X_train.shape[1],)),\n",
        "#     keras.layers.Dropout(0.2),\n",
        "#     keras.layers.Dense(64, activation='relu'),\n",
        "#     keras.layers.BatchNormalization(),\n",
        "#     keras.layers.Dense(1)\n",
        "# ])\n",
        "\n",
        "# # Компиляция модели с метрикой accuracy\n",
        "# model.compile(optimizer='adam', loss='mean_squared_error', metrics=['accuracy'])\n",
        "\n",
        "# # Обучение модели\n",
        "# history = model.fit(X_train, y_train, epochs=100, validation_split=0.2)\n",
        "\n",
        "# # Оценка модели на тестовой выборке\n",
        "# loss, accuracy = model.evaluate(X_test, y_test)\n",
        "\n",
        "# # Вывод результатов\n",
        "# print('Test Loss:', loss)\n",
        "# print('Test Accuracy:', accuracy)\n",
        "\n",
        "# # Построение графика обучения\n",
        "# plt.plot(history.history['loss'])\n",
        "# plt.plot(history.history['val_loss'])\n",
        "# plt.title('Model Loss')\n",
        "# plt.ylabel('Loss')\n",
        "# plt.xlabel('Epoch')\n",
        "# plt.legend(['Train', 'Validation'], loc='upper right')\n",
        "# plt.show()"
      ],
      "metadata": {
        "id": "kUCezIkPGvVp"
      },
      "execution_count": null,
      "outputs": []
    },
    {
      "cell_type": "code",
      "source": [
        "# from sklearn.preprocessing import OneHotEncoder\n",
        "\n",
        "# # Создание экземпляра OneHotEncoder\n",
        "# encoder = OneHotEncoder(sparse=False)\n",
        "\n",
        "# # Преобразование категориальных признаков методом OneHotEncoding\n",
        "# encoded_features = encoder.fit_transform(df[categorical_features])\n",
        "\n",
        "# # Получение имен категорий\n",
        "# feature_names = encoder.get_feature_names_out(categorical_features)\n",
        "\n",
        "# # Создание датафрейма из преобразованных признаков с префиксом \"encoded_\"\n",
        "# encoded_df = pd.DataFrame(encoded_features, columns=[f'encoded_{name}' for name in feature_names])\n",
        "\n",
        "# # Переименование столбцов в encoded_df (если необходимо)\n",
        "# encoded_df = encoded_df.rename(columns={'old_name': 'new_name'})\n",
        "\n",
        "# # Объединение преобразованных признаков с исходным датафреймом\n",
        "# df = pd.concat([df, encoded_df])\n",
        "\n",
        "# # Удаление исходных категориальных признаков\n",
        "# df = df.drop(columns=categorical_features)"
      ],
      "metadata": {
        "id": "jyTHpbXEG08z"
      },
      "execution_count": null,
      "outputs": []
    },
    {
      "cell_type": "code",
      "source": [
        "cat = r'''\n",
        " /\\_/\\\n",
        "( o.o )\n",
        " > ^ <\n",
        "'''\n",
        "\n",
        "print(cat)"
      ],
      "metadata": {
        "id": "68obPjkQMoqJ"
      },
      "execution_count": null,
      "outputs": []
    },
    {
      "cell_type": "markdown",
      "source": [
        "# вторая попытка в немного в другом стиле (Лев)"
      ],
      "metadata": {
        "id": "v6ZNa5Ymg8cl"
      }
    },
    {
      "cell_type": "markdown",
      "source": [
        "## get data_df"
      ],
      "metadata": {
        "id": "ITOOJmFThfJx"
      }
    },
    {
      "cell_type": "code",
      "source": [
        "## for preprocessing results\n",
        "\n",
        "def data_df_fix_column_types(df):\n",
        "    start_len = len(data_df)\n",
        "    data_df[\"shape\"] = data_df[\"shape\"].astype(\"category\")\n",
        "    data_df[\"method\"] = data_df[\"method\"].astype(\"category\")\n",
        "\n",
        "    # 32+ насколько оно больше непонятно, при этом из всего 10 - можно пожертвовать\n",
        "    # Escherichia coli\t, Actinobacillus pleuropneumoniae\n",
        "    # chem_synthesis_reduction_by_D_maltose\n",
        "    data_df.drop(\n",
        "        data_df[data_df.ZOI_drug_NP == '32+'].index, inplace=True)\n",
        "    data_df.drop(\n",
        "        data_df[data_df.ZOI_drug == '32+'].index, inplace=True)\n",
        "    data_df['ZOI_drug'] = data_df.ZOI_drug.astype(float)\n",
        "\n",
        "    # 50+ замечено 7 штук\n",
        "    data_df.drop(\n",
        "        data_df[data_df.ZOI_NP == '50+'].index,inplace=True)\n",
        "    # # 4000 <- перед ними последнее значение это 220. Из всего 3\n",
        "    # data_df.drop(\n",
        "    #     data_df[data_df.ZOI_NP == '4000'].index,inplace=True)\n",
        "    data_df[\"ZOI_NP\"] = data_df.ZOI_NP.astype(float)\n",
        "\n",
        "\n",
        "    # 17+2 <- это вероятно 17 +/- 2\n",
        "    # data_df.drop(\n",
        "    #     data_df[data_df.ZOI_drug_NP == '17+2'].index, inplace=True)\n",
        "    data_df[\"ZOI_drug_NP\"] = data_df[\"ZOI_drug_NP\"].replace('17+2', 17)\n",
        "    data_df[\"ZOI_drug_NP\"] = data_df.ZOI_drug_NP.astype(float)\n",
        "\n",
        "    # NP_concentration 170/85/*\n",
        "    '''\n",
        "    если посмотреть на:\n",
        "    mask_ = (data_df.NP_concentration.str.contains(\"170/85/\")) | (data_df.NP_concentration == '42.5')\n",
        "    data_df[mask_].sort_values(\"Bacteria\").set_index(\"Bacteria\")\n",
        "    такое преобразование выглядит разымным\n",
        "    '''\n",
        "    data_df[\"NP_concentration\"] = (data_df[\"NP_concentration\"]\n",
        "                                        .apply(lambda x : float(str(x).split('/')[-1]))\n",
        "                                )\n",
        "    finish_len = len(data_df)\n",
        "    print(\"Было удалено :\", start_len - finish_len, \"строк\")\n"
      ],
      "metadata": {
        "id": "IVza0v42hI7B"
      },
      "execution_count": null,
      "outputs": []
    },
    {
      "cell_type": "code",
      "source": [
        "def replace_bacteria_in_data_df(data_df):\n",
        "    data_df.replace('Bacillus spp.        ', 'Bacillus sp.', inplace=True)\n",
        "    data_df.replace('Acinetobacter baumanii', 'Acinetobacter baumannii', inplace=True)\n",
        "    data_df.replace('Actinobacillus pleuropneumoniae ', 'Actinobacillus pleuropneumoniae', inplace=True)\n",
        "    # data_df.replace('Candida glochares', 'Candida glochares', inplace=True) # ??? заменить само на себя?\n",
        "\n",
        "    data_df.replace('Enterobacter cloacae ', 'Enterobacter cloacae', inplace=True)\n",
        "    data_df.replace('Salmonella  typhi', 'Salmonella typhi', inplace=True)\n",
        "    data_df.replace('Salmonella Paratyphi', 'Salmonella enterica', inplace=True) # https://www.ncbi.nlm.nih.gov/datasets/taxonomy/54388/\n",
        "    # data_df.replace('Serratia marcescens', 'Serratia marcescens', inplace=True)  # ??? заменить само на себя?\n",
        "\n",
        "\n",
        "    # unrecoverable\n",
        "    data_df.drop(\n",
        "        data_df[\n",
        "            (data_df.Bacteria == 'Serratia marcescens') | ((data_df.Bacteria == 'Candida glochares'))\n",
        "        ].index,\n",
        "        inplace=True\n",
        "    )\n"
      ],
      "metadata": {
        "id": "Mv-SUfyshVz2"
      },
      "execution_count": null,
      "outputs": []
    },
    {
      "cell_type": "code",
      "source": [
        "data_df = pd.read_csv('https://raw.githubusercontent.com/Riddars/Hakaton/main/data.csv', index_col=0)\n",
        "data_df.set_index('Unnamed: 0') # чтобы можно было дентифизировать элементы\n",
        "data_df_fix_column_types(data_df)\n",
        "replace_bacteria_in_data_df(data_df)\n",
        "# data_df.head(2)"
      ],
      "metadata": {
        "colab": {
          "base_uri": "https://localhost:8080/"
        },
        "id": "HgURtwsXhAhm",
        "outputId": "a80aceda-1b97-4644-df30-c0d00d8d2653"
      },
      "execution_count": null,
      "outputs": [
        {
          "output_type": "stream",
          "name": "stdout",
          "text": [
            "Было удалено : 17 строк\n"
          ]
        }
      ]
    },
    {
      "cell_type": "markdown",
      "source": [
        "## get bacteria_descriptors_df"
      ],
      "metadata": {
        "id": "XANSQ00rhiLG"
      }
    },
    {
      "cell_type": "code",
      "source": [
        "# fix some grams\n",
        "def popluate_missing_gram_in_bacteria_descriplots(bacterial_descriptors_df):\n",
        "    bacterial_descriptors_df[bacterial_descriptors_df.gram.isna()].Bacteria.value_counts()\n",
        "\n",
        "    bacterial_descriptors_df.loc[\n",
        "        bacterial_descriptors_df.Bacteria.isin(\n",
        "            ['Candida albicans',\n",
        "            'Candida glabrata',\n",
        "            'Candida saitoana',\n",
        "            'Micrococcus luteus',\n",
        "            'Staphylococcus aureus'\n",
        "            'Staphylococcus epidermidis',\n",
        "            'Bacillus subtilis',\n",
        "            'Bacillus sp.',\n",
        "            ])\n",
        "    , 'gram'\n",
        "    ] = 'p'\n",
        "\n",
        "    bacterial_descriptors_df.loc[\n",
        "        bacterial_descriptors_df.Bacteria.isin(\n",
        "    [\n",
        "                'Neisseria mucosa',\n",
        "                'Escherichia coli',\n",
        "                'Salmonella enterica',\n",
        "                'Salmonella typhi',\n",
        "                'Klebsiella pneumonia',\n",
        "                'Pseudomonas aeruginosa',\n",
        "                'Vibrio parahaemolyticus',\n",
        "                'Serratia odorifera',\n",
        "                'Pseudomonas koreensis',\n",
        "                'Haemophilus influenzae',\n",
        "            ])\n",
        "    , 'gram'\n",
        "    ] = 'n'\n"
      ],
      "metadata": {
        "id": "IXeyV36Whxml"
      },
      "execution_count": null,
      "outputs": []
    },
    {
      "cell_type": "code",
      "source": [
        "# расстояние на бактериях\n",
        "import networkx as nx\n",
        "\n",
        "bacteria_taxonomy_descriptors = [\n",
        "    'kingdom', 'subkingdom', 'clade',\n",
        "    'phylum', 'class', 'order', 'family', 'genus', 'Bacteria']\n",
        "# добавить расстояния на графе таксономии\n",
        "def make_graph_better(bacterial_descriptors_df):\n",
        "    '''\n",
        "    Строит филогенетический граф\n",
        "    '''\n",
        "    tax_df = bacterial_descriptors_df.loc[:,bacteria_taxonomy_descriptors] # копирует\n",
        "    gg_ = nx.Graph()\n",
        "    for top_node in tax_df['kingdom']: # чтобы был связным\n",
        "        gg_.add_edge('root', top_node)\n",
        "\n",
        "    for parents, childs in zip(bacteria_taxonomy_descriptors, bacteria_taxonomy_descriptors[1:]):\n",
        "        tax_df[childs] = tax_df.loc[:, [childs]].fillna(childs) # уникальный NaN для кадждого столбца\n",
        "        edge_lst = tax_df[[parents, childs]].values\n",
        "        gg_.add_edges_from(edge_lst)\n",
        "\n",
        "    # gg_.remove_node(np.nan)\n",
        "    # nx.draw_spring(gg_)\n",
        "    return gg_\n",
        "\n",
        "\n",
        "def get_distances(bacterial_descriptors_df, df):\n",
        "    '''Берёт из графа расстояния и отфильтровывает только нужные\n",
        "    '''\n",
        "    g_= make_graph_better(bacterial_descriptors_df)\n",
        "    lengths = dict(nx.all_pairs_shortest_path_length(g_))\n",
        "    rv = {key: lengths[key] for key in df.Bacteria.unique()}\n",
        "    return rv\n",
        "\n",
        "\n",
        "def populate_distances_to_df(df,bacterial_descriptors_df):\n",
        "    df = df.copy()\n",
        "    distances = get_distances(bacterial_descriptors_df, df)\n",
        "    for bacteria in distances.keys():\n",
        "        df['d_to_' + bacteria] = df.Bacteria.map(distances[bacteria])\n",
        "    # return df.loc[:, df.columns.str.startswith('d_to_')] # посмотреть на расстояния\n",
        "    return df\n",
        "\n",
        "def remove_bacteria_taxonomy_descriptors_from_df(df):\n",
        "    df.drop(columns=bacteria_taxonomy_descriptors[:-2], inplace=True)\n",
        "\n",
        "# bacterial_descriptors_df = populate_distances_to_df(bacterial_descriptors_df, df)\n",
        "# remove_bacteria_taxonomy_descriptors_from_df(df)\n",
        "\n"
      ],
      "metadata": {
        "id": "K5XUMrVsjiuz"
      },
      "execution_count": null,
      "outputs": []
    },
    {
      "cell_type": "code",
      "source": [
        "bacterial_descriptors_df = pd.read_csv('https://raw.githubusercontent.com/Riddars/Hakaton/main/bacterial_descriptors.csv')\n",
        "popluate_missing_gram_in_bacteria_descriplots(bacterial_descriptors_df)\n",
        "bacterial_descriptors_df.head(2)"
      ],
      "metadata": {
        "colab": {
          "base_uri": "https://localhost:8080/",
          "height": 245
        },
        "id": "Qu5EnBHShXTv",
        "outputId": "9598414b-e5fb-4cc9-c0cb-199033f539d8"
      },
      "execution_count": null,
      "outputs": [
        {
          "output_type": "execute_result",
          "data": {
            "text/plain": [
              "    Tax_id                         Bacteria   kingdom subkingdom clade  \\\n",
              "0  ['470']          Acinetobacter baumannii  Bacteria        NaN   NaN   \n",
              "1  ['715']  Actinobacillus pleuropneumoniae  Bacteria        NaN   NaN   \n",
              "\n",
              "           phylum                class           order           family  \\\n",
              "0  Pseudomonadota  Gammaproteobacteria    Moraxellales    Moraxellaceae   \n",
              "1  Pseudomonadota  Gammaproteobacteria  Pasteurellales  Pasteurellaceae   \n",
              "\n",
              "            genus                                        species gram  \\\n",
              "0   Acinetobacter  Acinetobacter calcoaceticus/baumannii complex    n   \n",
              "1  Actinobacillus                Actinobacillus pleuropneumoniae    n   \n",
              "\n",
              "   min_Incub_period, h  avg_Incub_period, h  max_Incub_period, h  \\\n",
              "0                 24.0                 36.0                 48.0   \n",
              "1                 24.0                 36.0                 48.0   \n",
              "\n",
              "   growth_temp, C  biosafety_level isolated_from  \n",
              "0              37                2         urine  \n",
              "1              37                2         lungs  "
            ],
            "text/html": [
              "\n",
              "  <div id=\"df-157798c7-1c87-44f8-abc4-af2da0018795\">\n",
              "    <div class=\"colab-df-container\">\n",
              "      <div>\n",
              "<style scoped>\n",
              "    .dataframe tbody tr th:only-of-type {\n",
              "        vertical-align: middle;\n",
              "    }\n",
              "\n",
              "    .dataframe tbody tr th {\n",
              "        vertical-align: top;\n",
              "    }\n",
              "\n",
              "    .dataframe thead th {\n",
              "        text-align: right;\n",
              "    }\n",
              "</style>\n",
              "<table border=\"1\" class=\"dataframe\">\n",
              "  <thead>\n",
              "    <tr style=\"text-align: right;\">\n",
              "      <th></th>\n",
              "      <th>Tax_id</th>\n",
              "      <th>Bacteria</th>\n",
              "      <th>kingdom</th>\n",
              "      <th>subkingdom</th>\n",
              "      <th>clade</th>\n",
              "      <th>phylum</th>\n",
              "      <th>class</th>\n",
              "      <th>order</th>\n",
              "      <th>family</th>\n",
              "      <th>genus</th>\n",
              "      <th>species</th>\n",
              "      <th>gram</th>\n",
              "      <th>min_Incub_period, h</th>\n",
              "      <th>avg_Incub_period, h</th>\n",
              "      <th>max_Incub_period, h</th>\n",
              "      <th>growth_temp, C</th>\n",
              "      <th>biosafety_level</th>\n",
              "      <th>isolated_from</th>\n",
              "    </tr>\n",
              "  </thead>\n",
              "  <tbody>\n",
              "    <tr>\n",
              "      <th>0</th>\n",
              "      <td>['470']</td>\n",
              "      <td>Acinetobacter baumannii</td>\n",
              "      <td>Bacteria</td>\n",
              "      <td>NaN</td>\n",
              "      <td>NaN</td>\n",
              "      <td>Pseudomonadota</td>\n",
              "      <td>Gammaproteobacteria</td>\n",
              "      <td>Moraxellales</td>\n",
              "      <td>Moraxellaceae</td>\n",
              "      <td>Acinetobacter</td>\n",
              "      <td>Acinetobacter calcoaceticus/baumannii complex</td>\n",
              "      <td>n</td>\n",
              "      <td>24.0</td>\n",
              "      <td>36.0</td>\n",
              "      <td>48.0</td>\n",
              "      <td>37</td>\n",
              "      <td>2</td>\n",
              "      <td>urine</td>\n",
              "    </tr>\n",
              "    <tr>\n",
              "      <th>1</th>\n",
              "      <td>['715']</td>\n",
              "      <td>Actinobacillus pleuropneumoniae</td>\n",
              "      <td>Bacteria</td>\n",
              "      <td>NaN</td>\n",
              "      <td>NaN</td>\n",
              "      <td>Pseudomonadota</td>\n",
              "      <td>Gammaproteobacteria</td>\n",
              "      <td>Pasteurellales</td>\n",
              "      <td>Pasteurellaceae</td>\n",
              "      <td>Actinobacillus</td>\n",
              "      <td>Actinobacillus pleuropneumoniae</td>\n",
              "      <td>n</td>\n",
              "      <td>24.0</td>\n",
              "      <td>36.0</td>\n",
              "      <td>48.0</td>\n",
              "      <td>37</td>\n",
              "      <td>2</td>\n",
              "      <td>lungs</td>\n",
              "    </tr>\n",
              "  </tbody>\n",
              "</table>\n",
              "</div>\n",
              "      <button class=\"colab-df-convert\" onclick=\"convertToInteractive('df-157798c7-1c87-44f8-abc4-af2da0018795')\"\n",
              "              title=\"Convert this dataframe to an interactive table.\"\n",
              "              style=\"display:none;\">\n",
              "        \n",
              "  <svg xmlns=\"http://www.w3.org/2000/svg\" height=\"24px\"viewBox=\"0 0 24 24\"\n",
              "       width=\"24px\">\n",
              "    <path d=\"M0 0h24v24H0V0z\" fill=\"none\"/>\n",
              "    <path d=\"M18.56 5.44l.94 2.06.94-2.06 2.06-.94-2.06-.94-.94-2.06-.94 2.06-2.06.94zm-11 1L8.5 8.5l.94-2.06 2.06-.94-2.06-.94L8.5 2.5l-.94 2.06-2.06.94zm10 10l.94 2.06.94-2.06 2.06-.94-2.06-.94-.94-2.06-.94 2.06-2.06.94z\"/><path d=\"M17.41 7.96l-1.37-1.37c-.4-.4-.92-.59-1.43-.59-.52 0-1.04.2-1.43.59L10.3 9.45l-7.72 7.72c-.78.78-.78 2.05 0 2.83L4 21.41c.39.39.9.59 1.41.59.51 0 1.02-.2 1.41-.59l7.78-7.78 2.81-2.81c.8-.78.8-2.07 0-2.86zM5.41 20L4 18.59l7.72-7.72 1.47 1.35L5.41 20z\"/>\n",
              "  </svg>\n",
              "      </button>\n",
              "      \n",
              "  <style>\n",
              "    .colab-df-container {\n",
              "      display:flex;\n",
              "      flex-wrap:wrap;\n",
              "      gap: 12px;\n",
              "    }\n",
              "\n",
              "    .colab-df-convert {\n",
              "      background-color: #E8F0FE;\n",
              "      border: none;\n",
              "      border-radius: 50%;\n",
              "      cursor: pointer;\n",
              "      display: none;\n",
              "      fill: #1967D2;\n",
              "      height: 32px;\n",
              "      padding: 0 0 0 0;\n",
              "      width: 32px;\n",
              "    }\n",
              "\n",
              "    .colab-df-convert:hover {\n",
              "      background-color: #E2EBFA;\n",
              "      box-shadow: 0px 1px 2px rgba(60, 64, 67, 0.3), 0px 1px 3px 1px rgba(60, 64, 67, 0.15);\n",
              "      fill: #174EA6;\n",
              "    }\n",
              "\n",
              "    [theme=dark] .colab-df-convert {\n",
              "      background-color: #3B4455;\n",
              "      fill: #D2E3FC;\n",
              "    }\n",
              "\n",
              "    [theme=dark] .colab-df-convert:hover {\n",
              "      background-color: #434B5C;\n",
              "      box-shadow: 0px 1px 3px 1px rgba(0, 0, 0, 0.15);\n",
              "      filter: drop-shadow(0px 1px 2px rgba(0, 0, 0, 0.3));\n",
              "      fill: #FFFFFF;\n",
              "    }\n",
              "  </style>\n",
              "\n",
              "      <script>\n",
              "        const buttonEl =\n",
              "          document.querySelector('#df-157798c7-1c87-44f8-abc4-af2da0018795 button.colab-df-convert');\n",
              "        buttonEl.style.display =\n",
              "          google.colab.kernel.accessAllowed ? 'block' : 'none';\n",
              "\n",
              "        async function convertToInteractive(key) {\n",
              "          const element = document.querySelector('#df-157798c7-1c87-44f8-abc4-af2da0018795');\n",
              "          const dataTable =\n",
              "            await google.colab.kernel.invokeFunction('convertToInteractive',\n",
              "                                                     [key], {});\n",
              "          if (!dataTable) return;\n",
              "\n",
              "          const docLinkHtml = 'Like what you see? Visit the ' +\n",
              "            '<a target=\"_blank\" href=https://colab.research.google.com/notebooks/data_table.ipynb>data table notebook</a>'\n",
              "            + ' to learn more about interactive tables.';\n",
              "          element.innerHTML = '';\n",
              "          dataTable['output_type'] = 'display_data';\n",
              "          await google.colab.output.renderOutput(dataTable, element);\n",
              "          const docLink = document.createElement('div');\n",
              "          docLink.innerHTML = docLinkHtml;\n",
              "          element.appendChild(docLink);\n",
              "        }\n",
              "      </script>\n",
              "    </div>\n",
              "  </div>\n",
              "  "
            ]
          },
          "metadata": {},
          "execution_count": 119
        }
      ]
    },
    {
      "cell_type": "markdown",
      "source": [
        "## get drug representation with additional"
      ],
      "metadata": {
        "id": "KhyZY_zjh5_d"
      }
    },
    {
      "cell_type": "code",
      "source": [
        "# Функция для добавления столбца с дескрипторами к датасету\n",
        "def calculate_descriptors(df, smiles_column, descriptor_list):\n",
        "    for descriptor_name in descriptor_list:\n",
        "        descriptor_values = [getattr(Descriptors, descriptor_name)(Chem.MolFromSmiles(smiles)) for smiles in df[smiles_column]]\n",
        "        df[descriptor_name] = pd.Series(np.array(descriptor_values), index=df.index)\n",
        "\n",
        "    return df"
      ],
      "metadata": {
        "id": "CnOl1xkAiMJ9"
      },
      "execution_count": null,
      "outputs": []
    },
    {
      "cell_type": "code",
      "source": [
        "drug_descriptors_df = pd.read_csv('https://raw.githubusercontent.com/Riddars/Hakaton/main/drug_descriptors.csv', index_col=0)\n",
        "\n",
        "def get_additional_descriptors(drug_descriptors_df=drug_descriptors_df):\n",
        "    descriptor_list = ['MolWt', 'MolLogP','fr_lactam','fr_lactone','NumAliphaticRings', 'NumAromaticCarbocycles', 'NumAromaticHeterocycles','NHOHCount']\n",
        "    calculate_descriptors(drug_descriptors_df, 'smiles', descriptor_list)\n",
        "    drug_descriptors_df.drop(columns=[\"chemID\", \"prefered_name\", \"smiles\"], inplace=True)\n",
        "\n",
        "\n",
        "def prepare_drug_df(drug_descriptors_df=drug_descriptors_df):\n",
        "    drug_descriptors_df.rename({\"drug\":\"Drug\"}, axis=1, inplace=True)\n",
        "\n",
        "get_additional_descriptors()\n",
        "prepare_drug_df()\n",
        "drug_descriptors_df.head(2)"
      ],
      "metadata": {
        "colab": {
          "base_uri": "https://localhost:8080/",
          "height": 176
        },
        "id": "7Lai1roah8_w",
        "outputId": "499530b9-66c6-4d10-aa5f-8cd96dbb3f68"
      },
      "execution_count": null,
      "outputs": [
        {
          "output_type": "execute_result",
          "data": {
            "text/plain": [
              "          Drug    MolWt  MolLogP  fr_lactam  fr_lactone  NumAliphaticRings  \\\n",
              "0  Amoxicillin  365.411   0.0237          1           0                  2   \n",
              "1   Penicillin  372.487  -3.4699          1           0                  2   \n",
              "\n",
              "   NumAromaticCarbocycles  NumAromaticHeterocycles  NHOHCount  \n",
              "0                       1                        0          5  \n",
              "1                       1                        0          1  "
            ],
            "text/html": [
              "\n",
              "  <div id=\"df-d1dbedf1-56ae-49fb-aad6-a03e2bdea272\">\n",
              "    <div class=\"colab-df-container\">\n",
              "      <div>\n",
              "<style scoped>\n",
              "    .dataframe tbody tr th:only-of-type {\n",
              "        vertical-align: middle;\n",
              "    }\n",
              "\n",
              "    .dataframe tbody tr th {\n",
              "        vertical-align: top;\n",
              "    }\n",
              "\n",
              "    .dataframe thead th {\n",
              "        text-align: right;\n",
              "    }\n",
              "</style>\n",
              "<table border=\"1\" class=\"dataframe\">\n",
              "  <thead>\n",
              "    <tr style=\"text-align: right;\">\n",
              "      <th></th>\n",
              "      <th>Drug</th>\n",
              "      <th>MolWt</th>\n",
              "      <th>MolLogP</th>\n",
              "      <th>fr_lactam</th>\n",
              "      <th>fr_lactone</th>\n",
              "      <th>NumAliphaticRings</th>\n",
              "      <th>NumAromaticCarbocycles</th>\n",
              "      <th>NumAromaticHeterocycles</th>\n",
              "      <th>NHOHCount</th>\n",
              "    </tr>\n",
              "  </thead>\n",
              "  <tbody>\n",
              "    <tr>\n",
              "      <th>0</th>\n",
              "      <td>Amoxicillin</td>\n",
              "      <td>365.411</td>\n",
              "      <td>0.0237</td>\n",
              "      <td>1</td>\n",
              "      <td>0</td>\n",
              "      <td>2</td>\n",
              "      <td>1</td>\n",
              "      <td>0</td>\n",
              "      <td>5</td>\n",
              "    </tr>\n",
              "    <tr>\n",
              "      <th>1</th>\n",
              "      <td>Penicillin</td>\n",
              "      <td>372.487</td>\n",
              "      <td>-3.4699</td>\n",
              "      <td>1</td>\n",
              "      <td>0</td>\n",
              "      <td>2</td>\n",
              "      <td>1</td>\n",
              "      <td>0</td>\n",
              "      <td>1</td>\n",
              "    </tr>\n",
              "  </tbody>\n",
              "</table>\n",
              "</div>\n",
              "      <button class=\"colab-df-convert\" onclick=\"convertToInteractive('df-d1dbedf1-56ae-49fb-aad6-a03e2bdea272')\"\n",
              "              title=\"Convert this dataframe to an interactive table.\"\n",
              "              style=\"display:none;\">\n",
              "        \n",
              "  <svg xmlns=\"http://www.w3.org/2000/svg\" height=\"24px\"viewBox=\"0 0 24 24\"\n",
              "       width=\"24px\">\n",
              "    <path d=\"M0 0h24v24H0V0z\" fill=\"none\"/>\n",
              "    <path d=\"M18.56 5.44l.94 2.06.94-2.06 2.06-.94-2.06-.94-.94-2.06-.94 2.06-2.06.94zm-11 1L8.5 8.5l.94-2.06 2.06-.94-2.06-.94L8.5 2.5l-.94 2.06-2.06.94zm10 10l.94 2.06.94-2.06 2.06-.94-2.06-.94-.94-2.06-.94 2.06-2.06.94z\"/><path d=\"M17.41 7.96l-1.37-1.37c-.4-.4-.92-.59-1.43-.59-.52 0-1.04.2-1.43.59L10.3 9.45l-7.72 7.72c-.78.78-.78 2.05 0 2.83L4 21.41c.39.39.9.59 1.41.59.51 0 1.02-.2 1.41-.59l7.78-7.78 2.81-2.81c.8-.78.8-2.07 0-2.86zM5.41 20L4 18.59l7.72-7.72 1.47 1.35L5.41 20z\"/>\n",
              "  </svg>\n",
              "      </button>\n",
              "      \n",
              "  <style>\n",
              "    .colab-df-container {\n",
              "      display:flex;\n",
              "      flex-wrap:wrap;\n",
              "      gap: 12px;\n",
              "    }\n",
              "\n",
              "    .colab-df-convert {\n",
              "      background-color: #E8F0FE;\n",
              "      border: none;\n",
              "      border-radius: 50%;\n",
              "      cursor: pointer;\n",
              "      display: none;\n",
              "      fill: #1967D2;\n",
              "      height: 32px;\n",
              "      padding: 0 0 0 0;\n",
              "      width: 32px;\n",
              "    }\n",
              "\n",
              "    .colab-df-convert:hover {\n",
              "      background-color: #E2EBFA;\n",
              "      box-shadow: 0px 1px 2px rgba(60, 64, 67, 0.3), 0px 1px 3px 1px rgba(60, 64, 67, 0.15);\n",
              "      fill: #174EA6;\n",
              "    }\n",
              "\n",
              "    [theme=dark] .colab-df-convert {\n",
              "      background-color: #3B4455;\n",
              "      fill: #D2E3FC;\n",
              "    }\n",
              "\n",
              "    [theme=dark] .colab-df-convert:hover {\n",
              "      background-color: #434B5C;\n",
              "      box-shadow: 0px 1px 3px 1px rgba(0, 0, 0, 0.15);\n",
              "      filter: drop-shadow(0px 1px 2px rgba(0, 0, 0, 0.3));\n",
              "      fill: #FFFFFF;\n",
              "    }\n",
              "  </style>\n",
              "\n",
              "      <script>\n",
              "        const buttonEl =\n",
              "          document.querySelector('#df-d1dbedf1-56ae-49fb-aad6-a03e2bdea272 button.colab-df-convert');\n",
              "        buttonEl.style.display =\n",
              "          google.colab.kernel.accessAllowed ? 'block' : 'none';\n",
              "\n",
              "        async function convertToInteractive(key) {\n",
              "          const element = document.querySelector('#df-d1dbedf1-56ae-49fb-aad6-a03e2bdea272');\n",
              "          const dataTable =\n",
              "            await google.colab.kernel.invokeFunction('convertToInteractive',\n",
              "                                                     [key], {});\n",
              "          if (!dataTable) return;\n",
              "\n",
              "          const docLinkHtml = 'Like what you see? Visit the ' +\n",
              "            '<a target=\"_blank\" href=https://colab.research.google.com/notebooks/data_table.ipynb>data table notebook</a>'\n",
              "            + ' to learn more about interactive tables.';\n",
              "          element.innerHTML = '';\n",
              "          dataTable['output_type'] = 'display_data';\n",
              "          await google.colab.output.renderOutput(dataTable, element);\n",
              "          const docLink = document.createElement('div');\n",
              "          docLink.innerHTML = docLinkHtml;\n",
              "          element.appendChild(docLink);\n",
              "        }\n",
              "      </script>\n",
              "    </div>\n",
              "  </div>\n",
              "  "
            ]
          },
          "metadata": {},
          "execution_count": 121
        }
      ]
    },
    {
      "cell_type": "markdown",
      "source": [
        "## разделение данных на части для заполнения пропусков\n"
      ],
      "metadata": {
        "id": "kRVt-nrziTDL"
      }
    },
    {
      "cell_type": "code",
      "source": [
        "'''\n",
        "формат данных:\n",
        "Drug_dataset:\n",
        "Bacteria, Drug, Drug_class_drug_bank, Drug_dose, ZOI_drug\n",
        "\n",
        "NP_dataset:\n",
        "Bacteria, NP_concentration, NP size_min, NP size_max, NP size_avg, shape, ZOI_NP\n",
        "\n",
        "drug_and_NP:\n",
        "Bacteria, Drug, Drug_class_drug_bank, Drug_dose,\n",
        "NP_concentration, NP size_min, NP size_max, NP size_avg, shape,\n",
        "ZOI_drug_NP\n",
        "''';"
      ],
      "metadata": {
        "id": "oZRJ1XYAjPBw"
      },
      "execution_count": null,
      "outputs": []
    },
    {
      "cell_type": "code",
      "source": [
        "drug_cols = ['Bacteria', 'Drug', 'Drug_class_drug_bank', 'Drug_dose', 'ZOI_drug']\n",
        "data_df_drug = data_df.loc[:,drug_cols]\n"
      ],
      "metadata": {
        "id": "cfXkpbSAiPFH"
      },
      "execution_count": null,
      "outputs": []
    },
    {
      "cell_type": "code",
      "source": [
        "data_df_drug = data_df_drug.dropna(subset=['Drug', 'Drug_dose'])\n",
        "\n",
        "print(data_df.shape)\n",
        "data_df_drug.isna().sum()\n",
        "# => задача заполнить 14 пропусков в >800 строчек"
      ],
      "metadata": {
        "colab": {
          "base_uri": "https://localhost:8080/"
        },
        "id": "IWyxTw0DjTTq",
        "outputId": "3a8cc84b-3e90-4590-9ca0-910a7bd8feb8"
      },
      "execution_count": null,
      "outputs": [
        {
          "output_type": "stream",
          "name": "stdout",
          "text": [
            "(863, 17)\n"
          ]
        },
        {
          "output_type": "execute_result",
          "data": {
            "text/plain": [
              "Bacteria                 0\n",
              "Drug                     0\n",
              "Drug_class_drug_bank     0\n",
              "Drug_dose                0\n",
              "ZOI_drug                14\n",
              "dtype: int64"
            ]
          },
          "metadata": {},
          "execution_count": 126
        }
      ]
    },
    {
      "cell_type": "markdown",
      "source": [
        "### impute drug part"
      ],
      "metadata": {
        "id": "Kwr6ASgKsaRO"
      }
    },
    {
      "cell_type": "code",
      "source": [
        "# extend drug_df\n",
        "def extend_df_with_bacterial_features(data_frame,bacterial_descriptors_df):\n",
        "    data_frame_extended = data_frame.copy(deep=True)\n",
        "    data_frame_extended = data_frame_extended.reset_index().merge(bacterial_descriptors_df[['Bacteria','gram']], on='Bacteria').set_index('index')\n",
        "\n",
        "    data_frame_extended['gram'] = data_frame_extended.gram.map({'p': 1, 'n' : -1})\n",
        "\n",
        "    selected_distances = ['Micrococcus luteus', 'Neisseria mucosa', 'Candida albicans']\n",
        "    distances = get_distances(bacterial_descriptors_df, bacterial_descriptors_df)\n",
        "    for bacteria in selected_distances:\n",
        "        data_frame_extended['d_to_' + bacteria] = data_frame_extended.Bacteria.map(distances[bacteria])\n",
        "    return data_frame_extended\n",
        "\n",
        "\n",
        "data_df_drug_extended = extend_df_with_bacterial_features(data_df_drug, bacterial_descriptors_df)\n",
        "data_df_drug_extended = data_df_drug_extended.reset_index().merge(drug_descriptors_df, how=\"left\", on=\"Drug\").set_index('index')\n",
        "\n",
        "data_df_drug_extended.head(2)\n",
        "# data_df_drug_extended.info()"
      ],
      "metadata": {
        "colab": {
          "base_uri": "https://localhost:8080/",
          "height": 259
        },
        "id": "e3o7bxNqk-vM",
        "outputId": "4ca2d594-12bc-4efd-936c-15186cf2bd9f"
      },
      "execution_count": null,
      "outputs": [
        {
          "output_type": "execute_result",
          "data": {
            "text/plain": [
              "                 Bacteria        Drug              Drug_class_drug_bank  \\\n",
              "index                                                                     \n",
              "4      Micrococcus luteus  Vancomycin  Carboxylic acids and derivatives   \n",
              "5      Micrococcus luteus  Gentamicin                   Aminoglycosides   \n",
              "\n",
              "       Drug_dose  ZOI_drug  gram  d_to_Micrococcus luteus  \\\n",
              "index                                                       \n",
              "4           30.0       0.0     1                        0   \n",
              "5           10.0       0.0     1                        0   \n",
              "\n",
              "       d_to_Neisseria mucosa  d_to_Candida albicans     MolWt  MolLogP  \\\n",
              "index                                                                    \n",
              "4                         14                     18  1449.271   0.1062   \n",
              "5                         14                     18   477.603  -3.3275   \n",
              "\n",
              "       fr_lactam  fr_lactone  NumAliphaticRings  NumAromaticCarbocycles  \\\n",
              "index                                                                     \n",
              "4            0.0         0.0                7.0                     5.0   \n",
              "5            0.0         0.0                3.0                     0.0   \n",
              "\n",
              "       NumAromaticHeterocycles  NHOHCount  \n",
              "index                                      \n",
              "4                          0.0       21.0  \n",
              "5                          0.0       11.0  "
            ],
            "text/html": [
              "\n",
              "  <div id=\"df-af29d32f-c364-4d47-b2a9-917cf565e74d\">\n",
              "    <div class=\"colab-df-container\">\n",
              "      <div>\n",
              "<style scoped>\n",
              "    .dataframe tbody tr th:only-of-type {\n",
              "        vertical-align: middle;\n",
              "    }\n",
              "\n",
              "    .dataframe tbody tr th {\n",
              "        vertical-align: top;\n",
              "    }\n",
              "\n",
              "    .dataframe thead th {\n",
              "        text-align: right;\n",
              "    }\n",
              "</style>\n",
              "<table border=\"1\" class=\"dataframe\">\n",
              "  <thead>\n",
              "    <tr style=\"text-align: right;\">\n",
              "      <th></th>\n",
              "      <th>Bacteria</th>\n",
              "      <th>Drug</th>\n",
              "      <th>Drug_class_drug_bank</th>\n",
              "      <th>Drug_dose</th>\n",
              "      <th>ZOI_drug</th>\n",
              "      <th>gram</th>\n",
              "      <th>d_to_Micrococcus luteus</th>\n",
              "      <th>d_to_Neisseria mucosa</th>\n",
              "      <th>d_to_Candida albicans</th>\n",
              "      <th>MolWt</th>\n",
              "      <th>MolLogP</th>\n",
              "      <th>fr_lactam</th>\n",
              "      <th>fr_lactone</th>\n",
              "      <th>NumAliphaticRings</th>\n",
              "      <th>NumAromaticCarbocycles</th>\n",
              "      <th>NumAromaticHeterocycles</th>\n",
              "      <th>NHOHCount</th>\n",
              "    </tr>\n",
              "    <tr>\n",
              "      <th>index</th>\n",
              "      <th></th>\n",
              "      <th></th>\n",
              "      <th></th>\n",
              "      <th></th>\n",
              "      <th></th>\n",
              "      <th></th>\n",
              "      <th></th>\n",
              "      <th></th>\n",
              "      <th></th>\n",
              "      <th></th>\n",
              "      <th></th>\n",
              "      <th></th>\n",
              "      <th></th>\n",
              "      <th></th>\n",
              "      <th></th>\n",
              "      <th></th>\n",
              "      <th></th>\n",
              "    </tr>\n",
              "  </thead>\n",
              "  <tbody>\n",
              "    <tr>\n",
              "      <th>4</th>\n",
              "      <td>Micrococcus luteus</td>\n",
              "      <td>Vancomycin</td>\n",
              "      <td>Carboxylic acids and derivatives</td>\n",
              "      <td>30.0</td>\n",
              "      <td>0.0</td>\n",
              "      <td>1</td>\n",
              "      <td>0</td>\n",
              "      <td>14</td>\n",
              "      <td>18</td>\n",
              "      <td>1449.271</td>\n",
              "      <td>0.1062</td>\n",
              "      <td>0.0</td>\n",
              "      <td>0.0</td>\n",
              "      <td>7.0</td>\n",
              "      <td>5.0</td>\n",
              "      <td>0.0</td>\n",
              "      <td>21.0</td>\n",
              "    </tr>\n",
              "    <tr>\n",
              "      <th>5</th>\n",
              "      <td>Micrococcus luteus</td>\n",
              "      <td>Gentamicin</td>\n",
              "      <td>Aminoglycosides</td>\n",
              "      <td>10.0</td>\n",
              "      <td>0.0</td>\n",
              "      <td>1</td>\n",
              "      <td>0</td>\n",
              "      <td>14</td>\n",
              "      <td>18</td>\n",
              "      <td>477.603</td>\n",
              "      <td>-3.3275</td>\n",
              "      <td>0.0</td>\n",
              "      <td>0.0</td>\n",
              "      <td>3.0</td>\n",
              "      <td>0.0</td>\n",
              "      <td>0.0</td>\n",
              "      <td>11.0</td>\n",
              "    </tr>\n",
              "  </tbody>\n",
              "</table>\n",
              "</div>\n",
              "      <button class=\"colab-df-convert\" onclick=\"convertToInteractive('df-af29d32f-c364-4d47-b2a9-917cf565e74d')\"\n",
              "              title=\"Convert this dataframe to an interactive table.\"\n",
              "              style=\"display:none;\">\n",
              "        \n",
              "  <svg xmlns=\"http://www.w3.org/2000/svg\" height=\"24px\"viewBox=\"0 0 24 24\"\n",
              "       width=\"24px\">\n",
              "    <path d=\"M0 0h24v24H0V0z\" fill=\"none\"/>\n",
              "    <path d=\"M18.56 5.44l.94 2.06.94-2.06 2.06-.94-2.06-.94-.94-2.06-.94 2.06-2.06.94zm-11 1L8.5 8.5l.94-2.06 2.06-.94-2.06-.94L8.5 2.5l-.94 2.06-2.06.94zm10 10l.94 2.06.94-2.06 2.06-.94-2.06-.94-.94-2.06-.94 2.06-2.06.94z\"/><path d=\"M17.41 7.96l-1.37-1.37c-.4-.4-.92-.59-1.43-.59-.52 0-1.04.2-1.43.59L10.3 9.45l-7.72 7.72c-.78.78-.78 2.05 0 2.83L4 21.41c.39.39.9.59 1.41.59.51 0 1.02-.2 1.41-.59l7.78-7.78 2.81-2.81c.8-.78.8-2.07 0-2.86zM5.41 20L4 18.59l7.72-7.72 1.47 1.35L5.41 20z\"/>\n",
              "  </svg>\n",
              "      </button>\n",
              "      \n",
              "  <style>\n",
              "    .colab-df-container {\n",
              "      display:flex;\n",
              "      flex-wrap:wrap;\n",
              "      gap: 12px;\n",
              "    }\n",
              "\n",
              "    .colab-df-convert {\n",
              "      background-color: #E8F0FE;\n",
              "      border: none;\n",
              "      border-radius: 50%;\n",
              "      cursor: pointer;\n",
              "      display: none;\n",
              "      fill: #1967D2;\n",
              "      height: 32px;\n",
              "      padding: 0 0 0 0;\n",
              "      width: 32px;\n",
              "    }\n",
              "\n",
              "    .colab-df-convert:hover {\n",
              "      background-color: #E2EBFA;\n",
              "      box-shadow: 0px 1px 2px rgba(60, 64, 67, 0.3), 0px 1px 3px 1px rgba(60, 64, 67, 0.15);\n",
              "      fill: #174EA6;\n",
              "    }\n",
              "\n",
              "    [theme=dark] .colab-df-convert {\n",
              "      background-color: #3B4455;\n",
              "      fill: #D2E3FC;\n",
              "    }\n",
              "\n",
              "    [theme=dark] .colab-df-convert:hover {\n",
              "      background-color: #434B5C;\n",
              "      box-shadow: 0px 1px 3px 1px rgba(0, 0, 0, 0.15);\n",
              "      filter: drop-shadow(0px 1px 2px rgba(0, 0, 0, 0.3));\n",
              "      fill: #FFFFFF;\n",
              "    }\n",
              "  </style>\n",
              "\n",
              "      <script>\n",
              "        const buttonEl =\n",
              "          document.querySelector('#df-af29d32f-c364-4d47-b2a9-917cf565e74d button.colab-df-convert');\n",
              "        buttonEl.style.display =\n",
              "          google.colab.kernel.accessAllowed ? 'block' : 'none';\n",
              "\n",
              "        async function convertToInteractive(key) {\n",
              "          const element = document.querySelector('#df-af29d32f-c364-4d47-b2a9-917cf565e74d');\n",
              "          const dataTable =\n",
              "            await google.colab.kernel.invokeFunction('convertToInteractive',\n",
              "                                                     [key], {});\n",
              "          if (!dataTable) return;\n",
              "\n",
              "          const docLinkHtml = 'Like what you see? Visit the ' +\n",
              "            '<a target=\"_blank\" href=https://colab.research.google.com/notebooks/data_table.ipynb>data table notebook</a>'\n",
              "            + ' to learn more about interactive tables.';\n",
              "          element.innerHTML = '';\n",
              "          dataTable['output_type'] = 'display_data';\n",
              "          await google.colab.output.renderOutput(dataTable, element);\n",
              "          const docLink = document.createElement('div');\n",
              "          docLink.innerHTML = docLinkHtml;\n",
              "          element.appendChild(docLink);\n",
              "        }\n",
              "      </script>\n",
              "    </div>\n",
              "  </div>\n",
              "  "
            ]
          },
          "metadata": {},
          "execution_count": 136
        }
      ]
    },
    {
      "cell_type": "code",
      "source": [],
      "metadata": {
        "id": "e_S9fICzCyRj"
      },
      "execution_count": null,
      "outputs": []
    },
    {
      "cell_type": "code",
      "source": [
        "sns.boxplot(data_df_drug_extended.iloc[:, 10:]) # min-max scaler обязателен\n",
        "# выброс на Drug_dose на самом деле бимодальное распределени"
      ],
      "metadata": {
        "colab": {
          "base_uri": "https://localhost:8080/",
          "height": 448
        },
        "id": "fwVsIAoXm-B6",
        "outputId": "f46d3bee-ab83-44d9-bf73-85f76a2e1b23"
      },
      "execution_count": null,
      "outputs": [
        {
          "output_type": "execute_result",
          "data": {
            "text/plain": [
              "<Axes: >"
            ]
          },
          "metadata": {},
          "execution_count": 137
        },
        {
          "output_type": "display_data",
          "data": {
            "text/plain": [
              "<Figure size 640x480 with 1 Axes>"
            ],
            "image/png": "[encoded data removed]"
          },
          "metadata": {}
        }
      ]
    },
    {
      "cell_type": "code",
      "source": [
        "from sklearn.preprocessing import MinMaxScaler\n",
        "from sklearn.impute import KNNImputer\n",
        "\n",
        "def impute_drug_part(data_df_drug_extended):\n",
        "    index = data_df_drug_extended.index.copy()\n",
        "    data_df_drug_extended\n",
        "    drug_data = data_df_drug_extended.select_dtypes(np.number)\n",
        "\n",
        "    drug_scaler = MinMaxScaler()\n",
        "    drug_scaler.fit(drug_data.dropna())\n",
        "    drug_data_transformed = drug_scaler.transform(drug_data)\n",
        "\n",
        "    drug_imputer = KNNImputer(n_neighbors=5, weights='distance')\n",
        "    drug_imputer.fit(\n",
        "        drug_scaler.transform(drug_data.dropna())\n",
        "    )\n",
        "    imputed = drug_imputer.transform(drug_data_transformed)\n",
        "\n",
        "    imputed_drug_part = pd.DataFrame(\n",
        "        drug_scaler.inverse_transform(imputed), columns=drug_scaler.get_feature_names_out()\n",
        "    )\n",
        "    imputed_drug_part['index'] = index\n",
        "    imputed_drug_part.set_index('index', inplace=True)\n",
        "    return imputed_drug_part\n",
        "\n",
        "# non_numeric = ['Bacteria', 'Drug', 'Drug_class_drug_bank']\n",
        "\n",
        "imputed_drug_part = impute_drug_part(data_df_drug_extended)\n",
        "imputed_drug_part.head()"
      ],
      "metadata": {
        "colab": {
          "base_uri": "https://localhost:8080/",
          "height": 319
        },
        "id": "2e-2yzN0lbNX",
        "outputId": "8a62d60d-c04a-4778-db4b-0e1bfb1fdf3d"
      },
      "execution_count": null,
      "outputs": [
        {
          "output_type": "execute_result",
          "data": {
            "text/plain": [
              "       Drug_dose  ZOI_drug  gram  d_to_Micrococcus luteus  \\\n",
              "index                                                       \n",
              "4           30.0       0.0   1.0                      0.0   \n",
              "5           10.0       0.0   1.0                      0.0   \n",
              "177         10.0      19.0   1.0                      0.0   \n",
              "263         10.0      10.0   1.0                      0.0   \n",
              "264         10.0      10.0   1.0                      0.0   \n",
              "\n",
              "       d_to_Neisseria mucosa  d_to_Candida albicans     MolWt  MolLogP  \\\n",
              "index                                                                    \n",
              "4                       14.0                   18.0  1449.271   0.1062   \n",
              "5                       14.0                   18.0   477.603  -3.3275   \n",
              "177                     14.0                   18.0   331.347   1.5833   \n",
              "263                     14.0                   18.0   349.412   0.3181   \n",
              "264                     14.0                   18.0   349.412   0.3181   \n",
              "\n",
              "       fr_lactam  fr_lactone  NumAliphaticRings  NumAromaticCarbocycles  \\\n",
              "index                                                                     \n",
              "4            0.0         0.0                7.0                     5.0   \n",
              "5            0.0         0.0                3.0                     0.0   \n",
              "177          0.0         0.0                2.0                     1.0   \n",
              "263          1.0         0.0                2.0                     1.0   \n",
              "264          1.0         0.0                2.0                     1.0   \n",
              "\n",
              "       NumAromaticHeterocycles  NHOHCount  \n",
              "index                                      \n",
              "4                          0.0       21.0  \n",
              "5                          0.0       11.0  \n",
              "177                        1.0        2.0  \n",
              "263                        0.0        4.0  \n",
              "264                        0.0        4.0  "
            ],
            "text/html": [
              "\n",
              "  <div id=\"df-f72062df-3f58-41dd-bd3b-f2a77d9bb9ad\">\n",
              "    <div class=\"colab-df-container\">\n",
              "      <div>\n",
              "<style scoped>\n",
              "    .dataframe tbody tr th:only-of-type {\n",
              "        vertical-align: middle;\n",
              "    }\n",
              "\n",
              "    .dataframe tbody tr th {\n",
              "        vertical-align: top;\n",
              "    }\n",
              "\n",
              "    .dataframe thead th {\n",
              "        text-align: right;\n",
              "    }\n",
              "</style>\n",
              "<table border=\"1\" class=\"dataframe\">\n",
              "  <thead>\n",
              "    <tr style=\"text-align: right;\">\n",
              "      <th></th>\n",
              "      <th>Drug_dose</th>\n",
              "      <th>ZOI_drug</th>\n",
              "      <th>gram</th>\n",
              "      <th>d_to_Micrococcus luteus</th>\n",
              "      <th>d_to_Neisseria mucosa</th>\n",
              "      <th>d_to_Candida albicans</th>\n",
              "      <th>MolWt</th>\n",
              "      <th>MolLogP</th>\n",
              "      <th>fr_lactam</th>\n",
              "      <th>fr_lactone</th>\n",
              "      <th>NumAliphaticRings</th>\n",
              "      <th>NumAromaticCarbocycles</th>\n",
              "      <th>NumAromaticHeterocycles</th>\n",
              "      <th>NHOHCount</th>\n",
              "    </tr>\n",
              "    <tr>\n",
              "      <th>index</th>\n",
              "      <th></th>\n",
              "      <th></th>\n",
              "      <th></th>\n",
              "      <th></th>\n",
              "      <th></th>\n",
              "      <th></th>\n",
              "      <th></th>\n",
              "      <th></th>\n",
              "      <th></th>\n",
              "      <th></th>\n",
              "      <th></th>\n",
              "      <th></th>\n",
              "      <th></th>\n",
              "      <th></th>\n",
              "    </tr>\n",
              "  </thead>\n",
              "  <tbody>\n",
              "    <tr>\n",
              "      <th>4</th>\n",
              "      <td>30.0</td>\n",
              "      <td>0.0</td>\n",
              "      <td>1.0</td>\n",
              "      <td>0.0</td>\n",
              "      <td>14.0</td>\n",
              "      <td>18.0</td>\n",
              "      <td>1449.271</td>\n",
              "      <td>0.1062</td>\n",
              "      <td>0.0</td>\n",
              "      <td>0.0</td>\n",
              "      <td>7.0</td>\n",
              "      <td>5.0</td>\n",
              "      <td>0.0</td>\n",
              "      <td>21.0</td>\n",
              "    </tr>\n",
              "    <tr>\n",
              "      <th>5</th>\n",
              "      <td>10.0</td>\n",
              "      <td>0.0</td>\n",
              "      <td>1.0</td>\n",
              "      <td>0.0</td>\n",
              "      <td>14.0</td>\n",
              "      <td>18.0</td>\n",
              "      <td>477.603</td>\n",
              "      <td>-3.3275</td>\n",
              "      <td>0.0</td>\n",
              "      <td>0.0</td>\n",
              "      <td>3.0</td>\n",
              "      <td>0.0</td>\n",
              "      <td>0.0</td>\n",
              "      <td>11.0</td>\n",
              "    </tr>\n",
              "    <tr>\n",
              "      <th>177</th>\n",
              "      <td>10.0</td>\n",
              "      <td>19.0</td>\n",
              "      <td>1.0</td>\n",
              "      <td>0.0</td>\n",
              "      <td>14.0</td>\n",
              "      <td>18.0</td>\n",
              "      <td>331.347</td>\n",
              "      <td>1.5833</td>\n",
              "      <td>0.0</td>\n",
              "      <td>0.0</td>\n",
              "      <td>2.0</td>\n",
              "      <td>1.0</td>\n",
              "      <td>1.0</td>\n",
              "      <td>2.0</td>\n",
              "    </tr>\n",
              "    <tr>\n",
              "      <th>263</th>\n",
              "      <td>10.0</td>\n",
              "      <td>10.0</td>\n",
              "      <td>1.0</td>\n",
              "      <td>0.0</td>\n",
              "      <td>14.0</td>\n",
              "      <td>18.0</td>\n",
              "      <td>349.412</td>\n",
              "      <td>0.3181</td>\n",
              "      <td>1.0</td>\n",
              "      <td>0.0</td>\n",
              "      <td>2.0</td>\n",
              "      <td>1.0</td>\n",
              "      <td>0.0</td>\n",
              "      <td>4.0</td>\n",
              "    </tr>\n",
              "    <tr>\n",
              "      <th>264</th>\n",
              "      <td>10.0</td>\n",
              "      <td>10.0</td>\n",
              "      <td>1.0</td>\n",
              "      <td>0.0</td>\n",
              "      <td>14.0</td>\n",
              "      <td>18.0</td>\n",
              "      <td>349.412</td>\n",
              "      <td>0.3181</td>\n",
              "      <td>1.0</td>\n",
              "      <td>0.0</td>\n",
              "      <td>2.0</td>\n",
              "      <td>1.0</td>\n",
              "      <td>0.0</td>\n",
              "      <td>4.0</td>\n",
              "    </tr>\n",
              "  </tbody>\n",
              "</table>\n",
              "</div>\n",
              "      <button class=\"colab-df-convert\" onclick=\"convertToInteractive('df-f72062df-3f58-41dd-bd3b-f2a77d9bb9ad')\"\n",
              "              title=\"Convert this dataframe to an interactive table.\"\n",
              "              style=\"display:none;\">\n",
              "        \n",
              "  <svg xmlns=\"http://www.w3.org/2000/svg\" height=\"24px\"viewBox=\"0 0 24 24\"\n",
              "       width=\"24px\">\n",
              "    <path d=\"M0 0h24v24H0V0z\" fill=\"none\"/>\n",
              "    <path d=\"M18.56 5.44l.94 2.06.94-2.06 2.06-.94-2.06-.94-.94-2.06-.94 2.06-2.06.94zm-11 1L8.5 8.5l.94-2.06 2.06-.94-2.06-.94L8.5 2.5l-.94 2.06-2.06.94zm10 10l.94 2.06.94-2.06 2.06-.94-2.06-.94-.94-2.06-.94 2.06-2.06.94z\"/><path d=\"M17.41 7.96l-1.37-1.37c-.4-.4-.92-.59-1.43-.59-.52 0-1.04.2-1.43.59L10.3 9.45l-7.72 7.72c-.78.78-.78 2.05 0 2.83L4 21.41c.39.39.9.59 1.41.59.51 0 1.02-.2 1.41-.59l7.78-7.78 2.81-2.81c.8-.78.8-2.07 0-2.86zM5.41 20L4 18.59l7.72-7.72 1.47 1.35L5.41 20z\"/>\n",
              "  </svg>\n",
              "      </button>\n",
              "      \n",
              "  <style>\n",
              "    .colab-df-container {\n",
              "      display:flex;\n",
              "      flex-wrap:wrap;\n",
              "      gap: 12px;\n",
              "    }\n",
              "\n",
              "    .colab-df-convert {\n",
              "      background-color: #E8F0FE;\n",
              "      border: none;\n",
              "      border-radius: 50%;\n",
              "      cursor: pointer;\n",
              "      display: none;\n",
              "      fill: #1967D2;\n",
              "      height: 32px;\n",
              "      padding: 0 0 0 0;\n",
              "      width: 32px;\n",
              "    }\n",
              "\n",
              "    .colab-df-convert:hover {\n",
              "      background-color: #E2EBFA;\n",
              "      box-shadow: 0px 1px 2px rgba(60, 64, 67, 0.3), 0px 1px 3px 1px rgba(60, 64, 67, 0.15);\n",
              "      fill: #174EA6;\n",
              "    }\n",
              "\n",
              "    [theme=dark] .colab-df-convert {\n",
              "      background-color: #3B4455;\n",
              "      fill: #D2E3FC;\n",
              "    }\n",
              "\n",
              "    [theme=dark] .colab-df-convert:hover {\n",
              "      background-color: #434B5C;\n",
              "      box-shadow: 0px 1px 3px 1px rgba(0, 0, 0, 0.15);\n",
              "      filter: drop-shadow(0px 1px 2px rgba(0, 0, 0, 0.3));\n",
              "      fill: #FFFFFF;\n",
              "    }\n",
              "  </style>\n",
              "\n",
              "      <script>\n",
              "        const buttonEl =\n",
              "          document.querySelector('#df-f72062df-3f58-41dd-bd3b-f2a77d9bb9ad button.colab-df-convert');\n",
              "        buttonEl.style.display =\n",
              "          google.colab.kernel.accessAllowed ? 'block' : 'none';\n",
              "\n",
              "        async function convertToInteractive(key) {\n",
              "          const element = document.querySelector('#df-f72062df-3f58-41dd-bd3b-f2a77d9bb9ad');\n",
              "          const dataTable =\n",
              "            await google.colab.kernel.invokeFunction('convertToInteractive',\n",
              "                                                     [key], {});\n",
              "          if (!dataTable) return;\n",
              "\n",
              "          const docLinkHtml = 'Like what you see? Visit the ' +\n",
              "            '<a target=\"_blank\" href=https://colab.research.google.com/notebooks/data_table.ipynb>data table notebook</a>'\n",
              "            + ' to learn more about interactive tables.';\n",
              "          element.innerHTML = '';\n",
              "          dataTable['output_type'] = 'display_data';\n",
              "          await google.colab.output.renderOutput(dataTable, element);\n",
              "          const docLink = document.createElement('div');\n",
              "          docLink.innerHTML = docLinkHtml;\n",
              "          element.appendChild(docLink);\n",
              "        }\n",
              "      </script>\n",
              "    </div>\n",
              "  </div>\n",
              "  "
            ]
          },
          "metadata": {},
          "execution_count": 139
        }
      ]
    },
    {
      "cell_type": "code",
      "source": [],
      "metadata": {
        "id": "eFOMAojO8Ioo"
      },
      "execution_count": null,
      "outputs": []
    },
    {
      "cell_type": "markdown",
      "source": [
        "### impute np part"
      ],
      "metadata": {
        "id": "dbsg9SNrse3R"
      }
    },
    {
      "cell_type": "code",
      "source": [
        "np_cols = ['Bacteria', 'NP_concentration', 'NP size_min', 'NP size_max', 'NP size_avg', 'shape', 'ZOI_NP', 'method']\n",
        "data_df_np = data_df[np_cols]\n",
        "data_df_np = data_df_np.drop(data_df_np[data_df_np.ZOI_NP > 3000].index) # три выброса\n",
        "# и 45 штук где в обоих колонках пропуски\n",
        "\n",
        "\n",
        "data_df_np_extended = extend_df_with_bacterial_features(data_df_np, bacterial_descriptors_df)\n",
        "data_df_np_extended.head(2)"
      ],
      "metadata": {
        "colab": {
          "base_uri": "https://localhost:8080/",
          "height": 259
        },
        "id": "3m5oAv_OspMZ",
        "outputId": "f8cc9b14-736d-445f-8392-719e0b42633b"
      },
      "execution_count": null,
      "outputs": [
        {
          "output_type": "execute_result",
          "data": {
            "text/plain": [
              "                 Bacteria  NP_concentration  NP size_min  NP size_max  \\\n",
              "index                                                                   \n",
              "4      Micrococcus luteus             100.0          5.0         30.0   \n",
              "5      Micrococcus luteus             100.0          5.0         30.0   \n",
              "\n",
              "       NP size_avg      shape  ZOI_NP          method  gram  \\\n",
              "index                                                         \n",
              "4             21.0  spherical    14.0  disc_diffusion     1   \n",
              "5             21.0  spherical    14.0  disc_diffusion     1   \n",
              "\n",
              "       d_to_Micrococcus luteus  d_to_Neisseria mucosa  d_to_Candida albicans  \n",
              "index                                                                         \n",
              "4                            0                     14                     18  \n",
              "5                            0                     14                     18  "
            ],
            "text/html": [
              "\n",
              "  <div id=\"df-16d5821a-5d1f-4593-8ebe-93fb93f844dc\">\n",
              "    <div class=\"colab-df-container\">\n",
              "      <div>\n",
              "<style scoped>\n",
              "    .dataframe tbody tr th:only-of-type {\n",
              "        vertical-align: middle;\n",
              "    }\n",
              "\n",
              "    .dataframe tbody tr th {\n",
              "        vertical-align: top;\n",
              "    }\n",
              "\n",
              "    .dataframe thead th {\n",
              "        text-align: right;\n",
              "    }\n",
              "</style>\n",
              "<table border=\"1\" class=\"dataframe\">\n",
              "  <thead>\n",
              "    <tr style=\"text-align: right;\">\n",
              "      <th></th>\n",
              "      <th>Bacteria</th>\n",
              "      <th>NP_concentration</th>\n",
              "      <th>NP size_min</th>\n",
              "      <th>NP size_max</th>\n",
              "      <th>NP size_avg</th>\n",
              "      <th>shape</th>\n",
              "      <th>ZOI_NP</th>\n",
              "      <th>method</th>\n",
              "      <th>gram</th>\n",
              "      <th>d_to_Micrococcus luteus</th>\n",
              "      <th>d_to_Neisseria mucosa</th>\n",
              "      <th>d_to_Candida albicans</th>\n",
              "    </tr>\n",
              "    <tr>\n",
              "      <th>index</th>\n",
              "      <th></th>\n",
              "      <th></th>\n",
              "      <th></th>\n",
              "      <th></th>\n",
              "      <th></th>\n",
              "      <th></th>\n",
              "      <th></th>\n",
              "      <th></th>\n",
              "      <th></th>\n",
              "      <th></th>\n",
              "      <th></th>\n",
              "      <th></th>\n",
              "    </tr>\n",
              "  </thead>\n",
              "  <tbody>\n",
              "    <tr>\n",
              "      <th>4</th>\n",
              "      <td>Micrococcus luteus</td>\n",
              "      <td>100.0</td>\n",
              "      <td>5.0</td>\n",
              "      <td>30.0</td>\n",
              "      <td>21.0</td>\n",
              "      <td>spherical</td>\n",
              "      <td>14.0</td>\n",
              "      <td>disc_diffusion</td>\n",
              "      <td>1</td>\n",
              "      <td>0</td>\n",
              "      <td>14</td>\n",
              "      <td>18</td>\n",
              "    </tr>\n",
              "    <tr>\n",
              "      <th>5</th>\n",
              "      <td>Micrococcus luteus</td>\n",
              "      <td>100.0</td>\n",
              "      <td>5.0</td>\n",
              "      <td>30.0</td>\n",
              "      <td>21.0</td>\n",
              "      <td>spherical</td>\n",
              "      <td>14.0</td>\n",
              "      <td>disc_diffusion</td>\n",
              "      <td>1</td>\n",
              "      <td>0</td>\n",
              "      <td>14</td>\n",
              "      <td>18</td>\n",
              "    </tr>\n",
              "  </tbody>\n",
              "</table>\n",
              "</div>\n",
              "      <button class=\"colab-df-convert\" onclick=\"convertToInteractive('df-16d5821a-5d1f-4593-8ebe-93fb93f844dc')\"\n",
              "              title=\"Convert this dataframe to an interactive table.\"\n",
              "              style=\"display:none;\">\n",
              "        \n",
              "  <svg xmlns=\"http://www.w3.org/2000/svg\" height=\"24px\"viewBox=\"0 0 24 24\"\n",
              "       width=\"24px\">\n",
              "    <path d=\"M0 0h24v24H0V0z\" fill=\"none\"/>\n",
              "    <path d=\"M18.56 5.44l.94 2.06.94-2.06 2.06-.94-2.06-.94-.94-2.06-.94 2.06-2.06.94zm-11 1L8.5 8.5l.94-2.06 2.06-.94-2.06-.94L8.5 2.5l-.94 2.06-2.06.94zm10 10l.94 2.06.94-2.06 2.06-.94-2.06-.94-.94-2.06-.94 2.06-2.06.94z\"/><path d=\"M17.41 7.96l-1.37-1.37c-.4-.4-.92-.59-1.43-.59-.52 0-1.04.2-1.43.59L10.3 9.45l-7.72 7.72c-.78.78-.78 2.05 0 2.83L4 21.41c.39.39.9.59 1.41.59.51 0 1.02-.2 1.41-.59l7.78-7.78 2.81-2.81c.8-.78.8-2.07 0-2.86zM5.41 20L4 18.59l7.72-7.72 1.47 1.35L5.41 20z\"/>\n",
              "  </svg>\n",
              "      </button>\n",
              "      \n",
              "  <style>\n",
              "    .colab-df-container {\n",
              "      display:flex;\n",
              "      flex-wrap:wrap;\n",
              "      gap: 12px;\n",
              "    }\n",
              "\n",
              "    .colab-df-convert {\n",
              "      background-color: #E8F0FE;\n",
              "      border: none;\n",
              "      border-radius: 50%;\n",
              "      cursor: pointer;\n",
              "      display: none;\n",
              "      fill: #1967D2;\n",
              "      height: 32px;\n",
              "      padding: 0 0 0 0;\n",
              "      width: 32px;\n",
              "    }\n",
              "\n",
              "    .colab-df-convert:hover {\n",
              "      background-color: #E2EBFA;\n",
              "      box-shadow: 0px 1px 2px rgba(60, 64, 67, 0.3), 0px 1px 3px 1px rgba(60, 64, 67, 0.15);\n",
              "      fill: #174EA6;\n",
              "    }\n",
              "\n",
              "    [theme=dark] .colab-df-convert {\n",
              "      background-color: #3B4455;\n",
              "      fill: #D2E3FC;\n",
              "    }\n",
              "\n",
              "    [theme=dark] .colab-df-convert:hover {\n",
              "      background-color: #434B5C;\n",
              "      box-shadow: 0px 1px 3px 1px rgba(0, 0, 0, 0.15);\n",
              "      filter: drop-shadow(0px 1px 2px rgba(0, 0, 0, 0.3));\n",
              "      fill: #FFFFFF;\n",
              "    }\n",
              "  </style>\n",
              "\n",
              "      <script>\n",
              "        const buttonEl =\n",
              "          document.querySelector('#df-16d5821a-5d1f-4593-8ebe-93fb93f844dc button.colab-df-convert');\n",
              "        buttonEl.style.display =\n",
              "          google.colab.kernel.accessAllowed ? 'block' : 'none';\n",
              "\n",
              "        async function convertToInteractive(key) {\n",
              "          const element = document.querySelector('#df-16d5821a-5d1f-4593-8ebe-93fb93f844dc');\n",
              "          const dataTable =\n",
              "            await google.colab.kernel.invokeFunction('convertToInteractive',\n",
              "                                                     [key], {});\n",
              "          if (!dataTable) return;\n",
              "\n",
              "          const docLinkHtml = 'Like what you see? Visit the ' +\n",
              "            '<a target=\"_blank\" href=https://colab.research.google.com/notebooks/data_table.ipynb>data table notebook</a>'\n",
              "            + ' to learn more about interactive tables.';\n",
              "          element.innerHTML = '';\n",
              "          dataTable['output_type'] = 'display_data';\n",
              "          await google.colab.output.renderOutput(dataTable, element);\n",
              "          const docLink = document.createElement('div');\n",
              "          docLink.innerHTML = docLinkHtml;\n",
              "          element.appendChild(docLink);\n",
              "        }\n",
              "      </script>\n",
              "    </div>\n",
              "  </div>\n",
              "  "
            ]
          },
          "metadata": {},
          "execution_count": 140
        }
      ]
    },
    {
      "cell_type": "code",
      "source": [
        "# NaN : ZOI_NP, NP_concentration"
      ],
      "metadata": {
        "id": "Ml-v0u19v7Cj"
      },
      "execution_count": null,
      "outputs": []
    },
    {
      "cell_type": "code",
      "source": [
        "# data_df_np.loc[(data_df_np.method == \"MIC\") & (data_df_np.NP_concentration.isna()) & (~data_df_np.ZOI_NP.isna())].ZOI_NP.plot(kind='hist')\n",
        "\n",
        "data_df_np_pure = data_df_np.dropna()\n",
        "print(data_df_np_pure.shape)\n",
        "\n",
        "part1_mask = (~data_df_np.ZOI_NP.isna()) & (data_df_np.NP_concentration.isna())\n",
        "part1 = data_df_np[\n",
        "    part1_mask\n",
        "]\n",
        "\n",
        "part2_mask = (data_df_np.ZOI_NP.isna()) & (~data_df_np.NP_concentration.isna())\n",
        "part2 = data_df_np[\n",
        "    part2_mask\n",
        "]\n",
        "print(part1.shape)\n",
        "print(part2.shape)\n"
      ],
      "metadata": {
        "colab": {
          "base_uri": "https://localhost:8080/"
        },
        "id": "0kgDN2PLuWXg",
        "outputId": "1c2ed065-12ef-43d8-a635-d073cc3df367"
      },
      "execution_count": null,
      "outputs": [
        {
          "output_type": "stream",
          "name": "stdout",
          "text": [
            "(60, 8)\n",
            "(123, 8)\n",
            "(382, 8)\n"
          ]
        }
      ]
    },
    {
      "cell_type": "code",
      "source": [
        "# data_df_np['mark'] = part1_mask * 1\n",
        "\n",
        "data_df_np['mark'] = part2_mask * 2\n",
        "data_df_np['mark'] = data_df_np['mark'].astype(str)\n",
        "\n",
        "import plotly.express as px\n",
        "\n",
        "fig = px.density_contour(data_df_np, x=\"NP_concentration\", y=\"NP size_min\", marginal_x=\"histogram\", marginal_y=\"histogram\", color='mark')\n",
        "fig.show()\n",
        "\n",
        "# по концентрации part2 весь лежит в узком интервале\n",
        "# по NP size_min part2 тоже всюду имеет соседей\n",
        "# так что в принципе его кажется адекатным заполнить"
      ],
      "metadata": {
        "colab": {
          "base_uri": "https://localhost:8080/",
          "height": 542
        },
        "id": "wunfHcMWxADW",
        "outputId": "ddbd7404-fd4f-4aa1-ecc5-07e8181fbfd2"
      },
      "execution_count": null,
      "outputs": [
        {
          "output_type": "display_data",
          "data": {
            "text/html": [
              "<html>\n",
              "<head><meta charset=\"utf-8\" /></head>\n",
              "<body>\n",
              "    <div>            <script src=\"https://cdnjs.cloudflare.com/ajax/libs/mathjax/2.7.5/MathJax.js?config=TeX-AMS-MML_SVG\"></script><script type=\"text/javascript\">if (window.MathJax && window.MathJax.Hub && window.MathJax.Hub.Config) {window.MathJax.Hub.Config({SVG: {font: \"STIX-Web\"}});}</script>                <script type=\"text/javascript\">window.PlotlyConfig = {MathJaxConfig: 'local'};</script>\n",
              "        <script src=\"https://cdn.plot.ly/plotly-2.18.2.min.js\"></script>                <div id=\"5b1f5b69-7a2d-4d31-b964-431a7da25bfb\" class=\"plotly-graph-div\" style=\"height:525px; width:100%;\"></div>            <script type=\"text/javascript\">                                    window.PLOTLYENV=window.PLOTLYENV || {};                                    if (document.getElementById(\"5b1f5b69-7a2d-4d31-b964-431a7da25bfb\")) {                    Plotly.newPlot(                        \"5b1f5b69-7a2d-4d31-b964-431a7da25bfb\",                        [{\"contours\":{\"coloring\":\"none\"},\"hovertemplate\":\"mark=0<br>NP_concentration=%{x}<br>NP size_min=%{y}<br>count=%{z}<extra></extra>\",\"legendgroup\":\"0\",\"line\":{\"color\":\"#636efa\"},\"name\":\"0\",\"showlegend\":true,\"x\":[100.0,100.0,null,100.0,null,100.0,null,null,null,null,null,null,null,null,null,null,null,null,null,null,null,null,null,100.0,null,null,null,null,null,null,10.0,100.0,100.0,100.0,10.0,null,100.0,100.0,10.0,100.0,null,10.0,20.0,null,100.0,null,100.0,10.0,20.0,null,null,100.0,10.0,10.0,100.0,100.0,20.0,null,null,100.0,100.0,100.0,100.0,10.0,100.0,null,100.0,100.0,null,null,10.0,null,null,null,null,null,null,null,100.0,100.0,100.0,10.0,10.0,null,100.0,100.0,100.0,100.0,10.0,100.0,100.0,100.0,100.0,100.0,100.0,100.0,100.0,10.0,null,null,null,null,null,100.0,10.0,100.0,null,null,null,null,null,null,null,null,null,null,10.0,10.0,null,null,null,null,null,null,null,null,null,null,null,null,null,20.0,null,null,null,null,null,null,null,null,null,null,null,null,null,null,null,null,null,null,null,null,null,null,null,null,null,null,null,null,null,null,null,null,null,null,null,null,null,null,null,null,null,null,null,null,null,null,null,null,null,null,null,null,null,null,null,null,null,null,null,null,null,null,null,null,null,null,null,null,null,null,null,null,null,null,null,null,null,null,null,null,null,null,null,null,null,null,null,null,null,null,null,null,null,null,null,null,null,null,null,null,null,null,null,null,null,null,null,null,null,null,null,null,null,null,null,null,null,null,null,null,null,null,null,null,null,null,null,null,null,null,null,null,null,null,null,null,null,null,null,null,null,null,null,null,null,null,null,null,null,null,null,null,null,null,null,null,null,null,null,null,null,null,null,null,null,null,null,null,null,null,null,null,null,null,null,null,null,null,null,null,null,null,null,null,null,null,null,null,null,null,null,null,null,null,null,null,null,null,null,null,null,null,null,null,null,null,null,null,null,null,null,null,null,null,null,null,null,null,null,null,null,null,null,null,null,null,null,null,null,null,null,null,null,null,null,null,null,null,null,null,null,null,null,null,null,null,null,null,null,null,null,null,null,null,null,null,null,null,null,null,null,null,null,null,null,null,null,null,null,null,null,null,null,null,null,null,null,null,null,null,null,null,null,null,null,null,null,null,null,null,null,null,null,null,null,null,null,null,null,null,null,null,null,null,null,null,null,null,null,null,null,null,null,null,null,null,null,null,null,null,null,null,null,null,null,null,null,null,null,null,null,null,null,null,null,null,null,null,null,null,null,null,null,null,null,null,null,null,null],\"xaxis\":\"x\",\"xbingroup\":\"x\",\"y\":[5.0,5.0,20.0,5.0,5.0,5.0,5.0,5.0,5.0,5.0,1.0,20.0,20.0,20.0,20.0,20.0,20.0,5.0,5.0,5.0,5.0,5.0,5.0,5.0,5.0,5.0,5.0,5.0,5.0,5.0,14.0,5.0,5.0,5.0,14.0,5.0,5.0,5.0,14.0,5.0,5.0,20.0,10.0,5.0,5.0,5.0,5.0,20.0,10.0,5.0,5.0,5.0,14.0,14.0,5.0,5.0,10.0,5.0,5.0,5.0,5.0,5.0,5.0,14.0,5.0,5.0,5.0,5.0,5.0,5.0,14.0,10.0,1.0,1.0,1.0,1.0,1.0,1.0,5.0,5.0,5.0,14.0,14.0,null,5.0,5.0,5.0,5.0,14.0,5.0,5.0,5.0,5.0,5.0,5.0,5.0,5.0,14.0,null,null,null,null,null,5.0,14.0,5.0,null,null,null,null,5.0,5.0,5.0,null,null,null,14.0,14.0,5.0,5.0,null,5.0,4.0,4.0,10.0,1.0,1.0,1.0,1.0,1.0,20.0,10.0,1.0,1.0,1.0,1.0,1.0,4.0,15.0,1.0,4.0,4.0,15.0,15.0,1.0,1.0,5.0,5.0,4.0,15.0,4.0,15.0,4.0,20.0,5.0,5.0,5.0,5.0,5.0,5.0,4.0,10.0,4.0,5.0,5.0,5.0,5.0,5.0,5.0,5.0,5.0,4.0,15.0,4.0,15.0,10.0,10.0,15.0,10.0,4.0,4.0,5.0,4.0,5.0,20.0,20.0,20.0,20.0,20.0,20.0,20.0,20.0,20.0,20.0,20.0,20.0,20.0,20.0,3.0,20.0,20.0,3.0,3.0,3.0,3.0,3.0,3.0,3.0,20.0,3.0,3.0,3.0,3.0,3.0,3.0,3.0,3.0,3.0,3.0,1.0,1.0,1.0,20.0,1.0,1.0,20.0,20.0,1.0,1.0,1.0,1.0,1.0,1.0,1.0,1.0,1.0,1.0,1.0,1.0,1.0,1.0,1.0,null,null,null,null,null,null,null,null,null,null,null,null,null,null,null,null,null,null,null,null,null,null,null,null,null,null,null,null,null,null,null,null,null,null,null,null,null,null,null,null,null,null,null,null,null,null,null,null,null,null,null,null,null,null,null,null,null,null,null,null,null,null,null,null,null,null,null,null,null,null,null,null,null,null,null,null,null,null,null,null,null,null,null,null,null,null,null,null,null,null,null,null,null,null,null,null,null,null,null,null,null,null,null,null,null,null,null,null,null,null,null,null,null,null,null,null,null,null,null,null,null,null,null,null,null,null,null,null,null,null,null,null,null,null,null,null,null,null,null,null,null,null,null,null,null,null,null,null,null,null,null,null,null,null,null,null,null,null,null,null,null,null,null,null,null,null,null,null,null,null,null,null,null,null,null,null,null,null,null,null,null,null,null,null,null,null,null,null,null,null,null,null,null,null,null,null,null,null,null,null,null,null,null,null,null,null,null,null,null,null,null,null,null,null,null,null,null,null,null,null,null,null,null,null,null,null,null,null,null,null,null,null,null,null,null,null,null,null,null],\"yaxis\":\"y\",\"ybingroup\":\"y\",\"type\":\"histogram2dcontour\"},{\"alignmentgroup\":\"True\",\"bingroup\":\"x\",\"hovertemplate\":\"mark=0<br>NP_concentration=%{x}<br>count=%{y}<extra></extra>\",\"legendgroup\":\"0\",\"marker\":{\"color\":\"#636efa\"},\"name\":\"0\",\"offsetgroup\":\"0\",\"opacity\":0.5,\"showlegend\":false,\"x\":[100.0,100.0,null,100.0,null,100.0,null,null,null,null,null,null,null,null,null,null,null,null,null,null,null,null,null,100.0,null,null,null,null,null,null,10.0,100.0,100.0,100.0,10.0,null,100.0,100.0,10.0,100.0,null,10.0,20.0,null,100.0,null,100.0,10.0,20.0,null,null,100.0,10.0,10.0,100.0,100.0,20.0,null,null,100.0,100.0,100.0,100.0,10.0,100.0,null,100.0,100.0,null,null,10.0,null,null,null,null,null,null,null,100.0,100.0,100.0,10.0,10.0,null,100.0,100.0,100.0,100.0,10.0,100.0,100.0,100.0,100.0,100.0,100.0,100.0,100.0,10.0,null,null,null,null,null,100.0,10.0,100.0,null,null,null,null,null,null,null,null,null,null,10.0,10.0,null,null,null,null,null,null,null,null,null,null,null,null,null,20.0,null,null,null,null,null,null,null,null,null,null,null,null,null,null,null,null,null,null,null,null,null,null,null,null,null,null,null,null,null,null,null,null,null,null,null,null,null,null,null,null,null,null,null,null,null,null,null,null,null,null,null,null,null,null,null,null,null,null,null,null,null,null,null,null,null,null,null,null,null,null,null,null,null,null,null,null,null,null,null,null,null,null,null,null,null,null,null,null,null,null,null,null,null,null,null,null,null,null,null,null,null,null,null,null,null,null,null,null,null,null,null,null,null,null,null,null,null,null,null,null,null,null,null,null,null,null,null,null,null,null,null,null,null,null,null,null,null,null,null,null,null,null,null,null,null,null,null,null,null,null,null,null,null,null,null,null,null,null,null,null,null,null,null,null,null,null,null,null,null,null,null,null,null,null,null,null,null,null,null,null,null,null,null,null,null,null,null,null,null,null,null,null,null,null,null,null,null,null,null,null,null,null,null,null,null,null,null,null,null,null,null,null,null,null,null,null,null,null,null,null,null,null,null,null,null,null,null,null,null,null,null,null,null,null,null,null,null,null,null,null,null,null,null,null,null,null,null,null,null,null,null,null,null,null,null,null,null,null,null,null,null,null,null,null,null,null,null,null,null,null,null,null,null,null,null,null,null,null,null,null,null,null,null,null,null,null,null,null,null,null,null,null,null,null,null,null,null,null,null,null,null,null,null,null,null,null,null,null,null,null,null,null,null,null,null,null,null,null,null,null,null,null,null,null,null,null,null,null,null,null,null,null,null,null,null,null,null,null,null,null,null,null,null,null,null,null,null,null,null],\"xaxis\":\"x3\",\"yaxis\":\"y3\",\"type\":\"histogram\"},{\"alignmentgroup\":\"True\",\"bingroup\":\"y\",\"hovertemplate\":\"mark=0<br>NP size_min=%{y}<br>count=%{x}<extra></extra>\",\"legendgroup\":\"0\",\"marker\":{\"color\":\"#636efa\"},\"name\":\"0\",\"offsetgroup\":\"0\",\"opacity\":0.5,\"showlegend\":false,\"xaxis\":\"x2\",\"y\":[5.0,5.0,20.0,5.0,5.0,5.0,5.0,5.0,5.0,5.0,1.0,20.0,20.0,20.0,20.0,20.0,20.0,5.0,5.0,5.0,5.0,5.0,5.0,5.0,5.0,5.0,5.0,5.0,5.0,5.0,14.0,5.0,5.0,5.0,14.0,5.0,5.0,5.0,14.0,5.0,5.0,20.0,10.0,5.0,5.0,5.0,5.0,20.0,10.0,5.0,5.0,5.0,14.0,14.0,5.0,5.0,10.0,5.0,5.0,5.0,5.0,5.0,5.0,14.0,5.0,5.0,5.0,5.0,5.0,5.0,14.0,10.0,1.0,1.0,1.0,1.0,1.0,1.0,5.0,5.0,5.0,14.0,14.0,null,5.0,5.0,5.0,5.0,14.0,5.0,5.0,5.0,5.0,5.0,5.0,5.0,5.0,14.0,null,null,null,null,null,5.0,14.0,5.0,null,null,null,null,5.0,5.0,5.0,null,null,null,14.0,14.0,5.0,5.0,null,5.0,4.0,4.0,10.0,1.0,1.0,1.0,1.0,1.0,20.0,10.0,1.0,1.0,1.0,1.0,1.0,4.0,15.0,1.0,4.0,4.0,15.0,15.0,1.0,1.0,5.0,5.0,4.0,15.0,4.0,15.0,4.0,20.0,5.0,5.0,5.0,5.0,5.0,5.0,4.0,10.0,4.0,5.0,5.0,5.0,5.0,5.0,5.0,5.0,5.0,4.0,15.0,4.0,15.0,10.0,10.0,15.0,10.0,4.0,4.0,5.0,4.0,5.0,20.0,20.0,20.0,20.0,20.0,20.0,20.0,20.0,20.0,20.0,20.0,20.0,20.0,20.0,3.0,20.0,20.0,3.0,3.0,3.0,3.0,3.0,3.0,3.0,20.0,3.0,3.0,3.0,3.0,3.0,3.0,3.0,3.0,3.0,3.0,1.0,1.0,1.0,20.0,1.0,1.0,20.0,20.0,1.0,1.0,1.0,1.0,1.0,1.0,1.0,1.0,1.0,1.0,1.0,1.0,1.0,1.0,1.0,null,null,null,null,null,null,null,null,null,null,null,null,null,null,null,null,null,null,null,null,null,null,null,null,null,null,null,null,null,null,null,null,null,null,null,null,null,null,null,null,null,null,null,null,null,null,null,null,null,null,null,null,null,null,null,null,null,null,null,null,null,null,null,null,null,null,null,null,null,null,null,null,null,null,null,null,null,null,null,null,null,null,null,null,null,null,null,null,null,null,null,null,null,null,null,null,null,null,null,null,null,null,null,null,null,null,null,null,null,null,null,null,null,null,null,null,null,null,null,null,null,null,null,null,null,null,null,null,null,null,null,null,null,null,null,null,null,null,null,null,null,null,null,null,null,null,null,null,null,null,null,null,null,null,null,null,null,null,null,null,null,null,null,null,null,null,null,null,null,null,null,null,null,null,null,null,null,null,null,null,null,null,null,null,null,null,null,null,null,null,null,null,null,null,null,null,null,null,null,null,null,null,null,null,null,null,null,null,null,null,null,null,null,null,null,null,null,null,null,null,null,null,null,null,null,null,null,null,null,null,null,null,null,null,null,null,null,null,null],\"yaxis\":\"y2\",\"type\":\"histogram\"},{\"contours\":{\"coloring\":\"none\"},\"hovertemplate\":\"mark=2<br>NP_concentration=%{x}<br>NP size_min=%{y}<br>count=%{z}<extra></extra>\",\"legendgroup\":\"2\",\"line\":{\"color\":\"#EF553B\"},\"name\":\"2\",\"showlegend\":true,\"x\":[30.0,30.0,30.0,30.0,30.0,30.0,30.0,42.5,42.33,42.15,42.24,30.0,30.0,30.0,42.2,30.0,42.11,30.0,10.0,42.27,42.13,10.0,10.0,42.34,42.8,42.32,30.0,42.23,30.0,30.0,42.12,42.25,30.0,30.0,42.1,30.0,30.0,30.0,10.0,30.0,30.0,30.0,30.0,30.0,10.0,42.29,42.26,42.28,10.0,42.16,30.0,30.0,10.0,10.0,42.6,30.0,30.0,30.0,30.0,30.0,10.0,30.0,30.0,30.0,30.0,30.0,30.0,30.0,10.0,42.31,30.0,30.0,30.0,30.0,30.0,30.0,30.0,30.0,30.0,30.0,30.0,10.0,10.0,10.0,10.0,10.0,10.0,42.9,42.19,42.18,30.0,42.3,30.0,30.0,30.0,30.0,30.0,30.0,30.0,10.0,30.0,30.0,30.0,30.0,30.0,30.0,30.0,30.0,30.0,30.0,30.0,30.0,10.0,10.0,42.17,42.21,30.0,30.0,30.0,30.0,30.0,42.14,30.0,30.0,30.0,30.0,10.0,30.0,30.0,30.0,30.0,30.0,30.0,30.0,30.0,10.0,30.0,30.0,30.0,30.0,42.7,30.0,30.0,30.0,30.0,30.0,30.0,30.0,30.0,30.0,30.0,30.0,30.0,30.0,30.0,30.0,30.0,30.0,30.0,30.0,30.0,10.0,30.0,10.0,30.0,30.0,30.0,30.0,30.0,42.22,30.0,30.0,30.0,30.0,30.0,30.0,30.0,30.0,30.0,30.0,30.0,30.0,30.0,30.0,30.0,30.0,30.0,30.0,30.0,30.0,30.0,30.0,30.0,30.0,10.0,30.0,30.0,30.0,30.0,30.0,30.0,30.0,30.0,30.0,30.0,30.0,30.0,30.0,30.0,30.0,30.0,30.0,30.0,30.0,30.0,30.0,30.0,30.0,10.0,10.0,30.0,30.0,30.0,30.0,30.0,30.0,30.0,30.0,30.0,30.0,30.0,30.0,10.0,30.0,30.0,30.0,30.0,30.0,30.0,30.0,30.0,30.0,30.0,30.0,30.0,30.0,30.0,30.0,30.0,30.0,30.0,30.0,30.0,30.0,10.0,30.0,30.0,10.0,30.0,30.0,10.0,30.0,30.0,30.0,30.0,30.0,30.0,30.0,30.0,30.0,30.0,10.0,30.0,30.0,30.0,30.0,30.0,30.0,30.0,30.0,30.0,30.0,30.0,30.0,30.0,30.0,30.0,30.0,30.0,30.0,30.0,30.0,10.0,30.0,30.0,30.0,30.0,30.0,30.0,10.0,10.0,30.0,30.0,10.0,30.0,30.0,30.0,30.0,30.0,30.0,30.0,30.0,30.0,30.0,30.0,30.0,30.0,30.0,30.0,30.0,10.0,10.0,10.0,30.0,30.0,30.0,10.0,30.0,30.0,30.0,30.0,30.0,30.0,30.0,30.0,30.0,30.0,10.0,10.0,30.0,30.0,30.0,30.0,30.0,30.0,30.0,10.0,10.0,30.0,30.0,30.0,30.0,30.0,30.0,10.0,30.0,30.0,30.0,30.0,30.0,30.0,30.0,30.0,30.0,30.0,30.0,30.0,30.0,30.0,30.0,30.0,30.0,30.0,30.0,30.0,30.0,30.0,30.0,30.0,30.0,30.0,30.0],\"xaxis\":\"x\",\"xbingroup\":\"x\",\"y\":[8.0,8.0,8.0,8.0,8.0,8.0,8.0,14.45,14.45,14.45,14.45,8.0,8.0,8.0,14.45,8.0,14.45,8.0,5.0,14.45,14.45,5.0,5.0,14.45,14.45,14.45,8.0,14.45,8.0,8.0,14.45,14.45,8.0,8.0,14.45,8.0,8.0,8.0,5.0,8.0,8.0,8.0,8.0,8.0,5.0,14.45,14.45,14.45,5.0,14.45,8.0,8.0,5.0,5.0,14.45,8.0,8.0,8.0,8.0,8.0,5.0,8.0,8.0,8.0,8.0,8.0,8.0,8.0,5.0,14.45,8.0,8.0,8.0,8.0,8.0,8.0,8.0,8.0,8.0,8.0,8.0,5.0,5.0,5.0,5.0,5.0,5.0,14.45,14.45,14.45,8.0,14.45,8.0,8.0,8.0,8.0,8.0,8.0,8.0,5.0,8.0,8.0,8.0,8.0,8.0,8.0,8.0,8.0,8.0,8.0,8.0,8.0,5.0,5.0,14.45,14.45,8.0,8.0,8.0,8.0,8.0,14.45,8.0,8.0,8.0,8.0,5.0,8.0,8.0,8.0,8.0,8.0,8.0,8.0,8.0,5.0,8.0,8.0,8.0,8.0,14.45,8.0,8.0,8.0,8.0,8.0,8.0,8.0,8.0,8.0,8.0,8.0,8.0,8.0,8.0,8.0,8.0,8.0,8.0,8.0,8.0,5.0,8.0,5.0,8.0,8.0,8.0,8.0,8.0,14.45,8.0,8.0,8.0,8.0,8.0,8.0,8.0,8.0,8.0,8.0,8.0,8.0,8.0,8.0,8.0,8.0,8.0,8.0,8.0,8.0,8.0,8.0,8.0,8.0,5.0,8.0,8.0,8.0,8.0,8.0,8.0,8.0,8.0,8.0,8.0,8.0,8.0,8.0,8.0,8.0,8.0,8.0,8.0,8.0,8.0,8.0,8.0,8.0,5.0,5.0,8.0,8.0,8.0,8.0,8.0,8.0,8.0,8.0,8.0,8.0,8.0,8.0,5.0,8.0,8.0,8.0,8.0,8.0,8.0,8.0,8.0,8.0,8.0,8.0,8.0,8.0,8.0,8.0,8.0,8.0,8.0,8.0,8.0,8.0,5.0,8.0,8.0,5.0,8.0,8.0,5.0,8.0,8.0,8.0,8.0,8.0,8.0,8.0,8.0,8.0,8.0,5.0,8.0,8.0,8.0,8.0,8.0,8.0,8.0,8.0,8.0,8.0,8.0,8.0,8.0,8.0,8.0,8.0,8.0,8.0,8.0,8.0,5.0,8.0,8.0,8.0,8.0,8.0,8.0,5.0,5.0,8.0,8.0,5.0,8.0,8.0,8.0,8.0,8.0,8.0,8.0,8.0,8.0,8.0,8.0,8.0,8.0,8.0,8.0,8.0,5.0,5.0,5.0,8.0,8.0,8.0,5.0,8.0,8.0,8.0,8.0,8.0,8.0,8.0,8.0,8.0,8.0,5.0,5.0,8.0,8.0,8.0,8.0,8.0,8.0,8.0,5.0,5.0,8.0,8.0,8.0,8.0,8.0,8.0,5.0,8.0,8.0,8.0,8.0,8.0,8.0,8.0,8.0,8.0,8.0,8.0,8.0,8.0,8.0,8.0,8.0,8.0,8.0,8.0,8.0,8.0,8.0,8.0,8.0,8.0,8.0,8.0],\"yaxis\":\"y\",\"ybingroup\":\"y\",\"type\":\"histogram2dcontour\"},{\"alignmentgroup\":\"True\",\"bingroup\":\"x\",\"hovertemplate\":\"mark=2<br>NP_concentration=%{x}<br>count=%{y}<extra></extra>\",\"legendgroup\":\"2\",\"marker\":{\"color\":\"#EF553B\"},\"name\":\"2\",\"offsetgroup\":\"2\",\"opacity\":0.5,\"showlegend\":false,\"x\":[30.0,30.0,30.0,30.0,30.0,30.0,30.0,42.5,42.33,42.15,42.24,30.0,30.0,30.0,42.2,30.0,42.11,30.0,10.0,42.27,42.13,10.0,10.0,42.34,42.8,42.32,30.0,42.23,30.0,30.0,42.12,42.25,30.0,30.0,42.1,30.0,30.0,30.0,10.0,30.0,30.0,30.0,30.0,30.0,10.0,42.29,42.26,42.28,10.0,42.16,30.0,30.0,10.0,10.0,42.6,30.0,30.0,30.0,30.0,30.0,10.0,30.0,30.0,30.0,30.0,30.0,30.0,30.0,10.0,42.31,30.0,30.0,30.0,30.0,30.0,30.0,30.0,30.0,30.0,30.0,30.0,10.0,10.0,10.0,10.0,10.0,10.0,42.9,42.19,42.18,30.0,42.3,30.0,30.0,30.0,30.0,30.0,30.0,30.0,10.0,30.0,30.0,30.0,30.0,30.0,30.0,30.0,30.0,30.0,30.0,30.0,30.0,10.0,10.0,42.17,42.21,30.0,30.0,30.0,30.0,30.0,42.14,30.0,30.0,30.0,30.0,10.0,30.0,30.0,30.0,30.0,30.0,30.0,30.0,30.0,10.0,30.0,30.0,30.0,30.0,42.7,30.0,30.0,30.0,30.0,30.0,30.0,30.0,30.0,30.0,30.0,30.0,30.0,30.0,30.0,30.0,30.0,30.0,30.0,30.0,30.0,10.0,30.0,10.0,30.0,30.0,30.0,30.0,30.0,42.22,30.0,30.0,30.0,30.0,30.0,30.0,30.0,30.0,30.0,30.0,30.0,30.0,30.0,30.0,30.0,30.0,30.0,30.0,30.0,30.0,30.0,30.0,30.0,30.0,10.0,30.0,30.0,30.0,30.0,30.0,30.0,30.0,30.0,30.0,30.0,30.0,30.0,30.0,30.0,30.0,30.0,30.0,30.0,30.0,30.0,30.0,30.0,30.0,10.0,10.0,30.0,30.0,30.0,30.0,30.0,30.0,30.0,30.0,30.0,30.0,30.0,30.0,10.0,30.0,30.0,30.0,30.0,30.0,30.0,30.0,30.0,30.0,30.0,30.0,30.0,30.0,30.0,30.0,30.0,30.0,30.0,30.0,30.0,30.0,10.0,30.0,30.0,10.0,30.0,30.0,10.0,30.0,30.0,30.0,30.0,30.0,30.0,30.0,30.0,30.0,30.0,10.0,30.0,30.0,30.0,30.0,30.0,30.0,30.0,30.0,30.0,30.0,30.0,30.0,30.0,30.0,30.0,30.0,30.0,30.0,30.0,30.0,10.0,30.0,30.0,30.0,30.0,30.0,30.0,10.0,10.0,30.0,30.0,10.0,30.0,30.0,30.0,30.0,30.0,30.0,30.0,30.0,30.0,30.0,30.0,30.0,30.0,30.0,30.0,30.0,10.0,10.0,10.0,30.0,30.0,30.0,10.0,30.0,30.0,30.0,30.0,30.0,30.0,30.0,30.0,30.0,30.0,10.0,10.0,30.0,30.0,30.0,30.0,30.0,30.0,30.0,10.0,10.0,30.0,30.0,30.0,30.0,30.0,30.0,10.0,30.0,30.0,30.0,30.0,30.0,30.0,30.0,30.0,30.0,30.0,30.0,30.0,30.0,30.0,30.0,30.0,30.0,30.0,30.0,30.0,30.0,30.0,30.0,30.0,30.0,30.0,30.0],\"xaxis\":\"x3\",\"yaxis\":\"y3\",\"type\":\"histogram\"},{\"alignmentgroup\":\"True\",\"bingroup\":\"y\",\"hovertemplate\":\"mark=2<br>NP size_min=%{y}<br>count=%{x}<extra></extra>\",\"legendgroup\":\"2\",\"marker\":{\"color\":\"#EF553B\"},\"name\":\"2\",\"offsetgroup\":\"2\",\"opacity\":0.5,\"showlegend\":false,\"xaxis\":\"x2\",\"y\":[8.0,8.0,8.0,8.0,8.0,8.0,8.0,14.45,14.45,14.45,14.45,8.0,8.0,8.0,14.45,8.0,14.45,8.0,5.0,14.45,14.45,5.0,5.0,14.45,14.45,14.45,8.0,14.45,8.0,8.0,14.45,14.45,8.0,8.0,14.45,8.0,8.0,8.0,5.0,8.0,8.0,8.0,8.0,8.0,5.0,14.45,14.45,14.45,5.0,14.45,8.0,8.0,5.0,5.0,14.45,8.0,8.0,8.0,8.0,8.0,5.0,8.0,8.0,8.0,8.0,8.0,8.0,8.0,5.0,14.45,8.0,8.0,8.0,8.0,8.0,8.0,8.0,8.0,8.0,8.0,8.0,5.0,5.0,5.0,5.0,5.0,5.0,14.45,14.45,14.45,8.0,14.45,8.0,8.0,8.0,8.0,8.0,8.0,8.0,5.0,8.0,8.0,8.0,8.0,8.0,8.0,8.0,8.0,8.0,8.0,8.0,8.0,5.0,5.0,14.45,14.45,8.0,8.0,8.0,8.0,8.0,14.45,8.0,8.0,8.0,8.0,5.0,8.0,8.0,8.0,8.0,8.0,8.0,8.0,8.0,5.0,8.0,8.0,8.0,8.0,14.45,8.0,8.0,8.0,8.0,8.0,8.0,8.0,8.0,8.0,8.0,8.0,8.0,8.0,8.0,8.0,8.0,8.0,8.0,8.0,8.0,5.0,8.0,5.0,8.0,8.0,8.0,8.0,8.0,14.45,8.0,8.0,8.0,8.0,8.0,8.0,8.0,8.0,8.0,8.0,8.0,8.0,8.0,8.0,8.0,8.0,8.0,8.0,8.0,8.0,8.0,8.0,8.0,8.0,5.0,8.0,8.0,8.0,8.0,8.0,8.0,8.0,8.0,8.0,8.0,8.0,8.0,8.0,8.0,8.0,8.0,8.0,8.0,8.0,8.0,8.0,8.0,8.0,5.0,5.0,8.0,8.0,8.0,8.0,8.0,8.0,8.0,8.0,8.0,8.0,8.0,8.0,5.0,8.0,8.0,8.0,8.0,8.0,8.0,8.0,8.0,8.0,8.0,8.0,8.0,8.0,8.0,8.0,8.0,8.0,8.0,8.0,8.0,8.0,5.0,8.0,8.0,5.0,8.0,8.0,5.0,8.0,8.0,8.0,8.0,8.0,8.0,8.0,8.0,8.0,8.0,5.0,8.0,8.0,8.0,8.0,8.0,8.0,8.0,8.0,8.0,8.0,8.0,8.0,8.0,8.0,8.0,8.0,8.0,8.0,8.0,8.0,5.0,8.0,8.0,8.0,8.0,8.0,8.0,5.0,5.0,8.0,8.0,5.0,8.0,8.0,8.0,8.0,8.0,8.0,8.0,8.0,8.0,8.0,8.0,8.0,8.0,8.0,8.0,8.0,5.0,5.0,5.0,8.0,8.0,8.0,5.0,8.0,8.0,8.0,8.0,8.0,8.0,8.0,8.0,8.0,8.0,5.0,5.0,8.0,8.0,8.0,8.0,8.0,8.0,8.0,5.0,5.0,8.0,8.0,8.0,8.0,8.0,8.0,5.0,8.0,8.0,8.0,8.0,8.0,8.0,8.0,8.0,8.0,8.0,8.0,8.0,8.0,8.0,8.0,8.0,8.0,8.0,8.0,8.0,8.0,8.0,8.0,8.0,8.0,8.0,8.0],\"yaxis\":\"y2\",\"type\":\"histogram\"}],                        {\"template\":{\"data\":{\"histogram2dcontour\":[{\"type\":\"histogram2dcontour\",\"colorbar\":{\"outlinewidth\":0,\"ticks\":\"\"},\"colorscale\":[[0.0,\"#0d0887\"],[0.1111111111111111,\"#46039f\"],[0.2222222222222222,\"#7201a8\"],[0.3333333333333333,\"#9c179e\"],[0.4444444444444444,\"#bd3786\"],[0.5555555555555556,\"#d8576b\"],[0.6666666666666666,\"#ed7953\"],[0.7777777777777778,\"#fb9f3a\"],[0.8888888888888888,\"#fdca26\"],[1.0,\"#f0f921\"]]}],\"choropleth\":[{\"type\":\"choropleth\",\"colorbar\":{\"outlinewidth\":0,\"ticks\":\"\"}}],\"histogram2d\":[{\"type\":\"histogram2d\",\"colorbar\":{\"outlinewidth\":0,\"ticks\":\"\"},\"colorscale\":[[0.0,\"#0d0887\"],[0.1111111111111111,\"#46039f\"],[0.2222222222222222,\"#7201a8\"],[0.3333333333333333,\"#9c179e\"],[0.4444444444444444,\"#bd3786\"],[0.5555555555555556,\"#d8576b\"],[0.6666666666666666,\"#ed7953\"],[0.7777777777777778,\"#fb9f3a\"],[0.8888888888888888,\"#fdca26\"],[1.0,\"#f0f921\"]]}],\"heatmap\":[{\"type\":\"heatmap\",\"colorbar\":{\"outlinewidth\":0,\"ticks\":\"\"},\"colorscale\":[[0.0,\"#0d0887\"],[0.1111111111111111,\"#46039f\"],[0.2222222222222222,\"#7201a8\"],[0.3333333333333333,\"#9c179e\"],[0.4444444444444444,\"#bd3786\"],[0.5555555555555556,\"#d8576b\"],[0.6666666666666666,\"#ed7953\"],[0.7777777777777778,\"#fb9f3a\"],[0.8888888888888888,\"#fdca26\"],[1.0,\"#f0f921\"]]}],\"heatmapgl\":[{\"type\":\"heatmapgl\",\"colorbar\":{\"outlinewidth\":0,\"ticks\":\"\"},\"colorscale\":[[0.0,\"#0d0887\"],[0.1111111111111111,\"#46039f\"],[0.2222222222222222,\"#7201a8\"],[0.3333333333333333,\"#9c179e\"],[0.4444444444444444,\"#bd3786\"],[0.5555555555555556,\"#d8576b\"],[0.6666666666666666,\"#ed7953\"],[0.7777777777777778,\"#fb9f3a\"],[0.8888888888888888,\"#fdca26\"],[1.0,\"#f0f921\"]]}],\"contourcarpet\":[{\"type\":\"contourcarpet\",\"colorbar\":{\"outlinewidth\":0,\"ticks\":\"\"}}],\"contour\":[{\"type\":\"contour\",\"colorbar\":{\"outlinewidth\":0,\"ticks\":\"\"},\"colorscale\":[[0.0,\"#0d0887\"],[0.1111111111111111,\"#46039f\"],[0.2222222222222222,\"#7201a8\"],[0.3333333333333333,\"#9c179e\"],[0.4444444444444444,\"#bd3786\"],[0.5555555555555556,\"#d8576b\"],[0.6666666666666666,\"#ed7953\"],[0.7777777777777778,\"#fb9f3a\"],[0.8888888888888888,\"#fdca26\"],[1.0,\"#f0f921\"]]}],\"surface\":[{\"type\":\"surface\",\"colorbar\":{\"outlinewidth\":0,\"ticks\":\"\"},\"colorscale\":[[0.0,\"#0d0887\"],[0.1111111111111111,\"#46039f\"],[0.2222222222222222,\"#7201a8\"],[0.3333333333333333,\"#9c179e\"],[0.4444444444444444,\"#bd3786\"],[0.5555555555555556,\"#d8576b\"],[0.6666666666666666,\"#ed7953\"],[0.7777777777777778,\"#fb9f3a\"],[0.8888888888888888,\"#fdca26\"],[1.0,\"#f0f921\"]]}],\"mesh3d\":[{\"type\":\"mesh3d\",\"colorbar\":{\"outlinewidth\":0,\"ticks\":\"\"}}],\"scatter\":[{\"fillpattern\":{\"fillmode\":\"overlay\",\"size\":10,\"solidity\":0.2},\"type\":\"scatter\"}],\"parcoords\":[{\"type\":\"parcoords\",\"line\":{\"colorbar\":{\"outlinewidth\":0,\"ticks\":\"\"}}}],\"scatterpolargl\":[{\"type\":\"scatterpolargl\",\"marker\":{\"colorbar\":{\"outlinewidth\":0,\"ticks\":\"\"}}}],\"bar\":[{\"error_x\":{\"color\":\"#2a3f5f\"},\"error_y\":{\"color\":\"#2a3f5f\"},\"marker\":{\"line\":{\"color\":\"#E5ECF6\",\"width\":0.5},\"pattern\":{\"fillmode\":\"overlay\",\"size\":10,\"solidity\":0.2}},\"type\":\"bar\"}],\"scattergeo\":[{\"type\":\"scattergeo\",\"marker\":{\"colorbar\":{\"outlinewidth\":0,\"ticks\":\"\"}}}],\"scatterpolar\":[{\"type\":\"scatterpolar\",\"marker\":{\"colorbar\":{\"outlinewidth\":0,\"ticks\":\"\"}}}],\"histogram\":[{\"marker\":{\"pattern\":{\"fillmode\":\"overlay\",\"size\":10,\"solidity\":0.2}},\"type\":\"histogram\"}],\"scattergl\":[{\"type\":\"scattergl\",\"marker\":{\"colorbar\":{\"outlinewidth\":0,\"ticks\":\"\"}}}],\"scatter3d\":[{\"type\":\"scatter3d\",\"line\":{\"colorbar\":{\"outlinewidth\":0,\"ticks\":\"\"}},\"marker\":{\"colorbar\":{\"outlinewidth\":0,\"ticks\":\"\"}}}],\"scattermapbox\":[{\"type\":\"scattermapbox\",\"marker\":{\"colorbar\":{\"outlinewidth\":0,\"ticks\":\"\"}}}],\"scatterternary\":[{\"type\":\"scatterternary\",\"marker\":{\"colorbar\":{\"outlinewidth\":0,\"ticks\":\"\"}}}],\"scattercarpet\":[{\"type\":\"scattercarpet\",\"marker\":{\"colorbar\":{\"outlinewidth\":0,\"ticks\":\"\"}}}],\"carpet\":[{\"aaxis\":{\"endlinecolor\":\"#2a3f5f\",\"gridcolor\":\"white\",\"linecolor\":\"white\",\"minorgridcolor\":\"white\",\"startlinecolor\":\"#2a3f5f\"},\"baxis\":{\"endlinecolor\":\"#2a3f5f\",\"gridcolor\":\"white\",\"linecolor\":\"white\",\"minorgridcolor\":\"white\",\"startlinecolor\":\"#2a3f5f\"},\"type\":\"carpet\"}],\"table\":[{\"cells\":{\"fill\":{\"color\":\"#EBF0F8\"},\"line\":{\"color\":\"white\"}},\"header\":{\"fill\":{\"color\":\"#C8D4E3\"},\"line\":{\"color\":\"white\"}},\"type\":\"table\"}],\"barpolar\":[{\"marker\":{\"line\":{\"color\":\"#E5ECF6\",\"width\":0.5},\"pattern\":{\"fillmode\":\"overlay\",\"size\":10,\"solidity\":0.2}},\"type\":\"barpolar\"}],\"pie\":[{\"automargin\":true,\"type\":\"pie\"}]},\"layout\":{\"autotypenumbers\":\"strict\",\"colorway\":[\"#636efa\",\"#EF553B\",\"#00cc96\",\"#ab63fa\",\"#FFA15A\",\"#19d3f3\",\"#FF6692\",\"#B6E880\",\"#FF97FF\",\"#FECB52\"],\"font\":{\"color\":\"#2a3f5f\"},\"hovermode\":\"closest\",\"hoverlabel\":{\"align\":\"left\"},\"paper_bgcolor\":\"white\",\"plot_bgcolor\":\"#E5ECF6\",\"polar\":{\"bgcolor\":\"#E5ECF6\",\"angularaxis\":{\"gridcolor\":\"white\",\"linecolor\":\"white\",\"ticks\":\"\"},\"radialaxis\":{\"gridcolor\":\"white\",\"linecolor\":\"white\",\"ticks\":\"\"}},\"ternary\":{\"bgcolor\":\"#E5ECF6\",\"aaxis\":{\"gridcolor\":\"white\",\"linecolor\":\"white\",\"ticks\":\"\"},\"baxis\":{\"gridcolor\":\"white\",\"linecolor\":\"white\",\"ticks\":\"\"},\"caxis\":{\"gridcolor\":\"white\",\"linecolor\":\"white\",\"ticks\":\"\"}},\"coloraxis\":{\"colorbar\":{\"outlinewidth\":0,\"ticks\":\"\"}},\"colorscale\":{\"sequential\":[[0.0,\"#0d0887\"],[0.1111111111111111,\"#46039f\"],[0.2222222222222222,\"#7201a8\"],[0.3333333333333333,\"#9c179e\"],[0.4444444444444444,\"#bd3786\"],[0.5555555555555556,\"#d8576b\"],[0.6666666666666666,\"#ed7953\"],[0.7777777777777778,\"#fb9f3a\"],[0.8888888888888888,\"#fdca26\"],[1.0,\"#f0f921\"]],\"sequentialminus\":[[0.0,\"#0d0887\"],[0.1111111111111111,\"#46039f\"],[0.2222222222222222,\"#7201a8\"],[0.3333333333333333,\"#9c179e\"],[0.4444444444444444,\"#bd3786\"],[0.5555555555555556,\"#d8576b\"],[0.6666666666666666,\"#ed7953\"],[0.7777777777777778,\"#fb9f3a\"],[0.8888888888888888,\"#fdca26\"],[1.0,\"#f0f921\"]],\"diverging\":[[0,\"#8e0152\"],[0.1,\"#c51b7d\"],[0.2,\"#de77ae\"],[0.3,\"#f1b6da\"],[0.4,\"#fde0ef\"],[0.5,\"#f7f7f7\"],[0.6,\"#e6f5d0\"],[0.7,\"#b8e186\"],[0.8,\"#7fbc41\"],[0.9,\"#4d9221\"],[1,\"#276419\"]]},\"xaxis\":{\"gridcolor\":\"white\",\"linecolor\":\"white\",\"ticks\":\"\",\"title\":{\"standoff\":15},\"zerolinecolor\":\"white\",\"automargin\":true,\"zerolinewidth\":2},\"yaxis\":{\"gridcolor\":\"white\",\"linecolor\":\"white\",\"ticks\":\"\",\"title\":{\"standoff\":15},\"zerolinecolor\":\"white\",\"automargin\":true,\"zerolinewidth\":2},\"scene\":{\"xaxis\":{\"backgroundcolor\":\"#E5ECF6\",\"gridcolor\":\"white\",\"linecolor\":\"white\",\"showbackground\":true,\"ticks\":\"\",\"zerolinecolor\":\"white\",\"gridwidth\":2},\"yaxis\":{\"backgroundcolor\":\"#E5ECF6\",\"gridcolor\":\"white\",\"linecolor\":\"white\",\"showbackground\":true,\"ticks\":\"\",\"zerolinecolor\":\"white\",\"gridwidth\":2},\"zaxis\":{\"backgroundcolor\":\"#E5ECF6\",\"gridcolor\":\"white\",\"linecolor\":\"white\",\"showbackground\":true,\"ticks\":\"\",\"zerolinecolor\":\"white\",\"gridwidth\":2}},\"shapedefaults\":{\"line\":{\"color\":\"#2a3f5f\"}},\"annotationdefaults\":{\"arrowcolor\":\"#2a3f5f\",\"arrowhead\":0,\"arrowwidth\":1},\"geo\":{\"bgcolor\":\"white\",\"landcolor\":\"#E5ECF6\",\"subunitcolor\":\"white\",\"showland\":true,\"showlakes\":true,\"lakecolor\":\"white\"},\"title\":{\"x\":0.05},\"mapbox\":{\"style\":\"light\"}}},\"xaxis\":{\"anchor\":\"y\",\"domain\":[0.0,0.7363],\"title\":{\"text\":\"NP_concentration\"}},\"yaxis\":{\"anchor\":\"x\",\"domain\":[0.0,0.7326],\"title\":{\"text\":\"NP size_min\"}},\"xaxis2\":{\"anchor\":\"y2\",\"domain\":[0.7413,1.0],\"matches\":\"x2\",\"showticklabels\":false,\"showline\":false,\"ticks\":\"\",\"showgrid\":true},\"yaxis2\":{\"anchor\":\"x2\",\"domain\":[0.0,0.7326],\"matches\":\"y\",\"showticklabels\":false,\"showgrid\":true},\"xaxis3\":{\"anchor\":\"y3\",\"domain\":[0.0,0.7363],\"matches\":\"x\",\"showticklabels\":false,\"showgrid\":true},\"yaxis3\":{\"anchor\":\"x3\",\"domain\":[0.7426,1.0],\"matches\":\"y3\",\"showticklabels\":false,\"showline\":false,\"ticks\":\"\",\"showgrid\":true},\"xaxis4\":{\"anchor\":\"y4\",\"domain\":[0.7413,1.0],\"matches\":\"x2\",\"showticklabels\":false,\"showgrid\":true,\"showline\":false,\"ticks\":\"\"},\"yaxis4\":{\"anchor\":\"x4\",\"domain\":[0.7426,1.0],\"matches\":\"y3\",\"showticklabels\":false,\"showline\":false,\"ticks\":\"\",\"showgrid\":true},\"legend\":{\"title\":{\"text\":\"mark\"},\"tracegroupgap\":0},\"margin\":{\"t\":60},\"barmode\":\"overlay\"},                        {\"responsive\": true}                    ).then(function(){\n",
              "                            \n",
              "var gd = document.getElementById('5b1f5b69-7a2d-4d31-b964-431a7da25bfb');\n",
              "var x = new MutationObserver(function (mutations, observer) {{\n",
              "        var display = window.getComputedStyle(gd).display;\n",
              "        if (!display || display === 'none') {{\n",
              "            console.log([gd, 'removed!']);\n",
              "            Plotly.purge(gd);\n",
              "            observer.disconnect();\n",
              "        }}\n",
              "}});\n",
              "\n",
              "// Listen for the removal of the full notebook cells\n",
              "var notebookContainer = gd.closest('#notebook-container');\n",
              "if (notebookContainer) {{\n",
              "    x.observe(notebookContainer, {childList: true});\n",
              "}}\n",
              "\n",
              "// Listen for the clearing of the current output cell\n",
              "var outputEl = gd.closest('.output');\n",
              "if (outputEl) {{\n",
              "    x.observe(outputEl, {childList: true});\n",
              "}}\n",
              "\n",
              "                        })                };                            </script>        </div>\n",
              "</body>\n",
              "</html>"
            ]
          },
          "metadata": {}
        }
      ]
    },
    {
      "cell_type": "code",
      "source": [
        "data_df_np['mark'] = part1_mask * 1\n",
        "# data_df_np['mark'] = part2_mask * 2\n",
        "data_df_np['mark'] = data_df_np['mark'].astype(str)\n",
        "\n",
        "import plotly.express as px\n",
        "\n",
        "fig = px.density_contour(data_df_np, x=\"ZOI_NP\", y=\"NP size_min\", marginal_x=\"histogram\", marginal_y=\"histogram\", color='mark')\n",
        "fig.show()\n",
        "\n",
        "# c part1 всё не так однозначно. Можно попборовать посмотреть на неё ещё раз после заполнения part2"
      ],
      "metadata": {
        "colab": {
          "base_uri": "https://localhost:8080/",
          "height": 542
        },
        "id": "3_vzeFxB2KQT",
        "outputId": "715675f1-2c40-4426-f3c0-a642dc07170e"
      },
      "execution_count": null,
      "outputs": [
        {
          "output_type": "display_data",
          "data": {
            "text/html": [
              "<html>\n",
              "<head><meta charset=\"utf-8\" /></head>\n",
              "<body>\n",
              "    <div>            <script src=\"https://cdnjs.cloudflare.com/ajax/libs/mathjax/2.7.5/MathJax.js?config=TeX-AMS-MML_SVG\"></script><script type=\"text/javascript\">if (window.MathJax && window.MathJax.Hub && window.MathJax.Hub.Config) {window.MathJax.Hub.Config({SVG: {font: \"STIX-Web\"}});}</script>                <script type=\"text/javascript\">window.PlotlyConfig = {MathJaxConfig: 'local'};</script>\n",
              "        <script src=\"https://cdn.plot.ly/plotly-2.18.2.min.js\"></script>                <div id=\"77d490bc-a5ad-44b8-9c4c-c0022bc011de\" class=\"plotly-graph-div\" style=\"height:525px; width:100%;\"></div>            <script type=\"text/javascript\">                                    window.PLOTLYENV=window.PLOTLYENV || {};                                    if (document.getElementById(\"77d490bc-a5ad-44b8-9c4c-c0022bc011de\")) {                    Plotly.newPlot(                        \"77d490bc-a5ad-44b8-9c4c-c0022bc011de\",                        [{\"contours\":{\"coloring\":\"none\"},\"hovertemplate\":\"mark=0<br>ZOI_NP=%{x}<br>NP size_min=%{y}<br>count=%{z}<extra></extra>\",\"legendgroup\":\"0\",\"line\":{\"color\":\"#636efa\"},\"name\":\"0\",\"showlegend\":true,\"x\":[14.0,14.0,null,null,null,null,null,null,null,null,null,null,null,null,null,null,null,15.0,null,null,null,null,null,null,null,null,null,null,null,14.0,null,null,null,null,null,null,null,null,null,null,null,null,null,null,null,null,null,null,null,null,null,null,null,null,null,null,16.0,null,null,null,null,null,null,null,null,null,null,null,null,null,null,null,null,null,null,null,null,null,null,null,null,null,null,null,null,null,13.0,15.0,14.0,null,16.0,null,null,null,null,null,null,null,null,null,null,null,null,null,null,null,15.0,null,null,null,null,15.0,14.0,null,null,null,null,null,null,null,null,null,null,null,19.0,null,null,null,null,null,null,null,null,null,null,null,null,null,null,null,null,null,null,15.0,10.0,null,null,null,null,null,null,24.0,null,null,16.0,14.0,10.0,null,null,null,null,null,null,24.0,null,null,null,null,14.0,13.0,null,15.0,null,15.0,null,null,14.0,null,null,null,null,null,null,null,null,null,null,null,null,null,null,null,null,null,null,null,null,null,22.0,null,null,null,null,null,15.0,null,null,null,null,null,null,15.0,null,null,14.0,null,null,null,null,null,null,14.0,null,null,null,null,null,null,null,null,null,null,null,null,null,null,null,19.0,14.0,null,null,null,null,null,null,null,null,null,null,null,null,null,null,null,null,null,null,null,null,15.0,15.0,null,null,null,null,null,null,null,null,null,null,null,null,15.0,null,null,null,null,null,null,null,null,null,null,null,null,14.0,16.0,null,null,null,null,null,15.0,18.0,null,null,15.0,null,null,null,null,null,null,null,null,null,null,null,null,null,null,null,15.0,15.0,15.0,16.0,18.0,null,null,null,null,null,null,null,null,null,null,null,null,null,null,null,null,14.0,15.0,15.0,15.0,15.0,14.0,15.0,15.0,null,null,null,null,null,null,null,null,null,null,null,null,null,19.0,null,null,null,null,null,null,null,null,null,null,null,null,null,14.0,null,18.0,null,null,null,null,null,null,null,null,null,15.0,null,null,null,null,null,null,null,null,null,null,null,null,null,null,null,null,null,null,null,null,null,null,null,null,null,null,null,null,null,null,null,null,null,null,null,18.0,null,null,null,null,null,null,null,null,null,19.0,null,null,null,null,null,null,null,null,null,null,null,null,null,null,null,null,null,null,null,null,null,null,null,null,null,null,null,null,null,null,null,null,null,null,null,null,null,null,null,null,null,null,null,null,null,null,null,null,null,null,null,25.0,null,null,null,null,null,null,null,null,null,null,null,null,null,null,null,null,null,null,null,null,null,null,null,null,null,null,null,null,null,null,null,null,null,null,null,null,null,null,null,null,null,null,null,null,null,null,null,null,null,null,null,null,null,null,null,null,null,null,null,null,null,null,null,null,null,null,null,null,null,null,null,null,null,null,null,null,null,null,null,null,null,null,null,null,null,null,null,null,null,null,null,null,null,null,null,null,null,null,null,null,null,null,null,null,null,null,null,null,null,null,null,null,null,null,null,null,null,null,null,null,null,null,null,null,null,null,null,null,null,null,null,null,null,null,null,null,null,null,null,null,null,null,null,null,null,null,null,null,null,null,null,null,null,null,null,null,null,null,null,null,null,null,null,null,null,null,null,null,null,null,null,null,null,null,null,null,null,null,null,null,null,null,null,null,null,null,null,null,null,null,null,null,null,null,null,null,null,null,null,null,null,null,null,null,null,null,null,null,null,null,null,null,null,null,null,null,null,null,null,null,null,null,null,null,null,null,null,null,null,null,null,null,null,null,null,null,null,null,null,null,null,null,null,null,null,null,null,null,null,null,null,null,null,null,null,null,null,null,null,null],\"xaxis\":\"x\",\"xbingroup\":\"x\",\"y\":[5.0,5.0,8.0,20.0,8.0,8.0,8.0,8.0,8.0,8.0,14.45,14.45,14.45,14.45,8.0,8.0,8.0,5.0,14.45,8.0,14.45,8.0,5.0,14.45,14.45,5.0,5.0,5.0,14.45,5.0,14.45,14.45,8.0,14.45,8.0,8.0,14.45,14.45,8.0,8.0,14.45,8.0,8.0,20.0,20.0,20.0,20.0,20.0,20.0,8.0,5.0,5.0,8.0,8.0,8.0,8.0,5.0,8.0,5.0,14.45,14.45,14.45,5.0,5.0,14.45,8.0,8.0,5.0,5.0,14.45,8.0,8.0,8.0,8.0,8.0,5.0,8.0,8.0,8.0,8.0,8.0,8.0,8.0,5.0,14.45,8.0,14.0,5.0,5.0,8.0,5.0,8.0,8.0,8.0,8.0,8.0,8.0,8.0,8.0,8.0,5.0,5.0,5.0,5.0,5.0,5.0,14.0,14.45,14.45,14.45,8.0,5.0,5.0,14.45,8.0,8.0,8.0,8.0,8.0,8.0,8.0,5.0,8.0,8.0,14.0,8.0,8.0,8.0,8.0,8.0,8.0,8.0,8.0,8.0,8.0,5.0,5.0,14.45,14.45,8.0,8.0,8.0,8.0,5.0,20.0,8.0,14.45,8.0,8.0,8.0,8.0,10.0,5.0,5.0,5.0,5.0,20.0,8.0,8.0,8.0,8.0,8.0,8.0,10.0,8.0,8.0,5.0,5.0,5.0,14.0,8.0,14.0,8.0,5.0,8.0,8.0,5.0,14.45,8.0,8.0,8.0,8.0,8.0,8.0,8.0,8.0,8.0,8.0,8.0,8.0,8.0,8.0,8.0,8.0,8.0,8.0,8.0,8.0,10.0,5.0,5.0,8.0,5.0,5.0,5.0,8.0,8.0,8.0,8.0,8.0,14.45,5.0,8.0,8.0,5.0,8.0,8.0,8.0,8.0,8.0,8.0,5.0,8.0,8.0,8.0,8.0,8.0,8.0,8.0,8.0,8.0,8.0,8.0,8.0,8.0,8.0,8.0,14.0,5.0,8.0,5.0,5.0,8.0,8.0,8.0,8.0,8.0,8.0,8.0,8.0,8.0,8.0,8.0,8.0,8.0,8.0,8.0,8.0,8.0,5.0,5.0,8.0,8.0,8.0,8.0,8.0,8.0,5.0,5.0,5.0,5.0,8.0,8.0,14.0,8.0,8.0,8.0,8.0,8.0,8.0,8.0,8.0,8.0,8.0,5.0,8.0,5.0,5.0,8.0,8.0,8.0,8.0,8.0,5.0,14.0,8.0,8.0,14.0,8.0,8.0,8.0,8.0,8.0,8.0,8.0,8.0,8.0,8.0,8.0,8.0,8.0,5.0,null,5.0,5.0,5.0,5.0,14.0,8.0,8.0,5.0,8.0,8.0,5.0,8.0,8.0,8.0,8.0,8.0,8.0,8.0,8.0,8.0,8.0,5.0,5.0,5.0,5.0,5.0,5.0,5.0,5.0,5.0,8.0,8.0,8.0,8.0,8.0,8.0,8.0,8.0,8.0,8.0,8.0,8.0,14.0,8.0,8.0,8.0,8.0,8.0,8.0,8.0,8.0,null,null,null,null,null,5.0,5.0,14.0,8.0,8.0,8.0,8.0,8.0,8.0,5.0,5.0,8.0,5.0,8.0,5.0,8.0,8.0,8.0,8.0,8.0,8.0,8.0,null,null,null,null,8.0,8.0,8.0,8.0,8.0,8.0,8.0,8.0,8.0,5.0,5.0,5.0,5.0,5.0,5.0,8.0,8.0,8.0,null,null,null,5.0,14.0,8.0,8.0,8.0,8.0,8.0,8.0,8.0,8.0,8.0,14.0,8.0,5.0,5.0,5.0,5.0,8.0,8.0,8.0,8.0,8.0,8.0,8.0,null,5.0,5.0,8.0,8.0,8.0,8.0,8.0,8.0,5.0,5.0,8.0,8.0,8.0,8.0,8.0,8.0,8.0,8.0,8.0,8.0,8.0,8.0,8.0,8.0,8.0,8.0,8.0,20.0,8.0,8.0,8.0,8.0,8.0,8.0,8.0,8.0,8.0,8.0,10.0,20.0,1.0,1.0,1.0,1.0,1.0,1.0,1.0,1.0,1.0,1.0,1.0,1.0,1.0,1.0,1.0,1.0,1.0,1.0,1.0,1.0,null,null,null,null,null,null,null,null,null,null,null,null,null,null,null,null,null,null,null,null,null,null,null,null,null,null,null,null,null,null,null,null,null,null,null,null,null,null,null,null,null,null,null,null,null,null,null,null,null,null,null,null,null,null,null,null,null,null,null,null,null,null,null,null,null,null,null,null,null,null,null,null,null,null,null,null,null,null,null,null,null,null,null,null,null,null,null,null,null,null,null,null,null,null,null,null,null,null,null,null,null,null,null,null,null,null,null,null,null,null,null,null,null,null,null,null,null,null,null,null,null,null,null,null,null,null,null,null,null,null,null,null,null,null,null,null,null,null,null,null,null,null,null,null,null,null,null,null,null,null,null,null,null,null,null,null,null,null,null,null,null,null,null,null,null,null,null,null,null,null,null,null,null,null,null,null,null,null,null,null,null,null,null,null,null,null,null,null,null,null,null,null,null,null,null,null,null,null,null,null,null,null,null,null,null,null,null,null,null,null,null,null,null,null,null,null,null,null,null,null,null,null,null,null,null,null,null,null,null,null,null,null,null,null,null,null,null,null,null],\"yaxis\":\"y\",\"ybingroup\":\"y\",\"type\":\"histogram2dcontour\"},{\"alignmentgroup\":\"True\",\"bingroup\":\"x\",\"hovertemplate\":\"mark=0<br>ZOI_NP=%{x}<br>count=%{y}<extra></extra>\",\"legendgroup\":\"0\",\"marker\":{\"color\":\"#636efa\"},\"name\":\"0\",\"offsetgroup\":\"0\",\"opacity\":0.5,\"showlegend\":false,\"x\":[14.0,14.0,null,null,null,null,null,null,null,null,null,null,null,null,null,null,null,15.0,null,null,null,null,null,null,null,null,null,null,null,14.0,null,null,null,null,null,null,null,null,null,null,null,null,null,null,null,null,null,null,null,null,null,null,null,null,null,null,16.0,null,null,null,null,null,null,null,null,null,null,null,null,null,null,null,null,null,null,null,null,null,null,null,null,null,null,null,null,null,13.0,15.0,14.0,null,16.0,null,null,null,null,null,null,null,null,null,null,null,null,null,null,null,15.0,null,null,null,null,15.0,14.0,null,null,null,null,null,null,null,null,null,null,null,19.0,null,null,null,null,null,null,null,null,null,null,null,null,null,null,null,null,null,null,15.0,10.0,null,null,null,null,null,null,24.0,null,null,16.0,14.0,10.0,null,null,null,null,null,null,24.0,null,null,null,null,14.0,13.0,null,15.0,null,15.0,null,null,14.0,null,null,null,null,null,null,null,null,null,null,null,null,null,null,null,null,null,null,null,null,null,22.0,null,null,null,null,null,15.0,null,null,null,null,null,null,15.0,null,null,14.0,null,null,null,null,null,null,14.0,null,null,null,null,null,null,null,null,null,null,null,null,null,null,null,19.0,14.0,null,null,null,null,null,null,null,null,null,null,null,null,null,null,null,null,null,null,null,null,15.0,15.0,null,null,null,null,null,null,null,null,null,null,null,null,15.0,null,null,null,null,null,null,null,null,null,null,null,null,14.0,16.0,null,null,null,null,null,15.0,18.0,null,null,15.0,null,null,null,null,null,null,null,null,null,null,null,null,null,null,null,15.0,15.0,15.0,16.0,18.0,null,null,null,null,null,null,null,null,null,null,null,null,null,null,null,null,14.0,15.0,15.0,15.0,15.0,14.0,15.0,15.0,null,null,null,null,null,null,null,null,null,null,null,null,null,19.0,null,null,null,null,null,null,null,null,null,null,null,null,null,14.0,null,18.0,null,null,null,null,null,null,null,null,null,15.0,null,null,null,null,null,null,null,null,null,null,null,null,null,null,null,null,null,null,null,null,null,null,null,null,null,null,null,null,null,null,null,null,null,null,null,18.0,null,null,null,null,null,null,null,null,null,19.0,null,null,null,null,null,null,null,null,null,null,null,null,null,null,null,null,null,null,null,null,null,null,null,null,null,null,null,null,null,null,null,null,null,null,null,null,null,null,null,null,null,null,null,null,null,null,null,null,null,null,null,25.0,null,null,null,null,null,null,null,null,null,null,null,null,null,null,null,null,null,null,null,null,null,null,null,null,null,null,null,null,null,null,null,null,null,null,null,null,null,null,null,null,null,null,null,null,null,null,null,null,null,null,null,null,null,null,null,null,null,null,null,null,null,null,null,null,null,null,null,null,null,null,null,null,null,null,null,null,null,null,null,null,null,null,null,null,null,null,null,null,null,null,null,null,null,null,null,null,null,null,null,null,null,null,null,null,null,null,null,null,null,null,null,null,null,null,null,null,null,null,null,null,null,null,null,null,null,null,null,null,null,null,null,null,null,null,null,null,null,null,null,null,null,null,null,null,null,null,null,null,null,null,null,null,null,null,null,null,null,null,null,null,null,null,null,null,null,null,null,null,null,null,null,null,null,null,null,null,null,null,null,null,null,null,null,null,null,null,null,null,null,null,null,null,null,null,null,null,null,null,null,null,null,null,null,null,null,null,null,null,null,null,null,null,null,null,null,null,null,null,null,null,null,null,null,null,null,null,null,null,null,null,null,null,null,null,null,null,null,null,null,null,null,null,null,null,null,null,null,null,null,null,null,null,null,null,null,null,null,null,null,null],\"xaxis\":\"x3\",\"yaxis\":\"y3\",\"type\":\"histogram\"},{\"alignmentgroup\":\"True\",\"bingroup\":\"y\",\"hovertemplate\":\"mark=0<br>NP size_min=%{y}<br>count=%{x}<extra></extra>\",\"legendgroup\":\"0\",\"marker\":{\"color\":\"#636efa\"},\"name\":\"0\",\"offsetgroup\":\"0\",\"opacity\":0.5,\"showlegend\":false,\"xaxis\":\"x2\",\"y\":[5.0,5.0,8.0,20.0,8.0,8.0,8.0,8.0,8.0,8.0,14.45,14.45,14.45,14.45,8.0,8.0,8.0,5.0,14.45,8.0,14.45,8.0,5.0,14.45,14.45,5.0,5.0,5.0,14.45,5.0,14.45,14.45,8.0,14.45,8.0,8.0,14.45,14.45,8.0,8.0,14.45,8.0,8.0,20.0,20.0,20.0,20.0,20.0,20.0,8.0,5.0,5.0,8.0,8.0,8.0,8.0,5.0,8.0,5.0,14.45,14.45,14.45,5.0,5.0,14.45,8.0,8.0,5.0,5.0,14.45,8.0,8.0,8.0,8.0,8.0,5.0,8.0,8.0,8.0,8.0,8.0,8.0,8.0,5.0,14.45,8.0,14.0,5.0,5.0,8.0,5.0,8.0,8.0,8.0,8.0,8.0,8.0,8.0,8.0,8.0,5.0,5.0,5.0,5.0,5.0,5.0,14.0,14.45,14.45,14.45,8.0,5.0,5.0,14.45,8.0,8.0,8.0,8.0,8.0,8.0,8.0,5.0,8.0,8.0,14.0,8.0,8.0,8.0,8.0,8.0,8.0,8.0,8.0,8.0,8.0,5.0,5.0,14.45,14.45,8.0,8.0,8.0,8.0,5.0,20.0,8.0,14.45,8.0,8.0,8.0,8.0,10.0,5.0,5.0,5.0,5.0,20.0,8.0,8.0,8.0,8.0,8.0,8.0,10.0,8.0,8.0,5.0,5.0,5.0,14.0,8.0,14.0,8.0,5.0,8.0,8.0,5.0,14.45,8.0,8.0,8.0,8.0,8.0,8.0,8.0,8.0,8.0,8.0,8.0,8.0,8.0,8.0,8.0,8.0,8.0,8.0,8.0,8.0,10.0,5.0,5.0,8.0,5.0,5.0,5.0,8.0,8.0,8.0,8.0,8.0,14.45,5.0,8.0,8.0,5.0,8.0,8.0,8.0,8.0,8.0,8.0,5.0,8.0,8.0,8.0,8.0,8.0,8.0,8.0,8.0,8.0,8.0,8.0,8.0,8.0,8.0,8.0,14.0,5.0,8.0,5.0,5.0,8.0,8.0,8.0,8.0,8.0,8.0,8.0,8.0,8.0,8.0,8.0,8.0,8.0,8.0,8.0,8.0,8.0,5.0,5.0,8.0,8.0,8.0,8.0,8.0,8.0,5.0,5.0,5.0,5.0,8.0,8.0,14.0,8.0,8.0,8.0,8.0,8.0,8.0,8.0,8.0,8.0,8.0,5.0,8.0,5.0,5.0,8.0,8.0,8.0,8.0,8.0,5.0,14.0,8.0,8.0,14.0,8.0,8.0,8.0,8.0,8.0,8.0,8.0,8.0,8.0,8.0,8.0,8.0,8.0,5.0,null,5.0,5.0,5.0,5.0,14.0,8.0,8.0,5.0,8.0,8.0,5.0,8.0,8.0,8.0,8.0,8.0,8.0,8.0,8.0,8.0,8.0,5.0,5.0,5.0,5.0,5.0,5.0,5.0,5.0,5.0,8.0,8.0,8.0,8.0,8.0,8.0,8.0,8.0,8.0,8.0,8.0,8.0,14.0,8.0,8.0,8.0,8.0,8.0,8.0,8.0,8.0,null,null,null,null,null,5.0,5.0,14.0,8.0,8.0,8.0,8.0,8.0,8.0,5.0,5.0,8.0,5.0,8.0,5.0,8.0,8.0,8.0,8.0,8.0,8.0,8.0,null,null,null,null,8.0,8.0,8.0,8.0,8.0,8.0,8.0,8.0,8.0,5.0,5.0,5.0,5.0,5.0,5.0,8.0,8.0,8.0,null,null,null,5.0,14.0,8.0,8.0,8.0,8.0,8.0,8.0,8.0,8.0,8.0,14.0,8.0,5.0,5.0,5.0,5.0,8.0,8.0,8.0,8.0,8.0,8.0,8.0,null,5.0,5.0,8.0,8.0,8.0,8.0,8.0,8.0,5.0,5.0,8.0,8.0,8.0,8.0,8.0,8.0,8.0,8.0,8.0,8.0,8.0,8.0,8.0,8.0,8.0,8.0,8.0,20.0,8.0,8.0,8.0,8.0,8.0,8.0,8.0,8.0,8.0,8.0,10.0,20.0,1.0,1.0,1.0,1.0,1.0,1.0,1.0,1.0,1.0,1.0,1.0,1.0,1.0,1.0,1.0,1.0,1.0,1.0,1.0,1.0,null,null,null,null,null,null,null,null,null,null,null,null,null,null,null,null,null,null,null,null,null,null,null,null,null,null,null,null,null,null,null,null,null,null,null,null,null,null,null,null,null,null,null,null,null,null,null,null,null,null,null,null,null,null,null,null,null,null,null,null,null,null,null,null,null,null,null,null,null,null,null,null,null,null,null,null,null,null,null,null,null,null,null,null,null,null,null,null,null,null,null,null,null,null,null,null,null,null,null,null,null,null,null,null,null,null,null,null,null,null,null,null,null,null,null,null,null,null,null,null,null,null,null,null,null,null,null,null,null,null,null,null,null,null,null,null,null,null,null,null,null,null,null,null,null,null,null,null,null,null,null,null,null,null,null,null,null,null,null,null,null,null,null,null,null,null,null,null,null,null,null,null,null,null,null,null,null,null,null,null,null,null,null,null,null,null,null,null,null,null,null,null,null,null,null,null,null,null,null,null,null,null,null,null,null,null,null,null,null,null,null,null,null,null,null,null,null,null,null,null,null,null,null,null,null,null,null,null,null,null,null,null,null,null,null,null,null,null,null],\"yaxis\":\"y2\",\"type\":\"histogram\"},{\"contours\":{\"coloring\":\"none\"},\"hovertemplate\":\"mark=1<br>ZOI_NP=%{x}<br>NP size_min=%{y}<br>count=%{z}<extra></extra>\",\"legendgroup\":\"1\",\"line\":{\"color\":\"#EF553B\"},\"name\":\"1\",\"showlegend\":true,\"x\":[13.0,15.0,13.0,14.0,64.0,14.0,14.0,12.0,14.0,13.0,17.0,20.0,13.0,13.5,13.0,21.0,16.0,18.0,18.0,16.0,64.0,64.0,32.0,64.0,64.0,64.0,25.0,25.0,16.0,32.0,64.0,32.0,64.0,64.0,64.0,64.0,32.0,64.0,8.0,12.5,25.0,8.0,6.3,100.0,25.0,50.0,8.0,8.0,2.5,2.5,12.5,25.0,12.5,25.0,100.0,2.5,2.5,5.0,5.0,5.0,2.5,25.0,16.0,25.0,2.5,2.5,2.5,2.5,2.5,5.0,5.0,5.0,6.3,6.3,12.5,25.0,4.0,32.0,50.0,32.0,100.0,25.0,2.5,100.0,2.5,11.0,10.0,10.0,10.0,12.0,12.0,10.0,11.0,12.0,10.0,11.0,10.0,12.0,10.0,0.5,10.0,10.0,0.25,0.25,0.5,0.5,0.5,0.5,2.0,10.0,0.25,0.5,0.5,0.5,0.5,2.0,2.0,2.0,2.0,2.0,11.0,11.0,12.0],\"xaxis\":\"x\",\"xbingroup\":\"x\",\"y\":[5.0,5.0,5.0,5.0,1.0,5.0,5.0,5.0,5.0,5.0,5.0,5.0,5.0,5.0,5.0,5.0,5.0,5.0,5.0,10.0,1.0,1.0,1.0,1.0,1.0,1.0,4.0,4.0,10.0,1.0,1.0,1.0,1.0,1.0,1.0,1.0,1.0,1.0,1.0,4.0,15.0,1.0,4.0,4.0,15.0,15.0,1.0,1.0,5.0,5.0,4.0,15.0,4.0,15.0,4.0,5.0,5.0,5.0,5.0,5.0,5.0,4.0,10.0,4.0,5.0,5.0,5.0,5.0,5.0,5.0,5.0,5.0,4.0,15.0,4.0,15.0,10.0,10.0,15.0,10.0,4.0,4.0,5.0,4.0,5.0,20.0,20.0,20.0,20.0,20.0,20.0,20.0,20.0,20.0,20.0,20.0,20.0,20.0,20.0,3.0,20.0,20.0,3.0,3.0,3.0,3.0,3.0,3.0,3.0,20.0,3.0,3.0,3.0,3.0,3.0,3.0,3.0,3.0,3.0,3.0,20.0,20.0,20.0],\"yaxis\":\"y\",\"ybingroup\":\"y\",\"type\":\"histogram2dcontour\"},{\"alignmentgroup\":\"True\",\"bingroup\":\"x\",\"hovertemplate\":\"mark=1<br>ZOI_NP=%{x}<br>count=%{y}<extra></extra>\",\"legendgroup\":\"1\",\"marker\":{\"color\":\"#EF553B\"},\"name\":\"1\",\"offsetgroup\":\"1\",\"opacity\":0.5,\"showlegend\":false,\"x\":[13.0,15.0,13.0,14.0,64.0,14.0,14.0,12.0,14.0,13.0,17.0,20.0,13.0,13.5,13.0,21.0,16.0,18.0,18.0,16.0,64.0,64.0,32.0,64.0,64.0,64.0,25.0,25.0,16.0,32.0,64.0,32.0,64.0,64.0,64.0,64.0,32.0,64.0,8.0,12.5,25.0,8.0,6.3,100.0,25.0,50.0,8.0,8.0,2.5,2.5,12.5,25.0,12.5,25.0,100.0,2.5,2.5,5.0,5.0,5.0,2.5,25.0,16.0,25.0,2.5,2.5,2.5,2.5,2.5,5.0,5.0,5.0,6.3,6.3,12.5,25.0,4.0,32.0,50.0,32.0,100.0,25.0,2.5,100.0,2.5,11.0,10.0,10.0,10.0,12.0,12.0,10.0,11.0,12.0,10.0,11.0,10.0,12.0,10.0,0.5,10.0,10.0,0.25,0.25,0.5,0.5,0.5,0.5,2.0,10.0,0.25,0.5,0.5,0.5,0.5,2.0,2.0,2.0,2.0,2.0,11.0,11.0,12.0],\"xaxis\":\"x3\",\"yaxis\":\"y3\",\"type\":\"histogram\"},{\"alignmentgroup\":\"True\",\"bingroup\":\"y\",\"hovertemplate\":\"mark=1<br>NP size_min=%{y}<br>count=%{x}<extra></extra>\",\"legendgroup\":\"1\",\"marker\":{\"color\":\"#EF553B\"},\"name\":\"1\",\"offsetgroup\":\"1\",\"opacity\":0.5,\"showlegend\":false,\"xaxis\":\"x2\",\"y\":[5.0,5.0,5.0,5.0,1.0,5.0,5.0,5.0,5.0,5.0,5.0,5.0,5.0,5.0,5.0,5.0,5.0,5.0,5.0,10.0,1.0,1.0,1.0,1.0,1.0,1.0,4.0,4.0,10.0,1.0,1.0,1.0,1.0,1.0,1.0,1.0,1.0,1.0,1.0,4.0,15.0,1.0,4.0,4.0,15.0,15.0,1.0,1.0,5.0,5.0,4.0,15.0,4.0,15.0,4.0,5.0,5.0,5.0,5.0,5.0,5.0,4.0,10.0,4.0,5.0,5.0,5.0,5.0,5.0,5.0,5.0,5.0,4.0,15.0,4.0,15.0,10.0,10.0,15.0,10.0,4.0,4.0,5.0,4.0,5.0,20.0,20.0,20.0,20.0,20.0,20.0,20.0,20.0,20.0,20.0,20.0,20.0,20.0,20.0,3.0,20.0,20.0,3.0,3.0,3.0,3.0,3.0,3.0,3.0,20.0,3.0,3.0,3.0,3.0,3.0,3.0,3.0,3.0,3.0,3.0,20.0,20.0,20.0],\"yaxis\":\"y2\",\"type\":\"histogram\"}],                        {\"template\":{\"data\":{\"histogram2dcontour\":[{\"type\":\"histogram2dcontour\",\"colorbar\":{\"outlinewidth\":0,\"ticks\":\"\"},\"colorscale\":[[0.0,\"#0d0887\"],[0.1111111111111111,\"#46039f\"],[0.2222222222222222,\"#7201a8\"],[0.3333333333333333,\"#9c179e\"],[0.4444444444444444,\"#bd3786\"],[0.5555555555555556,\"#d8576b\"],[0.6666666666666666,\"#ed7953\"],[0.7777777777777778,\"#fb9f3a\"],[0.8888888888888888,\"#fdca26\"],[1.0,\"#f0f921\"]]}],\"choropleth\":[{\"type\":\"choropleth\",\"colorbar\":{\"outlinewidth\":0,\"ticks\":\"\"}}],\"histogram2d\":[{\"type\":\"histogram2d\",\"colorbar\":{\"outlinewidth\":0,\"ticks\":\"\"},\"colorscale\":[[0.0,\"#0d0887\"],[0.1111111111111111,\"#46039f\"],[0.2222222222222222,\"#7201a8\"],[0.3333333333333333,\"#9c179e\"],[0.4444444444444444,\"#bd3786\"],[0.5555555555555556,\"#d8576b\"],[0.6666666666666666,\"#ed7953\"],[0.7777777777777778,\"#fb9f3a\"],[0.8888888888888888,\"#fdca26\"],[1.0,\"#f0f921\"]]}],\"heatmap\":[{\"type\":\"heatmap\",\"colorbar\":{\"outlinewidth\":0,\"ticks\":\"\"},\"colorscale\":[[0.0,\"#0d0887\"],[0.1111111111111111,\"#46039f\"],[0.2222222222222222,\"#7201a8\"],[0.3333333333333333,\"#9c179e\"],[0.4444444444444444,\"#bd3786\"],[0.5555555555555556,\"#d8576b\"],[0.6666666666666666,\"#ed7953\"],[0.7777777777777778,\"#fb9f3a\"],[0.8888888888888888,\"#fdca26\"],[1.0,\"#f0f921\"]]}],\"heatmapgl\":[{\"type\":\"heatmapgl\",\"colorbar\":{\"outlinewidth\":0,\"ticks\":\"\"},\"colorscale\":[[0.0,\"#0d0887\"],[0.1111111111111111,\"#46039f\"],[0.2222222222222222,\"#7201a8\"],[0.3333333333333333,\"#9c179e\"],[0.4444444444444444,\"#bd3786\"],[0.5555555555555556,\"#d8576b\"],[0.6666666666666666,\"#ed7953\"],[0.7777777777777778,\"#fb9f3a\"],[0.8888888888888888,\"#fdca26\"],[1.0,\"#f0f921\"]]}],\"contourcarpet\":[{\"type\":\"contourcarpet\",\"colorbar\":{\"outlinewidth\":0,\"ticks\":\"\"}}],\"contour\":[{\"type\":\"contour\",\"colorbar\":{\"outlinewidth\":0,\"ticks\":\"\"},\"colorscale\":[[0.0,\"#0d0887\"],[0.1111111111111111,\"#46039f\"],[0.2222222222222222,\"#7201a8\"],[0.3333333333333333,\"#9c179e\"],[0.4444444444444444,\"#bd3786\"],[0.5555555555555556,\"#d8576b\"],[0.6666666666666666,\"#ed7953\"],[0.7777777777777778,\"#fb9f3a\"],[0.8888888888888888,\"#fdca26\"],[1.0,\"#f0f921\"]]}],\"surface\":[{\"type\":\"surface\",\"colorbar\":{\"outlinewidth\":0,\"ticks\":\"\"},\"colorscale\":[[0.0,\"#0d0887\"],[0.1111111111111111,\"#46039f\"],[0.2222222222222222,\"#7201a8\"],[0.3333333333333333,\"#9c179e\"],[0.4444444444444444,\"#bd3786\"],[0.5555555555555556,\"#d8576b\"],[0.6666666666666666,\"#ed7953\"],[0.7777777777777778,\"#fb9f3a\"],[0.8888888888888888,\"#fdca26\"],[1.0,\"#f0f921\"]]}],\"mesh3d\":[{\"type\":\"mesh3d\",\"colorbar\":{\"outlinewidth\":0,\"ticks\":\"\"}}],\"scatter\":[{\"fillpattern\":{\"fillmode\":\"overlay\",\"size\":10,\"solidity\":0.2},\"type\":\"scatter\"}],\"parcoords\":[{\"type\":\"parcoords\",\"line\":{\"colorbar\":{\"outlinewidth\":0,\"ticks\":\"\"}}}],\"scatterpolargl\":[{\"type\":\"scatterpolargl\",\"marker\":{\"colorbar\":{\"outlinewidth\":0,\"ticks\":\"\"}}}],\"bar\":[{\"error_x\":{\"color\":\"#2a3f5f\"},\"error_y\":{\"color\":\"#2a3f5f\"},\"marker\":{\"line\":{\"color\":\"#E5ECF6\",\"width\":0.5},\"pattern\":{\"fillmode\":\"overlay\",\"size\":10,\"solidity\":0.2}},\"type\":\"bar\"}],\"scattergeo\":[{\"type\":\"scattergeo\",\"marker\":{\"colorbar\":{\"outlinewidth\":0,\"ticks\":\"\"}}}],\"scatterpolar\":[{\"type\":\"scatterpolar\",\"marker\":{\"colorbar\":{\"outlinewidth\":0,\"ticks\":\"\"}}}],\"histogram\":[{\"marker\":{\"pattern\":{\"fillmode\":\"overlay\",\"size\":10,\"solidity\":0.2}},\"type\":\"histogram\"}],\"scattergl\":[{\"type\":\"scattergl\",\"marker\":{\"colorbar\":{\"outlinewidth\":0,\"ticks\":\"\"}}}],\"scatter3d\":[{\"type\":\"scatter3d\",\"line\":{\"colorbar\":{\"outlinewidth\":0,\"ticks\":\"\"}},\"marker\":{\"colorbar\":{\"outlinewidth\":0,\"ticks\":\"\"}}}],\"scattermapbox\":[{\"type\":\"scattermapbox\",\"marker\":{\"colorbar\":{\"outlinewidth\":0,\"ticks\":\"\"}}}],\"scatterternary\":[{\"type\":\"scatterternary\",\"marker\":{\"colorbar\":{\"outlinewidth\":0,\"ticks\":\"\"}}}],\"scattercarpet\":[{\"type\":\"scattercarpet\",\"marker\":{\"colorbar\":{\"outlinewidth\":0,\"ticks\":\"\"}}}],\"carpet\":[{\"aaxis\":{\"endlinecolor\":\"#2a3f5f\",\"gridcolor\":\"white\",\"linecolor\":\"white\",\"minorgridcolor\":\"white\",\"startlinecolor\":\"#2a3f5f\"},\"baxis\":{\"endlinecolor\":\"#2a3f5f\",\"gridcolor\":\"white\",\"linecolor\":\"white\",\"minorgridcolor\":\"white\",\"startlinecolor\":\"#2a3f5f\"},\"type\":\"carpet\"}],\"table\":[{\"cells\":{\"fill\":{\"color\":\"#EBF0F8\"},\"line\":{\"color\":\"white\"}},\"header\":{\"fill\":{\"color\":\"#C8D4E3\"},\"line\":{\"color\":\"white\"}},\"type\":\"table\"}],\"barpolar\":[{\"marker\":{\"line\":{\"color\":\"#E5ECF6\",\"width\":0.5},\"pattern\":{\"fillmode\":\"overlay\",\"size\":10,\"solidity\":0.2}},\"type\":\"barpolar\"}],\"pie\":[{\"automargin\":true,\"type\":\"pie\"}]},\"layout\":{\"autotypenumbers\":\"strict\",\"colorway\":[\"#636efa\",\"#EF553B\",\"#00cc96\",\"#ab63fa\",\"#FFA15A\",\"#19d3f3\",\"#FF6692\",\"#B6E880\",\"#FF97FF\",\"#FECB52\"],\"font\":{\"color\":\"#2a3f5f\"},\"hovermode\":\"closest\",\"hoverlabel\":{\"align\":\"left\"},\"paper_bgcolor\":\"white\",\"plot_bgcolor\":\"#E5ECF6\",\"polar\":{\"bgcolor\":\"#E5ECF6\",\"angularaxis\":{\"gridcolor\":\"white\",\"linecolor\":\"white\",\"ticks\":\"\"},\"radialaxis\":{\"gridcolor\":\"white\",\"linecolor\":\"white\",\"ticks\":\"\"}},\"ternary\":{\"bgcolor\":\"#E5ECF6\",\"aaxis\":{\"gridcolor\":\"white\",\"linecolor\":\"white\",\"ticks\":\"\"},\"baxis\":{\"gridcolor\":\"white\",\"linecolor\":\"white\",\"ticks\":\"\"},\"caxis\":{\"gridcolor\":\"white\",\"linecolor\":\"white\",\"ticks\":\"\"}},\"coloraxis\":{\"colorbar\":{\"outlinewidth\":0,\"ticks\":\"\"}},\"colorscale\":{\"sequential\":[[0.0,\"#0d0887\"],[0.1111111111111111,\"#46039f\"],[0.2222222222222222,\"#7201a8\"],[0.3333333333333333,\"#9c179e\"],[0.4444444444444444,\"#bd3786\"],[0.5555555555555556,\"#d8576b\"],[0.6666666666666666,\"#ed7953\"],[0.7777777777777778,\"#fb9f3a\"],[0.8888888888888888,\"#fdca26\"],[1.0,\"#f0f921\"]],\"sequentialminus\":[[0.0,\"#0d0887\"],[0.1111111111111111,\"#46039f\"],[0.2222222222222222,\"#7201a8\"],[0.3333333333333333,\"#9c179e\"],[0.4444444444444444,\"#bd3786\"],[0.5555555555555556,\"#d8576b\"],[0.6666666666666666,\"#ed7953\"],[0.7777777777777778,\"#fb9f3a\"],[0.8888888888888888,\"#fdca26\"],[1.0,\"#f0f921\"]],\"diverging\":[[0,\"#8e0152\"],[0.1,\"#c51b7d\"],[0.2,\"#de77ae\"],[0.3,\"#f1b6da\"],[0.4,\"#fde0ef\"],[0.5,\"#f7f7f7\"],[0.6,\"#e6f5d0\"],[0.7,\"#b8e186\"],[0.8,\"#7fbc41\"],[0.9,\"#4d9221\"],[1,\"#276419\"]]},\"xaxis\":{\"gridcolor\":\"white\",\"linecolor\":\"white\",\"ticks\":\"\",\"title\":{\"standoff\":15},\"zerolinecolor\":\"white\",\"automargin\":true,\"zerolinewidth\":2},\"yaxis\":{\"gridcolor\":\"white\",\"linecolor\":\"white\",\"ticks\":\"\",\"title\":{\"standoff\":15},\"zerolinecolor\":\"white\",\"automargin\":true,\"zerolinewidth\":2},\"scene\":{\"xaxis\":{\"backgroundcolor\":\"#E5ECF6\",\"gridcolor\":\"white\",\"linecolor\":\"white\",\"showbackground\":true,\"ticks\":\"\",\"zerolinecolor\":\"white\",\"gridwidth\":2},\"yaxis\":{\"backgroundcolor\":\"#E5ECF6\",\"gridcolor\":\"white\",\"linecolor\":\"white\",\"showbackground\":true,\"ticks\":\"\",\"zerolinecolor\":\"white\",\"gridwidth\":2},\"zaxis\":{\"backgroundcolor\":\"#E5ECF6\",\"gridcolor\":\"white\",\"linecolor\":\"white\",\"showbackground\":true,\"ticks\":\"\",\"zerolinecolor\":\"white\",\"gridwidth\":2}},\"shapedefaults\":{\"line\":{\"color\":\"#2a3f5f\"}},\"annotationdefaults\":{\"arrowcolor\":\"#2a3f5f\",\"arrowhead\":0,\"arrowwidth\":1},\"geo\":{\"bgcolor\":\"white\",\"landcolor\":\"#E5ECF6\",\"subunitcolor\":\"white\",\"showland\":true,\"showlakes\":true,\"lakecolor\":\"white\"},\"title\":{\"x\":0.05},\"mapbox\":{\"style\":\"light\"}}},\"xaxis\":{\"anchor\":\"y\",\"domain\":[0.0,0.7363],\"title\":{\"text\":\"ZOI_NP\"}},\"yaxis\":{\"anchor\":\"x\",\"domain\":[0.0,0.7326],\"title\":{\"text\":\"NP size_min\"}},\"xaxis2\":{\"anchor\":\"y2\",\"domain\":[0.7413,1.0],\"matches\":\"x2\",\"showticklabels\":false,\"showline\":false,\"ticks\":\"\",\"showgrid\":true},\"yaxis2\":{\"anchor\":\"x2\",\"domain\":[0.0,0.7326],\"matches\":\"y\",\"showticklabels\":false,\"showgrid\":true},\"xaxis3\":{\"anchor\":\"y3\",\"domain\":[0.0,0.7363],\"matches\":\"x\",\"showticklabels\":false,\"showgrid\":true},\"yaxis3\":{\"anchor\":\"x3\",\"domain\":[0.7426,1.0],\"matches\":\"y3\",\"showticklabels\":false,\"showline\":false,\"ticks\":\"\",\"showgrid\":true},\"xaxis4\":{\"anchor\":\"y4\",\"domain\":[0.7413,1.0],\"matches\":\"x2\",\"showticklabels\":false,\"showgrid\":true,\"showline\":false,\"ticks\":\"\"},\"yaxis4\":{\"anchor\":\"x4\",\"domain\":[0.7426,1.0],\"matches\":\"y3\",\"showticklabels\":false,\"showline\":false,\"ticks\":\"\",\"showgrid\":true},\"legend\":{\"title\":{\"text\":\"mark\"},\"tracegroupgap\":0},\"margin\":{\"t\":60},\"barmode\":\"overlay\"},                        {\"responsive\": true}                    ).then(function(){\n",
              "                            \n",
              "var gd = document.getElementById('77d490bc-a5ad-44b8-9c4c-c0022bc011de');\n",
              "var x = new MutationObserver(function (mutations, observer) {{\n",
              "        var display = window.getComputedStyle(gd).display;\n",
              "        if (!display || display === 'none') {{\n",
              "            console.log([gd, 'removed!']);\n",
              "            Plotly.purge(gd);\n",
              "            observer.disconnect();\n",
              "        }}\n",
              "}});\n",
              "\n",
              "// Listen for the removal of the full notebook cells\n",
              "var notebookContainer = gd.closest('#notebook-container');\n",
              "if (notebookContainer) {{\n",
              "    x.observe(notebookContainer, {childList: true});\n",
              "}}\n",
              "\n",
              "// Listen for the clearing of the current output cell\n",
              "var outputEl = gd.closest('.output');\n",
              "if (outputEl) {{\n",
              "    x.observe(outputEl, {childList: true});\n",
              "}}\n",
              "\n",
              "                        })                };                            </script>        </div>\n",
              "</body>\n",
              "</html>"
            ]
          },
          "metadata": {}
        }
      ]
    },
    {
      "cell_type": "code",
      "source": [
        "# # # impute part2\n",
        "# from sklearn.preprocessing import MinMaxScaler\n",
        "# from sklearn.impute import KNNImputer\n",
        "\n",
        "# def impute_np_part2(data_df_drug_extended):\n",
        "#     index = data_df_drug_extended.index.copy()\n",
        "#     data_df_drug_extended\n",
        "#     drug_data = data_df_drug_extended.select_dtypes(np.number)\n",
        "\n",
        "#     drug_scaler = MinMaxScaler()\n",
        "#     drug_scaler.fit(drug_data.dropna())\n",
        "#     drug_data_transformed = drug_scaler.transform(drug_data)\n",
        "\n",
        "#     drug_imputer = KNNImputer(n_neighbors=5, weights='distance')\n",
        "#     drug_imputer.fit(\n",
        "#         drug_scaler.transform(drug_data.dropna())\n",
        "#     )\n",
        "#     imputed = drug_imputer.transform(drug_data_transformed)\n",
        "\n",
        "#     imputed_drug_part = pd.DataFrame(\n",
        "#         drug_scaler.inverse_transform(imputed), columns=drug_scaler.get_feature_names_out()\n",
        "#     )\n",
        "#     imputed_drug_part['index'] = index\n",
        "#     imputed_drug_part.set_index('index', inplace=True)\n",
        "#     return imputed_drug_part\n",
        "\n",
        "# non_numeric = ['Bacteria', 'Drug', 'Drug_class_drug_bank']\n",
        "\n",
        "# imputed_drug_part = impute_drug_part(data_df_drug_extended)\n",
        "# # imputed_drug_part.set_index()\n",
        "# imputed_drug_part\n",
        "\n",
        "# imputed_drug_part = impute_np_part2(\n",
        "#     data_df_np_extended[\n",
        "#         (part1_mask) |\n",
        "#          ((~data_df_np_extended.ZOI_NP.isna()) & (~data_df_np_extended.NP_concentration.isna()))\n",
        "#     ]\n",
        "# )\n",
        "# imputed_drug_part.info()"
      ],
      "metadata": {
        "id": "X-IC-qSf4BeN"
      },
      "execution_count": null,
      "outputs": []
    },
    {
      "cell_type": "code",
      "source": [
        "# imputed_drug_part.head()"
      ],
      "metadata": {
        "id": "9g5PpPHgEzKn"
      },
      "execution_count": null,
      "outputs": []
    },
    {
      "cell_type": "markdown",
      "source": [
        "### what abotut mixed part"
      ],
      "metadata": {
        "id": "PToIZriy5RYe"
      }
    },
    {
      "cell_type": "code",
      "source": [
        "mixed_cols = np_cols[:-2].copy()\n",
        "mixed_cols.extend(drug_cols[:-2]) # кроме последней\n",
        "mixed_cols.append(\"ZOI_drug_NP\")\n",
        "\n",
        "data_df_mixed = data_df.loc[:,mixed_cols]"
      ],
      "metadata": {
        "id": "Q2lukH3o5O3b"
      },
      "execution_count": null,
      "outputs": []
    },
    {
      "cell_type": "code",
      "source": [
        "data_df_mixed.isna().sum()"
      ],
      "metadata": {
        "colab": {
          "base_uri": "https://localhost:8080/"
        },
        "id": "HYPjaErClWef",
        "outputId": "e17ae7f6-d233-4bc0-bcdd-52ad793f8cf4"
      },
      "execution_count": null,
      "outputs": [
        {
          "output_type": "execute_result",
          "data": {
            "text/plain": [
              "Bacteria                253\n",
              "NP_concentration        421\n",
              "NP size_min             253\n",
              "NP size_max             253\n",
              "NP size_avg             253\n",
              "shape                   253\n",
              "Bacteria                253\n",
              "Drug                    253\n",
              "Drug_class_drug_bank    253\n",
              "ZOI_drug_NP             311\n",
              "dtype: int64"
            ]
          },
          "metadata": {},
          "execution_count": 149
        }
      ]
    },
    {
      "cell_type": "code",
      "source": [
        "data_df_mixed.dropna(subset=['ZOI_drug_NP']).isna().sum()"
      ],
      "metadata": {
        "colab": {
          "base_uri": "https://localhost:8080/"
        },
        "id": "bdBdqACQuLFp",
        "outputId": "009f45cb-dc74-46e3-d41d-f52a47877dc4"
      },
      "execution_count": null,
      "outputs": [
        {
          "output_type": "execute_result",
          "data": {
            "text/plain": [
              "Bacteria                  0\n",
              "NP_concentration        110\n",
              "NP size_min               0\n",
              "NP size_max               0\n",
              "NP size_avg               0\n",
              "shape                     0\n",
              "Bacteria                  0\n",
              "Drug                      0\n",
              "Drug_class_drug_bank      0\n",
              "ZOI_drug_NP               0\n",
              "dtype: int64"
            ]
          },
          "metadata": {},
          "execution_count": 150
        }
      ]
    },
    {
      "cell_type": "code",
      "source": [
        "df_ = data_df_mixed.dropna(subset=['ZOI_drug_NP']).copy()\n",
        "df_['mark'] = df_.NP_concentration.isna() * 2\n",
        "df_['mark'] = df_['mark'].astype(str)\n",
        "\n",
        "import plotly.express as px\n",
        "\n",
        "fig = px.density_contour(df_, x=\"ZOI_drug_NP\", y=\"NP size_min\", marginal_x=\"histogram\", marginal_y=\"histogram\", color='mark')\n",
        "fig.show()\n",
        "\n",
        "# по концентрации part2 весь лежит в узком интервале\n",
        "# по NP size_min part2 тоже всюду имеет соседей\n",
        "# так что в принципе его кажется адекатным заполнить"
      ],
      "metadata": {
        "colab": {
          "base_uri": "https://localhost:8080/",
          "height": 542
        },
        "id": "Wqb1zXs-uRFw",
        "outputId": "a8d5e826-55bf-447c-e05f-aad99ba0ba1e"
      },
      "execution_count": null,
      "outputs": [
        {
          "output_type": "display_data",
          "data": {
            "text/html": [
              "<html>\n",
              "<head><meta charset=\"utf-8\" /></head>\n",
              "<body>\n",
              "    <div>            <script src=\"https://cdnjs.cloudflare.com/ajax/libs/mathjax/2.7.5/MathJax.js?config=TeX-AMS-MML_SVG\"></script><script type=\"text/javascript\">if (window.MathJax && window.MathJax.Hub && window.MathJax.Hub.Config) {window.MathJax.Hub.Config({SVG: {font: \"STIX-Web\"}});}</script>                <script type=\"text/javascript\">window.PlotlyConfig = {MathJaxConfig: 'local'};</script>\n",
              "        <script src=\"https://cdn.plot.ly/plotly-2.18.2.min.js\"></script>                <div id=\"76daabb0-f6db-452a-98ee-fe5c790e98f4\" class=\"plotly-graph-div\" style=\"height:525px; width:100%;\"></div>            <script type=\"text/javascript\">                                    window.PLOTLYENV=window.PLOTLYENV || {};                                    if (document.getElementById(\"76daabb0-f6db-452a-98ee-fe5c790e98f4\")) {                    Plotly.newPlot(                        \"76daabb0-f6db-452a-98ee-fe5c790e98f4\",                        [{\"contours\":{\"coloring\":\"none\"},\"hovertemplate\":\"mark=0<br>ZOI_drug_NP=%{x}<br>NP size_min=%{y}<br>count=%{z}<extra></extra>\",\"legendgroup\":\"0\",\"line\":{\"color\":\"#636efa\"},\"name\":\"0\",\"showlegend\":true,\"x\":[17.0,17.0,15.0,50.0,48.0,48.0,47.0,44.0,42.0,41.0,40.0,40.0,40.0,40.0,40.0,39.0,38.0,38.0,38.0,37.0,37.0,37.0,36.0,36.0,36.0,36.0,35.0,35.0,34.0,34.0,34.0,34.0,34.0,34.0,32.0,32.0,32.0,32.0,32.0,32.0,32.0,31.0,31.0,30.0,30.0,30.0,30.0,29.0,29.0,29.0,28.0,28.0,28.0,28.0,28.0,28.0,28.0,28.0,28.0,28.0,27.0,27.0,27.0,27.0,27.0,27.0,26.0,26.0,26.0,26.0,26.0,26.0,26.0,26.0,25.0,25.0,25.0,25.0,25.0,25.0,25.0,25.0,25.0,25.0,25.0,25.0,25.0,25.0,25.0,25.0,25.0,25.0,25.0,25.0,25.0,25.0,25.0,25.0,25.0,24.0,24.0,24.0,24.0,24.0,24.0,24.0,24.0,24.0,24.0,24.0,24.0,24.0,23.0,23.0,23.0,23.0,23.0,23.0,23.0,23.0,23.0,23.0,23.0,23.0,23.0,23.0,23.0,23.0,22.0,22.0,22.0,22.0,22.0,22.0,22.0,22.0,22.0,22.0,22.0,22.0,22.0,21.5,21.0,21.0,21.0,21.0,21.0,21.0,21.0,21.0,21.0,21.0,20.8,20.0,20.0,20.0,20.0,20.0,20.0,20.0,20.0,20.0,20.0,20.0,20.0,20.0,20.0,20.0,20.0,20.0,20.0,20.0,20.0,20.0,20.0,20.0,20.0,20.0,20.0,20.0,20.0,20.0,20.0,20.0,20.0,20.0,19.9,19.0,19.0,19.0,19.0,19.0,19.0,19.0,19.0,18.5,18.0,18.0,18.0,18.0,18.0,18.0,18.0,18.0,18.0,18.0,18.0,18.0,18.0,18.0,18.0,18.0,18.0,18.0,18.0,18.0,18.0,18.0,18.0,18.0,18.0,18.0,18.0,18.0,17.0,17.0,17.0,17.0,17.0,17.0,17.0,17.0,17.0,17.0,17.0,17.0,17.0,17.0,17.0,17.0,17.0,17.0,17.0,17.0,16.0,16.0,16.0,16.0,16.0,16.0,16.0,16.0,16.0,16.0,16.0,16.0,16.0,16.0,16.0,16.0,16.0,16.0,16.0,16.0,16.0,16.0,16.0,16.0,15.3,15.0,15.0,15.0,15.0,15.0,15.0,15.0,15.0,15.0,15.0,15.0,15.0,15.0,15.0,15.0,15.0,15.0,15.0,15.0,15.0,15.0,15.0,15.0,15.0,15.0,15.0,14.0,14.0,14.0,14.0,14.0,14.0,14.0,14.0,14.0,14.0,14.0,14.0,14.0,14.0,14.0,14.0,14.0,14.0,14.0,14.0,14.0,13.0,13.0,13.0,13.0,13.0,13.0,13.0,13.0,13.0,13.0,13.0,13.0,13.0,13.0,13.0,13.0,13.0,13.0,13.0,13.0,13.0,13.0,13.0,13.0,13.0,13.0,13.0,13.0,13.0,13.0,12.0,12.0,12.0,12.0,12.0,12.0,12.0,12.0,12.0,12.0,12.0,12.0,12.0,12.0,12.0,12.0,12.0,12.0,12.0,12.0,12.0,12.0,11.0,11.0,11.0,11.0,11.0,11.0,11.0,11.0,11.0,11.0,11.0,11.0,11.0,11.0,11.0,10.0,10.0,10.0,10.0,10.0,10.0,10.0,10.0,10.0,10.0,10.0,10.0,10.0,10.0,10.0,10.0,10.0,10.0,10.0,10.0,10.0,10.0,9.0,9.0,9.0,9.0,9.0,9.0,9.0,9.0,9.0,9.0,9.0,9.0,8.0,8.0,8.0,8.0,8.0,8.0,8.0,8.0,8.0,8.0,8.0,8.0,8.0,8.0,7.0,7.0,7.0,7.0,7.0,7.0,7.0,7.0,7.0,7.0,4.8],\"xaxis\":\"x\",\"xbingroup\":\"x\",\"y\":[5.0,5.0,8.0,8.0,8.0,8.0,8.0,8.0,8.0,14.45,14.45,14.45,14.45,8.0,8.0,8.0,5.0,14.45,8.0,14.45,8.0,5.0,14.45,14.45,5.0,5.0,14.45,5.0,14.45,14.45,8.0,14.45,8.0,8.0,14.45,14.45,8.0,8.0,14.45,8.0,8.0,8.0,5.0,8.0,8.0,8.0,8.0,5.0,8.0,5.0,14.45,14.45,14.45,5.0,14.45,8.0,8.0,5.0,5.0,14.45,8.0,8.0,8.0,8.0,8.0,5.0,8.0,8.0,8.0,8.0,8.0,8.0,8.0,5.0,14.45,8.0,14.0,5.0,5.0,8.0,5.0,8.0,8.0,8.0,8.0,8.0,8.0,8.0,8.0,8.0,5.0,5.0,5.0,5.0,5.0,5.0,14.0,14.45,14.45,14.45,8.0,5.0,5.0,14.45,8.0,8.0,8.0,8.0,8.0,8.0,8.0,5.0,8.0,8.0,14.0,8.0,8.0,8.0,8.0,8.0,8.0,8.0,8.0,8.0,8.0,5.0,5.0,14.45,14.45,8.0,8.0,8.0,8.0,5.0,20.0,8.0,14.45,8.0,8.0,8.0,8.0,10.0,5.0,5.0,5.0,20.0,8.0,8.0,8.0,8.0,8.0,8.0,10.0,8.0,8.0,5.0,5.0,14.0,8.0,14.0,8.0,5.0,8.0,8.0,5.0,14.45,8.0,8.0,8.0,8.0,8.0,8.0,8.0,8.0,8.0,8.0,8.0,8.0,8.0,8.0,8.0,8.0,8.0,8.0,8.0,8.0,10.0,5.0,8.0,5.0,5.0,8.0,8.0,8.0,8.0,8.0,14.45,5.0,8.0,8.0,5.0,8.0,8.0,8.0,8.0,8.0,8.0,5.0,8.0,8.0,8.0,8.0,8.0,8.0,8.0,8.0,8.0,8.0,8.0,8.0,8.0,8.0,8.0,14.0,5.0,8.0,5.0,8.0,8.0,8.0,8.0,8.0,8.0,8.0,8.0,8.0,8.0,8.0,8.0,8.0,8.0,8.0,8.0,8.0,5.0,5.0,8.0,8.0,8.0,8.0,8.0,8.0,5.0,5.0,8.0,8.0,14.0,8.0,8.0,8.0,8.0,8.0,8.0,8.0,8.0,8.0,8.0,5.0,8.0,5.0,5.0,8.0,8.0,8.0,8.0,8.0,5.0,14.0,8.0,8.0,14.0,8.0,8.0,8.0,8.0,8.0,8.0,8.0,8.0,8.0,8.0,8.0,8.0,8.0,5.0,5.0,5.0,5.0,5.0,14.0,8.0,8.0,5.0,8.0,8.0,5.0,8.0,8.0,8.0,8.0,8.0,8.0,8.0,8.0,8.0,8.0,5.0,5.0,5.0,5.0,5.0,5.0,5.0,5.0,5.0,8.0,8.0,8.0,8.0,8.0,8.0,8.0,8.0,8.0,8.0,8.0,8.0,14.0,8.0,8.0,8.0,8.0,8.0,8.0,8.0,8.0,5.0,5.0,14.0,8.0,8.0,8.0,8.0,8.0,8.0,5.0,5.0,8.0,5.0,8.0,5.0,8.0,8.0,8.0,8.0,8.0,8.0,8.0,8.0,8.0,8.0,8.0,8.0,8.0,8.0,8.0,8.0,5.0,5.0,5.0,8.0,8.0,8.0,5.0,14.0,8.0,8.0,8.0,8.0,8.0,8.0,8.0,8.0,8.0,14.0,8.0,5.0,5.0,8.0,8.0,8.0,8.0,8.0,8.0,8.0,5.0,5.0,8.0,8.0,8.0,8.0,8.0,8.0,5.0,8.0,8.0,8.0,8.0,8.0,8.0,8.0,8.0,8.0,8.0,8.0,8.0,8.0,8.0,8.0,8.0,8.0,8.0,8.0,8.0,8.0,8.0,8.0,8.0,8.0,8.0,8.0,10.0],\"yaxis\":\"y\",\"ybingroup\":\"y\",\"type\":\"histogram2dcontour\"},{\"alignmentgroup\":\"True\",\"bingroup\":\"x\",\"hovertemplate\":\"mark=0<br>ZOI_drug_NP=%{x}<br>count=%{y}<extra></extra>\",\"legendgroup\":\"0\",\"marker\":{\"color\":\"#636efa\"},\"name\":\"0\",\"offsetgroup\":\"0\",\"opacity\":0.5,\"showlegend\":false,\"x\":[17.0,17.0,15.0,50.0,48.0,48.0,47.0,44.0,42.0,41.0,40.0,40.0,40.0,40.0,40.0,39.0,38.0,38.0,38.0,37.0,37.0,37.0,36.0,36.0,36.0,36.0,35.0,35.0,34.0,34.0,34.0,34.0,34.0,34.0,32.0,32.0,32.0,32.0,32.0,32.0,32.0,31.0,31.0,30.0,30.0,30.0,30.0,29.0,29.0,29.0,28.0,28.0,28.0,28.0,28.0,28.0,28.0,28.0,28.0,28.0,27.0,27.0,27.0,27.0,27.0,27.0,26.0,26.0,26.0,26.0,26.0,26.0,26.0,26.0,25.0,25.0,25.0,25.0,25.0,25.0,25.0,25.0,25.0,25.0,25.0,25.0,25.0,25.0,25.0,25.0,25.0,25.0,25.0,25.0,25.0,25.0,25.0,25.0,25.0,24.0,24.0,24.0,24.0,24.0,24.0,24.0,24.0,24.0,24.0,24.0,24.0,24.0,23.0,23.0,23.0,23.0,23.0,23.0,23.0,23.0,23.0,23.0,23.0,23.0,23.0,23.0,23.0,23.0,22.0,22.0,22.0,22.0,22.0,22.0,22.0,22.0,22.0,22.0,22.0,22.0,22.0,21.5,21.0,21.0,21.0,21.0,21.0,21.0,21.0,21.0,21.0,21.0,20.8,20.0,20.0,20.0,20.0,20.0,20.0,20.0,20.0,20.0,20.0,20.0,20.0,20.0,20.0,20.0,20.0,20.0,20.0,20.0,20.0,20.0,20.0,20.0,20.0,20.0,20.0,20.0,20.0,20.0,20.0,20.0,20.0,20.0,19.9,19.0,19.0,19.0,19.0,19.0,19.0,19.0,19.0,18.5,18.0,18.0,18.0,18.0,18.0,18.0,18.0,18.0,18.0,18.0,18.0,18.0,18.0,18.0,18.0,18.0,18.0,18.0,18.0,18.0,18.0,18.0,18.0,18.0,18.0,18.0,18.0,18.0,17.0,17.0,17.0,17.0,17.0,17.0,17.0,17.0,17.0,17.0,17.0,17.0,17.0,17.0,17.0,17.0,17.0,17.0,17.0,17.0,16.0,16.0,16.0,16.0,16.0,16.0,16.0,16.0,16.0,16.0,16.0,16.0,16.0,16.0,16.0,16.0,16.0,16.0,16.0,16.0,16.0,16.0,16.0,16.0,15.3,15.0,15.0,15.0,15.0,15.0,15.0,15.0,15.0,15.0,15.0,15.0,15.0,15.0,15.0,15.0,15.0,15.0,15.0,15.0,15.0,15.0,15.0,15.0,15.0,15.0,15.0,14.0,14.0,14.0,14.0,14.0,14.0,14.0,14.0,14.0,14.0,14.0,14.0,14.0,14.0,14.0,14.0,14.0,14.0,14.0,14.0,14.0,13.0,13.0,13.0,13.0,13.0,13.0,13.0,13.0,13.0,13.0,13.0,13.0,13.0,13.0,13.0,13.0,13.0,13.0,13.0,13.0,13.0,13.0,13.0,13.0,13.0,13.0,13.0,13.0,13.0,13.0,12.0,12.0,12.0,12.0,12.0,12.0,12.0,12.0,12.0,12.0,12.0,12.0,12.0,12.0,12.0,12.0,12.0,12.0,12.0,12.0,12.0,12.0,11.0,11.0,11.0,11.0,11.0,11.0,11.0,11.0,11.0,11.0,11.0,11.0,11.0,11.0,11.0,10.0,10.0,10.0,10.0,10.0,10.0,10.0,10.0,10.0,10.0,10.0,10.0,10.0,10.0,10.0,10.0,10.0,10.0,10.0,10.0,10.0,10.0,9.0,9.0,9.0,9.0,9.0,9.0,9.0,9.0,9.0,9.0,9.0,9.0,8.0,8.0,8.0,8.0,8.0,8.0,8.0,8.0,8.0,8.0,8.0,8.0,8.0,8.0,7.0,7.0,7.0,7.0,7.0,7.0,7.0,7.0,7.0,7.0,4.8],\"xaxis\":\"x3\",\"yaxis\":\"y3\",\"type\":\"histogram\"},{\"alignmentgroup\":\"True\",\"bingroup\":\"y\",\"hovertemplate\":\"mark=0<br>NP size_min=%{y}<br>count=%{x}<extra></extra>\",\"legendgroup\":\"0\",\"marker\":{\"color\":\"#636efa\"},\"name\":\"0\",\"offsetgroup\":\"0\",\"opacity\":0.5,\"showlegend\":false,\"xaxis\":\"x2\",\"y\":[5.0,5.0,8.0,8.0,8.0,8.0,8.0,8.0,8.0,14.45,14.45,14.45,14.45,8.0,8.0,8.0,5.0,14.45,8.0,14.45,8.0,5.0,14.45,14.45,5.0,5.0,14.45,5.0,14.45,14.45,8.0,14.45,8.0,8.0,14.45,14.45,8.0,8.0,14.45,8.0,8.0,8.0,5.0,8.0,8.0,8.0,8.0,5.0,8.0,5.0,14.45,14.45,14.45,5.0,14.45,8.0,8.0,5.0,5.0,14.45,8.0,8.0,8.0,8.0,8.0,5.0,8.0,8.0,8.0,8.0,8.0,8.0,8.0,5.0,14.45,8.0,14.0,5.0,5.0,8.0,5.0,8.0,8.0,8.0,8.0,8.0,8.0,8.0,8.0,8.0,5.0,5.0,5.0,5.0,5.0,5.0,14.0,14.45,14.45,14.45,8.0,5.0,5.0,14.45,8.0,8.0,8.0,8.0,8.0,8.0,8.0,5.0,8.0,8.0,14.0,8.0,8.0,8.0,8.0,8.0,8.0,8.0,8.0,8.0,8.0,5.0,5.0,14.45,14.45,8.0,8.0,8.0,8.0,5.0,20.0,8.0,14.45,8.0,8.0,8.0,8.0,10.0,5.0,5.0,5.0,20.0,8.0,8.0,8.0,8.0,8.0,8.0,10.0,8.0,8.0,5.0,5.0,14.0,8.0,14.0,8.0,5.0,8.0,8.0,5.0,14.45,8.0,8.0,8.0,8.0,8.0,8.0,8.0,8.0,8.0,8.0,8.0,8.0,8.0,8.0,8.0,8.0,8.0,8.0,8.0,8.0,10.0,5.0,8.0,5.0,5.0,8.0,8.0,8.0,8.0,8.0,14.45,5.0,8.0,8.0,5.0,8.0,8.0,8.0,8.0,8.0,8.0,5.0,8.0,8.0,8.0,8.0,8.0,8.0,8.0,8.0,8.0,8.0,8.0,8.0,8.0,8.0,8.0,14.0,5.0,8.0,5.0,8.0,8.0,8.0,8.0,8.0,8.0,8.0,8.0,8.0,8.0,8.0,8.0,8.0,8.0,8.0,8.0,8.0,5.0,5.0,8.0,8.0,8.0,8.0,8.0,8.0,5.0,5.0,8.0,8.0,14.0,8.0,8.0,8.0,8.0,8.0,8.0,8.0,8.0,8.0,8.0,5.0,8.0,5.0,5.0,8.0,8.0,8.0,8.0,8.0,5.0,14.0,8.0,8.0,14.0,8.0,8.0,8.0,8.0,8.0,8.0,8.0,8.0,8.0,8.0,8.0,8.0,8.0,5.0,5.0,5.0,5.0,5.0,14.0,8.0,8.0,5.0,8.0,8.0,5.0,8.0,8.0,8.0,8.0,8.0,8.0,8.0,8.0,8.0,8.0,5.0,5.0,5.0,5.0,5.0,5.0,5.0,5.0,5.0,8.0,8.0,8.0,8.0,8.0,8.0,8.0,8.0,8.0,8.0,8.0,8.0,14.0,8.0,8.0,8.0,8.0,8.0,8.0,8.0,8.0,5.0,5.0,14.0,8.0,8.0,8.0,8.0,8.0,8.0,5.0,5.0,8.0,5.0,8.0,5.0,8.0,8.0,8.0,8.0,8.0,8.0,8.0,8.0,8.0,8.0,8.0,8.0,8.0,8.0,8.0,8.0,5.0,5.0,5.0,8.0,8.0,8.0,5.0,14.0,8.0,8.0,8.0,8.0,8.0,8.0,8.0,8.0,8.0,14.0,8.0,5.0,5.0,8.0,8.0,8.0,8.0,8.0,8.0,8.0,5.0,5.0,8.0,8.0,8.0,8.0,8.0,8.0,5.0,8.0,8.0,8.0,8.0,8.0,8.0,8.0,8.0,8.0,8.0,8.0,8.0,8.0,8.0,8.0,8.0,8.0,8.0,8.0,8.0,8.0,8.0,8.0,8.0,8.0,8.0,8.0,10.0],\"yaxis\":\"y2\",\"type\":\"histogram\"},{\"contours\":{\"coloring\":\"none\"},\"hovertemplate\":\"mark=2<br>ZOI_drug_NP=%{x}<br>NP size_min=%{y}<br>count=%{z}<extra></extra>\",\"legendgroup\":\"2\",\"line\":{\"color\":\"#EF553B\"},\"name\":\"2\",\"showlegend\":true,\"x\":[62.5,36.0,34.0,34.0,32.0,32.0,32.0,31.25,31.25,31.25,31.25,31.25,31.25,31.0,31.0,31.0,30.0,30.0,29.0,28.0,28.0,28.0,27.0,27.0,26.0,24.0,22.0,21.0,21.0,20.0,20.0,19.0,19.0,17.0,16.0,16.0,16.0,16.0,16.0,16.0,16.0,16.0,16.0,11.0,11.0,11.0,10.0,10.0,9.0,8.0,8.0,8.0,8.0,8.0,8.0,8.0,8.0,7.81,4.0,4.0,4.0,4.0,4.0,2.0,2.0,2.0,2.0,2.0,2.0,2.0,2.0,2.0,1.75,1.75,1.0,1.0,1.0,1.0,1.0,0.97,0.8,0.6,0.6,0.6,0.6,0.5,0.5,0.5,0.5,0.4,0.3,0.3,0.3,0.3,0.3,0.3,0.3,0.25,0.25,0.25,0.25,0.25,0.25,0.25,0.25,0.125,0.125,0.1,0.03,0.0],\"xaxis\":\"x\",\"xbingroup\":\"x\",\"y\":[20.0,5.0,5.0,5.0,5.0,5.0,1.0,20.0,20.0,20.0,20.0,20.0,20.0,5.0,5.0,5.0,5.0,5.0,5.0,5.0,5.0,5.0,5.0,5.0,5.0,5.0,5.0,5.0,5.0,5.0,5.0,5.0,5.0,5.0,5.0,5.0,10.0,1.0,1.0,1.0,1.0,1.0,1.0,5.0,5.0,5.0,5.0,5.0,5.0,4.0,4.0,10.0,1.0,1.0,1.0,1.0,1.0,20.0,1.0,1.0,1.0,1.0,1.0,4.0,15.0,1.0,4.0,4.0,15.0,15.0,1.0,1.0,5.0,5.0,4.0,15.0,4.0,15.0,4.0,20.0,5.0,5.0,5.0,5.0,5.0,5.0,4.0,10.0,4.0,5.0,5.0,5.0,5.0,5.0,5.0,5.0,5.0,4.0,15.0,4.0,15.0,10.0,10.0,15.0,10.0,4.0,4.0,5.0,4.0,5.0],\"yaxis\":\"y\",\"ybingroup\":\"y\",\"type\":\"histogram2dcontour\"},{\"alignmentgroup\":\"True\",\"bingroup\":\"x\",\"hovertemplate\":\"mark=2<br>ZOI_drug_NP=%{x}<br>count=%{y}<extra></extra>\",\"legendgroup\":\"2\",\"marker\":{\"color\":\"#EF553B\"},\"name\":\"2\",\"offsetgroup\":\"2\",\"opacity\":0.5,\"showlegend\":false,\"x\":[62.5,36.0,34.0,34.0,32.0,32.0,32.0,31.25,31.25,31.25,31.25,31.25,31.25,31.0,31.0,31.0,30.0,30.0,29.0,28.0,28.0,28.0,27.0,27.0,26.0,24.0,22.0,21.0,21.0,20.0,20.0,19.0,19.0,17.0,16.0,16.0,16.0,16.0,16.0,16.0,16.0,16.0,16.0,11.0,11.0,11.0,10.0,10.0,9.0,8.0,8.0,8.0,8.0,8.0,8.0,8.0,8.0,7.81,4.0,4.0,4.0,4.0,4.0,2.0,2.0,2.0,2.0,2.0,2.0,2.0,2.0,2.0,1.75,1.75,1.0,1.0,1.0,1.0,1.0,0.97,0.8,0.6,0.6,0.6,0.6,0.5,0.5,0.5,0.5,0.4,0.3,0.3,0.3,0.3,0.3,0.3,0.3,0.25,0.25,0.25,0.25,0.25,0.25,0.25,0.25,0.125,0.125,0.1,0.03,0.0],\"xaxis\":\"x3\",\"yaxis\":\"y3\",\"type\":\"histogram\"},{\"alignmentgroup\":\"True\",\"bingroup\":\"y\",\"hovertemplate\":\"mark=2<br>NP size_min=%{y}<br>count=%{x}<extra></extra>\",\"legendgroup\":\"2\",\"marker\":{\"color\":\"#EF553B\"},\"name\":\"2\",\"offsetgroup\":\"2\",\"opacity\":0.5,\"showlegend\":false,\"xaxis\":\"x2\",\"y\":[20.0,5.0,5.0,5.0,5.0,5.0,1.0,20.0,20.0,20.0,20.0,20.0,20.0,5.0,5.0,5.0,5.0,5.0,5.0,5.0,5.0,5.0,5.0,5.0,5.0,5.0,5.0,5.0,5.0,5.0,5.0,5.0,5.0,5.0,5.0,5.0,10.0,1.0,1.0,1.0,1.0,1.0,1.0,5.0,5.0,5.0,5.0,5.0,5.0,4.0,4.0,10.0,1.0,1.0,1.0,1.0,1.0,20.0,1.0,1.0,1.0,1.0,1.0,4.0,15.0,1.0,4.0,4.0,15.0,15.0,1.0,1.0,5.0,5.0,4.0,15.0,4.0,15.0,4.0,20.0,5.0,5.0,5.0,5.0,5.0,5.0,4.0,10.0,4.0,5.0,5.0,5.0,5.0,5.0,5.0,5.0,5.0,4.0,15.0,4.0,15.0,10.0,10.0,15.0,10.0,4.0,4.0,5.0,4.0,5.0],\"yaxis\":\"y2\",\"type\":\"histogram\"}],                        {\"template\":{\"data\":{\"histogram2dcontour\":[{\"type\":\"histogram2dcontour\",\"colorbar\":{\"outlinewidth\":0,\"ticks\":\"\"},\"colorscale\":[[0.0,\"#0d0887\"],[0.1111111111111111,\"#46039f\"],[0.2222222222222222,\"#7201a8\"],[0.3333333333333333,\"#9c179e\"],[0.4444444444444444,\"#bd3786\"],[0.5555555555555556,\"#d8576b\"],[0.6666666666666666,\"#ed7953\"],[0.7777777777777778,\"#fb9f3a\"],[0.8888888888888888,\"#fdca26\"],[1.0,\"#f0f921\"]]}],\"choropleth\":[{\"type\":\"choropleth\",\"colorbar\":{\"outlinewidth\":0,\"ticks\":\"\"}}],\"histogram2d\":[{\"type\":\"histogram2d\",\"colorbar\":{\"outlinewidth\":0,\"ticks\":\"\"},\"colorscale\":[[0.0,\"#0d0887\"],[0.1111111111111111,\"#46039f\"],[0.2222222222222222,\"#7201a8\"],[0.3333333333333333,\"#9c179e\"],[0.4444444444444444,\"#bd3786\"],[0.5555555555555556,\"#d8576b\"],[0.6666666666666666,\"#ed7953\"],[0.7777777777777778,\"#fb9f3a\"],[0.8888888888888888,\"#fdca26\"],[1.0,\"#f0f921\"]]}],\"heatmap\":[{\"type\":\"heatmap\",\"colorbar\":{\"outlinewidth\":0,\"ticks\":\"\"},\"colorscale\":[[0.0,\"#0d0887\"],[0.1111111111111111,\"#46039f\"],[0.2222222222222222,\"#7201a8\"],[0.3333333333333333,\"#9c179e\"],[0.4444444444444444,\"#bd3786\"],[0.5555555555555556,\"#d8576b\"],[0.6666666666666666,\"#ed7953\"],[0.7777777777777778,\"#fb9f3a\"],[0.8888888888888888,\"#fdca26\"],[1.0,\"#f0f921\"]]}],\"heatmapgl\":[{\"type\":\"heatmapgl\",\"colorbar\":{\"outlinewidth\":0,\"ticks\":\"\"},\"colorscale\":[[0.0,\"#0d0887\"],[0.1111111111111111,\"#46039f\"],[0.2222222222222222,\"#7201a8\"],[0.3333333333333333,\"#9c179e\"],[0.4444444444444444,\"#bd3786\"],[0.5555555555555556,\"#d8576b\"],[0.6666666666666666,\"#ed7953\"],[0.7777777777777778,\"#fb9f3a\"],[0.8888888888888888,\"#fdca26\"],[1.0,\"#f0f921\"]]}],\"contourcarpet\":[{\"type\":\"contourcarpet\",\"colorbar\":{\"outlinewidth\":0,\"ticks\":\"\"}}],\"contour\":[{\"type\":\"contour\",\"colorbar\":{\"outlinewidth\":0,\"ticks\":\"\"},\"colorscale\":[[0.0,\"#0d0887\"],[0.1111111111111111,\"#46039f\"],[0.2222222222222222,\"#7201a8\"],[0.3333333333333333,\"#9c179e\"],[0.4444444444444444,\"#bd3786\"],[0.5555555555555556,\"#d8576b\"],[0.6666666666666666,\"#ed7953\"],[0.7777777777777778,\"#fb9f3a\"],[0.8888888888888888,\"#fdca26\"],[1.0,\"#f0f921\"]]}],\"surface\":[{\"type\":\"surface\",\"colorbar\":{\"outlinewidth\":0,\"ticks\":\"\"},\"colorscale\":[[0.0,\"#0d0887\"],[0.1111111111111111,\"#46039f\"],[0.2222222222222222,\"#7201a8\"],[0.3333333333333333,\"#9c179e\"],[0.4444444444444444,\"#bd3786\"],[0.5555555555555556,\"#d8576b\"],[0.6666666666666666,\"#ed7953\"],[0.7777777777777778,\"#fb9f3a\"],[0.8888888888888888,\"#fdca26\"],[1.0,\"#f0f921\"]]}],\"mesh3d\":[{\"type\":\"mesh3d\",\"colorbar\":{\"outlinewidth\":0,\"ticks\":\"\"}}],\"scatter\":[{\"fillpattern\":{\"fillmode\":\"overlay\",\"size\":10,\"solidity\":0.2},\"type\":\"scatter\"}],\"parcoords\":[{\"type\":\"parcoords\",\"line\":{\"colorbar\":{\"outlinewidth\":0,\"ticks\":\"\"}}}],\"scatterpolargl\":[{\"type\":\"scatterpolargl\",\"marker\":{\"colorbar\":{\"outlinewidth\":0,\"ticks\":\"\"}}}],\"bar\":[{\"error_x\":{\"color\":\"#2a3f5f\"},\"error_y\":{\"color\":\"#2a3f5f\"},\"marker\":{\"line\":{\"color\":\"#E5ECF6\",\"width\":0.5},\"pattern\":{\"fillmode\":\"overlay\",\"size\":10,\"solidity\":0.2}},\"type\":\"bar\"}],\"scattergeo\":[{\"type\":\"scattergeo\",\"marker\":{\"colorbar\":{\"outlinewidth\":0,\"ticks\":\"\"}}}],\"scatterpolar\":[{\"type\":\"scatterpolar\",\"marker\":{\"colorbar\":{\"outlinewidth\":0,\"ticks\":\"\"}}}],\"histogram\":[{\"marker\":{\"pattern\":{\"fillmode\":\"overlay\",\"size\":10,\"solidity\":0.2}},\"type\":\"histogram\"}],\"scattergl\":[{\"type\":\"scattergl\",\"marker\":{\"colorbar\":{\"outlinewidth\":0,\"ticks\":\"\"}}}],\"scatter3d\":[{\"type\":\"scatter3d\",\"line\":{\"colorbar\":{\"outlinewidth\":0,\"ticks\":\"\"}},\"marker\":{\"colorbar\":{\"outlinewidth\":0,\"ticks\":\"\"}}}],\"scattermapbox\":[{\"type\":\"scattermapbox\",\"marker\":{\"colorbar\":{\"outlinewidth\":0,\"ticks\":\"\"}}}],\"scatterternary\":[{\"type\":\"scatterternary\",\"marker\":{\"colorbar\":{\"outlinewidth\":0,\"ticks\":\"\"}}}],\"scattercarpet\":[{\"type\":\"scattercarpet\",\"marker\":{\"colorbar\":{\"outlinewidth\":0,\"ticks\":\"\"}}}],\"carpet\":[{\"aaxis\":{\"endlinecolor\":\"#2a3f5f\",\"gridcolor\":\"white\",\"linecolor\":\"white\",\"minorgridcolor\":\"white\",\"startlinecolor\":\"#2a3f5f\"},\"baxis\":{\"endlinecolor\":\"#2a3f5f\",\"gridcolor\":\"white\",\"linecolor\":\"white\",\"minorgridcolor\":\"white\",\"startlinecolor\":\"#2a3f5f\"},\"type\":\"carpet\"}],\"table\":[{\"cells\":{\"fill\":{\"color\":\"#EBF0F8\"},\"line\":{\"color\":\"white\"}},\"header\":{\"fill\":{\"color\":\"#C8D4E3\"},\"line\":{\"color\":\"white\"}},\"type\":\"table\"}],\"barpolar\":[{\"marker\":{\"line\":{\"color\":\"#E5ECF6\",\"width\":0.5},\"pattern\":{\"fillmode\":\"overlay\",\"size\":10,\"solidity\":0.2}},\"type\":\"barpolar\"}],\"pie\":[{\"automargin\":true,\"type\":\"pie\"}]},\"layout\":{\"autotypenumbers\":\"strict\",\"colorway\":[\"#636efa\",\"#EF553B\",\"#00cc96\",\"#ab63fa\",\"#FFA15A\",\"#19d3f3\",\"#FF6692\",\"#B6E880\",\"#FF97FF\",\"#FECB52\"],\"font\":{\"color\":\"#2a3f5f\"},\"hovermode\":\"closest\",\"hoverlabel\":{\"align\":\"left\"},\"paper_bgcolor\":\"white\",\"plot_bgcolor\":\"#E5ECF6\",\"polar\":{\"bgcolor\":\"#E5ECF6\",\"angularaxis\":{\"gridcolor\":\"white\",\"linecolor\":\"white\",\"ticks\":\"\"},\"radialaxis\":{\"gridcolor\":\"white\",\"linecolor\":\"white\",\"ticks\":\"\"}},\"ternary\":{\"bgcolor\":\"#E5ECF6\",\"aaxis\":{\"gridcolor\":\"white\",\"linecolor\":\"white\",\"ticks\":\"\"},\"baxis\":{\"gridcolor\":\"white\",\"linecolor\":\"white\",\"ticks\":\"\"},\"caxis\":{\"gridcolor\":\"white\",\"linecolor\":\"white\",\"ticks\":\"\"}},\"coloraxis\":{\"colorbar\":{\"outlinewidth\":0,\"ticks\":\"\"}},\"colorscale\":{\"sequential\":[[0.0,\"#0d0887\"],[0.1111111111111111,\"#46039f\"],[0.2222222222222222,\"#7201a8\"],[0.3333333333333333,\"#9c179e\"],[0.4444444444444444,\"#bd3786\"],[0.5555555555555556,\"#d8576b\"],[0.6666666666666666,\"#ed7953\"],[0.7777777777777778,\"#fb9f3a\"],[0.8888888888888888,\"#fdca26\"],[1.0,\"#f0f921\"]],\"sequentialminus\":[[0.0,\"#0d0887\"],[0.1111111111111111,\"#46039f\"],[0.2222222222222222,\"#7201a8\"],[0.3333333333333333,\"#9c179e\"],[0.4444444444444444,\"#bd3786\"],[0.5555555555555556,\"#d8576b\"],[0.6666666666666666,\"#ed7953\"],[0.7777777777777778,\"#fb9f3a\"],[0.8888888888888888,\"#fdca26\"],[1.0,\"#f0f921\"]],\"diverging\":[[0,\"#8e0152\"],[0.1,\"#c51b7d\"],[0.2,\"#de77ae\"],[0.3,\"#f1b6da\"],[0.4,\"#fde0ef\"],[0.5,\"#f7f7f7\"],[0.6,\"#e6f5d0\"],[0.7,\"#b8e186\"],[0.8,\"#7fbc41\"],[0.9,\"#4d9221\"],[1,\"#276419\"]]},\"xaxis\":{\"gridcolor\":\"white\",\"linecolor\":\"white\",\"ticks\":\"\",\"title\":{\"standoff\":15},\"zerolinecolor\":\"white\",\"automargin\":true,\"zerolinewidth\":2},\"yaxis\":{\"gridcolor\":\"white\",\"linecolor\":\"white\",\"ticks\":\"\",\"title\":{\"standoff\":15},\"zerolinecolor\":\"white\",\"automargin\":true,\"zerolinewidth\":2},\"scene\":{\"xaxis\":{\"backgroundcolor\":\"#E5ECF6\",\"gridcolor\":\"white\",\"linecolor\":\"white\",\"showbackground\":true,\"ticks\":\"\",\"zerolinecolor\":\"white\",\"gridwidth\":2},\"yaxis\":{\"backgroundcolor\":\"#E5ECF6\",\"gridcolor\":\"white\",\"linecolor\":\"white\",\"showbackground\":true,\"ticks\":\"\",\"zerolinecolor\":\"white\",\"gridwidth\":2},\"zaxis\":{\"backgroundcolor\":\"#E5ECF6\",\"gridcolor\":\"white\",\"linecolor\":\"white\",\"showbackground\":true,\"ticks\":\"\",\"zerolinecolor\":\"white\",\"gridwidth\":2}},\"shapedefaults\":{\"line\":{\"color\":\"#2a3f5f\"}},\"annotationdefaults\":{\"arrowcolor\":\"#2a3f5f\",\"arrowhead\":0,\"arrowwidth\":1},\"geo\":{\"bgcolor\":\"white\",\"landcolor\":\"#E5ECF6\",\"subunitcolor\":\"white\",\"showland\":true,\"showlakes\":true,\"lakecolor\":\"white\"},\"title\":{\"x\":0.05},\"mapbox\":{\"style\":\"light\"}}},\"xaxis\":{\"anchor\":\"y\",\"domain\":[0.0,0.7363],\"title\":{\"text\":\"ZOI_drug_NP\"}},\"yaxis\":{\"anchor\":\"x\",\"domain\":[0.0,0.7326],\"title\":{\"text\":\"NP size_min\"}},\"xaxis2\":{\"anchor\":\"y2\",\"domain\":[0.7413,1.0],\"matches\":\"x2\",\"showticklabels\":false,\"showline\":false,\"ticks\":\"\",\"showgrid\":true},\"yaxis2\":{\"anchor\":\"x2\",\"domain\":[0.0,0.7326],\"matches\":\"y\",\"showticklabels\":false,\"showgrid\":true},\"xaxis3\":{\"anchor\":\"y3\",\"domain\":[0.0,0.7363],\"matches\":\"x\",\"showticklabels\":false,\"showgrid\":true},\"yaxis3\":{\"anchor\":\"x3\",\"domain\":[0.7426,1.0],\"matches\":\"y3\",\"showticklabels\":false,\"showline\":false,\"ticks\":\"\",\"showgrid\":true},\"xaxis4\":{\"anchor\":\"y4\",\"domain\":[0.7413,1.0],\"matches\":\"x2\",\"showticklabels\":false,\"showgrid\":true,\"showline\":false,\"ticks\":\"\"},\"yaxis4\":{\"anchor\":\"x4\",\"domain\":[0.7426,1.0],\"matches\":\"y3\",\"showticklabels\":false,\"showline\":false,\"ticks\":\"\",\"showgrid\":true},\"legend\":{\"title\":{\"text\":\"mark\"},\"tracegroupgap\":0},\"margin\":{\"t\":60},\"barmode\":\"overlay\"},                        {\"responsive\": true}                    ).then(function(){\n",
              "                            \n",
              "var gd = document.getElementById('76daabb0-f6db-452a-98ee-fe5c790e98f4');\n",
              "var x = new MutationObserver(function (mutations, observer) {{\n",
              "        var display = window.getComputedStyle(gd).display;\n",
              "        if (!display || display === 'none') {{\n",
              "            console.log([gd, 'removed!']);\n",
              "            Plotly.purge(gd);\n",
              "            observer.disconnect();\n",
              "        }}\n",
              "}});\n",
              "\n",
              "// Listen for the removal of the full notebook cells\n",
              "var notebookContainer = gd.closest('#notebook-container');\n",
              "if (notebookContainer) {{\n",
              "    x.observe(notebookContainer, {childList: true});\n",
              "}}\n",
              "\n",
              "// Listen for the clearing of the current output cell\n",
              "var outputEl = gd.closest('.output');\n",
              "if (outputEl) {{\n",
              "    x.observe(outputEl, {childList: true});\n",
              "}}\n",
              "\n",
              "                        })                };                            </script>        </div>\n",
              "</body>\n",
              "</html>"
            ]
          },
          "metadata": {}
        }
      ]
    },
    {
      "cell_type": "code",
      "source": [],
      "metadata": {
        "id": "ENkk-eU__Hux"
      },
      "execution_count": null,
      "outputs": []
    }
  ]
}